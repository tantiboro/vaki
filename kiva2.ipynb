{
  "nbformat": 4,
  "nbformat_minor": 0,
  "metadata": {
    "colab": {
      "name": "kiva2.ipynb",
      "provenance": [],
      "toc_visible": true,
      "include_colab_link": true
    },
    "kernelspec": {
      "display_name": "Python 3",
      "language": "python",
      "name": "python3"
    },
    "language_info": {
      "codemirror_mode": {
        "name": "ipython",
        "version": 3
      },
      "file_extension": ".py",
      "mimetype": "text/x-python",
      "name": "python",
      "nbconvert_exporter": "python",
      "pygments_lexer": "ipython3",
      "version": "3.8.5"
    }
  },
  "cells": [
    {
      "cell_type": "markdown",
      "metadata": {
        "id": "view-in-github",
        "colab_type": "text"
      },
      "source": [
        "<a href=\"https://colab.research.google.com/github/tantiboro/vaki/blob/main/kiva2.ipynb\" target=\"_parent\"><img src=\"https://colab.research.google.com/assets/colab-badge.svg\" alt=\"Open In Colab\"/></a>"
      ]
    },
    {
      "cell_type": "code",
      "metadata": {
        "id": "fmB69HOA-S0T"
      },
      "source": [
        "import pandas as pd\n",
        "import numpy as np\n",
        "import seaborn as sns\n",
        "pd.set_option('display.max_rows', 50)\n",
        "pd.set_option('display.max_columns', 50)"
      ],
      "execution_count": null,
      "outputs": []
    },
    {
      "cell_type": "code",
      "metadata": {
        "colab": {
          "base_uri": "https://localhost:8080/",
          "height": 204
        },
        "id": "IZCkPJhG-cLh",
        "outputId": "82f5c0e6-9100-4061-ebc3-df7eeeaeec3e"
      },
      "source": [
        "import pandas as pd\n",
        "df = pd.read_csv('loans_lenders.csv')\n",
        "df.head()"
      ],
      "execution_count": null,
      "outputs": [
        {
          "data": {
            "text/html": [
              "<div>\n",
              "<style scoped>\n",
              "    .dataframe tbody tr th:only-of-type {\n",
              "        vertical-align: middle;\n",
              "    }\n",
              "\n",
              "    .dataframe tbody tr th {\n",
              "        vertical-align: top;\n",
              "    }\n",
              "\n",
              "    .dataframe thead th {\n",
              "        text-align: right;\n",
              "    }\n",
              "</style>\n",
              "<table border=\"1\" class=\"dataframe\">\n",
              "  <thead>\n",
              "    <tr style=\"text-align: right;\">\n",
              "      <th></th>\n",
              "      <th>LOAN_ID</th>\n",
              "      <th>LENDERS</th>\n",
              "    </tr>\n",
              "  </thead>\n",
              "  <tbody>\n",
              "    <tr>\n",
              "      <th>0</th>\n",
              "      <td>1144797</td>\n",
              "      <td>dionne6898, sarah53142441, judy6967, eric87339...</td>\n",
              "    </tr>\n",
              "    <tr>\n",
              "      <th>1</th>\n",
              "      <td>1155520</td>\n",
              "      <td>jen6100, hikaru3712, catie6287, sandra7020, ma...</td>\n",
              "    </tr>\n",
              "    <tr>\n",
              "      <th>2</th>\n",
              "      <td>1143167</td>\n",
              "      <td>marinar13, sarah69548221, cory9884, britta6796...</td>\n",
              "    </tr>\n",
              "    <tr>\n",
              "      <th>3</th>\n",
              "      <td>1157751</td>\n",
              "      <td>sharon9347, bruce5080, enriquelopez, davidands...</td>\n",
              "    </tr>\n",
              "    <tr>\n",
              "      <th>4</th>\n",
              "      <td>1159087</td>\n",
              "      <td>doctorchou, candice4335, shailesh, morley5325,...</td>\n",
              "    </tr>\n",
              "  </tbody>\n",
              "</table>\n",
              "</div>"
            ],
            "text/plain": [
              "   LOAN_ID                                            LENDERS\n",
              "0  1144797  dionne6898, sarah53142441, judy6967, eric87339...\n",
              "1  1155520  jen6100, hikaru3712, catie6287, sandra7020, ma...\n",
              "2  1143167  marinar13, sarah69548221, cory9884, britta6796...\n",
              "3  1157751  sharon9347, bruce5080, enriquelopez, davidands...\n",
              "4  1159087  doctorchou, candice4335, shailesh, morley5325,..."
            ]
          },
          "execution_count": 2,
          "metadata": {},
          "output_type": "execute_result"
        }
      ]
    },
    {
      "cell_type": "code",
      "metadata": {
        "colab": {
          "base_uri": "https://localhost:8080/"
        },
        "id": "nFAlicYMkEd-",
        "outputId": "635625f6-4bf3-477a-ffbf-1fa0334e4dad"
      },
      "source": [
        "df.isnull().sum()"
      ],
      "execution_count": null,
      "outputs": [
        {
          "data": {
            "text/plain": [
              "LOAN_ID    0\n",
              "LENDERS    0\n",
              "dtype: int64"
            ]
          },
          "execution_count": 3,
          "metadata": {},
          "output_type": "execute_result"
        }
      ]
    },
    {
      "cell_type": "code",
      "metadata": {
        "id": "Co-SnTrmkHfW",
        "outputId": "eea71782-00c2-46c9-850c-28649502ea80"
      },
      "source": [
        "df.info()"
      ],
      "execution_count": null,
      "outputs": [
        {
          "name": "stdout",
          "output_type": "stream",
          "text": [
            "<class 'pandas.core.frame.DataFrame'>\n",
            "RangeIndex: 2033352 entries, 0 to 2033351\n",
            "Data columns (total 2 columns):\n",
            " #   Column   Dtype \n",
            "---  ------   ----- \n",
            " 0   LOAN_ID  int64 \n",
            " 1   LENDERS  object\n",
            "dtypes: int64(1), object(1)\n",
            "memory usage: 31.0+ MB\n"
          ]
        }
      ]
    },
    {
      "cell_type": "code",
      "metadata": {
        "id": "ENG-FgpRrJQd",
        "outputId": "5bf1bb98-e97a-4288-fff1-c2eb9447753b"
      },
      "source": [
        "df.nunique()"
      ],
      "execution_count": null,
      "outputs": [
        {
          "data": {
            "text/plain": [
              "LOAN_ID    2033352\n",
              "LENDERS    1970533\n",
              "dtype: int64"
            ]
          },
          "execution_count": 5,
          "metadata": {},
          "output_type": "execute_result"
        }
      ]
    },
    {
      "cell_type": "code",
      "metadata": {
        "id": "_TMkM-UsyOgv",
        "outputId": "c5d17df1-7eb9-493e-f29b-db0e91eaa200"
      },
      "source": [
        "df['LENDERS'].value_counts()[0:20].plot(kind='bar')"
      ],
      "execution_count": null,
      "outputs": [
        {
          "data": {
            "text/plain": [
              "<AxesSubplot:>"
            ]
          },
          "execution_count": 9,
          "metadata": {},
          "output_type": "execute_result"
        },
        {
          "data": {
            "image/png": "[encoded data removed]",
            "text/plain": [
              "<Figure size 432x288 with 1 Axes>"
            ]
          },
          "metadata": {
            "needs_background": "light"
          },
          "output_type": "display_data"
        }
      ]
    },
    {
      "cell_type": "code",
      "metadata": {
        "id": "SbOIU6WVyOgv"
      },
      "source": [
        ""
      ],
      "execution_count": null,
      "outputs": []
    },
    {
      "cell_type": "code",
      "metadata": {
        "colab": {
          "base_uri": "https://localhost:8080/",
          "height": 632
        },
        "id": "18yHmCKdu9eV",
        "outputId": "6fa31bd6-5a36-4578-ca52-ba055100f03f"
      },
      "source": [
        "import pandas as pd\n",
        "df1 = pd.read_csv('loans.csv')\n",
        "df1.head()"
      ],
      "execution_count": null,
      "outputs": [
        {
          "data": {
            "text/html": [
              "<div>\n",
              "<style scoped>\n",
              "    .dataframe tbody tr th:only-of-type {\n",
              "        vertical-align: middle;\n",
              "    }\n",
              "\n",
              "    .dataframe tbody tr th {\n",
              "        vertical-align: top;\n",
              "    }\n",
              "\n",
              "    .dataframe thead th {\n",
              "        text-align: right;\n",
              "    }\n",
              "</style>\n",
              "<table border=\"1\" class=\"dataframe\">\n",
              "  <thead>\n",
              "    <tr style=\"text-align: right;\">\n",
              "      <th></th>\n",
              "      <th>LOAN_ID</th>\n",
              "      <th>LOAN_NAME</th>\n",
              "      <th>ORIGINAL_LANGUAGE</th>\n",
              "      <th>DESCRIPTION</th>\n",
              "      <th>DESCRIPTION_TRANSLATED</th>\n",
              "      <th>FUNDED_AMOUNT</th>\n",
              "      <th>LOAN_AMOUNT</th>\n",
              "      <th>STATUS</th>\n",
              "      <th>IMAGE_ID</th>\n",
              "      <th>VIDEO_ID</th>\n",
              "      <th>ACTIVITY_NAME</th>\n",
              "      <th>SECTOR_NAME</th>\n",
              "      <th>LOAN_USE</th>\n",
              "      <th>COUNTRY_CODE</th>\n",
              "      <th>COUNTRY_NAME</th>\n",
              "      <th>TOWN_NAME</th>\n",
              "      <th>CURRENCY_POLICY</th>\n",
              "      <th>CURRENCY_EXCHANGE_COVERAGE_RATE</th>\n",
              "      <th>CURRENCY</th>\n",
              "      <th>PARTNER_ID</th>\n",
              "      <th>POSTED_TIME</th>\n",
              "      <th>PLANNED_EXPIRATION_TIME</th>\n",
              "      <th>DISBURSE_TIME</th>\n",
              "      <th>RAISED_TIME</th>\n",
              "      <th>LENDER_TERM</th>\n",
              "      <th>NUM_LENDERS_TOTAL</th>\n",
              "      <th>NUM_JOURNAL_ENTRIES</th>\n",
              "      <th>NUM_BULK_ENTRIES</th>\n",
              "      <th>TAGS</th>\n",
              "      <th>BORROWER_NAMES</th>\n",
              "      <th>BORROWER_GENDERS</th>\n",
              "      <th>BORROWER_PICTURED</th>\n",
              "      <th>REPAYMENT_INTERVAL</th>\n",
              "      <th>DISTRIBUTION_MODEL</th>\n",
              "    </tr>\n",
              "  </thead>\n",
              "  <tbody>\n",
              "    <tr>\n",
              "      <th>0</th>\n",
              "      <td>202058</td>\n",
              "      <td>Irene</td>\n",
              "      <td>English</td>\n",
              "      <td>Irene P. is from the village of Upper Centro,T...</td>\n",
              "      <td>NaN</td>\n",
              "      <td>1100.0</td>\n",
              "      <td>1100.0</td>\n",
              "      <td>funded</td>\n",
              "      <td>541043.0</td>\n",
              "      <td>NaN</td>\n",
              "      <td>General Store</td>\n",
              "      <td>Retail</td>\n",
              "      <td>to purchase additional inventory and working c...</td>\n",
              "      <td>PH</td>\n",
              "      <td>Philippines</td>\n",
              "      <td>Tudela-Upper Centro, Tudela,Misamis Occidental</td>\n",
              "      <td>shared</td>\n",
              "      <td>0.2</td>\n",
              "      <td>PHP</td>\n",
              "      <td>126.0</td>\n",
              "      <td>2010-05-20 08:40:17.000 +0000</td>\n",
              "      <td>NaN</td>\n",
              "      <td>2010-04-30 07:00:00.000 +0000</td>\n",
              "      <td>2010-06-30 16:09:20.000 +0000</td>\n",
              "      <td>19.0</td>\n",
              "      <td>40</td>\n",
              "      <td>2</td>\n",
              "      <td>1</td>\n",
              "      <td>NaN</td>\n",
              "      <td>Irene</td>\n",
              "      <td>female</td>\n",
              "      <td>true</td>\n",
              "      <td>monthly</td>\n",
              "      <td>field_partner</td>\n",
              "    </tr>\n",
              "    <tr>\n",
              "      <th>1</th>\n",
              "      <td>932948</td>\n",
              "      <td>Rosa</td>\n",
              "      <td>English</td>\n",
              "      <td>Rosa works hard to support her family. Rosa is...</td>\n",
              "      <td>Rosa works hard to support her family. Rosa is...</td>\n",
              "      <td>125.0</td>\n",
              "      <td>125.0</td>\n",
              "      <td>funded</td>\n",
              "      <td>1956738.0</td>\n",
              "      <td>NaN</td>\n",
              "      <td>General Store</td>\n",
              "      <td>Retail</td>\n",
              "      <td>to buy more groceries to sell in her general s...</td>\n",
              "      <td>PH</td>\n",
              "      <td>Philippines</td>\n",
              "      <td>Calatrava, Negros Occidental</td>\n",
              "      <td>shared</td>\n",
              "      <td>0.1</td>\n",
              "      <td>PHP</td>\n",
              "      <td>145.0</td>\n",
              "      <td>2015-08-16 14:03:48.000 +0000</td>\n",
              "      <td>2015-09-17 22:20:02.000 +0000</td>\n",
              "      <td>2015-07-17 07:00:00.000 +0000</td>\n",
              "      <td>2015-08-19 01:22:29.000 +0000</td>\n",
              "      <td>8.0</td>\n",
              "      <td>5</td>\n",
              "      <td>1</td>\n",
              "      <td>1</td>\n",
              "      <td>NaN</td>\n",
              "      <td>Rosa</td>\n",
              "      <td>female</td>\n",
              "      <td>true</td>\n",
              "      <td>monthly</td>\n",
              "      <td>field_partner</td>\n",
              "    </tr>\n",
              "    <tr>\n",
              "      <th>2</th>\n",
              "      <td>1159746</td>\n",
              "      <td>Warlita</td>\n",
              "      <td>English</td>\n",
              "      <td>Warlita is a widowed woman with two children. ...</td>\n",
              "      <td>Warlita is a widowed woman with two children. ...</td>\n",
              "      <td>175.0</td>\n",
              "      <td>175.0</td>\n",
              "      <td>funded</td>\n",
              "      <td>2321392.0</td>\n",
              "      <td>NaN</td>\n",
              "      <td>Fruits &amp; Vegetables</td>\n",
              "      <td>Food</td>\n",
              "      <td>to buy more bananas to sell and other supplies...</td>\n",
              "      <td>PH</td>\n",
              "      <td>Philippines</td>\n",
              "      <td>Sogod Leyte</td>\n",
              "      <td>shared</td>\n",
              "      <td>0.1</td>\n",
              "      <td>PHP</td>\n",
              "      <td>145.0</td>\n",
              "      <td>2016-09-28 13:37:22.000 +0000</td>\n",
              "      <td>2016-11-04 22:30:05.000 +0000</td>\n",
              "      <td>2016-08-30 07:00:00.000 +0000</td>\n",
              "      <td>2016-10-06 16:34:29.000 +0000</td>\n",
              "      <td>11.0</td>\n",
              "      <td>7</td>\n",
              "      <td>1</td>\n",
              "      <td>1</td>\n",
              "      <td>#Widowed, #Woman-Owned Business, #Elderly</td>\n",
              "      <td>Warlita</td>\n",
              "      <td>female</td>\n",
              "      <td>true</td>\n",
              "      <td>monthly</td>\n",
              "      <td>field_partner</td>\n",
              "    </tr>\n",
              "    <tr>\n",
              "      <th>3</th>\n",
              "      <td>1396016</td>\n",
              "      <td>FAAFOFOLA</td>\n",
              "      <td>English</td>\n",
              "      <td>Faafofola is a 40-year-old married woman with ...</td>\n",
              "      <td>Faafofola is a 40-year-old married woman with ...</td>\n",
              "      <td>1400.0</td>\n",
              "      <td>1400.0</td>\n",
              "      <td>funded</td>\n",
              "      <td>2661688.0</td>\n",
              "      <td>NaN</td>\n",
              "      <td>Farming</td>\n",
              "      <td>Agriculture</td>\n",
              "      <td>to buy more taro roots (seedlings), more banan...</td>\n",
              "      <td>WS</td>\n",
              "      <td>Samoa</td>\n",
              "      <td>Moataa</td>\n",
              "      <td>shared</td>\n",
              "      <td>0.1</td>\n",
              "      <td>WST</td>\n",
              "      <td>15.0</td>\n",
              "      <td>2017-10-16 02:59:44.000 +0000</td>\n",
              "      <td>2017-11-18 20:20:02.000 +0000</td>\n",
              "      <td>2017-10-06 07:00:00.000 +0000</td>\n",
              "      <td>2017-11-17 16:27:29.000 +0000</td>\n",
              "      <td>14.0</td>\n",
              "      <td>34</td>\n",
              "      <td>1</td>\n",
              "      <td>1</td>\n",
              "      <td>#Trees, #Woman-Owned Business, user_favorite, ...</td>\n",
              "      <td>FAAFOFOLA</td>\n",
              "      <td>female</td>\n",
              "      <td>true</td>\n",
              "      <td>monthly</td>\n",
              "      <td>field_partner</td>\n",
              "    </tr>\n",
              "    <tr>\n",
              "      <th>4</th>\n",
              "      <td>521395</td>\n",
              "      <td>Veronique</td>\n",
              "      <td>French</td>\n",
              "      <td>Veronique est une veuve agée de........ avec à...</td>\n",
              "      <td>Veronique is a widow, …[text missing] years ol...</td>\n",
              "      <td>425.0</td>\n",
              "      <td>425.0</td>\n",
              "      <td>funded</td>\n",
              "      <td>1283652.0</td>\n",
              "      <td>NaN</td>\n",
              "      <td>Liquor Store / Off-License</td>\n",
              "      <td>Food</td>\n",
              "      <td>to increase her stock of  various brands of be...</td>\n",
              "      <td>CM</td>\n",
              "      <td>Cameroon</td>\n",
              "      <td>Yaoundé</td>\n",
              "      <td>shared</td>\n",
              "      <td>0.1</td>\n",
              "      <td>XAF</td>\n",
              "      <td>217.0</td>\n",
              "      <td>2013-01-25 10:57:20.000 +0000</td>\n",
              "      <td>2013-02-24 21:30:03.000 +0000</td>\n",
              "      <td>2013-01-11 08:00:00.000 +0000</td>\n",
              "      <td>2013-01-26 12:43:47.000 +0000</td>\n",
              "      <td>15.0</td>\n",
              "      <td>17</td>\n",
              "      <td>1</td>\n",
              "      <td>1</td>\n",
              "      <td>NaN</td>\n",
              "      <td>Veronique</td>\n",
              "      <td>female</td>\n",
              "      <td>true</td>\n",
              "      <td>monthly</td>\n",
              "      <td>field_partner</td>\n",
              "    </tr>\n",
              "  </tbody>\n",
              "</table>\n",
              "</div>"
            ],
            "text/plain": [
              "   LOAN_ID  LOAN_NAME ORIGINAL_LANGUAGE  \\\n",
              "0   202058      Irene           English   \n",
              "1   932948       Rosa           English   \n",
              "2  1159746    Warlita           English   \n",
              "3  1396016  FAAFOFOLA           English   \n",
              "4   521395  Veronique            French   \n",
              "\n",
              "                                         DESCRIPTION  \\\n",
              "0  Irene P. is from the village of Upper Centro,T...   \n",
              "1  Rosa works hard to support her family. Rosa is...   \n",
              "2  Warlita is a widowed woman with two children. ...   \n",
              "3  Faafofola is a 40-year-old married woman with ...   \n",
              "4  Veronique est une veuve agée de........ avec à...   \n",
              "\n",
              "                              DESCRIPTION_TRANSLATED  FUNDED_AMOUNT  \\\n",
              "0                                                NaN         1100.0   \n",
              "1  Rosa works hard to support her family. Rosa is...          125.0   \n",
              "2  Warlita is a widowed woman with two children. ...          175.0   \n",
              "3  Faafofola is a 40-year-old married woman with ...         1400.0   \n",
              "4  Veronique is a widow, …[text missing] years ol...          425.0   \n",
              "\n",
              "   LOAN_AMOUNT  STATUS   IMAGE_ID  VIDEO_ID               ACTIVITY_NAME  \\\n",
              "0       1100.0  funded   541043.0       NaN               General Store   \n",
              "1        125.0  funded  1956738.0       NaN               General Store   \n",
              "2        175.0  funded  2321392.0       NaN         Fruits & Vegetables   \n",
              "3       1400.0  funded  2661688.0       NaN                     Farming   \n",
              "4        425.0  funded  1283652.0       NaN  Liquor Store / Off-License   \n",
              "\n",
              "   SECTOR_NAME                                           LOAN_USE  \\\n",
              "0       Retail  to purchase additional inventory and working c...   \n",
              "1       Retail  to buy more groceries to sell in her general s...   \n",
              "2         Food  to buy more bananas to sell and other supplies...   \n",
              "3  Agriculture  to buy more taro roots (seedlings), more banan...   \n",
              "4         Food  to increase her stock of  various brands of be...   \n",
              "\n",
              "  COUNTRY_CODE COUNTRY_NAME                                       TOWN_NAME  \\\n",
              "0           PH  Philippines  Tudela-Upper Centro, Tudela,Misamis Occidental   \n",
              "1           PH  Philippines                    Calatrava, Negros Occidental   \n",
              "2           PH  Philippines                                     Sogod Leyte   \n",
              "3           WS        Samoa                                          Moataa   \n",
              "4           CM     Cameroon                                         Yaoundé   \n",
              "\n",
              "  CURRENCY_POLICY  CURRENCY_EXCHANGE_COVERAGE_RATE CURRENCY  PARTNER_ID  \\\n",
              "0          shared                              0.2      PHP       126.0   \n",
              "1          shared                              0.1      PHP       145.0   \n",
              "2          shared                              0.1      PHP       145.0   \n",
              "3          shared                              0.1      WST        15.0   \n",
              "4          shared                              0.1      XAF       217.0   \n",
              "\n",
              "                     POSTED_TIME        PLANNED_EXPIRATION_TIME  \\\n",
              "0  2010-05-20 08:40:17.000 +0000                            NaN   \n",
              "1  2015-08-16 14:03:48.000 +0000  2015-09-17 22:20:02.000 +0000   \n",
              "2  2016-09-28 13:37:22.000 +0000  2016-11-04 22:30:05.000 +0000   \n",
              "3  2017-10-16 02:59:44.000 +0000  2017-11-18 20:20:02.000 +0000   \n",
              "4  2013-01-25 10:57:20.000 +0000  2013-02-24 21:30:03.000 +0000   \n",
              "\n",
              "                   DISBURSE_TIME                    RAISED_TIME  LENDER_TERM  \\\n",
              "0  2010-04-30 07:00:00.000 +0000  2010-06-30 16:09:20.000 +0000         19.0   \n",
              "1  2015-07-17 07:00:00.000 +0000  2015-08-19 01:22:29.000 +0000          8.0   \n",
              "2  2016-08-30 07:00:00.000 +0000  2016-10-06 16:34:29.000 +0000         11.0   \n",
              "3  2017-10-06 07:00:00.000 +0000  2017-11-17 16:27:29.000 +0000         14.0   \n",
              "4  2013-01-11 08:00:00.000 +0000  2013-01-26 12:43:47.000 +0000         15.0   \n",
              "\n",
              "   NUM_LENDERS_TOTAL  NUM_JOURNAL_ENTRIES  NUM_BULK_ENTRIES  \\\n",
              "0                 40                    2                 1   \n",
              "1                  5                    1                 1   \n",
              "2                  7                    1                 1   \n",
              "3                 34                    1                 1   \n",
              "4                 17                    1                 1   \n",
              "\n",
              "                                                TAGS BORROWER_NAMES  \\\n",
              "0                                                NaN          Irene   \n",
              "1                                                NaN           Rosa   \n",
              "2          #Widowed, #Woman-Owned Business, #Elderly        Warlita   \n",
              "3  #Trees, #Woman-Owned Business, user_favorite, ...      FAAFOFOLA   \n",
              "4                                                NaN      Veronique   \n",
              "\n",
              "  BORROWER_GENDERS BORROWER_PICTURED REPAYMENT_INTERVAL DISTRIBUTION_MODEL  \n",
              "0           female              true            monthly      field_partner  \n",
              "1           female              true            monthly      field_partner  \n",
              "2           female              true            monthly      field_partner  \n",
              "3           female              true            monthly      field_partner  \n",
              "4           female              true            monthly      field_partner  "
            ]
          },
          "execution_count": 10,
          "metadata": {},
          "output_type": "execute_result"
        }
      ]
    },
    {
      "cell_type": "code",
      "metadata": {
        "id": "tHEtqCPsrJUL",
        "outputId": "7eaa6143-3a3d-4fd7-a24e-09c95fefcb5b"
      },
      "source": [
        "df1.nunique()"
      ],
      "execution_count": null,
      "outputs": [
        {
          "data": {
            "text/plain": [
              "LOAN_ID                            2086700\n",
              "LOAN_NAME                           462067\n",
              "ORIGINAL_LANGUAGE                        8\n",
              "DESCRIPTION                        2036550\n",
              "DESCRIPTION_TRANSLATED             1627316\n",
              "FUNDED_AMOUNT                          774\n",
              "LOAN_AMOUNT                            623\n",
              "STATUS                                   4\n",
              "IMAGE_ID                           1967872\n",
              "VIDEO_ID                              1139\n",
              "ACTIVITY_NAME                          163\n",
              "SECTOR_NAME                             15\n",
              "LOAN_USE                           1243602\n",
              "COUNTRY_CODE                            98\n",
              "COUNTRY_NAME                            99\n",
              "TOWN_NAME                            28851\n",
              "CURRENCY_POLICY                          2\n",
              "CURRENCY_EXCHANGE_COVERAGE_RATE          3\n",
              "CURRENCY                                78\n",
              "PARTNER_ID                             545\n",
              "POSTED_TIME                        2078778\n",
              "PLANNED_EXPIRATION_TIME             890002\n",
              "DISBURSE_TIME                        79099\n",
              "RAISED_TIME                        1633737\n",
              "LENDER_TERM                            153\n",
              "NUM_LENDERS_TOTAL                      792\n",
              "NUM_JOURNAL_ENTRIES                     47\n",
              "NUM_BULK_ENTRIES                        32\n",
              "TAGS                                219129\n",
              "BORROWER_NAMES                      614325\n",
              "BORROWER_GENDERS                     25322\n",
              "BORROWER_PICTURED                     7899\n",
              "REPAYMENT_INTERVAL                       3\n",
              "DISTRIBUTION_MODEL                       2\n",
              "dtype: int64"
            ]
          },
          "execution_count": 11,
          "metadata": {},
          "output_type": "execute_result"
        }
      ]
    },
    {
      "cell_type": "code",
      "metadata": {
        "id": "xJLtPXFjyOgx"
      },
      "source": [
        ""
      ],
      "execution_count": null,
      "outputs": []
    },
    {
      "cell_type": "code",
      "metadata": {
        "id": "W9O6PgyHyOgx"
      },
      "source": [
        ""
      ],
      "execution_count": null,
      "outputs": []
    },
    {
      "cell_type": "code",
      "metadata": {
        "colab": {
          "base_uri": "https://localhost:8080/"
        },
        "id": "T9_gJ0M7sPHo",
        "outputId": "1a50167f-dd90-401d-f4b6-cc27e668cdf7"
      },
      "source": [
        "df1['contrib_per_lend'] = df1['FUNDED_AMOUNT'] / df1['NUM_LENDERS_TOTAL']\n",
        "df1['contrib_per_lend'].value_counts()[:20]"
      ],
      "execution_count": null,
      "outputs": [
        {
          "data": {
            "text/plain": [
              "25.000000    391150\n",
              "33.333333     59963\n",
              "31.250000     49503\n",
              "37.500000     43955\n",
              "50.000000     42471\n",
              "              ...  \n",
              "44.512195        30\n",
              "51.546392        30\n",
              "68.000000        30\n",
              "51.973684        30\n",
              "20.000000        30\n",
              "Name: contrib_per_lend, Length: 1913, dtype: int64"
            ]
          },
          "execution_count": 23,
          "metadata": {},
          "output_type": "execute_result"
        }
      ]
    },
    {
      "cell_type": "code",
      "metadata": {
        "colab": {
          "base_uri": "https://localhost:8080/"
        },
        "id": "_thp16rosPLl",
        "outputId": "beb8db51-e4f5-463a-aa43-e931fd865118"
      },
      "source": [
        "df1['repayment_monthly'] = df1['FUNDED_AMOUNT'] / df1['LENDER_TERM']\n",
        "df1['repayment_monthly'].value_counts()[:5]"
      ],
      "execution_count": null,
      "outputs": [
        {
          "data": {
            "text/plain": [
              "25.000000     85606\n",
              "50.000000     49062\n",
              "35.714286     43859\n",
              "21.428571     40715\n",
              "37.500000     38084\n",
              "              ...  \n",
              "47.727273      2078\n",
              "67.500000      2029\n",
              "115.625000     2029\n",
              "109.375000     2009\n",
              "5.000000       2001\n",
              "Name: repayment_monthly, Length: 190, dtype: int64"
            ]
          },
          "execution_count": 27,
          "metadata": {},
          "output_type": "execute_result"
        }
      ]
    },
    {
      "cell_type": "code",
      "metadata": {
        "id": "lFyLctM9yOgy"
      },
      "source": [
        ""
      ],
      "execution_count": null,
      "outputs": []
    },
    {
      "cell_type": "code",
      "metadata": {
        "id": "XRlhHVg_yOgy"
      },
      "source": [
        ""
      ],
      "execution_count": null,
      "outputs": []
    },
    {
      "cell_type": "code",
      "metadata": {
        "id": "4CWgqV6vrJMz"
      },
      "source": [
        "d = df1['LOAN_NAME'].value_counts()[0:20]"
      ],
      "execution_count": null,
      "outputs": []
    },
    {
      "cell_type": "code",
      "metadata": {
        "id": "oyBG8sN6yOgy",
        "outputId": "d868d7ec-86bd-4d48-fd9d-39d119fdcd57"
      },
      "source": [
        "d.plot(kind='bar')"
      ],
      "execution_count": null,
      "outputs": [
        {
          "data": {
            "text/plain": [
              "<AxesSubplot:>"
            ]
          },
          "execution_count": 32,
          "metadata": {},
          "output_type": "execute_result"
        },
        {
          "data": {
            "image/png": "[encoded data removed]",
            "text/plain": [
              "<Figure size 432x288 with 1 Axes>"
            ]
          },
          "metadata": {
            "needs_background": "light"
          },
          "output_type": "display_data"
        }
      ]
    },
    {
      "cell_type": "code",
      "metadata": {
        "colab": {
          "base_uri": "https://localhost:8080/",
          "height": 261
        },
        "id": "QAg-VtV0sPP8",
        "outputId": "b254debe-e3ad-42dd-99a6-52b2634ae9c8"
      },
      "source": [
        "df1.describe(include=object)"
      ],
      "execution_count": null,
      "outputs": [
        {
          "data": {
            "text/html": [
              "<div>\n",
              "<style scoped>\n",
              "    .dataframe tbody tr th:only-of-type {\n",
              "        vertical-align: middle;\n",
              "    }\n",
              "\n",
              "    .dataframe tbody tr th {\n",
              "        vertical-align: top;\n",
              "    }\n",
              "\n",
              "    .dataframe thead th {\n",
              "        text-align: right;\n",
              "    }\n",
              "</style>\n",
              "<table border=\"1\" class=\"dataframe\">\n",
              "  <thead>\n",
              "    <tr style=\"text-align: right;\">\n",
              "      <th></th>\n",
              "      <th>LOAN_NAME</th>\n",
              "      <th>ORIGINAL_LANGUAGE</th>\n",
              "      <th>DESCRIPTION</th>\n",
              "      <th>DESCRIPTION_TRANSLATED</th>\n",
              "      <th>STATUS</th>\n",
              "      <th>ACTIVITY_NAME</th>\n",
              "      <th>SECTOR_NAME</th>\n",
              "      <th>LOAN_USE</th>\n",
              "      <th>COUNTRY_CODE</th>\n",
              "      <th>COUNTRY_NAME</th>\n",
              "      <th>TOWN_NAME</th>\n",
              "      <th>CURRENCY_POLICY</th>\n",
              "      <th>CURRENCY</th>\n",
              "      <th>POSTED_TIME</th>\n",
              "      <th>PLANNED_EXPIRATION_TIME</th>\n",
              "      <th>DISBURSE_TIME</th>\n",
              "      <th>RAISED_TIME</th>\n",
              "      <th>TAGS</th>\n",
              "      <th>BORROWER_NAMES</th>\n",
              "      <th>BORROWER_GENDERS</th>\n",
              "      <th>BORROWER_PICTURED</th>\n",
              "      <th>REPAYMENT_INTERVAL</th>\n",
              "      <th>DISTRIBUTION_MODEL</th>\n",
              "    </tr>\n",
              "  </thead>\n",
              "  <tbody>\n",
              "    <tr>\n",
              "      <th>count</th>\n",
              "      <td>2036462</td>\n",
              "      <td>2040809</td>\n",
              "      <td>2040774</td>\n",
              "      <td>1631388</td>\n",
              "      <td>2086700</td>\n",
              "      <td>2086700</td>\n",
              "      <td>2086700</td>\n",
              "      <td>2040786</td>\n",
              "      <td>2086666</td>\n",
              "      <td>2086700</td>\n",
              "      <td>1910355</td>\n",
              "      <td>2086700</td>\n",
              "      <td>2086700</td>\n",
              "      <td>2086700</td>\n",
              "      <td>1714866</td>\n",
              "      <td>2082687</td>\n",
              "      <td>1984014</td>\n",
              "      <td>1143887</td>\n",
              "      <td>2036462</td>\n",
              "      <td>2040809</td>\n",
              "      <td>2040809</td>\n",
              "      <td>2086700</td>\n",
              "      <td>2086700</td>\n",
              "    </tr>\n",
              "    <tr>\n",
              "      <th>unique</th>\n",
              "      <td>462067</td>\n",
              "      <td>8</td>\n",
              "      <td>2036550</td>\n",
              "      <td>1627316</td>\n",
              "      <td>4</td>\n",
              "      <td>163</td>\n",
              "      <td>15</td>\n",
              "      <td>1243602</td>\n",
              "      <td>98</td>\n",
              "      <td>99</td>\n",
              "      <td>28851</td>\n",
              "      <td>2</td>\n",
              "      <td>78</td>\n",
              "      <td>2078778</td>\n",
              "      <td>890002</td>\n",
              "      <td>79099</td>\n",
              "      <td>1633737</td>\n",
              "      <td>219129</td>\n",
              "      <td>614325</td>\n",
              "      <td>25322</td>\n",
              "      <td>7899</td>\n",
              "      <td>3</td>\n",
              "      <td>2</td>\n",
              "    </tr>\n",
              "    <tr>\n",
              "      <th>top</th>\n",
              "      <td>Anonymous Group</td>\n",
              "      <td>English</td>\n",
              "      <td>Hello Kiva Community! &lt;br /&gt;&lt;br /&gt;Meet Mary, w...</td>\n",
              "      <td>Hello Kiva Community! &lt;br /&gt;&lt;br /&gt;Meet Mary, w...</td>\n",
              "      <td>funded</td>\n",
              "      <td>Farming</td>\n",
              "      <td>Agriculture</td>\n",
              "      <td>to build a sanitary toilet for her family</td>\n",
              "      <td>PH</td>\n",
              "      <td>Philippines</td>\n",
              "      <td>Kaduna</td>\n",
              "      <td>shared</td>\n",
              "      <td>PHP</td>\n",
              "      <td>2006-04-16 07:10:50.000 +0000</td>\n",
              "      <td>2018-07-20 05:36:03.000 +0000</td>\n",
              "      <td>2020-01-28 08:00:00.000 +0000</td>\n",
              "      <td>2005-03-31 06:27:55.000 +0000</td>\n",
              "      <td>user_favorite</td>\n",
              "      <td>Mary</td>\n",
              "      <td>female</td>\n",
              "      <td>true</td>\n",
              "      <td>monthly</td>\n",
              "      <td>field_partner</td>\n",
              "    </tr>\n",
              "    <tr>\n",
              "      <th>freq</th>\n",
              "      <td>7082</td>\n",
              "      <td>1409176</td>\n",
              "      <td>17</td>\n",
              "      <td>17</td>\n",
              "      <td>1977543</td>\n",
              "      <td>225968</td>\n",
              "      <td>541946</td>\n",
              "      <td>18171</td>\n",
              "      <td>443232</td>\n",
              "      <td>443232</td>\n",
              "      <td>18447</td>\n",
              "      <td>1613247</td>\n",
              "      <td>443230</td>\n",
              "      <td>207</td>\n",
              "      <td>28</td>\n",
              "      <td>4503</td>\n",
              "      <td>203</td>\n",
              "      <td>77618</td>\n",
              "      <td>5983</td>\n",
              "      <td>1339974</td>\n",
              "      <td>1762308</td>\n",
              "      <td>1799778</td>\n",
              "      <td>2065527</td>\n",
              "    </tr>\n",
              "  </tbody>\n",
              "</table>\n",
              "</div>"
            ],
            "text/plain": [
              "              LOAN_NAME ORIGINAL_LANGUAGE  \\\n",
              "count           2036462           2040809   \n",
              "unique           462067                 8   \n",
              "top     Anonymous Group           English   \n",
              "freq               7082           1409176   \n",
              "\n",
              "                                              DESCRIPTION  \\\n",
              "count                                             2040774   \n",
              "unique                                            2036550   \n",
              "top     Hello Kiva Community! <br /><br />Meet Mary, w...   \n",
              "freq                                                   17   \n",
              "\n",
              "                                   DESCRIPTION_TRANSLATED   STATUS  \\\n",
              "count                                             1631388  2086700   \n",
              "unique                                            1627316        4   \n",
              "top     Hello Kiva Community! <br /><br />Meet Mary, w...   funded   \n",
              "freq                                                   17  1977543   \n",
              "\n",
              "       ACTIVITY_NAME  SECTOR_NAME                                   LOAN_USE  \\\n",
              "count        2086700      2086700                                    2040786   \n",
              "unique           163           15                                    1243602   \n",
              "top          Farming  Agriculture  to build a sanitary toilet for her family   \n",
              "freq          225968       541946                                      18171   \n",
              "\n",
              "       COUNTRY_CODE COUNTRY_NAME TOWN_NAME CURRENCY_POLICY CURRENCY  \\\n",
              "count       2086666      2086700   1910355         2086700  2086700   \n",
              "unique           98           99     28851               2       78   \n",
              "top              PH  Philippines    Kaduna          shared      PHP   \n",
              "freq         443232       443232     18447         1613247   443230   \n",
              "\n",
              "                          POSTED_TIME        PLANNED_EXPIRATION_TIME  \\\n",
              "count                         2086700                        1714866   \n",
              "unique                        2078778                         890002   \n",
              "top     2006-04-16 07:10:50.000 +0000  2018-07-20 05:36:03.000 +0000   \n",
              "freq                              207                             28   \n",
              "\n",
              "                        DISBURSE_TIME                    RAISED_TIME  \\\n",
              "count                         2082687                        1984014   \n",
              "unique                          79099                        1633737   \n",
              "top     2020-01-28 08:00:00.000 +0000  2005-03-31 06:27:55.000 +0000   \n",
              "freq                             4503                            203   \n",
              "\n",
              "                 TAGS BORROWER_NAMES BORROWER_GENDERS BORROWER_PICTURED  \\\n",
              "count         1143887        2036462          2040809           2040809   \n",
              "unique         219129         614325            25322              7899   \n",
              "top     user_favorite           Mary           female              true   \n",
              "freq            77618           5983          1339974           1762308   \n",
              "\n",
              "       REPAYMENT_INTERVAL DISTRIBUTION_MODEL  \n",
              "count             2086700            2086700  \n",
              "unique                  3                  2  \n",
              "top               monthly      field_partner  \n",
              "freq              1799778            2065527  "
            ]
          },
          "execution_count": 33,
          "metadata": {},
          "output_type": "execute_result"
        }
      ]
    },
    {
      "cell_type": "code",
      "metadata": {
        "colab": {
          "base_uri": "https://localhost:8080/",
          "height": 297
        },
        "id": "noaEeduUxsm-",
        "outputId": "4ce17f6d-d856-419a-d379-b46c3a6fce40"
      },
      "source": [
        "df1.describe()"
      ],
      "execution_count": null,
      "outputs": [
        {
          "data": {
            "text/html": [
              "<div>\n",
              "<style scoped>\n",
              "    .dataframe tbody tr th:only-of-type {\n",
              "        vertical-align: middle;\n",
              "    }\n",
              "\n",
              "    .dataframe tbody tr th {\n",
              "        vertical-align: top;\n",
              "    }\n",
              "\n",
              "    .dataframe thead th {\n",
              "        text-align: right;\n",
              "    }\n",
              "</style>\n",
              "<table border=\"1\" class=\"dataframe\">\n",
              "  <thead>\n",
              "    <tr style=\"text-align: right;\">\n",
              "      <th></th>\n",
              "      <th>LOAN_ID</th>\n",
              "      <th>FUNDED_AMOUNT</th>\n",
              "      <th>LOAN_AMOUNT</th>\n",
              "      <th>IMAGE_ID</th>\n",
              "      <th>VIDEO_ID</th>\n",
              "      <th>CURRENCY_EXCHANGE_COVERAGE_RATE</th>\n",
              "      <th>PARTNER_ID</th>\n",
              "      <th>LENDER_TERM</th>\n",
              "      <th>NUM_LENDERS_TOTAL</th>\n",
              "      <th>NUM_JOURNAL_ENTRIES</th>\n",
              "      <th>NUM_BULK_ENTRIES</th>\n",
              "      <th>contrib_per_lend</th>\n",
              "      <th>repayment_monthly</th>\n",
              "    </tr>\n",
              "  </thead>\n",
              "  <tbody>\n",
              "    <tr>\n",
              "      <th>count</th>\n",
              "      <td>2.086700e+06</td>\n",
              "      <td>2.086700e+06</td>\n",
              "      <td>2.086700e+06</td>\n",
              "      <td>2.040809e+06</td>\n",
              "      <td>1178.000000</td>\n",
              "      <td>1.613247e+06</td>\n",
              "      <td>2.065527e+06</td>\n",
              "      <td>2.086676e+06</td>\n",
              "      <td>2.086700e+06</td>\n",
              "      <td>2.086700e+06</td>\n",
              "      <td>2.086700e+06</td>\n",
              "      <td>2.080730e+06</td>\n",
              "      <td>2.086676e+06</td>\n",
              "    </tr>\n",
              "    <tr>\n",
              "      <th>mean</th>\n",
              "      <td>1.062732e+06</td>\n",
              "      <td>7.737747e+02</td>\n",
              "      <td>8.152369e+02</td>\n",
              "      <td>2.116757e+06</td>\n",
              "      <td>3141.939728</td>\n",
              "      <td>1.057661e-01</td>\n",
              "      <td>1.690032e+02</td>\n",
              "      <td>1.312127e+01</td>\n",
              "      <td>2.132516e+01</td>\n",
              "      <td>1.540779e+00</td>\n",
              "      <td>1.147353e+00</td>\n",
              "      <td>5.464042e+01</td>\n",
              "      <td>7.026400e+01</td>\n",
              "    </tr>\n",
              "    <tr>\n",
              "      <th>std</th>\n",
              "      <td>6.124546e+05</td>\n",
              "      <td>1.588236e+03</td>\n",
              "      <td>1.666178e+03</td>\n",
              "      <td>1.063464e+06</td>\n",
              "      <td>1238.038455</td>\n",
              "      <td>4.022515e-02</td>\n",
              "      <td>1.081545e+02</td>\n",
              "      <td>7.266667e+00</td>\n",
              "      <td>4.298111e+01</td>\n",
              "      <td>1.083481e+00</td>\n",
              "      <td>5.210790e-01</td>\n",
              "      <td>1.581721e+02</td>\n",
              "      <td>1.378851e+02</td>\n",
              "    </tr>\n",
              "    <tr>\n",
              "      <th>min</th>\n",
              "      <td>8.400000e+01</td>\n",
              "      <td>0.000000e+00</td>\n",
              "      <td>2.500000e+01</td>\n",
              "      <td>2.410000e+02</td>\n",
              "      <td>7.000000</td>\n",
              "      <td>0.000000e+00</td>\n",
              "      <td>1.000000e+00</td>\n",
              "      <td>1.000000e+00</td>\n",
              "      <td>0.000000e+00</td>\n",
              "      <td>1.000000e+00</td>\n",
              "      <td>1.000000e+00</td>\n",
              "      <td>5.000000e+00</td>\n",
              "      <td>0.000000e+00</td>\n",
              "    </tr>\n",
              "    <tr>\n",
              "      <th>25%</th>\n",
              "      <td>5.340378e+05</td>\n",
              "      <td>2.500000e+02</td>\n",
              "      <td>2.750000e+02</td>\n",
              "      <td>1.314003e+06</td>\n",
              "      <td>2603.750000</td>\n",
              "      <td>1.000000e-01</td>\n",
              "      <td>1.100000e+02</td>\n",
              "      <td>8.000000e+00</td>\n",
              "      <td>7.000000e+00</td>\n",
              "      <td>1.000000e+00</td>\n",
              "      <td>1.000000e+00</td>\n",
              "      <td>2.666667e+01</td>\n",
              "      <td>2.321429e+01</td>\n",
              "    </tr>\n",
              "    <tr>\n",
              "      <th>50%</th>\n",
              "      <td>1.061536e+06</td>\n",
              "      <td>4.750000e+02</td>\n",
              "      <td>5.000000e+02</td>\n",
              "      <td>2.185747e+06</td>\n",
              "      <td>3137.500000</td>\n",
              "      <td>1.000000e-01</td>\n",
              "      <td>1.450000e+02</td>\n",
              "      <td>1.300000e+01</td>\n",
              "      <td>1.400000e+01</td>\n",
              "      <td>1.000000e+00</td>\n",
              "      <td>1.000000e+00</td>\n",
              "      <td>3.083333e+01</td>\n",
              "      <td>3.846154e+01</td>\n",
              "    </tr>\n",
              "    <tr>\n",
              "      <th>75%</th>\n",
              "      <td>1.591847e+06</td>\n",
              "      <td>9.000000e+02</td>\n",
              "      <td>9.750000e+02</td>\n",
              "      <td>2.930654e+06</td>\n",
              "      <td>4105.750000</td>\n",
              "      <td>1.000000e-01</td>\n",
              "      <td>1.880000e+02</td>\n",
              "      <td>1.400000e+01</td>\n",
              "      <td>2.500000e+01</td>\n",
              "      <td>2.000000e+00</td>\n",
              "      <td>1.000000e+00</td>\n",
              "      <td>4.062500e+01</td>\n",
              "      <td>6.875000e+01</td>\n",
              "    </tr>\n",
              "    <tr>\n",
              "      <th>max</th>\n",
              "      <td>2.131922e+06</td>\n",
              "      <td>5.000000e+05</td>\n",
              "      <td>5.000000e+05</td>\n",
              "      <td>4.249660e+06</td>\n",
              "      <td>4985.000000</td>\n",
              "      <td>2.000000e-01</td>\n",
              "      <td>6.190000e+02</td>\n",
              "      <td>1.950000e+02</td>\n",
              "      <td>1.526200e+04</td>\n",
              "      <td>1.260000e+02</td>\n",
              "      <td>6.300000e+01</td>\n",
              "      <td>2.500000e+04</td>\n",
              "      <td>5.000000e+04</td>\n",
              "    </tr>\n",
              "  </tbody>\n",
              "</table>\n",
              "</div>"
            ],
            "text/plain": [
              "            LOAN_ID  FUNDED_AMOUNT   LOAN_AMOUNT      IMAGE_ID     VIDEO_ID  \\\n",
              "count  2.086700e+06   2.086700e+06  2.086700e+06  2.040809e+06  1178.000000   \n",
              "mean   1.062732e+06   7.737747e+02  8.152369e+02  2.116757e+06  3141.939728   \n",
              "std    6.124546e+05   1.588236e+03  1.666178e+03  1.063464e+06  1238.038455   \n",
              "min    8.400000e+01   0.000000e+00  2.500000e+01  2.410000e+02     7.000000   \n",
              "25%    5.340378e+05   2.500000e+02  2.750000e+02  1.314003e+06  2603.750000   \n",
              "50%    1.061536e+06   4.750000e+02  5.000000e+02  2.185747e+06  3137.500000   \n",
              "75%    1.591847e+06   9.000000e+02  9.750000e+02  2.930654e+06  4105.750000   \n",
              "max    2.131922e+06   5.000000e+05  5.000000e+05  4.249660e+06  4985.000000   \n",
              "\n",
              "       CURRENCY_EXCHANGE_COVERAGE_RATE    PARTNER_ID   LENDER_TERM  \\\n",
              "count                     1.613247e+06  2.065527e+06  2.086676e+06   \n",
              "mean                      1.057661e-01  1.690032e+02  1.312127e+01   \n",
              "std                       4.022515e-02  1.081545e+02  7.266667e+00   \n",
              "min                       0.000000e+00  1.000000e+00  1.000000e+00   \n",
              "25%                       1.000000e-01  1.100000e+02  8.000000e+00   \n",
              "50%                       1.000000e-01  1.450000e+02  1.300000e+01   \n",
              "75%                       1.000000e-01  1.880000e+02  1.400000e+01   \n",
              "max                       2.000000e-01  6.190000e+02  1.950000e+02   \n",
              "\n",
              "       NUM_LENDERS_TOTAL  NUM_JOURNAL_ENTRIES  NUM_BULK_ENTRIES  \\\n",
              "count       2.086700e+06         2.086700e+06      2.086700e+06   \n",
              "mean        2.132516e+01         1.540779e+00      1.147353e+00   \n",
              "std         4.298111e+01         1.083481e+00      5.210790e-01   \n",
              "min         0.000000e+00         1.000000e+00      1.000000e+00   \n",
              "25%         7.000000e+00         1.000000e+00      1.000000e+00   \n",
              "50%         1.400000e+01         1.000000e+00      1.000000e+00   \n",
              "75%         2.500000e+01         2.000000e+00      1.000000e+00   \n",
              "max         1.526200e+04         1.260000e+02      6.300000e+01   \n",
              "\n",
              "       contrib_per_lend  repayment_monthly  \n",
              "count      2.080730e+06       2.086676e+06  \n",
              "mean       5.464042e+01       7.026400e+01  \n",
              "std        1.581721e+02       1.378851e+02  \n",
              "min        5.000000e+00       0.000000e+00  \n",
              "25%        2.666667e+01       2.321429e+01  \n",
              "50%        3.083333e+01       3.846154e+01  \n",
              "75%        4.062500e+01       6.875000e+01  \n",
              "max        2.500000e+04       5.000000e+04  "
            ]
          },
          "execution_count": 34,
          "metadata": {},
          "output_type": "execute_result"
        }
      ]
    },
    {
      "cell_type": "code",
      "metadata": {
        "id": "8IEKrjDUymi1"
      },
      "source": [
        "# import seaborn as sns\n",
        "# sns.pairplot(df1[['contrib_per_lend', 'repayment_monthly']])"
      ],
      "execution_count": null,
      "outputs": []
    },
    {
      "cell_type": "code",
      "metadata": {
        "colab": {
          "base_uri": "https://localhost:8080/",
          "height": 326
        },
        "id": "es91bd0xymma",
        "outputId": "8d111c3a-f048-4c51-eabd-7550bcf51d4e"
      },
      "source": [
        "df1['REPAYMENT_INTERVAL'].value_counts().plot(kind='bar')"
      ],
      "execution_count": null,
      "outputs": [
        {
          "data": {
            "text/plain": [
              "<AxesSubplot:>"
            ]
          },
          "execution_count": 36,
          "metadata": {},
          "output_type": "execute_result"
        },
        {
          "data": {
            "image/png": "[encoded data removed]",
            "text/plain": [
              "<Figure size 432x288 with 1 Axes>"
            ]
          },
          "metadata": {
            "needs_background": "light"
          },
          "output_type": "display_data"
        }
      ]
    },
    {
      "cell_type": "code",
      "metadata": {
        "id": "pTJy2SU-ympz"
      },
      "source": [
        "# import datetime\n",
        "# df1[['POSTED_TIME', 'PLANNED_EXPIRATION_TIME', 'DISBURSE_TIME','RAISED_TIME']]= pd.to_datetime(df1[['POSTED_TIME', 'PLANNED_EXPIRATION_TIME', 'DISBURSE_TIME','RAISED_TIME']])"
      ],
      "execution_count": null,
      "outputs": []
    },
    {
      "cell_type": "code",
      "metadata": {
        "colab": {
          "base_uri": "https://localhost:8080/"
        },
        "id": "-J39N2A8-pZd",
        "outputId": "91611609-747b-42a0-d36f-6d2b86d2649d"
      },
      "source": [
        "df1.columns"
      ],
      "execution_count": null,
      "outputs": [
        {
          "data": {
            "text/plain": [
              "Index(['LOAN_ID', 'LOAN_NAME', 'ORIGINAL_LANGUAGE', 'DESCRIPTION',\n",
              "       'DESCRIPTION_TRANSLATED', 'FUNDED_AMOUNT', 'LOAN_AMOUNT', 'STATUS',\n",
              "       'IMAGE_ID', 'VIDEO_ID', 'ACTIVITY_NAME', 'SECTOR_NAME', 'LOAN_USE',\n",
              "       'COUNTRY_CODE', 'COUNTRY_NAME', 'TOWN_NAME', 'CURRENCY_POLICY',\n",
              "       'CURRENCY_EXCHANGE_COVERAGE_RATE', 'CURRENCY', 'PARTNER_ID',\n",
              "       'POSTED_TIME', 'PLANNED_EXPIRATION_TIME', 'DISBURSE_TIME',\n",
              "       'RAISED_TIME', 'LENDER_TERM', 'NUM_LENDERS_TOTAL',\n",
              "       'NUM_JOURNAL_ENTRIES', 'NUM_BULK_ENTRIES', 'TAGS', 'BORROWER_NAMES',\n",
              "       'BORROWER_GENDERS', 'BORROWER_PICTURED', 'REPAYMENT_INTERVAL',\n",
              "       'DISTRIBUTION_MODEL', 'contrib_per_lend', 'repayment_monthly'],\n",
              "      dtype='object')"
            ]
          },
          "execution_count": 37,
          "metadata": {},
          "output_type": "execute_result"
        }
      ]
    },
    {
      "cell_type": "code",
      "metadata": {
        "id": "oHeIk6chj4lJ"
      },
      "source": [
        "df1.columns = [i.replace(' ', '_').lower() for i in df1.columns]"
      ],
      "execution_count": null,
      "outputs": []
    },
    {
      "cell_type": "code",
      "metadata": {
        "colab": {
          "base_uri": "https://localhost:8080/"
        },
        "id": "0f94h79Qh2NK",
        "outputId": "1226fdbe-1d46-4394-ea4c-42160e1456a3"
      },
      "source": [
        "df1.isnull().sum()"
      ],
      "execution_count": null,
      "outputs": [
        {
          "data": {
            "text/plain": [
              "loan_id                                  0\n",
              "loan_name                            50238\n",
              "original_language                    45891\n",
              "description                          45926\n",
              "description_translated              455312\n",
              "funded_amount                            0\n",
              "loan_amount                              0\n",
              "status                                   0\n",
              "image_id                             45891\n",
              "video_id                           2085522\n",
              "activity_name                            0\n",
              "sector_name                              0\n",
              "loan_use                             45914\n",
              "country_code                            34\n",
              "country_name                             0\n",
              "town_name                           176345\n",
              "currency_policy                          0\n",
              "currency_exchange_coverage_rate     473453\n",
              "currency                                 0\n",
              "partner_id                           21173\n",
              "posted_time                              0\n",
              "planned_expiration_time             371834\n",
              "disburse_time                         4013\n",
              "raised_time                         102686\n",
              "lender_term                             24\n",
              "num_lenders_total                        0\n",
              "num_journal_entries                      0\n",
              "num_bulk_entries                         0\n",
              "tags                                942813\n",
              "borrower_names                       50238\n",
              "borrower_genders                     45891\n",
              "borrower_pictured                    45891\n",
              "repayment_interval                       0\n",
              "distribution_model                       0\n",
              "contrib_per_lend                      5970\n",
              "repayment_monthly                       24\n",
              "dtype: int64"
            ]
          },
          "execution_count": 39,
          "metadata": {},
          "output_type": "execute_result"
        }
      ]
    },
    {
      "cell_type": "code",
      "metadata": {
        "id": "rvFV9LXYyOgz",
        "outputId": "60dfecfc-45db-4026-e646-0e1fb689b51c"
      },
      "source": [
        "data = df1[df1.lender_term !=0]\n",
        "data['repayment_interval'].value_counts()"
      ],
      "execution_count": null,
      "outputs": [
        {
          "data": {
            "text/plain": [
              "monthly      1799778\n",
              "bullet        192954\n",
              "irregular      93968\n",
              "Name: repayment_interval, dtype: int64"
            ]
          },
          "execution_count": 40,
          "metadata": {},
          "output_type": "execute_result"
        }
      ]
    },
    {
      "cell_type": "code",
      "metadata": {
        "id": "9KmHrubhyOg0"
      },
      "source": [
        "df1['repayment_interval'] = df1.apply(lambda x: 0 if x['repayment_interval'] =='irregular' else x['repayment_interval'] == 1, axis=1)"
      ],
      "execution_count": null,
      "outputs": []
    },
    {
      "cell_type": "code",
      "metadata": {
        "id": "Vk3y-R_VyOg0",
        "outputId": "e1098a35-c23f-4be9-beb8-b4766e285fa4"
      },
      "source": [
        "df1['repayment_interval'].value_counts()"
      ],
      "execution_count": null,
      "outputs": [
        {
          "data": {
            "text/plain": [
              "False    2086700\n",
              "Name: repayment_interval, dtype: int64"
            ]
          },
          "execution_count": 45,
          "metadata": {},
          "output_type": "execute_result"
        }
      ]
    },
    {
      "cell_type": "code",
      "metadata": {
        "id": "5D2AnJGfh_P_"
      },
      "source": [
        "df1.loan_amount.value_counts()"
      ],
      "execution_count": null,
      "outputs": []
    },
    {
      "cell_type": "code",
      "metadata": {
        "id": "Ch6PqKn1i1nL"
      },
      "source": [
        "df1.funded_amount.value_counts()"
      ],
      "execution_count": null,
      "outputs": []
    },
    {
      "cell_type": "code",
      "metadata": {
        "id": "3gNjWsTcidlo"
      },
      "source": [
        "fig = df1['status'].value_counts().plot(kind='bar')\n"
      ],
      "execution_count": null,
      "outputs": []
    },
    {
      "cell_type": "code",
      "metadata": {
        "id": "ePn9EWjplVnQ"
      },
      "source": [
        "df1.info()"
      ],
      "execution_count": null,
      "outputs": []
    },
    {
      "cell_type": "code",
      "metadata": {
        "id": "4c1j_4FGr95x"
      },
      "source": [
        "df1.repayment_interval.value_counts()"
      ],
      "execution_count": null,
      "outputs": []
    },
    {
      "cell_type": "code",
      "metadata": {
        "id": "mDzrSN3-yOg0"
      },
      "source": [
        "#dat = df1[df1['lender_term'] == 0]"
      ],
      "execution_count": null,
      "outputs": []
    },
    {
      "cell_type": "code",
      "metadata": {
        "id": "ye5t_A_RyOg0"
      },
      "source": [
        "#dat.head()"
      ],
      "execution_count": null,
      "outputs": []
    },
    {
      "cell_type": "code",
      "metadata": {
        "id": "Wcg48jYhsKXS"
      },
      "source": [
        "lend_info = df1.lender_term.value_counts()"
      ],
      "execution_count": null,
      "outputs": []
    },
    {
      "cell_type": "code",
      "metadata": {
        "id": "9wQxu_2ZyOg1"
      },
      "source": [
        "lend_info[:20].plot(kind='bar')"
      ],
      "execution_count": null,
      "outputs": []
    },
    {
      "cell_type": "code",
      "metadata": {
        "id": "beIvu3d_yOg1"
      },
      "source": [
        ""
      ],
      "execution_count": null,
      "outputs": []
    },
    {
      "cell_type": "code",
      "metadata": {
        "id": "gjqFrlzsr99V"
      },
      "source": [
        "#loans\n",
        "import seaborn as sns\n",
        "import matplotlib.pyplot as plt\n",
        "%matplotlib inline\n",
        "\n",
        "sns.set_style('darkgrid')\n",
        "sns.set_context('talk')\n",
        "plt.figure(figsize=(14,26))\n",
        "df_sorted = df1.groupby('country_name')['loan_amount'].count().sort_values()\n",
        "ax = df_sorted.plot.barh()\n",
        "#ax = df1.groupby('COUNTRY_CODE')['LOAN_AMOUNT'].count().plot.barh()\n",
        "plt.title('LOAN AMOUNT BY COUNTRY OF BORROWERS')\n",
        "plt.xticks(fontsize = 8,rotation=45)\n",
        "for p in ax.patches:\n",
        "    ax.annotate(str(p.get_height()), (p.get_x()-0.1, p.get_height()+30))\n"
      ],
      "execution_count": null,
      "outputs": []
    },
    {
      "cell_type": "code",
      "metadata": {
        "id": "qUuzNJ2rkCJp"
      },
      "source": [
        "df1_num = df1[['loan_id', 'funded_amount', 'loan_amount', 'image_id', 'video_id', 'currency_exchange_coverage_rate', 'partner_id', 'lender_term',\n",
        "               'num_lenders_total', 'num_journal_entries', 'num_bulk_entries', 'contrib_per_lend', 'repayment_monthly']]\n"
      ],
      "execution_count": null,
      "outputs": []
    },
    {
      "cell_type": "code",
      "metadata": {
        "id": "pz8IJJtD7lO1"
      },
      "source": [
        "def ames_eda(df1): \n",
        "    eda_df = {}\n",
        "    eda_df['null_sum'] = df1_num.isnull().sum()\n",
        "    eda_df['null_pct'] = df1_num.isnull().mean()\n",
        "    eda_df['dtypes'] = df1_num.dtypes\n",
        "    eda_df['count'] = df1_num.count()\n",
        "    eda_df['mean'] = df1_num.mean()\n",
        "    eda_df['median'] = df1_num.median()\n",
        "    eda_df['min'] = df1_num.min()\n",
        "    eda_df['max'] = df1_num.max()\n",
        "    \n",
        "    return pd.DataFrame(eda_df)\n",
        "ames_eda(df1_num)"
      ],
      "execution_count": null,
      "outputs": []
    },
    {
      "cell_type": "code",
      "metadata": {
        "id": "YYgfviny7lT2"
      },
      "source": [
        "mean_corr = df1_num[['funded_amount', 'loan_amount', 'lender_term', 'num_lenders_total', 'num_bulk_entries', 'num_journal_entries', 'contrib_per_lend', 'repayment_monthly']].corr()\n",
        "fig=plt.figure(figsize=(13,13))\n",
        "g1 = sns.heatmap(mean_corr, cmap='Spectral', vmin=0, vmax=1)\n",
        "g1.set_xticklabels(g1.get_xticklabels(), rotation=70, fontsize=12)\n",
        "g1.set_yticklabels(g1.get_yticklabels(), rotation=15, fontsize=12)\n",
        "plt.title(\"Correlation Plot of Mean Features\")\n",
        "plt.savefig(\"Corr_Mean_Features.png\", dpi=400)\n",
        "plt.show()"
      ],
      "execution_count": null,
      "outputs": []
    },
    {
      "cell_type": "code",
      "metadata": {
        "id": "v2kLtrLs7lXr"
      },
      "source": [
        "attributes = ['funded_amount', 'loan_amount', 'currency_exchange_coverage_rate', 'partner_id', 'lender_term',\n",
        "               'num_lenders_total', 'num_journal_entries', 'num_bulk_entries']\n",
        "def histograms_numeric_columns(df1_num, attributes):\n",
        "    '''\n",
        "    Takes df, numerical columns as list\n",
        "    Returns a group of histagrams\n",
        "    '''\n",
        "    f = pd.melt(df1_num, value_vars=attributes) \n",
        "    g = sns.FacetGrid(f, col='variable',  col_wrap=2, sharex=False, sharey=False)\n",
        "    g = g.map(sns.distplot, 'value')\n",
        "    return g"
      ],
      "execution_count": null,
      "outputs": []
    },
    {
      "cell_type": "code",
      "metadata": {
        "id": "Nod4Z1mX2AZT"
      },
      "source": [
        "histograms_numeric_columns(df1_num, attributes)"
      ],
      "execution_count": null,
      "outputs": []
    },
    {
      "cell_type": "code",
      "metadata": {
        "id": "tDLxY4HvJpbY"
      },
      "source": [
        "# !pip install plotly pip install cufflinks\n",
        "# !pip install chart_studio"
      ],
      "execution_count": null,
      "outputs": []
    },
    {
      "cell_type": "code",
      "metadata": {
        "id": "97iWHNio2Adz"
      },
      "source": [
        "import pandas as pd\n",
        "import numpy as np\n",
        "import chart_studio.plotly as py\n",
        "import cufflinks as cf\n",
        "import seaborn as sns\n",
        "import plotly.express as px\n",
        "%matplotlib inline\n",
        "from plotly.offline import download_plotlyjs, init_notebook_mode, plot, iplot\n",
        "init_notebook_mode(connected=True)\n",
        "cf.go_offline()\n",
        "import plotly.graph_objects as go\n",
        "#df_stocks = px.data.stocks()\n",
        "px.scatter(df1, x='raised_time', y='loan_amount', labels={'x':'Date', 'y':\"Price\"})"
      ],
      "execution_count": null,
      "outputs": []
    },
    {
      "cell_type": "code",
      "metadata": {
        "id": "luYrE4lp2Ak8"
      },
      "source": [
        "\n",
        "features = ['funded_amount', 'loan_amount', 'lender_term',\n",
        "               'num_lenders_total', 'num_journal_entries', 'num_bulk_entries']\n",
        "\n",
        "fig = px.scatter_matrix(\n",
        "    df1,\n",
        "    dimensions=features,\n",
        "    color=\"repayment_interval\"\n",
        ")\n",
        "fig.update_traces(diagonal_visible=False)\n",
        "fig.show()"
      ],
      "execution_count": null,
      "outputs": []
    },
    {
      "cell_type": "code",
      "metadata": {
        "id": "-Xggn-aCr-Bq"
      },
      "source": [
        "# Most Valuable Players? (we are taking 45 players as a case study)\n",
        "sns.set_context('paper')\n",
        "value = list(df1[\"loan_amount\"]) \n",
        "\n",
        "name = df1[\"country_code\"]\n",
        "\n",
        "data = pd.DataFrame({ 'Loan' : value,'BorrowerCountry':name})\n",
        "\n",
        "x = data.Loan.head(100)\n",
        "value_y = data.Loan.head(100) # value_y = footballer value(30 players)\n",
        "\n",
        "# visualize\n",
        "f,ax1 = plt.subplots(figsize =(20,10))\n",
        "\n",
        "sns.pointplot(x=x,y=value_y,color='black',alpha=0.9) # alpha = transparency(0) or opacity(1)\n",
        "\n",
        "plt.xticks(rotation= 90) # Position of text on the x-axis\n",
        "\n",
        "plt.xlabel('Borrower Country',fontsize = 25,color='green') # x-axis name\n",
        "\n",
        "plt.ylabel('Loan',fontsize = 25,color='green') # y-axis name\n",
        "\n",
        "plt.title('2021 Most Valuable Player ',fontsize = 30,color='green') # title\n",
        "plt.grid()"
      ],
      "execution_count": null,
      "outputs": []
    },
    {
      "cell_type": "code",
      "metadata": {
        "id": "DhoG3tT4u9h8"
      },
      "source": [
        "df2 = pd.read_csv('lenders.csv')\n",
        "df2.head()"
      ],
      "execution_count": null,
      "outputs": []
    },
    {
      "cell_type": "code",
      "metadata": {
        "id": "N_3i7nOwjWlg"
      },
      "source": [
        "df2.isnull().sum()"
      ],
      "execution_count": null,
      "outputs": []
    },
    {
      "cell_type": "code",
      "metadata": {
        "id": "RAk5xaOijr5T"
      },
      "source": [
        "df2.info()"
      ],
      "execution_count": null,
      "outputs": []
    },
    {
      "cell_type": "code",
      "metadata": {
        "id": "aA6ZzadJyOg2"
      },
      "source": [
        "df2.columns = [i.replace(' ', '_').lower() for i in df2.columns]"
      ],
      "execution_count": null,
      "outputs": []
    },
    {
      "cell_type": "code",
      "metadata": {
        "id": "FUghOyP9yOg2"
      },
      "source": [
        "df2.nunique()"
      ],
      "execution_count": null,
      "outputs": []
    },
    {
      "cell_type": "code",
      "metadata": {
        "id": "vBf68vHhnYsv"
      },
      "source": [
        "df2['loan_because'].value_counts()"
      ],
      "execution_count": null,
      "outputs": []
    },
    {
      "cell_type": "code",
      "metadata": {
        "id": "T-m61F_NnYwW"
      },
      "source": [
        ""
      ],
      "execution_count": null,
      "outputs": []
    },
    {
      "cell_type": "code",
      "metadata": {
        "id": "YwjggJcMnY6C"
      },
      "source": [
        ""
      ],
      "execution_count": null,
      "outputs": []
    },
    {
      "cell_type": "code",
      "metadata": {
        "id": "BbrTEo79nY9F"
      },
      "source": [
        ""
      ],
      "execution_count": null,
      "outputs": []
    }
  ]
}