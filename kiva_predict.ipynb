{
  "nbformat": 4,
  "nbformat_minor": 0,
  "metadata": {
    "accelerator": "GPU",
    "colab": {
      "name": "kiva_predict",
      "provenance": [],
      "collapsed_sections": [],
      "toc_visible": true,
      "machine_shape": "hm",
      "mount_file_id": "1p1bDm9-k81WBhkfKriDUmM2kUaO9K630",
      "authorship_tag": "ABX9TyOGZg8pjb+84BTRBhYfXUDd",
      "include_colab_link": true
    },
    "kernelspec": {
      "display_name": "Python 3",
      "name": "python3"
    },
    "language_info": {
      "name": "python"
    }
  },
  "cells": [
    {
      "cell_type": "markdown",
      "metadata": {
        "id": "view-in-github",
        "colab_type": "text"
      },
      "source": [
        "<a href=\"https://colab.research.google.com/github/tantiboro/vaki/blob/main/kiva_predict.ipynb\" target=\"_parent\"><img src=\"https://colab.research.google.com/assets/colab-badge.svg\" alt=\"Open In Colab\"/></a>"
      ]
    },
    {
      "cell_type": "code",
      "metadata": {
        "id": "k62AJ6U7Bp7Q"
      },
      "source": [
        "#import the Dependencies\n",
        "import pandas as pd\n",
        "import numpy as np\n",
        "import seaborn as sns\n",
        "pd.set_option('display.max_rows', 50)\n",
        "pd.set_option('display.max_columns', 50)\n",
        "pd.set_option('display.max_colwidth', None)"
      ],
      "execution_count": null,
      "outputs": []
    },
    {
      "cell_type": "code",
      "metadata": {
        "colab": {
          "base_uri": "https://localhost:8080/"
        },
        "id": "dsM94H_V1DXO",
        "outputId": "5283a7e1-da3e-4fd5-9cc2-828ecaf24b82"
      },
      "source": [
        "gpu_info = !nvidia-smi\n",
        "gpu_info = '\\n'.join(gpu_info)\n",
        "if gpu_info.find('failed') >= 0:\n",
        "  print('Not connected to a GPU')\n",
        "else:\n",
        "  print(gpu_info)"
      ],
      "execution_count": null,
      "outputs": [
        {
          "name": "stdout",
          "output_type": "stream",
          "text": [
            "Wed Oct 27 14:07:14 2021       \n",
            "+-----------------------------------------------------------------------------+\n",
            "| NVIDIA-SMI 470.74       Driver Version: 460.32.03    CUDA Version: 11.2     |\n",
            "|-------------------------------+----------------------+----------------------+\n",
            "| GPU  Name        Persistence-M| Bus-Id        Disp.A | Volatile Uncorr. ECC |\n",
            "| Fan  Temp  Perf  Pwr:Usage/Cap|         Memory-Usage | GPU-Util  Compute M. |\n",
            "|                               |                      |               MIG M. |\n",
            "|===============================+======================+======================|\n",
            "|   0  Tesla P100-PCIE...  Off  | 00000000:00:04.0 Off |                    0 |\n",
            "| N/A   35C    P0    27W / 250W |      0MiB / 16280MiB |      0%      Default |\n",
            "|                               |                      |                  N/A |\n",
            "+-------------------------------+----------------------+----------------------+\n",
            "                                                                               \n",
            "+-----------------------------------------------------------------------------+\n",
            "| Processes:                                                                  |\n",
            "|  GPU   GI   CI        PID   Type   Process name                  GPU Memory |\n",
            "|        ID   ID                                                   Usage      |\n",
            "|=============================================================================|\n",
            "|  No running processes found                                                 |\n",
            "+-----------------------------------------------------------------------------+\n"
          ]
        }
      ]
    },
    {
      "cell_type": "code",
      "metadata": {
        "id": "IZCkPJhG-cLh"
      },
      "source": [
        "#df = pd.read_csv('/content/drive/MyDrive/New Folder/loans_lenders.csv')"
      ],
      "execution_count": null,
      "outputs": []
    },
    {
      "cell_type": "code",
      "metadata": {
        "id": "18yHmCKdu9eV"
      },
      "source": [
        "#loading the dataset\n",
        "df = pd.read_csv('/content/drive/MyDrive/New Folder/loans.csv')"
      ],
      "execution_count": null,
      "outputs": []
    },
    {
      "cell_type": "code",
      "metadata": {
        "colab": {
          "base_uri": "https://localhost:8080/"
        },
        "id": "ZexAKrYRPOQ-",
        "outputId": "233a389c-9a38-43ca-a644-ef9b666ab581"
      },
      "source": [
        "# How many columns and rows are they in the dataset\n",
        "print(f'The dataset has {df.shape[0]} rows and {df.shape[1]} columns.')"
      ],
      "execution_count": null,
      "outputs": [
        {
          "name": "stdout",
          "output_type": "stream",
          "text": [
            "The dataset has 2086700 rows and 34 columns.\n"
          ]
        }
      ]
    },
    {
      "cell_type": "code",
      "metadata": {
        "colab": {
          "base_uri": "https://localhost:8080/"
        },
        "id": "xd9Gt5g7O5td",
        "outputId": "55c6db8d-44f2-4690-f81b-46a43065f57a"
      },
      "source": [
        "print(f'The columns of the dataset are: {df.columns.to_list()}')"
      ],
      "execution_count": null,
      "outputs": [
        {
          "name": "stdout",
          "output_type": "stream",
          "text": [
            "The columns of the dataset are: ['LOAN_ID', 'LOAN_NAME', 'ORIGINAL_LANGUAGE', 'DESCRIPTION', 'DESCRIPTION_TRANSLATED', 'FUNDED_AMOUNT', 'LOAN_AMOUNT', 'STATUS', 'IMAGE_ID', 'VIDEO_ID', 'ACTIVITY_NAME', 'SECTOR_NAME', 'LOAN_USE', 'COUNTRY_CODE', 'COUNTRY_NAME', 'TOWN_NAME', 'CURRENCY_POLICY', 'CURRENCY_EXCHANGE_COVERAGE_RATE', 'CURRENCY', 'PARTNER_ID', 'POSTED_TIME', 'PLANNED_EXPIRATION_TIME', 'DISBURSE_TIME', 'RAISED_TIME', 'LENDER_TERM', 'NUM_LENDERS_TOTAL', 'NUM_JOURNAL_ENTRIES', 'NUM_BULK_ENTRIES', 'TAGS', 'BORROWER_NAMES', 'BORROWER_GENDERS', 'BORROWER_PICTURED', 'REPAYMENT_INTERVAL', 'DISTRIBUTION_MODEL']\n"
          ]
        }
      ]
    },
    {
      "cell_type": "code",
      "metadata": {
        "colab": {
          "base_uri": "https://localhost:8080/"
        },
        "id": "tt8RaHKhQANc",
        "outputId": "393b00dd-580a-4479-b41b-28c80fe46524"
      },
      "source": [
        "# How many NaN are in the dataframe\n",
        "df.isnull().sum()"
      ],
      "execution_count": null,
      "outputs": [
        {
          "data": {
            "text/plain": [
              "LOAN_ID                                  0\n",
              "LOAN_NAME                            50238\n",
              "ORIGINAL_LANGUAGE                    45891\n",
              "DESCRIPTION                          45926\n",
              "DESCRIPTION_TRANSLATED              455312\n",
              "FUNDED_AMOUNT                            0\n",
              "LOAN_AMOUNT                              0\n",
              "STATUS                                   0\n",
              "IMAGE_ID                             45891\n",
              "VIDEO_ID                           2085522\n",
              "ACTIVITY_NAME                            0\n",
              "SECTOR_NAME                              0\n",
              "LOAN_USE                             45914\n",
              "COUNTRY_CODE                            34\n",
              "COUNTRY_NAME                             0\n",
              "TOWN_NAME                           176345\n",
              "CURRENCY_POLICY                          0\n",
              "CURRENCY_EXCHANGE_COVERAGE_RATE     473453\n",
              "CURRENCY                                 0\n",
              "PARTNER_ID                           21173\n",
              "POSTED_TIME                              0\n",
              "PLANNED_EXPIRATION_TIME             371834\n",
              "DISBURSE_TIME                         4013\n",
              "RAISED_TIME                         102686\n",
              "LENDER_TERM                             24\n",
              "NUM_LENDERS_TOTAL                        0\n",
              "NUM_JOURNAL_ENTRIES                      0\n",
              "NUM_BULK_ENTRIES                         0\n",
              "TAGS                                942813\n",
              "BORROWER_NAMES                       50238\n",
              "BORROWER_GENDERS                     45891\n",
              "BORROWER_PICTURED                    45891\n",
              "REPAYMENT_INTERVAL                       0\n",
              "DISTRIBUTION_MODEL                       0\n",
              "dtype: int64"
            ]
          },
          "execution_count": 7,
          "metadata": {},
          "output_type": "execute_result"
        }
      ]
    },
    {
      "cell_type": "code",
      "metadata": {
        "id": "UgdwRnqpQv0E"
      },
      "source": [
        "# Dropping columns with more than 100k missing values and only informative data\n",
        "df1 = df.drop(columns = ['LOAN_ID', 'DESCRIPTION', 'COUNTRY_CODE','VIDEO_ID', 'CURRENCY_EXCHANGE_COVERAGE_RATE', 'TOWN_NAME', 'PLANNED_EXPIRATION_TIME', 'RAISED_TIME', 'TAGS', 'IMAGE_ID', 'PARTNER_ID', 'LOAN_NAME', 'ORIGINAL_LANGUAGE', 'BORROWER_NAMES', 'BORROWER_PICTURED', 'DISBURSE_TIME'], axis=1)"
      ],
      "execution_count": null,
      "outputs": []
    },
    {
      "cell_type": "code",
      "metadata": {
        "colab": {
          "base_uri": "https://localhost:8080/"
        },
        "id": "9i7QZ0FttKUM",
        "outputId": "5a70bcc6-785c-49b6-aee6-112628918c65"
      },
      "source": [
        "df1.isnull().sum()"
      ],
      "execution_count": null,
      "outputs": [
        {
          "data": {
            "text/plain": [
              "DESCRIPTION_TRANSLATED    455312\n",
              "FUNDED_AMOUNT                  0\n",
              "LOAN_AMOUNT                    0\n",
              "STATUS                         0\n",
              "ACTIVITY_NAME                  0\n",
              "SECTOR_NAME                    0\n",
              "LOAN_USE                   45914\n",
              "COUNTRY_NAME                   0\n",
              "CURRENCY_POLICY                0\n",
              "CURRENCY                       0\n",
              "POSTED_TIME                    0\n",
              "LENDER_TERM                   24\n",
              "NUM_LENDERS_TOTAL              0\n",
              "NUM_JOURNAL_ENTRIES            0\n",
              "NUM_BULK_ENTRIES               0\n",
              "BORROWER_GENDERS           45891\n",
              "REPAYMENT_INTERVAL             0\n",
              "DISTRIBUTION_MODEL             0\n",
              "dtype: int64"
            ]
          },
          "execution_count": 9,
          "metadata": {},
          "output_type": "execute_result"
        }
      ]
    },
    {
      "cell_type": "code",
      "metadata": {
        "id": "_FdXjg6Cp6tl"
      },
      "source": [
        "df2 = df1.dropna()"
      ],
      "execution_count": null,
      "outputs": []
    },
    {
      "cell_type": "code",
      "metadata": {
        "colab": {
          "base_uri": "https://localhost:8080/"
        },
        "id": "sBF5KLpY49RY",
        "outputId": "1b480353-0bb7-49d3-9c44-66a938add678"
      },
      "source": [
        "df2['STATUS'].value_counts()"
      ],
      "execution_count": null,
      "outputs": [
        {
          "data": {
            "text/plain": [
              "funded         1537208\n",
              "expired          86606\n",
              "fundRaising       7564\n",
              "Name: STATUS, dtype: int64"
            ]
          },
          "execution_count": 11,
          "metadata": {},
          "output_type": "execute_result"
        }
      ]
    },
    {
      "cell_type": "code",
      "metadata": {
        "colab": {
          "base_uri": "https://localhost:8080/"
        },
        "id": "xYnG0uJ4dZu0",
        "outputId": "2cd948ee-9a3a-4a7c-f2cc-c63d5780a5ed"
      },
      "source": [
        "print(f'The dataset has {df2.shape[0]} rows and {df2.shape[1]} columns.')"
      ],
      "execution_count": null,
      "outputs": [
        {
          "name": "stdout",
          "output_type": "stream",
          "text": [
            "The dataset has 1631378 rows and 18 columns.\n"
          ]
        }
      ]
    },
    {
      "cell_type": "code",
      "metadata": {
        "colab": {
          "base_uri": "https://localhost:8080/"
        },
        "id": "41X21YtPuKBZ",
        "outputId": "22125358-ac4e-46c6-b02d-dda709450360"
      },
      "source": [
        "df2.isnull().sum()"
      ],
      "execution_count": null,
      "outputs": [
        {
          "data": {
            "text/plain": [
              "DESCRIPTION_TRANSLATED    0\n",
              "FUNDED_AMOUNT             0\n",
              "LOAN_AMOUNT               0\n",
              "STATUS                    0\n",
              "ACTIVITY_NAME             0\n",
              "SECTOR_NAME               0\n",
              "LOAN_USE                  0\n",
              "COUNTRY_NAME              0\n",
              "CURRENCY_POLICY           0\n",
              "CURRENCY                  0\n",
              "POSTED_TIME               0\n",
              "LENDER_TERM               0\n",
              "NUM_LENDERS_TOTAL         0\n",
              "NUM_JOURNAL_ENTRIES       0\n",
              "NUM_BULK_ENTRIES          0\n",
              "BORROWER_GENDERS          0\n",
              "REPAYMENT_INTERVAL        0\n",
              "DISTRIBUTION_MODEL        0\n",
              "dtype: int64"
            ]
          },
          "execution_count": 13,
          "metadata": {},
          "output_type": "execute_result"
        }
      ]
    },
    {
      "cell_type": "code",
      "metadata": {
        "colab": {
          "base_uri": "https://localhost:8080/"
        },
        "id": "hh5VKBqAjbRL",
        "outputId": "26d1424e-1393-417b-fc70-d9a0c2ef709d"
      },
      "source": [
        "#Check the status of all the loans\n",
        "df2['STATUS'].value_counts()"
      ],
      "execution_count": null,
      "outputs": [
        {
          "data": {
            "text/plain": [
              "funded         1537208\n",
              "expired          86606\n",
              "fundRaising       7564\n",
              "Name: STATUS, dtype: int64"
            ]
          },
          "execution_count": 14,
          "metadata": {},
          "output_type": "execute_result"
        }
      ]
    },
    {
      "cell_type": "code",
      "metadata": {
        "id": "kawqz5k_jbeL"
      },
      "source": [
        ""
      ],
      "execution_count": null,
      "outputs": []
    },
    {
      "cell_type": "code",
      "metadata": {
        "colab": {
          "base_uri": "https://localhost:8080/",
          "height": 685
        },
        "id": "blJEjy1tDWY6",
        "outputId": "84136890-9867-47f5-a984-baff8a8ac5fd"
      },
      "source": [
        "# Drop the loans that are still on fundraising stage\n",
        "data = df2.loc[df1['STATUS'] != 'fundRaising']\n",
        "data.head(2)"
      ],
      "execution_count": null,
      "outputs": [
        {
          "data": {
            "text/html": [
              "<div>\n",
              "<style scoped>\n",
              "    .dataframe tbody tr th:only-of-type {\n",
              "        vertical-align: middle;\n",
              "    }\n",
              "\n",
              "    .dataframe tbody tr th {\n",
              "        vertical-align: top;\n",
              "    }\n",
              "\n",
              "    .dataframe thead th {\n",
              "        text-align: right;\n",
              "    }\n",
              "</style>\n",
              "<table border=\"1\" class=\"dataframe\">\n",
              "  <thead>\n",
              "    <tr style=\"text-align: right;\">\n",
              "      <th></th>\n",
              "      <th>DESCRIPTION_TRANSLATED</th>\n",
              "      <th>FUNDED_AMOUNT</th>\n",
              "      <th>LOAN_AMOUNT</th>\n",
              "      <th>STATUS</th>\n",
              "      <th>ACTIVITY_NAME</th>\n",
              "      <th>SECTOR_NAME</th>\n",
              "      <th>LOAN_USE</th>\n",
              "      <th>COUNTRY_NAME</th>\n",
              "      <th>CURRENCY_POLICY</th>\n",
              "      <th>CURRENCY</th>\n",
              "      <th>POSTED_TIME</th>\n",
              "      <th>LENDER_TERM</th>\n",
              "      <th>NUM_LENDERS_TOTAL</th>\n",
              "      <th>NUM_JOURNAL_ENTRIES</th>\n",
              "      <th>NUM_BULK_ENTRIES</th>\n",
              "      <th>BORROWER_GENDERS</th>\n",
              "      <th>REPAYMENT_INTERVAL</th>\n",
              "      <th>DISTRIBUTION_MODEL</th>\n",
              "    </tr>\n",
              "  </thead>\n",
              "  <tbody>\n",
              "    <tr>\n",
              "      <th>1</th>\n",
              "      <td>Rosa works hard to support her family. Rosa is married and has a general store business in the Philippines.&lt;br /&gt;&lt;br /&gt;Rosa requested a PHP 5,000 loan through NWTF to buy more groceries to sell in her general store.&lt;br /&gt;&lt;br /&gt;Rosa has been in this business for 10 years now.&lt;br /&gt;&lt;br /&gt;Rosa would like to save enough to provide a secure future for her family.</td>\n",
              "      <td>125.0</td>\n",
              "      <td>125.0</td>\n",
              "      <td>funded</td>\n",
              "      <td>General Store</td>\n",
              "      <td>Retail</td>\n",
              "      <td>to buy more groceries to sell in her general store</td>\n",
              "      <td>Philippines</td>\n",
              "      <td>shared</td>\n",
              "      <td>PHP</td>\n",
              "      <td>2015-08-16 14:03:48.000 +0000</td>\n",
              "      <td>8.0</td>\n",
              "      <td>5</td>\n",
              "      <td>1</td>\n",
              "      <td>1</td>\n",
              "      <td>female</td>\n",
              "      <td>monthly</td>\n",
              "      <td>field_partner</td>\n",
              "    </tr>\n",
              "    <tr>\n",
              "      <th>2</th>\n",
              "      <td>Warlita is a widowed woman with two children. She is a very hardworking entrepreneur. She is 54 years old and has one child currently in school.&lt;br /&gt;&lt;br /&gt;Warlita has a buy-and-sell banana business in the Philippines. She has requested a PHP 8,000 loan amount through NWTF to buy more bananas to sell and other supplies needed in her business. She has been in this business for three years. In the future, Warlita would like to save enough to provide a secure future for her family.</td>\n",
              "      <td>175.0</td>\n",
              "      <td>175.0</td>\n",
              "      <td>funded</td>\n",
              "      <td>Fruits &amp; Vegetables</td>\n",
              "      <td>Food</td>\n",
              "      <td>to buy more bananas to sell and other supplies needed in her business.</td>\n",
              "      <td>Philippines</td>\n",
              "      <td>shared</td>\n",
              "      <td>PHP</td>\n",
              "      <td>2016-09-28 13:37:22.000 +0000</td>\n",
              "      <td>11.0</td>\n",
              "      <td>7</td>\n",
              "      <td>1</td>\n",
              "      <td>1</td>\n",
              "      <td>female</td>\n",
              "      <td>monthly</td>\n",
              "      <td>field_partner</td>\n",
              "    </tr>\n",
              "  </tbody>\n",
              "</table>\n",
              "</div>"
            ],
            "text/plain": [
              "                                                                                                                                                                                                                                                                                                                                                                                                                                                                                DESCRIPTION_TRANSLATED  \\\n",
              "1                                                                                                                             Rosa works hard to support her family. Rosa is married and has a general store business in the Philippines.<br /><br />Rosa requested a PHP 5,000 loan through NWTF to buy more groceries to sell in her general store.<br /><br />Rosa has been in this business for 10 years now.<br /><br />Rosa would like to save enough to provide a secure future for her family.   \n",
              "2  Warlita is a widowed woman with two children. She is a very hardworking entrepreneur. She is 54 years old and has one child currently in school.<br /><br />Warlita has a buy-and-sell banana business in the Philippines. She has requested a PHP 8,000 loan amount through NWTF to buy more bananas to sell and other supplies needed in her business. She has been in this business for three years. In the future, Warlita would like to save enough to provide a secure future for her family.   \n",
              "\n",
              "   FUNDED_AMOUNT  LOAN_AMOUNT  STATUS        ACTIVITY_NAME SECTOR_NAME  \\\n",
              "1          125.0        125.0  funded        General Store      Retail   \n",
              "2          175.0        175.0  funded  Fruits & Vegetables        Food   \n",
              "\n",
              "                                                                 LOAN_USE  \\\n",
              "1                      to buy more groceries to sell in her general store   \n",
              "2  to buy more bananas to sell and other supplies needed in her business.   \n",
              "\n",
              "  COUNTRY_NAME CURRENCY_POLICY CURRENCY                    POSTED_TIME  \\\n",
              "1  Philippines          shared      PHP  2015-08-16 14:03:48.000 +0000   \n",
              "2  Philippines          shared      PHP  2016-09-28 13:37:22.000 +0000   \n",
              "\n",
              "   LENDER_TERM  NUM_LENDERS_TOTAL  NUM_JOURNAL_ENTRIES  NUM_BULK_ENTRIES  \\\n",
              "1          8.0                  5                    1                 1   \n",
              "2         11.0                  7                    1                 1   \n",
              "\n",
              "  BORROWER_GENDERS REPAYMENT_INTERVAL DISTRIBUTION_MODEL  \n",
              "1           female            monthly      field_partner  \n",
              "2           female            monthly      field_partner  "
            ]
          },
          "execution_count": 15,
          "metadata": {},
          "output_type": "execute_result"
        }
      ]
    },
    {
      "cell_type": "code",
      "metadata": {
        "colab": {
          "base_uri": "https://localhost:8080/"
        },
        "id": "6ThriRuMSTXS",
        "outputId": "a6a2794b-9049-41b8-ccee-709867996755"
      },
      "source": [
        "# Checking again the status of the remaining loans\n",
        "data['STATUS'].value_counts()"
      ],
      "execution_count": null,
      "outputs": [
        {
          "data": {
            "text/plain": [
              "funded     1537208\n",
              "expired      86606\n",
              "Name: STATUS, dtype: int64"
            ]
          },
          "execution_count": 16,
          "metadata": {},
          "output_type": "execute_result"
        }
      ]
    },
    {
      "cell_type": "code",
      "metadata": {
        "colab": {
          "base_uri": "https://localhost:8080/"
        },
        "id": "6J5nhHe1YjQP",
        "outputId": "16888705-6b33-4fe0-a697-275c0464922c"
      },
      "source": [
        "data.dtypes"
      ],
      "execution_count": null,
      "outputs": [
        {
          "data": {
            "text/plain": [
              "DESCRIPTION_TRANSLATED     object\n",
              "FUNDED_AMOUNT             float64\n",
              "LOAN_AMOUNT               float64\n",
              "STATUS                     object\n",
              "ACTIVITY_NAME              object\n",
              "SECTOR_NAME                object\n",
              "LOAN_USE                   object\n",
              "COUNTRY_NAME               object\n",
              "CURRENCY_POLICY            object\n",
              "CURRENCY                   object\n",
              "POSTED_TIME                object\n",
              "LENDER_TERM               float64\n",
              "NUM_LENDERS_TOTAL           int64\n",
              "NUM_JOURNAL_ENTRIES         int64\n",
              "NUM_BULK_ENTRIES            int64\n",
              "BORROWER_GENDERS           object\n",
              "REPAYMENT_INTERVAL         object\n",
              "DISTRIBUTION_MODEL         object\n",
              "dtype: object"
            ]
          },
          "execution_count": 17,
          "metadata": {},
          "output_type": "execute_result"
        }
      ]
    },
    {
      "cell_type": "code",
      "metadata": {
        "id": "hXfV1DF1IobR"
      },
      "source": [
        "data.columns = [i.replace(' ', '_').lower() for i in data.columns]"
      ],
      "execution_count": null,
      "outputs": []
    },
    {
      "cell_type": "code",
      "metadata": {
        "colab": {
          "base_uri": "https://localhost:8080/"
        },
        "id": "HOz7uUT5IxQu",
        "outputId": "51d9725a-af8b-4ec5-f41b-ef389adc3970"
      },
      "source": [
        "print(f'The dataset has the following colums: {data.columns.to_list()}.')"
      ],
      "execution_count": null,
      "outputs": [
        {
          "name": "stdout",
          "output_type": "stream",
          "text": [
            "The dataset has the following colums: ['description_translated', 'funded_amount', 'loan_amount', 'status', 'activity_name', 'sector_name', 'loan_use', 'country_name', 'currency_policy', 'currency', 'posted_time', 'lender_term', 'num_lenders_total', 'num_journal_entries', 'num_bulk_entries', 'borrower_genders', 'repayment_interval', 'distribution_model'].\n"
          ]
        }
      ]
    },
    {
      "cell_type": "code",
      "metadata": {
        "colab": {
          "base_uri": "https://localhost:8080/"
        },
        "id": "zdOmIsi2aGps",
        "outputId": "a9dcf0ca-3924-4e8b-845c-5e5bf0a4dd36"
      },
      "source": [
        "dat = data.copy()\n",
        "dat['status'].value_counts()"
      ],
      "execution_count": null,
      "outputs": [
        {
          "data": {
            "text/plain": [
              "funded     1537208\n",
              "expired      86606\n",
              "Name: status, dtype: int64"
            ]
          },
          "execution_count": 20,
          "metadata": {},
          "output_type": "execute_result"
        }
      ]
    },
    {
      "cell_type": "code",
      "metadata": {
        "colab": {
          "base_uri": "https://localhost:8080/",
          "height": 335
        },
        "id": "tR4KFRQOJbFG",
        "outputId": "5ca3b546-cabc-41bc-c573-b4e10b1b474e"
      },
      "source": [
        "dat.head(1)"
      ],
      "execution_count": null,
      "outputs": [
        {
          "data": {
            "text/html": [
              "<div>\n",
              "<style scoped>\n",
              "    .dataframe tbody tr th:only-of-type {\n",
              "        vertical-align: middle;\n",
              "    }\n",
              "\n",
              "    .dataframe tbody tr th {\n",
              "        vertical-align: top;\n",
              "    }\n",
              "\n",
              "    .dataframe thead th {\n",
              "        text-align: right;\n",
              "    }\n",
              "</style>\n",
              "<table border=\"1\" class=\"dataframe\">\n",
              "  <thead>\n",
              "    <tr style=\"text-align: right;\">\n",
              "      <th></th>\n",
              "      <th>description_translated</th>\n",
              "      <th>funded_amount</th>\n",
              "      <th>loan_amount</th>\n",
              "      <th>status</th>\n",
              "      <th>activity_name</th>\n",
              "      <th>sector_name</th>\n",
              "      <th>loan_use</th>\n",
              "      <th>country_name</th>\n",
              "      <th>currency_policy</th>\n",
              "      <th>currency</th>\n",
              "      <th>posted_time</th>\n",
              "      <th>lender_term</th>\n",
              "      <th>num_lenders_total</th>\n",
              "      <th>num_journal_entries</th>\n",
              "      <th>num_bulk_entries</th>\n",
              "      <th>borrower_genders</th>\n",
              "      <th>repayment_interval</th>\n",
              "      <th>distribution_model</th>\n",
              "    </tr>\n",
              "  </thead>\n",
              "  <tbody>\n",
              "    <tr>\n",
              "      <th>1</th>\n",
              "      <td>Rosa works hard to support her family. Rosa is married and has a general store business in the Philippines.&lt;br /&gt;&lt;br /&gt;Rosa requested a PHP 5,000 loan through NWTF to buy more groceries to sell in her general store.&lt;br /&gt;&lt;br /&gt;Rosa has been in this business for 10 years now.&lt;br /&gt;&lt;br /&gt;Rosa would like to save enough to provide a secure future for her family.</td>\n",
              "      <td>125.0</td>\n",
              "      <td>125.0</td>\n",
              "      <td>funded</td>\n",
              "      <td>General Store</td>\n",
              "      <td>Retail</td>\n",
              "      <td>to buy more groceries to sell in her general store</td>\n",
              "      <td>Philippines</td>\n",
              "      <td>shared</td>\n",
              "      <td>PHP</td>\n",
              "      <td>2015-08-16 14:03:48.000 +0000</td>\n",
              "      <td>8.0</td>\n",
              "      <td>5</td>\n",
              "      <td>1</td>\n",
              "      <td>1</td>\n",
              "      <td>female</td>\n",
              "      <td>monthly</td>\n",
              "      <td>field_partner</td>\n",
              "    </tr>\n",
              "  </tbody>\n",
              "</table>\n",
              "</div>"
            ],
            "text/plain": [
              "                                                                                                                                                                                                                                                                                                                                                     description_translated  \\\n",
              "1  Rosa works hard to support her family. Rosa is married and has a general store business in the Philippines.<br /><br />Rosa requested a PHP 5,000 loan through NWTF to buy more groceries to sell in her general store.<br /><br />Rosa has been in this business for 10 years now.<br /><br />Rosa would like to save enough to provide a secure future for her family.   \n",
              "\n",
              "   funded_amount  loan_amount  status  activity_name sector_name  \\\n",
              "1          125.0        125.0  funded  General Store      Retail   \n",
              "\n",
              "                                             loan_use country_name  \\\n",
              "1  to buy more groceries to sell in her general store  Philippines   \n",
              "\n",
              "  currency_policy currency                    posted_time  lender_term  \\\n",
              "1          shared      PHP  2015-08-16 14:03:48.000 +0000          8.0   \n",
              "\n",
              "   num_lenders_total  num_journal_entries  num_bulk_entries borrower_genders  \\\n",
              "1                  5                    1                 1           female   \n",
              "\n",
              "  repayment_interval distribution_model  \n",
              "1            monthly      field_partner  "
            ]
          },
          "execution_count": 21,
          "metadata": {},
          "output_type": "execute_result"
        }
      ]
    },
    {
      "cell_type": "code",
      "metadata": {
        "colab": {
          "base_uri": "https://localhost:8080/",
          "height": 265
        },
        "id": "apO5GZQbY00A",
        "outputId": "78e4c319-c331-4007-8354-9747b9054f89"
      },
      "source": [
        "dat['status'].value_counts().plot(kind='pie')"
      ],
      "execution_count": null,
      "outputs": [
        {
          "data": {
            "text/plain": [
              "<matplotlib.axes._subplots.AxesSubplot at 0x7f0a9c3503d0>"
            ]
          },
          "execution_count": 22,
          "metadata": {},
          "output_type": "execute_result"
        },
        {
          "data": {
            "image/png": "[encoded data removed]",
            "text/plain": [
              "<Figure size 432x288 with 1 Axes>"
            ]
          },
          "metadata": {},
          "output_type": "display_data"
        }
      ]
    },
    {
      "cell_type": "code",
      "metadata": {
        "colab": {
          "base_uri": "https://localhost:8080/"
        },
        "id": "s5r6vNY8S-rp",
        "outputId": "76853647-15dc-449e-c1fc-67d38a28d890"
      },
      "source": [
        "dat['sector_name'].value_counts()"
      ],
      "execution_count": null,
      "outputs": [
        {
          "data": {
            "text/plain": [
              "Agriculture       436580\n",
              "Food              337445\n",
              "Retail            300793\n",
              "Services          104944\n",
              "Housing            96275\n",
              "Clothing           81678\n",
              "Personal Use       73158\n",
              "Education          65958\n",
              "Arts               33399\n",
              "Transportation     32955\n",
              "Health             25978\n",
              "Construction       17207\n",
              "Manufacturing      14141\n",
              "Entertainment       1839\n",
              "Wholesale           1464\n",
              "Name: sector_name, dtype: int64"
            ]
          },
          "execution_count": 23,
          "metadata": {},
          "output_type": "execute_result"
        }
      ]
    },
    {
      "cell_type": "code",
      "metadata": {
        "colab": {
          "base_uri": "https://localhost:8080/",
          "height": 1000
        },
        "id": "5_ACqpZzaBTk",
        "outputId": "82def511-84b4-4d7e-c79e-261129d5193f"
      },
      "source": [
        "dat[['loan_amount', 'funded_amount', 'sector_name', 'status']].groupby(['sector_name', 'status']).count()"
      ],
      "execution_count": null,
      "outputs": [
        {
          "data": {
            "text/html": [
              "<div>\n",
              "<style scoped>\n",
              "    .dataframe tbody tr th:only-of-type {\n",
              "        vertical-align: middle;\n",
              "    }\n",
              "\n",
              "    .dataframe tbody tr th {\n",
              "        vertical-align: top;\n",
              "    }\n",
              "\n",
              "    .dataframe thead th {\n",
              "        text-align: right;\n",
              "    }\n",
              "</style>\n",
              "<table border=\"1\" class=\"dataframe\">\n",
              "  <thead>\n",
              "    <tr style=\"text-align: right;\">\n",
              "      <th></th>\n",
              "      <th></th>\n",
              "      <th>loan_amount</th>\n",
              "      <th>funded_amount</th>\n",
              "    </tr>\n",
              "    <tr>\n",
              "      <th>sector_name</th>\n",
              "      <th>status</th>\n",
              "      <th></th>\n",
              "      <th></th>\n",
              "    </tr>\n",
              "  </thead>\n",
              "  <tbody>\n",
              "    <tr>\n",
              "      <th rowspan=\"2\" valign=\"top\">Agriculture</th>\n",
              "      <th>expired</th>\n",
              "      <td>24015</td>\n",
              "      <td>24015</td>\n",
              "    </tr>\n",
              "    <tr>\n",
              "      <th>funded</th>\n",
              "      <td>412565</td>\n",
              "      <td>412565</td>\n",
              "    </tr>\n",
              "    <tr>\n",
              "      <th rowspan=\"2\" valign=\"top\">Arts</th>\n",
              "      <th>expired</th>\n",
              "      <td>273</td>\n",
              "      <td>273</td>\n",
              "    </tr>\n",
              "    <tr>\n",
              "      <th>funded</th>\n",
              "      <td>33126</td>\n",
              "      <td>33126</td>\n",
              "    </tr>\n",
              "    <tr>\n",
              "      <th rowspan=\"2\" valign=\"top\">Clothing</th>\n",
              "      <th>expired</th>\n",
              "      <td>5427</td>\n",
              "      <td>5427</td>\n",
              "    </tr>\n",
              "    <tr>\n",
              "      <th>funded</th>\n",
              "      <td>76251</td>\n",
              "      <td>76251</td>\n",
              "    </tr>\n",
              "    <tr>\n",
              "      <th rowspan=\"2\" valign=\"top\">Construction</th>\n",
              "      <th>expired</th>\n",
              "      <td>741</td>\n",
              "      <td>741</td>\n",
              "    </tr>\n",
              "    <tr>\n",
              "      <th>funded</th>\n",
              "      <td>16466</td>\n",
              "      <td>16466</td>\n",
              "    </tr>\n",
              "    <tr>\n",
              "      <th rowspan=\"2\" valign=\"top\">Education</th>\n",
              "      <th>expired</th>\n",
              "      <td>978</td>\n",
              "      <td>978</td>\n",
              "    </tr>\n",
              "    <tr>\n",
              "      <th>funded</th>\n",
              "      <td>64980</td>\n",
              "      <td>64980</td>\n",
              "    </tr>\n",
              "    <tr>\n",
              "      <th rowspan=\"2\" valign=\"top\">Entertainment</th>\n",
              "      <th>expired</th>\n",
              "      <td>171</td>\n",
              "      <td>171</td>\n",
              "    </tr>\n",
              "    <tr>\n",
              "      <th>funded</th>\n",
              "      <td>1668</td>\n",
              "      <td>1668</td>\n",
              "    </tr>\n",
              "    <tr>\n",
              "      <th rowspan=\"2\" valign=\"top\">Food</th>\n",
              "      <th>expired</th>\n",
              "      <td>15304</td>\n",
              "      <td>15304</td>\n",
              "    </tr>\n",
              "    <tr>\n",
              "      <th>funded</th>\n",
              "      <td>322141</td>\n",
              "      <td>322141</td>\n",
              "    </tr>\n",
              "    <tr>\n",
              "      <th rowspan=\"2\" valign=\"top\">Health</th>\n",
              "      <th>expired</th>\n",
              "      <td>1836</td>\n",
              "      <td>1836</td>\n",
              "    </tr>\n",
              "    <tr>\n",
              "      <th>funded</th>\n",
              "      <td>24142</td>\n",
              "      <td>24142</td>\n",
              "    </tr>\n",
              "    <tr>\n",
              "      <th rowspan=\"2\" valign=\"top\">Housing</th>\n",
              "      <th>expired</th>\n",
              "      <td>6077</td>\n",
              "      <td>6077</td>\n",
              "    </tr>\n",
              "    <tr>\n",
              "      <th>funded</th>\n",
              "      <td>90198</td>\n",
              "      <td>90198</td>\n",
              "    </tr>\n",
              "    <tr>\n",
              "      <th rowspan=\"2\" valign=\"top\">Manufacturing</th>\n",
              "      <th>expired</th>\n",
              "      <td>32</td>\n",
              "      <td>32</td>\n",
              "    </tr>\n",
              "    <tr>\n",
              "      <th>funded</th>\n",
              "      <td>14109</td>\n",
              "      <td>14109</td>\n",
              "    </tr>\n",
              "    <tr>\n",
              "      <th rowspan=\"2\" valign=\"top\">Personal Use</th>\n",
              "      <th>expired</th>\n",
              "      <td>2019</td>\n",
              "      <td>2019</td>\n",
              "    </tr>\n",
              "    <tr>\n",
              "      <th>funded</th>\n",
              "      <td>71139</td>\n",
              "      <td>71139</td>\n",
              "    </tr>\n",
              "    <tr>\n",
              "      <th rowspan=\"2\" valign=\"top\">Retail</th>\n",
              "      <th>expired</th>\n",
              "      <td>19139</td>\n",
              "      <td>19139</td>\n",
              "    </tr>\n",
              "    <tr>\n",
              "      <th>funded</th>\n",
              "      <td>281654</td>\n",
              "      <td>281654</td>\n",
              "    </tr>\n",
              "    <tr>\n",
              "      <th rowspan=\"2\" valign=\"top\">Services</th>\n",
              "      <th>expired</th>\n",
              "      <td>7019</td>\n",
              "      <td>7019</td>\n",
              "    </tr>\n",
              "    <tr>\n",
              "      <th>funded</th>\n",
              "      <td>97925</td>\n",
              "      <td>97925</td>\n",
              "    </tr>\n",
              "    <tr>\n",
              "      <th rowspan=\"2\" valign=\"top\">Transportation</th>\n",
              "      <th>expired</th>\n",
              "      <td>3520</td>\n",
              "      <td>3520</td>\n",
              "    </tr>\n",
              "    <tr>\n",
              "      <th>funded</th>\n",
              "      <td>29435</td>\n",
              "      <td>29435</td>\n",
              "    </tr>\n",
              "    <tr>\n",
              "      <th rowspan=\"2\" valign=\"top\">Wholesale</th>\n",
              "      <th>expired</th>\n",
              "      <td>55</td>\n",
              "      <td>55</td>\n",
              "    </tr>\n",
              "    <tr>\n",
              "      <th>funded</th>\n",
              "      <td>1409</td>\n",
              "      <td>1409</td>\n",
              "    </tr>\n",
              "  </tbody>\n",
              "</table>\n",
              "</div>"
            ],
            "text/plain": [
              "                        loan_amount  funded_amount\n",
              "sector_name    status                             \n",
              "Agriculture    expired        24015          24015\n",
              "               funded        412565         412565\n",
              "Arts           expired          273            273\n",
              "               funded         33126          33126\n",
              "Clothing       expired         5427           5427\n",
              "               funded         76251          76251\n",
              "Construction   expired          741            741\n",
              "               funded         16466          16466\n",
              "Education      expired          978            978\n",
              "               funded         64980          64980\n",
              "Entertainment  expired          171            171\n",
              "               funded          1668           1668\n",
              "Food           expired        15304          15304\n",
              "               funded        322141         322141\n",
              "Health         expired         1836           1836\n",
              "               funded         24142          24142\n",
              "Housing        expired         6077           6077\n",
              "               funded         90198          90198\n",
              "Manufacturing  expired           32             32\n",
              "               funded         14109          14109\n",
              "Personal Use   expired         2019           2019\n",
              "               funded         71139          71139\n",
              "Retail         expired        19139          19139\n",
              "               funded        281654         281654\n",
              "Services       expired         7019           7019\n",
              "               funded         97925          97925\n",
              "Transportation expired         3520           3520\n",
              "               funded         29435          29435\n",
              "Wholesale      expired           55             55\n",
              "               funded          1409           1409"
            ]
          },
          "execution_count": 24,
          "metadata": {},
          "output_type": "execute_result"
        }
      ]
    },
    {
      "cell_type": "code",
      "metadata": {
        "colab": {
          "base_uri": "https://localhost:8080/",
          "height": 142
        },
        "id": "RQDXvTxiLNfQ",
        "outputId": "6fa0cc20-dbe5-4607-e484-8946fc5499af"
      },
      "source": [
        "dat.groupby('status').mean()"
      ],
      "execution_count": null,
      "outputs": [
        {
          "data": {
            "text/html": [
              "<div>\n",
              "<style scoped>\n",
              "    .dataframe tbody tr th:only-of-type {\n",
              "        vertical-align: middle;\n",
              "    }\n",
              "\n",
              "    .dataframe tbody tr th {\n",
              "        vertical-align: top;\n",
              "    }\n",
              "\n",
              "    .dataframe thead th {\n",
              "        text-align: right;\n",
              "    }\n",
              "</style>\n",
              "<table border=\"1\" class=\"dataframe\">\n",
              "  <thead>\n",
              "    <tr style=\"text-align: right;\">\n",
              "      <th></th>\n",
              "      <th>funded_amount</th>\n",
              "      <th>loan_amount</th>\n",
              "      <th>lender_term</th>\n",
              "      <th>num_lenders_total</th>\n",
              "      <th>num_journal_entries</th>\n",
              "      <th>num_bulk_entries</th>\n",
              "    </tr>\n",
              "    <tr>\n",
              "      <th>status</th>\n",
              "      <th></th>\n",
              "      <th></th>\n",
              "      <th></th>\n",
              "      <th></th>\n",
              "      <th></th>\n",
              "      <th></th>\n",
              "    </tr>\n",
              "  </thead>\n",
              "  <tbody>\n",
              "    <tr>\n",
              "      <th>expired</th>\n",
              "      <td>587.280558</td>\n",
              "      <td>1419.374812</td>\n",
              "      <td>18.185437</td>\n",
              "      <td>15.439150</td>\n",
              "      <td>1.014064</td>\n",
              "      <td>1.000820</td>\n",
              "    </tr>\n",
              "    <tr>\n",
              "      <th>funded</th>\n",
              "      <td>796.813200</td>\n",
              "      <td>796.813346</td>\n",
              "      <td>12.980549</td>\n",
              "      <td>21.304216</td>\n",
              "      <td>1.504796</td>\n",
              "      <td>1.134655</td>\n",
              "    </tr>\n",
              "  </tbody>\n",
              "</table>\n",
              "</div>"
            ],
            "text/plain": [
              "         funded_amount  loan_amount  lender_term  num_lenders_total  \\\n",
              "status                                                                \n",
              "expired     587.280558  1419.374812    18.185437          15.439150   \n",
              "funded      796.813200   796.813346    12.980549          21.304216   \n",
              "\n",
              "         num_journal_entries  num_bulk_entries  \n",
              "status                                          \n",
              "expired             1.014064          1.000820  \n",
              "funded              1.504796          1.134655  "
            ]
          },
          "execution_count": 25,
          "metadata": {},
          "output_type": "execute_result"
        }
      ]
    },
    {
      "cell_type": "code",
      "metadata": {
        "colab": {
          "base_uri": "https://localhost:8080/"
        },
        "id": "RYtygiR7w7bV",
        "outputId": "77273a8a-0707-4510-a19c-c396b1d1df86"
      },
      "source": [
        "dat['loan_amount_higher'] = np.where(dat['funded_amount'] >= dat['loan_amount'], \n",
        "                                           'yes', 'no')\n",
        "dat['loan_amount_higher'].value_counts()"
      ],
      "execution_count": null,
      "outputs": [
        {
          "data": {
            "text/plain": [
              "yes    1537211\n",
              "no       86603\n",
              "Name: loan_amount_higher, dtype: int64"
            ]
          },
          "execution_count": 26,
          "metadata": {},
          "output_type": "execute_result"
        }
      ]
    },
    {
      "cell_type": "code",
      "metadata": {
        "colab": {
          "base_uri": "https://localhost:8080/",
          "height": 321
        },
        "id": "pdkALoyHby5T",
        "outputId": "b60318ee-d43f-492d-afb2-bbc181007d4b"
      },
      "source": [
        "learning_data = dat[['loan_amount', 'loan_use', 'sector_name', 'status']]\n",
        "learning_data['status'] = dat.apply(lambda x: 1 if x.status == 'funded' else 0, axis=1)\n",
        "\n",
        "learning_data.head()"
      ],
      "execution_count": null,
      "outputs": [
        {
          "name": "stderr",
          "output_type": "stream",
          "text": [
            "/usr/local/lib/python3.7/dist-packages/ipykernel_launcher.py:2: SettingWithCopyWarning: \n",
            "A value is trying to be set on a copy of a slice from a DataFrame.\n",
            "Try using .loc[row_indexer,col_indexer] = value instead\n",
            "\n",
            "See the caveats in the documentation: https://pandas.pydata.org/pandas-docs/stable/user_guide/indexing.html#returning-a-view-versus-a-copy\n",
            "  \n"
          ]
        },
        {
          "data": {
            "text/html": [
              "<div>\n",
              "<style scoped>\n",
              "    .dataframe tbody tr th:only-of-type {\n",
              "        vertical-align: middle;\n",
              "    }\n",
              "\n",
              "    .dataframe tbody tr th {\n",
              "        vertical-align: top;\n",
              "    }\n",
              "\n",
              "    .dataframe thead th {\n",
              "        text-align: right;\n",
              "    }\n",
              "</style>\n",
              "<table border=\"1\" class=\"dataframe\">\n",
              "  <thead>\n",
              "    <tr style=\"text-align: right;\">\n",
              "      <th></th>\n",
              "      <th>loan_amount</th>\n",
              "      <th>loan_use</th>\n",
              "      <th>sector_name</th>\n",
              "      <th>status</th>\n",
              "    </tr>\n",
              "  </thead>\n",
              "  <tbody>\n",
              "    <tr>\n",
              "      <th>1</th>\n",
              "      <td>125.0</td>\n",
              "      <td>to buy more groceries to sell in her general store</td>\n",
              "      <td>Retail</td>\n",
              "      <td>1</td>\n",
              "    </tr>\n",
              "    <tr>\n",
              "      <th>2</th>\n",
              "      <td>175.0</td>\n",
              "      <td>to buy more bananas to sell and other supplies needed in her business.</td>\n",
              "      <td>Food</td>\n",
              "      <td>1</td>\n",
              "    </tr>\n",
              "    <tr>\n",
              "      <th>3</th>\n",
              "      <td>1400.0</td>\n",
              "      <td>to buy more taro roots (seedlings), more banana tubers (seedlings), chemicals, a backpack sprayer, a wheelbarrow, a chainsaw, and a rake.</td>\n",
              "      <td>Agriculture</td>\n",
              "      <td>1</td>\n",
              "    </tr>\n",
              "    <tr>\n",
              "      <th>4</th>\n",
              "      <td>425.0</td>\n",
              "      <td>to increase her stock of  various brands of beer: 33 Export, Mutzig, Amstel,   etc</td>\n",
              "      <td>Food</td>\n",
              "      <td>1</td>\n",
              "    </tr>\n",
              "    <tr>\n",
              "      <th>5</th>\n",
              "      <td>325.0</td>\n",
              "      <td>to buy fertilizers and seeds to get a good yield and grow his farming business.</td>\n",
              "      <td>Agriculture</td>\n",
              "      <td>1</td>\n",
              "    </tr>\n",
              "  </tbody>\n",
              "</table>\n",
              "</div>"
            ],
            "text/plain": [
              "   loan_amount  \\\n",
              "1        125.0   \n",
              "2        175.0   \n",
              "3       1400.0   \n",
              "4        425.0   \n",
              "5        325.0   \n",
              "\n",
              "                                                                                                                                    loan_use  \\\n",
              "1                                                                                         to buy more groceries to sell in her general store   \n",
              "2                                                                     to buy more bananas to sell and other supplies needed in her business.   \n",
              "3  to buy more taro roots (seedlings), more banana tubers (seedlings), chemicals, a backpack sprayer, a wheelbarrow, a chainsaw, and a rake.   \n",
              "4                                                         to increase her stock of  various brands of beer: 33 Export, Mutzig, Amstel,   etc   \n",
              "5                                                            to buy fertilizers and seeds to get a good yield and grow his farming business.   \n",
              "\n",
              "   sector_name  status  \n",
              "1       Retail       1  \n",
              "2         Food       1  \n",
              "3  Agriculture       1  \n",
              "4         Food       1  \n",
              "5  Agriculture       1  "
            ]
          },
          "execution_count": 27,
          "metadata": {},
          "output_type": "execute_result"
        }
      ]
    },
    {
      "cell_type": "code",
      "metadata": {
        "colab": {
          "base_uri": "https://localhost:8080/"
        },
        "id": "zPsdVnGNwhoL",
        "outputId": "1e0a2ed1-8437-4c4b-ed24-2b7ca0e6374e"
      },
      "source": [
        "cat_data = dat[['sector_name']]\n",
        "cat_data.nunique()"
      ],
      "execution_count": null,
      "outputs": [
        {
          "data": {
            "text/plain": [
              "sector_name    15\n",
              "dtype: int64"
            ]
          },
          "execution_count": 28,
          "metadata": {},
          "output_type": "execute_result"
        }
      ]
    },
    {
      "cell_type": "code",
      "metadata": {
        "colab": {
          "base_uri": "https://localhost:8080/"
        },
        "id": "lY7bDiO8whri",
        "outputId": "3373ef0e-9982-46db-afeb-f506f1310e41"
      },
      "source": [
        "from sklearn.preprocessing import OneHotEncoder\n",
        "\n",
        "cat_encoder = OneHotEncoder()\n",
        "cat_data_1hot = cat_encoder.fit_transform(cat_data)\n",
        "cat_data_1hot"
      ],
      "execution_count": null,
      "outputs": [
        {
          "data": {
            "text/plain": [
              "<1623814x15 sparse matrix of type '<class 'numpy.float64'>'\n",
              "\twith 1623814 stored elements in Compressed Sparse Row format>"
            ]
          },
          "execution_count": 29,
          "metadata": {},
          "output_type": "execute_result"
        }
      ]
    },
    {
      "cell_type": "code",
      "metadata": {
        "colab": {
          "base_uri": "https://localhost:8080/"
        },
        "id": "AEgJlFKGwhuv",
        "outputId": "19f45364-05c7-46f2-f52f-054b5d792bdd"
      },
      "source": [
        "cat_data_1hot.toarray()"
      ],
      "execution_count": null,
      "outputs": [
        {
          "data": {
            "text/plain": [
              "array([[0., 0., 0., ..., 0., 0., 0.],\n",
              "       [0., 0., 0., ..., 0., 0., 0.],\n",
              "       [1., 0., 0., ..., 0., 0., 0.],\n",
              "       ...,\n",
              "       [1., 0., 0., ..., 0., 0., 0.],\n",
              "       [1., 0., 0., ..., 0., 0., 0.],\n",
              "       [0., 0., 0., ..., 0., 0., 0.]])"
            ]
          },
          "execution_count": 30,
          "metadata": {},
          "output_type": "execute_result"
        }
      ]
    },
    {
      "cell_type": "code",
      "metadata": {
        "colab": {
          "base_uri": "https://localhost:8080/",
          "height": 203
        },
        "id": "oiW__n7-xjBz",
        "outputId": "202776fd-9bfc-4d26-cb62-468f6b010837"
      },
      "source": [
        "df3 = pd.DataFrame(cat_data_1hot.toarray())\n",
        "df3.head()"
      ],
      "execution_count": null,
      "outputs": [
        {
          "data": {
            "text/html": [
              "<div>\n",
              "<style scoped>\n",
              "    .dataframe tbody tr th:only-of-type {\n",
              "        vertical-align: middle;\n",
              "    }\n",
              "\n",
              "    .dataframe tbody tr th {\n",
              "        vertical-align: top;\n",
              "    }\n",
              "\n",
              "    .dataframe thead th {\n",
              "        text-align: right;\n",
              "    }\n",
              "</style>\n",
              "<table border=\"1\" class=\"dataframe\">\n",
              "  <thead>\n",
              "    <tr style=\"text-align: right;\">\n",
              "      <th></th>\n",
              "      <th>0</th>\n",
              "      <th>1</th>\n",
              "      <th>2</th>\n",
              "      <th>3</th>\n",
              "      <th>4</th>\n",
              "      <th>5</th>\n",
              "      <th>6</th>\n",
              "      <th>7</th>\n",
              "      <th>8</th>\n",
              "      <th>9</th>\n",
              "      <th>10</th>\n",
              "      <th>11</th>\n",
              "      <th>12</th>\n",
              "      <th>13</th>\n",
              "      <th>14</th>\n",
              "    </tr>\n",
              "  </thead>\n",
              "  <tbody>\n",
              "    <tr>\n",
              "      <th>0</th>\n",
              "      <td>0.0</td>\n",
              "      <td>0.0</td>\n",
              "      <td>0.0</td>\n",
              "      <td>0.0</td>\n",
              "      <td>0.0</td>\n",
              "      <td>0.0</td>\n",
              "      <td>0.0</td>\n",
              "      <td>0.0</td>\n",
              "      <td>0.0</td>\n",
              "      <td>0.0</td>\n",
              "      <td>0.0</td>\n",
              "      <td>1.0</td>\n",
              "      <td>0.0</td>\n",
              "      <td>0.0</td>\n",
              "      <td>0.0</td>\n",
              "    </tr>\n",
              "    <tr>\n",
              "      <th>1</th>\n",
              "      <td>0.0</td>\n",
              "      <td>0.0</td>\n",
              "      <td>0.0</td>\n",
              "      <td>0.0</td>\n",
              "      <td>0.0</td>\n",
              "      <td>0.0</td>\n",
              "      <td>1.0</td>\n",
              "      <td>0.0</td>\n",
              "      <td>0.0</td>\n",
              "      <td>0.0</td>\n",
              "      <td>0.0</td>\n",
              "      <td>0.0</td>\n",
              "      <td>0.0</td>\n",
              "      <td>0.0</td>\n",
              "      <td>0.0</td>\n",
              "    </tr>\n",
              "    <tr>\n",
              "      <th>2</th>\n",
              "      <td>1.0</td>\n",
              "      <td>0.0</td>\n",
              "      <td>0.0</td>\n",
              "      <td>0.0</td>\n",
              "      <td>0.0</td>\n",
              "      <td>0.0</td>\n",
              "      <td>0.0</td>\n",
              "      <td>0.0</td>\n",
              "      <td>0.0</td>\n",
              "      <td>0.0</td>\n",
              "      <td>0.0</td>\n",
              "      <td>0.0</td>\n",
              "      <td>0.0</td>\n",
              "      <td>0.0</td>\n",
              "      <td>0.0</td>\n",
              "    </tr>\n",
              "    <tr>\n",
              "      <th>3</th>\n",
              "      <td>0.0</td>\n",
              "      <td>0.0</td>\n",
              "      <td>0.0</td>\n",
              "      <td>0.0</td>\n",
              "      <td>0.0</td>\n",
              "      <td>0.0</td>\n",
              "      <td>1.0</td>\n",
              "      <td>0.0</td>\n",
              "      <td>0.0</td>\n",
              "      <td>0.0</td>\n",
              "      <td>0.0</td>\n",
              "      <td>0.0</td>\n",
              "      <td>0.0</td>\n",
              "      <td>0.0</td>\n",
              "      <td>0.0</td>\n",
              "    </tr>\n",
              "    <tr>\n",
              "      <th>4</th>\n",
              "      <td>1.0</td>\n",
              "      <td>0.0</td>\n",
              "      <td>0.0</td>\n",
              "      <td>0.0</td>\n",
              "      <td>0.0</td>\n",
              "      <td>0.0</td>\n",
              "      <td>0.0</td>\n",
              "      <td>0.0</td>\n",
              "      <td>0.0</td>\n",
              "      <td>0.0</td>\n",
              "      <td>0.0</td>\n",
              "      <td>0.0</td>\n",
              "      <td>0.0</td>\n",
              "      <td>0.0</td>\n",
              "      <td>0.0</td>\n",
              "    </tr>\n",
              "  </tbody>\n",
              "</table>\n",
              "</div>"
            ],
            "text/plain": [
              "    0    1    2    3    4    5    6    7    8    9    10   11   12   13   14\n",
              "0  0.0  0.0  0.0  0.0  0.0  0.0  0.0  0.0  0.0  0.0  0.0  1.0  0.0  0.0  0.0\n",
              "1  0.0  0.0  0.0  0.0  0.0  0.0  1.0  0.0  0.0  0.0  0.0  0.0  0.0  0.0  0.0\n",
              "2  1.0  0.0  0.0  0.0  0.0  0.0  0.0  0.0  0.0  0.0  0.0  0.0  0.0  0.0  0.0\n",
              "3  0.0  0.0  0.0  0.0  0.0  0.0  1.0  0.0  0.0  0.0  0.0  0.0  0.0  0.0  0.0\n",
              "4  1.0  0.0  0.0  0.0  0.0  0.0  0.0  0.0  0.0  0.0  0.0  0.0  0.0  0.0  0.0"
            ]
          },
          "execution_count": 31,
          "metadata": {},
          "output_type": "execute_result"
        }
      ]
    },
    {
      "cell_type": "code",
      "metadata": {
        "colab": {
          "base_uri": "https://localhost:8080/"
        },
        "id": "8r2Rs8ORxjFJ",
        "outputId": "87913485-c942-48be-c319-ef37aef84817"
      },
      "source": [
        "df3.dtypes"
      ],
      "execution_count": null,
      "outputs": [
        {
          "data": {
            "text/plain": [
              "0     float64\n",
              "1     float64\n",
              "2     float64\n",
              "3     float64\n",
              "4     float64\n",
              "5     float64\n",
              "6     float64\n",
              "7     float64\n",
              "8     float64\n",
              "9     float64\n",
              "10    float64\n",
              "11    float64\n",
              "12    float64\n",
              "13    float64\n",
              "14    float64\n",
              "dtype: object"
            ]
          },
          "execution_count": 32,
          "metadata": {},
          "output_type": "execute_result"
        }
      ]
    },
    {
      "cell_type": "code",
      "metadata": {
        "colab": {
          "base_uri": "https://localhost:8080/",
          "height": 203
        },
        "id": "aA3Oh4M5xjIa",
        "outputId": "0b5edf0d-c93b-4474-97ae-4832fcf13327"
      },
      "source": [
        "newdf = pd.concat([learning_data[['loan_amount', 'status']].reset_index(drop=True), df3], axis=1)\n",
        "newdf.head()"
      ],
      "execution_count": null,
      "outputs": [
        {
          "data": {
            "text/html": [
              "<div>\n",
              "<style scoped>\n",
              "    .dataframe tbody tr th:only-of-type {\n",
              "        vertical-align: middle;\n",
              "    }\n",
              "\n",
              "    .dataframe tbody tr th {\n",
              "        vertical-align: top;\n",
              "    }\n",
              "\n",
              "    .dataframe thead th {\n",
              "        text-align: right;\n",
              "    }\n",
              "</style>\n",
              "<table border=\"1\" class=\"dataframe\">\n",
              "  <thead>\n",
              "    <tr style=\"text-align: right;\">\n",
              "      <th></th>\n",
              "      <th>loan_amount</th>\n",
              "      <th>status</th>\n",
              "      <th>0</th>\n",
              "      <th>1</th>\n",
              "      <th>2</th>\n",
              "      <th>3</th>\n",
              "      <th>4</th>\n",
              "      <th>5</th>\n",
              "      <th>6</th>\n",
              "      <th>7</th>\n",
              "      <th>8</th>\n",
              "      <th>9</th>\n",
              "      <th>10</th>\n",
              "      <th>11</th>\n",
              "      <th>12</th>\n",
              "      <th>13</th>\n",
              "      <th>14</th>\n",
              "    </tr>\n",
              "  </thead>\n",
              "  <tbody>\n",
              "    <tr>\n",
              "      <th>0</th>\n",
              "      <td>125.0</td>\n",
              "      <td>1</td>\n",
              "      <td>0.0</td>\n",
              "      <td>0.0</td>\n",
              "      <td>0.0</td>\n",
              "      <td>0.0</td>\n",
              "      <td>0.0</td>\n",
              "      <td>0.0</td>\n",
              "      <td>0.0</td>\n",
              "      <td>0.0</td>\n",
              "      <td>0.0</td>\n",
              "      <td>0.0</td>\n",
              "      <td>0.0</td>\n",
              "      <td>1.0</td>\n",
              "      <td>0.0</td>\n",
              "      <td>0.0</td>\n",
              "      <td>0.0</td>\n",
              "    </tr>\n",
              "    <tr>\n",
              "      <th>1</th>\n",
              "      <td>175.0</td>\n",
              "      <td>1</td>\n",
              "      <td>0.0</td>\n",
              "      <td>0.0</td>\n",
              "      <td>0.0</td>\n",
              "      <td>0.0</td>\n",
              "      <td>0.0</td>\n",
              "      <td>0.0</td>\n",
              "      <td>1.0</td>\n",
              "      <td>0.0</td>\n",
              "      <td>0.0</td>\n",
              "      <td>0.0</td>\n",
              "      <td>0.0</td>\n",
              "      <td>0.0</td>\n",
              "      <td>0.0</td>\n",
              "      <td>0.0</td>\n",
              "      <td>0.0</td>\n",
              "    </tr>\n",
              "    <tr>\n",
              "      <th>2</th>\n",
              "      <td>1400.0</td>\n",
              "      <td>1</td>\n",
              "      <td>1.0</td>\n",
              "      <td>0.0</td>\n",
              "      <td>0.0</td>\n",
              "      <td>0.0</td>\n",
              "      <td>0.0</td>\n",
              "      <td>0.0</td>\n",
              "      <td>0.0</td>\n",
              "      <td>0.0</td>\n",
              "      <td>0.0</td>\n",
              "      <td>0.0</td>\n",
              "      <td>0.0</td>\n",
              "      <td>0.0</td>\n",
              "      <td>0.0</td>\n",
              "      <td>0.0</td>\n",
              "      <td>0.0</td>\n",
              "    </tr>\n",
              "    <tr>\n",
              "      <th>3</th>\n",
              "      <td>425.0</td>\n",
              "      <td>1</td>\n",
              "      <td>0.0</td>\n",
              "      <td>0.0</td>\n",
              "      <td>0.0</td>\n",
              "      <td>0.0</td>\n",
              "      <td>0.0</td>\n",
              "      <td>0.0</td>\n",
              "      <td>1.0</td>\n",
              "      <td>0.0</td>\n",
              "      <td>0.0</td>\n",
              "      <td>0.0</td>\n",
              "      <td>0.0</td>\n",
              "      <td>0.0</td>\n",
              "      <td>0.0</td>\n",
              "      <td>0.0</td>\n",
              "      <td>0.0</td>\n",
              "    </tr>\n",
              "    <tr>\n",
              "      <th>4</th>\n",
              "      <td>325.0</td>\n",
              "      <td>1</td>\n",
              "      <td>1.0</td>\n",
              "      <td>0.0</td>\n",
              "      <td>0.0</td>\n",
              "      <td>0.0</td>\n",
              "      <td>0.0</td>\n",
              "      <td>0.0</td>\n",
              "      <td>0.0</td>\n",
              "      <td>0.0</td>\n",
              "      <td>0.0</td>\n",
              "      <td>0.0</td>\n",
              "      <td>0.0</td>\n",
              "      <td>0.0</td>\n",
              "      <td>0.0</td>\n",
              "      <td>0.0</td>\n",
              "      <td>0.0</td>\n",
              "    </tr>\n",
              "  </tbody>\n",
              "</table>\n",
              "</div>"
            ],
            "text/plain": [
              "   loan_amount  status    0    1    2    3    4    5    6    7    8    9   10  \\\n",
              "0        125.0       1  0.0  0.0  0.0  0.0  0.0  0.0  0.0  0.0  0.0  0.0  0.0   \n",
              "1        175.0       1  0.0  0.0  0.0  0.0  0.0  0.0  1.0  0.0  0.0  0.0  0.0   \n",
              "2       1400.0       1  1.0  0.0  0.0  0.0  0.0  0.0  0.0  0.0  0.0  0.0  0.0   \n",
              "3        425.0       1  0.0  0.0  0.0  0.0  0.0  0.0  1.0  0.0  0.0  0.0  0.0   \n",
              "4        325.0       1  1.0  0.0  0.0  0.0  0.0  0.0  0.0  0.0  0.0  0.0  0.0   \n",
              "\n",
              "    11   12   13   14  \n",
              "0  1.0  0.0  0.0  0.0  \n",
              "1  0.0  0.0  0.0  0.0  \n",
              "2  0.0  0.0  0.0  0.0  \n",
              "3  0.0  0.0  0.0  0.0  \n",
              "4  0.0  0.0  0.0  0.0  "
            ]
          },
          "execution_count": 33,
          "metadata": {},
          "output_type": "execute_result"
        }
      ]
    },
    {
      "cell_type": "code",
      "metadata": {
        "id": "QE6cnBiDxjLs"
      },
      "source": [
        "target = newdf['status']\n",
        "data_features = newdf.drop('status', axis=1)"
      ],
      "execution_count": null,
      "outputs": []
    },
    {
      "cell_type": "code",
      "metadata": {
        "id": "VOkWXOBiNaMr"
      },
      "source": [
        "#Explore RandomForestClassifier on a holdout set"
      ],
      "execution_count": null,
      "outputs": []
    },
    {
      "cell_type": "code",
      "metadata": {
        "id": "j7m7VGRVxjNq"
      },
      "source": [
        "#import the methods that will be needed to evaluate a basic model\n",
        "#import Random Forest for Classification from sklearn\n",
        "#Split the data into training and test set\n",
        "from sklearn.ensemble import RandomForestClassifier\n",
        "from sklearn.model_selection import train_test_split\n",
        "from sklearn.metrics import precision_score, recall_score\n",
        "X_train, X_test, y_train, y_test = train_test_split(data_features, target, test_size=0.3)"
      ],
      "execution_count": null,
      "outputs": []
    },
    {
      "cell_type": "code",
      "metadata": {
        "id": "hfGinU0MNDPr"
      },
      "source": [
        "# Fit a basic Random Forest model\n",
        "rf = RandomForestClassifier()\n",
        "rf_model = rf.fit(X_train, y_train)"
      ],
      "execution_count": null,
      "outputs": []
    },
    {
      "cell_type": "code",
      "metadata": {
        "id": "ATn5DyX3OdjI"
      },
      "source": [
        "# Make prediction on the test set using the fit model\n",
        "y_pred = rf_model.predict(X_test)"
      ],
      "execution_count": null,
      "outputs": []
    },
    {
      "cell_type": "code",
      "metadata": {
        "colab": {
          "base_uri": "https://localhost:8080/"
        },
        "id": "Dj8mVmzPOtG0",
        "outputId": "788883dc-b523-4f83-ee0a-3380da753846"
      },
      "source": [
        "# Evalute model predictions using precision and recall\n",
        "precision = precision_score(y_test, y_pred)\n",
        "recall = recall_score(y_test, y_pred)\n",
        "print('Precision: {} / Recall: {}'.format(round(precision, 3), round(recall, 3)))"
      ],
      "execution_count": null,
      "outputs": [
        {
          "name": "stdout",
          "output_type": "stream",
          "text": [
            "Precision: 0.947 / Recall: 1.0\n"
          ]
        }
      ]
    },
    {
      "cell_type": "code",
      "metadata": {
        "colab": {
          "base_uri": "https://localhost:8080/"
        },
        "id": "1aA_VLrvU4eJ",
        "outputId": "ed20dd55-89a4-4e12-9639-fc4d8480aa16"
      },
      "source": [
        "import joblib\n",
        "# save\n",
        "joblib.dump(rf, \"my_random_forest.joblib\")\n",
        "\n",
        "# load\n",
        "#loaded_rf = joblib.load(\"my_random_forest.joblib\")"
      ],
      "execution_count": null,
      "outputs": [
        {
          "data": {
            "text/plain": [
              "['my_random_forest.joblib']"
            ]
          },
          "execution_count": 40,
          "metadata": {},
          "output_type": "execute_result"
        }
      ]
    },
    {
      "cell_type": "code",
      "metadata": {
        "id": "Ju8yXdwp4aRH"
      },
      "source": [
        "from sklearn.preprocessing import StandardScaler\n",
        "#Create a StandardScaler model and fit it to the training data\n",
        "X_scaler = StandardScaler().fit(X_train)\n",
        "\n",
        "X_train_scaled = X_scaler.transform(X_train)\n",
        "X_test_scaled = X_scaler.transform(X_test)"
      ],
      "execution_count": null,
      "outputs": []
    },
    {
      "cell_type": "code",
      "metadata": {
        "colab": {
          "base_uri": "https://localhost:8080/"
        },
        "id": "aHxfnngjBWCx",
        "outputId": "c305a179-92f5-4d8c-bc5b-432b252d6ad5"
      },
      "source": [
        "# Train the model\n",
        "from sklearn.linear_model import LogisticRegression\n",
        "model = LogisticRegression()\n",
        "model.fit(X_train, y_train)"
      ],
      "execution_count": null,
      "outputs": [
        {
          "data": {
            "text/plain": [
              "LogisticRegression(C=1.0, class_weight=None, dual=False, fit_intercept=True,\n",
              "                   intercept_scaling=1, l1_ratio=None, max_iter=100,\n",
              "                   multi_class='auto', n_jobs=None, penalty='l2',\n",
              "                   random_state=None, solver='lbfgs', tol=0.0001, verbose=0,\n",
              "                   warm_start=False)"
            ]
          },
          "execution_count": 42,
          "metadata": {},
          "output_type": "execute_result"
        }
      ]
    },
    {
      "cell_type": "code",
      "metadata": {
        "colab": {
          "base_uri": "https://localhost:8080/"
        },
        "id": "1NF6kn79BWGy",
        "outputId": "3724d846-af30-482a-dd9a-985ee12aa696"
      },
      "source": [
        "print(f\"Training Data Score: {model.score(X_train, y_train)}\")\n",
        "print(f\"Testing Data Score: {model.score(X_test, y_test)}\")"
      ],
      "execution_count": null,
      "outputs": [
        {
          "name": "stdout",
          "output_type": "stream",
          "text": [
            "Training Data Score: 0.9464593474441548\n",
            "Testing Data Score: 0.9462357203707316\n"
          ]
        }
      ]
    },
    {
      "cell_type": "markdown",
      "metadata": {
        "id": "_oMng-jaCXWm"
      },
      "source": [
        " Hyperparameter Tuning"
      ]
    },
    {
      "cell_type": "markdown",
      "metadata": {
        "id": "7rRgbPD6CnHI"
      },
      "source": [
        "Use GridSerachCV to tune the model's parameters"
      ]
    },
    {
      "cell_type": "code",
      "metadata": {
        "id": "wowZpJrLFZYS"
      },
      "source": [
        " from sklearn.preprocessing import MinMaxScaler\n",
        "X_scaler = MinMaxScaler().fit(X_train)\n",
        "\n",
        "X_train_scaled = X_scaler.transform(X_train)\n",
        "X_test_scaled = X_scaler.transform(X_test)"
      ],
      "execution_count": null,
      "outputs": []
    },
    {
      "cell_type": "code",
      "metadata": {
        "id": "sskEYdhjBWK2"
      },
      "source": [
        "from sklearn.model_selection import GridSearchCV\n",
        "param_grid = {'C': [1, 5, 10],\n",
        "              'penalty': [\"l1\", \"l2\"]}\n",
        "grid = GridSearchCV(model, param_grid, verbose=3)"
      ],
      "execution_count": null,
      "outputs": []
    },
    {
      "cell_type": "code",
      "metadata": {
        "colab": {
          "base_uri": "https://localhost:8080/"
        },
        "id": "WAVRxBSnCeBp",
        "outputId": "059e1994-97e8-4892-ee6e-4e15cd53ffaa"
      },
      "source": [
        "grid.fit(X_train, y_train)"
      ],
      "execution_count": null,
      "outputs": [
        {
          "name": "stdout",
          "output_type": "stream",
          "text": [
            "Fitting 5 folds for each of 6 candidates, totalling 30 fits\n",
            "[CV] C=1, penalty=l1 .................................................\n",
            "[CV] ....................... C=1, penalty=l1, score=nan, total=   0.1s\n",
            "[CV] C=1, penalty=l1 .................................................\n"
          ]
        },
        {
          "name": "stderr",
          "output_type": "stream",
          "text": [
            "[Parallel(n_jobs=1)]: Using backend SequentialBackend with 1 concurrent workers.\n",
            "/usr/local/lib/python3.7/dist-packages/sklearn/model_selection/_validation.py:536: FitFailedWarning: Estimator fit failed. The score on this train-test partition for these parameters will be set to nan. Details: \n",
            "ValueError: Solver lbfgs supports only 'l2' or 'none' penalties, got l1 penalty.\n",
            "\n",
            "  FitFailedWarning)\n",
            "[Parallel(n_jobs=1)]: Done   1 out of   1 | elapsed:    0.1s remaining:    0.0s\n",
            "[Parallel(n_jobs=1)]: Done   2 out of   2 | elapsed:    0.1s remaining:    0.0s\n"
          ]
        },
        {
          "name": "stdout",
          "output_type": "stream",
          "text": [
            "[CV] ....................... C=1, penalty=l1, score=nan, total=   0.1s\n",
            "[CV] C=1, penalty=l1 .................................................\n",
            "[CV] ....................... C=1, penalty=l1, score=nan, total=   0.1s\n",
            "[CV] C=1, penalty=l1 .................................................\n",
            "[CV] ....................... C=1, penalty=l1, score=nan, total=   0.1s\n",
            "[CV] C=1, penalty=l1 .................................................\n",
            "[CV] ....................... C=1, penalty=l1, score=nan, total=   0.1s\n",
            "[CV] C=1, penalty=l2 .................................................\n"
          ]
        },
        {
          "name": "stderr",
          "output_type": "stream",
          "text": [
            "/usr/local/lib/python3.7/dist-packages/sklearn/linear_model/_logistic.py:940: ConvergenceWarning: lbfgs failed to converge (status=1):\n",
            "STOP: TOTAL NO. of ITERATIONS REACHED LIMIT.\n",
            "\n",
            "Increase the number of iterations (max_iter) or scale the data as shown in:\n",
            "    https://scikit-learn.org/stable/modules/preprocessing.html\n",
            "Please also refer to the documentation for alternative solver options:\n",
            "    https://scikit-learn.org/stable/modules/linear_model.html#logistic-regression\n",
            "  extra_warning_msg=_LOGISTIC_SOLVER_CONVERGENCE_MSG)\n"
          ]
        },
        {
          "name": "stdout",
          "output_type": "stream",
          "text": [
            "[CV] ..................... C=1, penalty=l2, score=0.946, total=  12.2s\n",
            "[CV] C=1, penalty=l2 .................................................\n"
          ]
        },
        {
          "name": "stderr",
          "output_type": "stream",
          "text": [
            "/usr/local/lib/python3.7/dist-packages/sklearn/linear_model/_logistic.py:940: ConvergenceWarning: lbfgs failed to converge (status=1):\n",
            "STOP: TOTAL NO. of ITERATIONS REACHED LIMIT.\n",
            "\n",
            "Increase the number of iterations (max_iter) or scale the data as shown in:\n",
            "    https://scikit-learn.org/stable/modules/preprocessing.html\n",
            "Please also refer to the documentation for alternative solver options:\n",
            "    https://scikit-learn.org/stable/modules/linear_model.html#logistic-regression\n",
            "  extra_warning_msg=_LOGISTIC_SOLVER_CONVERGENCE_MSG)\n"
          ]
        },
        {
          "name": "stdout",
          "output_type": "stream",
          "text": [
            "[CV] ..................... C=1, penalty=l2, score=0.946, total=  11.5s\n",
            "[CV] C=1, penalty=l2 .................................................\n",
            "[CV] ..................... C=1, penalty=l2, score=0.947, total=   9.5s\n",
            "[CV] C=1, penalty=l2 .................................................\n"
          ]
        },
        {
          "name": "stderr",
          "output_type": "stream",
          "text": [
            "/usr/local/lib/python3.7/dist-packages/sklearn/linear_model/_logistic.py:940: ConvergenceWarning: lbfgs failed to converge (status=1):\n",
            "STOP: TOTAL NO. of ITERATIONS REACHED LIMIT.\n",
            "\n",
            "Increase the number of iterations (max_iter) or scale the data as shown in:\n",
            "    https://scikit-learn.org/stable/modules/preprocessing.html\n",
            "Please also refer to the documentation for alternative solver options:\n",
            "    https://scikit-learn.org/stable/modules/linear_model.html#logistic-regression\n",
            "  extra_warning_msg=_LOGISTIC_SOLVER_CONVERGENCE_MSG)\n"
          ]
        },
        {
          "name": "stdout",
          "output_type": "stream",
          "text": [
            "[CV] ..................... C=1, penalty=l2, score=0.946, total=  12.1s\n",
            "[CV] C=1, penalty=l2 .................................................\n"
          ]
        },
        {
          "name": "stderr",
          "output_type": "stream",
          "text": [
            "/usr/local/lib/python3.7/dist-packages/sklearn/linear_model/_logistic.py:940: ConvergenceWarning: lbfgs failed to converge (status=1):\n",
            "STOP: TOTAL NO. of ITERATIONS REACHED LIMIT.\n",
            "\n",
            "Increase the number of iterations (max_iter) or scale the data as shown in:\n",
            "    https://scikit-learn.org/stable/modules/preprocessing.html\n",
            "Please also refer to the documentation for alternative solver options:\n",
            "    https://scikit-learn.org/stable/modules/linear_model.html#logistic-regression\n",
            "  extra_warning_msg=_LOGISTIC_SOLVER_CONVERGENCE_MSG)\n",
            "/usr/local/lib/python3.7/dist-packages/sklearn/model_selection/_validation.py:536: FitFailedWarning: Estimator fit failed. The score on this train-test partition for these parameters will be set to nan. Details: \n",
            "ValueError: Solver lbfgs supports only 'l2' or 'none' penalties, got l1 penalty.\n",
            "\n",
            "  FitFailedWarning)\n"
          ]
        },
        {
          "name": "stdout",
          "output_type": "stream",
          "text": [
            "[CV] ..................... C=1, penalty=l2, score=0.946, total=  12.3s\n",
            "[CV] C=5, penalty=l1 .................................................\n",
            "[CV] ....................... C=5, penalty=l1, score=nan, total=   0.1s\n",
            "[CV] C=5, penalty=l1 .................................................\n",
            "[CV] ....................... C=5, penalty=l1, score=nan, total=   0.1s\n",
            "[CV] C=5, penalty=l1 .................................................\n",
            "[CV] ....................... C=5, penalty=l1, score=nan, total=   0.1s\n",
            "[CV] C=5, penalty=l1 .................................................\n",
            "[CV] ....................... C=5, penalty=l1, score=nan, total=   0.1s\n",
            "[CV] C=5, penalty=l1 .................................................\n",
            "[CV] ....................... C=5, penalty=l1, score=nan, total=   0.1s\n",
            "[CV] C=5, penalty=l2 .................................................\n"
          ]
        },
        {
          "name": "stderr",
          "output_type": "stream",
          "text": [
            "/usr/local/lib/python3.7/dist-packages/sklearn/linear_model/_logistic.py:940: ConvergenceWarning: lbfgs failed to converge (status=1):\n",
            "STOP: TOTAL NO. of ITERATIONS REACHED LIMIT.\n",
            "\n",
            "Increase the number of iterations (max_iter) or scale the data as shown in:\n",
            "    https://scikit-learn.org/stable/modules/preprocessing.html\n",
            "Please also refer to the documentation for alternative solver options:\n",
            "    https://scikit-learn.org/stable/modules/linear_model.html#logistic-regression\n",
            "  extra_warning_msg=_LOGISTIC_SOLVER_CONVERGENCE_MSG)\n"
          ]
        },
        {
          "name": "stdout",
          "output_type": "stream",
          "text": [
            "[CV] ..................... C=5, penalty=l2, score=0.946, total=  12.3s\n",
            "[CV] C=5, penalty=l2 .................................................\n"
          ]
        },
        {
          "name": "stderr",
          "output_type": "stream",
          "text": [
            "/usr/local/lib/python3.7/dist-packages/sklearn/linear_model/_logistic.py:940: ConvergenceWarning: lbfgs failed to converge (status=1):\n",
            "STOP: TOTAL NO. of ITERATIONS REACHED LIMIT.\n",
            "\n",
            "Increase the number of iterations (max_iter) or scale the data as shown in:\n",
            "    https://scikit-learn.org/stable/modules/preprocessing.html\n",
            "Please also refer to the documentation for alternative solver options:\n",
            "    https://scikit-learn.org/stable/modules/linear_model.html#logistic-regression\n",
            "  extra_warning_msg=_LOGISTIC_SOLVER_CONVERGENCE_MSG)\n"
          ]
        },
        {
          "name": "stdout",
          "output_type": "stream",
          "text": [
            "[CV] ..................... C=5, penalty=l2, score=0.946, total=  12.2s\n",
            "[CV] C=5, penalty=l2 .................................................\n",
            "[CV] ..................... C=5, penalty=l2, score=0.947, total=  12.1s\n",
            "[CV] C=5, penalty=l2 .................................................\n"
          ]
        },
        {
          "name": "stderr",
          "output_type": "stream",
          "text": [
            "/usr/local/lib/python3.7/dist-packages/sklearn/linear_model/_logistic.py:940: ConvergenceWarning: lbfgs failed to converge (status=1):\n",
            "STOP: TOTAL NO. of ITERATIONS REACHED LIMIT.\n",
            "\n",
            "Increase the number of iterations (max_iter) or scale the data as shown in:\n",
            "    https://scikit-learn.org/stable/modules/preprocessing.html\n",
            "Please also refer to the documentation for alternative solver options:\n",
            "    https://scikit-learn.org/stable/modules/linear_model.html#logistic-regression\n",
            "  extra_warning_msg=_LOGISTIC_SOLVER_CONVERGENCE_MSG)\n"
          ]
        },
        {
          "name": "stdout",
          "output_type": "stream",
          "text": [
            "[CV] ..................... C=5, penalty=l2, score=0.946, total=  11.8s\n",
            "[CV] C=5, penalty=l2 .................................................\n",
            "[CV] ..................... C=5, penalty=l2, score=0.946, total=   8.8s\n",
            "[CV] C=10, penalty=l1 ................................................\n",
            "[CV] ...................... C=10, penalty=l1, score=nan, total=   0.1s\n",
            "[CV] C=10, penalty=l1 ................................................\n",
            "[CV] ...................... C=10, penalty=l1, score=nan, total=   0.1s\n",
            "[CV] C=10, penalty=l1 ................................................\n",
            "[CV] ...................... C=10, penalty=l1, score=nan, total=   0.1s\n",
            "[CV] C=10, penalty=l1 ................................................\n"
          ]
        },
        {
          "name": "stderr",
          "output_type": "stream",
          "text": [
            "/usr/local/lib/python3.7/dist-packages/sklearn/model_selection/_validation.py:536: FitFailedWarning: Estimator fit failed. The score on this train-test partition for these parameters will be set to nan. Details: \n",
            "ValueError: Solver lbfgs supports only 'l2' or 'none' penalties, got l1 penalty.\n",
            "\n",
            "  FitFailedWarning)\n"
          ]
        },
        {
          "name": "stdout",
          "output_type": "stream",
          "text": [
            "[CV] ...................... C=10, penalty=l1, score=nan, total=   0.1s\n",
            "[CV] C=10, penalty=l1 ................................................\n",
            "[CV] ...................... C=10, penalty=l1, score=nan, total=   0.1s\n",
            "[CV] C=10, penalty=l2 ................................................\n",
            "[CV] .................... C=10, penalty=l2, score=0.946, total=   7.4s\n",
            "[CV] C=10, penalty=l2 ................................................\n",
            "[CV] .................... C=10, penalty=l2, score=0.946, total=  10.0s\n",
            "[CV] C=10, penalty=l2 ................................................\n"
          ]
        },
        {
          "name": "stderr",
          "output_type": "stream",
          "text": [
            "/usr/local/lib/python3.7/dist-packages/sklearn/linear_model/_logistic.py:940: ConvergenceWarning: lbfgs failed to converge (status=1):\n",
            "STOP: TOTAL NO. of ITERATIONS REACHED LIMIT.\n",
            "\n",
            "Increase the number of iterations (max_iter) or scale the data as shown in:\n",
            "    https://scikit-learn.org/stable/modules/preprocessing.html\n",
            "Please also refer to the documentation for alternative solver options:\n",
            "    https://scikit-learn.org/stable/modules/linear_model.html#logistic-regression\n",
            "  extra_warning_msg=_LOGISTIC_SOLVER_CONVERGENCE_MSG)\n"
          ]
        },
        {
          "name": "stdout",
          "output_type": "stream",
          "text": [
            "[CV] .................... C=10, penalty=l2, score=0.947, total=  12.5s\n",
            "[CV] C=10, penalty=l2 ................................................\n"
          ]
        },
        {
          "name": "stderr",
          "output_type": "stream",
          "text": [
            "/usr/local/lib/python3.7/dist-packages/sklearn/linear_model/_logistic.py:940: ConvergenceWarning: lbfgs failed to converge (status=1):\n",
            "STOP: TOTAL NO. of ITERATIONS REACHED LIMIT.\n",
            "\n",
            "Increase the number of iterations (max_iter) or scale the data as shown in:\n",
            "    https://scikit-learn.org/stable/modules/preprocessing.html\n",
            "Please also refer to the documentation for alternative solver options:\n",
            "    https://scikit-learn.org/stable/modules/linear_model.html#logistic-regression\n",
            "  extra_warning_msg=_LOGISTIC_SOLVER_CONVERGENCE_MSG)\n"
          ]
        },
        {
          "name": "stdout",
          "output_type": "stream",
          "text": [
            "[CV] .................... C=10, penalty=l2, score=0.946, total=  11.7s\n",
            "[CV] C=10, penalty=l2 ................................................\n",
            "[CV] .................... C=10, penalty=l2, score=0.946, total=   9.2s\n"
          ]
        },
        {
          "name": "stderr",
          "output_type": "stream",
          "text": [
            "[Parallel(n_jobs=1)]: Done  30 out of  30 | elapsed:  2.8min finished\n"
          ]
        },
        {
          "data": {
            "text/plain": [
              "GridSearchCV(cv=None, error_score=nan,\n",
              "             estimator=LogisticRegression(C=1.0, class_weight=None, dual=False,\n",
              "                                          fit_intercept=True,\n",
              "                                          intercept_scaling=1, l1_ratio=None,\n",
              "                                          max_iter=100, multi_class='auto',\n",
              "                                          n_jobs=None, penalty='l2',\n",
              "                                          random_state=None, solver='lbfgs',\n",
              "                                          tol=0.0001, verbose=0,\n",
              "                                          warm_start=False),\n",
              "             iid='deprecated', n_jobs=None,\n",
              "             param_grid={'C': [1, 5, 10], 'penalty': ['l1', 'l2']},\n",
              "             pre_dispatch='2*n_jobs', refit=True, return_train_score=False,\n",
              "             scoring=None, verbose=3)"
            ]
          },
          "execution_count": 46,
          "metadata": {},
          "output_type": "execute_result"
        }
      ]
    },
    {
      "cell_type": "code",
      "metadata": {
        "colab": {
          "base_uri": "https://localhost:8080/"
        },
        "id": "gQCupndLDKYk",
        "outputId": "8c797c84-aa3b-4b0f-8b51-2012993fe1f3"
      },
      "source": [
        "print(grid.best_params_)\n",
        "print(grid.best_score_)"
      ],
      "execution_count": null,
      "outputs": [
        {
          "name": "stdout",
          "output_type": "stream",
          "text": [
            "{'C': 10, 'penalty': 'l2'}\n",
            "0.9464831010384716\n"
          ]
        }
      ]
    },
    {
      "cell_type": "code",
      "metadata": {
        "id": "q923UMOTDPxs"
      },
      "source": [
        ""
      ],
      "execution_count": null,
      "outputs": []
    },
    {
      "cell_type": "markdown",
      "metadata": {
        "id": "8Sffl1QsDRjd"
      },
      "source": [
        "Save the Model"
      ]
    },
    {
      "cell_type": "code",
      "metadata": {
        "colab": {
          "base_uri": "https://localhost:8080/"
        },
        "id": "NsxeIC8eDKc1",
        "outputId": "9038bf09-752e-4d29-95a1-5144a125ec72"
      },
      "source": [
        "# save fitted model to file\n",
        "import joblib\n",
        "filename = 'logistic.sav'\n",
        "joblib.dump(grid, filename)"
      ],
      "execution_count": null,
      "outputs": [
        {
          "data": {
            "text/plain": [
              "['logistic.sav']"
            ]
          },
          "execution_count": 48,
          "metadata": {},
          "output_type": "execute_result"
        }
      ]
    },
    {
      "cell_type": "code",
      "metadata": {
        "id": "qSho5kAd4aVB"
      },
      "source": [
        "#transform the training and testing data using the X_scaler and y_scaler"
      ],
      "execution_count": null,
      "outputs": []
    },
    {
      "cell_type": "code",
      "metadata": {
        "colab": {
          "base_uri": "https://localhost:8080/"
        },
        "id": "oRrB71Gyb71S",
        "outputId": "e73ce407-5e7a-4b12-b623-0de3ff099811"
      },
      "source": [
        "loan_data = learning_data.dropna()\n",
        "loan_data.isnull().sum()"
      ],
      "execution_count": null,
      "outputs": [
        {
          "data": {
            "text/plain": [
              "loan_amount    0\n",
              "loan_use       0\n",
              "sector_name    0\n",
              "status         0\n",
              "dtype: int64"
            ]
          },
          "execution_count": 50,
          "metadata": {},
          "output_type": "execute_result"
        }
      ]
    },
    {
      "cell_type": "code",
      "metadata": {
        "colab": {
          "base_uri": "https://localhost:8080/",
          "height": 450
        },
        "id": "GfnrcqbLYp8E",
        "outputId": "16ee0591-6521-48de-eb65-8260d89b7d93"
      },
      "source": [
        "pd.set_option('display.max_colwidth', None)\n",
        "loan_data[loan_data['loan_use'].apply(lambda x: x.isascii())]"
      ],
      "execution_count": null,
      "outputs": [
        {
          "data": {
            "text/html": [
              "<div>\n",
              "<style scoped>\n",
              "    .dataframe tbody tr th:only-of-type {\n",
              "        vertical-align: middle;\n",
              "    }\n",
              "\n",
              "    .dataframe tbody tr th {\n",
              "        vertical-align: top;\n",
              "    }\n",
              "\n",
              "    .dataframe thead th {\n",
              "        text-align: right;\n",
              "    }\n",
              "</style>\n",
              "<table border=\"1\" class=\"dataframe\">\n",
              "  <thead>\n",
              "    <tr style=\"text-align: right;\">\n",
              "      <th></th>\n",
              "      <th>loan_amount</th>\n",
              "      <th>loan_use</th>\n",
              "      <th>sector_name</th>\n",
              "      <th>status</th>\n",
              "    </tr>\n",
              "  </thead>\n",
              "  <tbody>\n",
              "    <tr>\n",
              "      <th>1</th>\n",
              "      <td>125.0</td>\n",
              "      <td>to buy more groceries to sell in her general store</td>\n",
              "      <td>Retail</td>\n",
              "      <td>1</td>\n",
              "    </tr>\n",
              "    <tr>\n",
              "      <th>2</th>\n",
              "      <td>175.0</td>\n",
              "      <td>to buy more bananas to sell and other supplies needed in her business.</td>\n",
              "      <td>Food</td>\n",
              "      <td>1</td>\n",
              "    </tr>\n",
              "    <tr>\n",
              "      <th>3</th>\n",
              "      <td>1400.0</td>\n",
              "      <td>to buy more taro roots (seedlings), more banana tubers (seedlings), chemicals, a backpack sprayer, a wheelbarrow, a chainsaw, and a rake.</td>\n",
              "      <td>Agriculture</td>\n",
              "      <td>1</td>\n",
              "    </tr>\n",
              "    <tr>\n",
              "      <th>4</th>\n",
              "      <td>425.0</td>\n",
              "      <td>to increase her stock of  various brands of beer: 33 Export, Mutzig, Amstel,   etc</td>\n",
              "      <td>Food</td>\n",
              "      <td>1</td>\n",
              "    </tr>\n",
              "    <tr>\n",
              "      <th>5</th>\n",
              "      <td>325.0</td>\n",
              "      <td>to buy fertilizers and seeds to get a good yield and grow his farming business.</td>\n",
              "      <td>Agriculture</td>\n",
              "      <td>1</td>\n",
              "    </tr>\n",
              "    <tr>\n",
              "      <th>...</th>\n",
              "      <td>...</td>\n",
              "      <td>...</td>\n",
              "      <td>...</td>\n",
              "      <td>...</td>\n",
              "    </tr>\n",
              "    <tr>\n",
              "      <th>2086695</th>\n",
              "      <td>600.0</td>\n",
              "      <td>to process more mobile airtime credit transactions on weekends.</td>\n",
              "      <td>Retail</td>\n",
              "      <td>0</td>\n",
              "    </tr>\n",
              "    <tr>\n",
              "      <th>2086696</th>\n",
              "      <td>100.0</td>\n",
              "      <td>to access premium seeds and high quality fertilizer for 0.5 acres of maize, in addition to advice and insurance, optimizing for increased productivity and profits</td>\n",
              "      <td>Agriculture</td>\n",
              "      <td>1</td>\n",
              "    </tr>\n",
              "    <tr>\n",
              "      <th>2086697</th>\n",
              "      <td>500.0</td>\n",
              "      <td>to cultivate her 2.1 hectares of beans and 0.7 hectares of corn, and purchase the necessary inputs.</td>\n",
              "      <td>Agriculture</td>\n",
              "      <td>1</td>\n",
              "    </tr>\n",
              "    <tr>\n",
              "      <th>2086698</th>\n",
              "      <td>1350.0</td>\n",
              "      <td>to purchase a solar light and gain access to cost efficient hybrid seeds and fertilizer for maize cultivation.\\t\\t\\t\\t\\t\\t\\t</td>\n",
              "      <td>Agriculture</td>\n",
              "      <td>1</td>\n",
              "    </tr>\n",
              "    <tr>\n",
              "      <th>2086699</th>\n",
              "      <td>5000.0</td>\n",
              "      <td>fill our showroom with great buys that incoming college kids will love to purchase.</td>\n",
              "      <td>Retail</td>\n",
              "      <td>0</td>\n",
              "    </tr>\n",
              "  </tbody>\n",
              "</table>\n",
              "<p>1605045 rows × 4 columns</p>\n",
              "</div>"
            ],
            "text/plain": [
              "         loan_amount  \\\n",
              "1              125.0   \n",
              "2              175.0   \n",
              "3             1400.0   \n",
              "4              425.0   \n",
              "5              325.0   \n",
              "...              ...   \n",
              "2086695        600.0   \n",
              "2086696        100.0   \n",
              "2086697        500.0   \n",
              "2086698       1350.0   \n",
              "2086699       5000.0   \n",
              "\n",
              "                                                                                                                                                                   loan_use  \\\n",
              "1                                                                                                                        to buy more groceries to sell in her general store   \n",
              "2                                                                                                    to buy more bananas to sell and other supplies needed in her business.   \n",
              "3                                 to buy more taro roots (seedlings), more banana tubers (seedlings), chemicals, a backpack sprayer, a wheelbarrow, a chainsaw, and a rake.   \n",
              "4                                                                                        to increase her stock of  various brands of beer: 33 Export, Mutzig, Amstel,   etc   \n",
              "5                                                                                           to buy fertilizers and seeds to get a good yield and grow his farming business.   \n",
              "...                                                                                                                                                                     ...   \n",
              "2086695                                                                                                     to process more mobile airtime credit transactions on weekends.   \n",
              "2086696  to access premium seeds and high quality fertilizer for 0.5 acres of maize, in addition to advice and insurance, optimizing for increased productivity and profits   \n",
              "2086697                                                                 to cultivate her 2.1 hectares of beans and 0.7 hectares of corn, and purchase the necessary inputs.   \n",
              "2086698                                        to purchase a solar light and gain access to cost efficient hybrid seeds and fertilizer for maize cultivation.\\t\\t\\t\\t\\t\\t\\t   \n",
              "2086699                                                                                fill our showroom with great buys that incoming college kids will love to purchase.    \n",
              "\n",
              "         sector_name  status  \n",
              "1             Retail       1  \n",
              "2               Food       1  \n",
              "3        Agriculture       1  \n",
              "4               Food       1  \n",
              "5        Agriculture       1  \n",
              "...              ...     ...  \n",
              "2086695       Retail       0  \n",
              "2086696  Agriculture       1  \n",
              "2086697  Agriculture       1  \n",
              "2086698  Agriculture       1  \n",
              "2086699       Retail       0  \n",
              "\n",
              "[1605045 rows x 4 columns]"
            ]
          },
          "execution_count": 51,
          "metadata": {},
          "output_type": "execute_result"
        }
      ]
    },
    {
      "cell_type": "code",
      "metadata": {
        "colab": {
          "base_uri": "https://localhost:8080/",
          "height": 220
        },
        "id": "tBG_WU7JG-lA",
        "outputId": "c81d0b89-93cd-4fc7-f345-4f542dc215e4"
      },
      "source": [
        "loan_data.head()"
      ],
      "execution_count": null,
      "outputs": [
        {
          "data": {
            "text/html": [
              "<div>\n",
              "<style scoped>\n",
              "    .dataframe tbody tr th:only-of-type {\n",
              "        vertical-align: middle;\n",
              "    }\n",
              "\n",
              "    .dataframe tbody tr th {\n",
              "        vertical-align: top;\n",
              "    }\n",
              "\n",
              "    .dataframe thead th {\n",
              "        text-align: right;\n",
              "    }\n",
              "</style>\n",
              "<table border=\"1\" class=\"dataframe\">\n",
              "  <thead>\n",
              "    <tr style=\"text-align: right;\">\n",
              "      <th></th>\n",
              "      <th>loan_amount</th>\n",
              "      <th>loan_use</th>\n",
              "      <th>sector_name</th>\n",
              "      <th>status</th>\n",
              "    </tr>\n",
              "  </thead>\n",
              "  <tbody>\n",
              "    <tr>\n",
              "      <th>1</th>\n",
              "      <td>125.0</td>\n",
              "      <td>to buy more groceries to sell in her general store</td>\n",
              "      <td>Retail</td>\n",
              "      <td>1</td>\n",
              "    </tr>\n",
              "    <tr>\n",
              "      <th>2</th>\n",
              "      <td>175.0</td>\n",
              "      <td>to buy more bananas to sell and other supplies needed in her business.</td>\n",
              "      <td>Food</td>\n",
              "      <td>1</td>\n",
              "    </tr>\n",
              "    <tr>\n",
              "      <th>3</th>\n",
              "      <td>1400.0</td>\n",
              "      <td>to buy more taro roots (seedlings), more banana tubers (seedlings), chemicals, a backpack sprayer, a wheelbarrow, a chainsaw, and a rake.</td>\n",
              "      <td>Agriculture</td>\n",
              "      <td>1</td>\n",
              "    </tr>\n",
              "    <tr>\n",
              "      <th>4</th>\n",
              "      <td>425.0</td>\n",
              "      <td>to increase her stock of  various brands of beer: 33 Export, Mutzig, Amstel,   etc</td>\n",
              "      <td>Food</td>\n",
              "      <td>1</td>\n",
              "    </tr>\n",
              "    <tr>\n",
              "      <th>5</th>\n",
              "      <td>325.0</td>\n",
              "      <td>to buy fertilizers and seeds to get a good yield and grow his farming business.</td>\n",
              "      <td>Agriculture</td>\n",
              "      <td>1</td>\n",
              "    </tr>\n",
              "  </tbody>\n",
              "</table>\n",
              "</div>"
            ],
            "text/plain": [
              "   loan_amount  \\\n",
              "1        125.0   \n",
              "2        175.0   \n",
              "3       1400.0   \n",
              "4        425.0   \n",
              "5        325.0   \n",
              "\n",
              "                                                                                                                                    loan_use  \\\n",
              "1                                                                                         to buy more groceries to sell in her general store   \n",
              "2                                                                     to buy more bananas to sell and other supplies needed in her business.   \n",
              "3  to buy more taro roots (seedlings), more banana tubers (seedlings), chemicals, a backpack sprayer, a wheelbarrow, a chainsaw, and a rake.   \n",
              "4                                                         to increase her stock of  various brands of beer: 33 Export, Mutzig, Amstel,   etc   \n",
              "5                                                            to buy fertilizers and seeds to get a good yield and grow his farming business.   \n",
              "\n",
              "   sector_name  status  \n",
              "1       Retail       1  \n",
              "2         Food       1  \n",
              "3  Agriculture       1  \n",
              "4         Food       1  \n",
              "5  Agriculture       1  "
            ]
          },
          "execution_count": 52,
          "metadata": {},
          "output_type": "execute_result"
        }
      ]
    },
    {
      "cell_type": "code",
      "metadata": {
        "colab": {
          "base_uri": "https://localhost:8080/",
          "height": 220
        },
        "id": "MzJI8YH7G-o8",
        "outputId": "5e976dd6-8886-4ed2-c6a6-d79de66852a3"
      },
      "source": [
        "loan_data.tail()"
      ],
      "execution_count": null,
      "outputs": [
        {
          "data": {
            "text/html": [
              "<div>\n",
              "<style scoped>\n",
              "    .dataframe tbody tr th:only-of-type {\n",
              "        vertical-align: middle;\n",
              "    }\n",
              "\n",
              "    .dataframe tbody tr th {\n",
              "        vertical-align: top;\n",
              "    }\n",
              "\n",
              "    .dataframe thead th {\n",
              "        text-align: right;\n",
              "    }\n",
              "</style>\n",
              "<table border=\"1\" class=\"dataframe\">\n",
              "  <thead>\n",
              "    <tr style=\"text-align: right;\">\n",
              "      <th></th>\n",
              "      <th>loan_amount</th>\n",
              "      <th>loan_use</th>\n",
              "      <th>sector_name</th>\n",
              "      <th>status</th>\n",
              "    </tr>\n",
              "  </thead>\n",
              "  <tbody>\n",
              "    <tr>\n",
              "      <th>2086695</th>\n",
              "      <td>600.0</td>\n",
              "      <td>to process more mobile airtime credit transactions on weekends.</td>\n",
              "      <td>Retail</td>\n",
              "      <td>0</td>\n",
              "    </tr>\n",
              "    <tr>\n",
              "      <th>2086696</th>\n",
              "      <td>100.0</td>\n",
              "      <td>to access premium seeds and high quality fertilizer for 0.5 acres of maize, in addition to advice and insurance, optimizing for increased productivity and profits</td>\n",
              "      <td>Agriculture</td>\n",
              "      <td>1</td>\n",
              "    </tr>\n",
              "    <tr>\n",
              "      <th>2086697</th>\n",
              "      <td>500.0</td>\n",
              "      <td>to cultivate her 2.1 hectares of beans and 0.7 hectares of corn, and purchase the necessary inputs.</td>\n",
              "      <td>Agriculture</td>\n",
              "      <td>1</td>\n",
              "    </tr>\n",
              "    <tr>\n",
              "      <th>2086698</th>\n",
              "      <td>1350.0</td>\n",
              "      <td>to purchase a solar light and gain access to cost efficient hybrid seeds and fertilizer for maize cultivation.\\t\\t\\t\\t\\t\\t\\t</td>\n",
              "      <td>Agriculture</td>\n",
              "      <td>1</td>\n",
              "    </tr>\n",
              "    <tr>\n",
              "      <th>2086699</th>\n",
              "      <td>5000.0</td>\n",
              "      <td>fill our showroom with great buys that incoming college kids will love to purchase.</td>\n",
              "      <td>Retail</td>\n",
              "      <td>0</td>\n",
              "    </tr>\n",
              "  </tbody>\n",
              "</table>\n",
              "</div>"
            ],
            "text/plain": [
              "         loan_amount  \\\n",
              "2086695        600.0   \n",
              "2086696        100.0   \n",
              "2086697        500.0   \n",
              "2086698       1350.0   \n",
              "2086699       5000.0   \n",
              "\n",
              "                                                                                                                                                                   loan_use  \\\n",
              "2086695                                                                                                     to process more mobile airtime credit transactions on weekends.   \n",
              "2086696  to access premium seeds and high quality fertilizer for 0.5 acres of maize, in addition to advice and insurance, optimizing for increased productivity and profits   \n",
              "2086697                                                                 to cultivate her 2.1 hectares of beans and 0.7 hectares of corn, and purchase the necessary inputs.   \n",
              "2086698                                        to purchase a solar light and gain access to cost efficient hybrid seeds and fertilizer for maize cultivation.\\t\\t\\t\\t\\t\\t\\t   \n",
              "2086699                                                                                fill our showroom with great buys that incoming college kids will love to purchase.    \n",
              "\n",
              "         sector_name  status  \n",
              "2086695       Retail       0  \n",
              "2086696  Agriculture       1  \n",
              "2086697  Agriculture       1  \n",
              "2086698  Agriculture       1  \n",
              "2086699       Retail       0  "
            ]
          },
          "execution_count": 53,
          "metadata": {},
          "output_type": "execute_result"
        }
      ]
    },
    {
      "cell_type": "code",
      "metadata": {
        "id": "Hg_cOJYvbjqK"
      },
      "source": [
        ""
      ],
      "execution_count": null,
      "outputs": []
    },
    {
      "cell_type": "markdown",
      "metadata": {
        "id": "1scASJsPbxgy"
      },
      "source": [
        "RNN:Implement a basic RNN"
      ]
    },
    {
      "cell_type": "markdown",
      "metadata": {
        "id": "tCdvRpezcDMT"
      },
      "source": [
        "Read in, Clean and split the data"
      ]
    },
    {
      "cell_type": "code",
      "metadata": {
        "id": "gMTwlX8FbjvP"
      },
      "source": [
        "import numpy as np\n",
        "import pandas as pd\n",
        "from sklearn.model_selection import train_test_split\n",
        "pd.set_option('display.max_colwidth', 1000)"
      ],
      "execution_count": null,
      "outputs": []
    },
    {
      "cell_type": "code",
      "metadata": {
        "id": "in6097H6bjzi"
      },
      "source": [
        "#Read the data in\n",
        "data_df = learning_data.drop(columns=['sector_name'])\n",
        "features = data_df['loan_use']\n",
        "labels = data_df['status']"
      ],
      "execution_count": null,
      "outputs": []
    },
    {
      "cell_type": "code",
      "metadata": {
        "id": "stRgOzvHbj6l"
      },
      "source": [
        "#Spliting the data for training and testing\n",
        "X_train, X_test, y_train, y_test = train_test_split(features, labels, test_size=0.3)"
      ],
      "execution_count": null,
      "outputs": []
    },
    {
      "cell_type": "code",
      "metadata": {
        "colab": {
          "base_uri": "https://localhost:8080/"
        },
        "id": "WFUsTLv3bj-O",
        "outputId": "4e7cf2ff-5686-4709-f560-5c418af7a46d"
      },
      "source": [
        "# Install Keras\n",
        "!pip install -U keras"
      ],
      "execution_count": null,
      "outputs": [
        {
          "name": "stdout",
          "output_type": "stream",
          "text": [
            "Requirement already satisfied: keras in /usr/local/lib/python3.7/dist-packages (2.6.0)\n"
          ]
        }
      ]
    },
    {
      "cell_type": "code",
      "metadata": {
        "id": "L43dwJ1UfXZT"
      },
      "source": [
        "# Import the tools needed for keras\n",
        "from keras.preprocessing.text import Tokenizer\n",
        "from keras.preprocessing.sequence import pad_sequences"
      ],
      "execution_count": null,
      "outputs": []
    },
    {
      "cell_type": "markdown",
      "metadata": {
        "id": "bD_NLck0gQnM"
      },
      "source": [
        "Using Tensorflow backend"
      ]
    },
    {
      "cell_type": "code",
      "metadata": {
        "id": "TmuUybIMfXcr"
      },
      "source": [
        "# Initialize and fit the tokenizer\n",
        "tokenizer = Tokenizer()\n",
        "tokenizer.fit_on_texts(X_train)"
      ],
      "execution_count": null,
      "outputs": []
    },
    {
      "cell_type": "code",
      "metadata": {
        "id": "zdtQ2db5fXji"
      },
      "source": [
        "#Use that tokenizer to transform the data in the training \n",
        "X_train_seq = tokenizer.texts_to_sequences(X_train)\n",
        "X_test_seq = tokenizer.texts_to_sequences(X_test)"
      ],
      "execution_count": null,
      "outputs": []
    },
    {
      "cell_type": "code",
      "metadata": {
        "colab": {
          "base_uri": "https://localhost:8080/"
        },
        "id": "9qZ8jxr4fXmz",
        "outputId": "91fbac88-ff7e-41e1-e61f-e9f532065fac"
      },
      "source": [
        "X_train_seq[0]"
      ],
      "execution_count": null,
      "outputs": [
        {
          "data": {
            "text/plain": [
              "[1, 3, 21, 1, 9, 26, 39, 27, 70, 53, 20, 31, 1, 9, 12, 5, 538, 538, 40]"
            ]
          },
          "execution_count": 61,
          "metadata": {},
          "output_type": "execute_result"
        }
      ]
    },
    {
      "cell_type": "code",
      "metadata": {
        "id": "vb7_V74fi8Ys"
      },
      "source": [
        "# Pad the sequences so each sequence is the same length\n",
        "X_train_seq_padded = pad_sequences(X_train_seq, 50)\n",
        "X_test_seq_padded = pad_sequences(X_test_seq, 50)"
      ],
      "execution_count": null,
      "outputs": []
    },
    {
      "cell_type": "code",
      "metadata": {
        "colab": {
          "base_uri": "https://localhost:8080/"
        },
        "id": "FgdzeiCMi8cq",
        "outputId": "17b8d016-6660-46f9-87a3-c02778dec4e4"
      },
      "source": [
        "X_train_seq_padded[0]"
      ],
      "execution_count": null,
      "outputs": [
        {
          "data": {
            "text/plain": [
              "array([  0,   0,   0,   0,   0,   0,   0,   0,   0,   0,   0,   0,   0,\n",
              "         0,   0,   0,   0,   0,   0,   0,   0,   0,   0,   0,   0,   0,\n",
              "         0,   0,   0,   0,   0,   1,   3,  21,   1,   9,  26,  39,  27,\n",
              "        70,  53,  20,  31,   1,   9,  12,   5, 538, 538,  40], dtype=int32)"
            ]
          },
          "execution_count": 63,
          "metadata": {},
          "output_type": "execute_result"
        }
      ]
    },
    {
      "cell_type": "markdown",
      "metadata": {
        "id": "AESEBcNDkY7L"
      },
      "source": [
        "Building the model\n"
      ]
    },
    {
      "cell_type": "code",
      "metadata": {
        "id": "AtbOgIr2i8f6"
      },
      "source": [
        "# Import the tools needed for keras and define the functions to calculate recall and precision\n",
        "import keras.backend as K\n",
        "from keras.layers import Dense, Embedding, LSTM\n",
        "from keras.models import Sequential\n",
        "\n",
        "def recall_m(y_true, y_pred):\n",
        "  true_positives = K.sum(K.round(K.clip(y_true * y_pred, 0, 1)))\n",
        "  possible_positives = K.sum(K.round(K.clip(y_true, 0, 1)))\n",
        "  recall = true_positives / (possible_positives + K.epsilon())\n",
        "  return recall\n",
        "\n",
        "def precision_m(y_true, y_pred):\n",
        "  true_positives = K.sum(K.round(K.clip(y_true * y_pred, 0, 1)))\n",
        "  predicted_positives = K.sum(K.round(K.clip(y_pred, 0, 1)))\n",
        "  recall = true_positives / (predicted_positives + K.epsilon())\n",
        "  return recall\n"
      ],
      "execution_count": null,
      "outputs": []
    },
    {
      "cell_type": "code",
      "metadata": {
        "colab": {
          "base_uri": "https://localhost:8080/"
        },
        "id": "ZC1w2N23kfOf",
        "outputId": "6525c3af-c5ca-4bd4-e563-e53322291ab3"
      },
      "source": [
        "#Construct a RNN model\n",
        "model = Sequential()\n",
        "\n",
        "model.add(Embedding(len(tokenizer.index_word)+1, 32))\n",
        "model.add(LSTM(32, dropout=0, recurrent_dropout=0))\n",
        "model.add(Dense(32, activation='relu'))\n",
        "model.add(Dense(1, activation='sigmoid'))\n",
        "model.summary()"
      ],
      "execution_count": null,
      "outputs": [
        {
          "name": "stdout",
          "output_type": "stream",
          "text": [
            "Model: \"sequential\"\n",
            "_________________________________________________________________\n",
            "Layer (type)                 Output Shape              Param #   \n",
            "=================================================================\n",
            "embedding (Embedding)        (None, None, 32)          1095296   \n",
            "_________________________________________________________________\n",
            "lstm (LSTM)                  (None, 32)                8320      \n",
            "_________________________________________________________________\n",
            "dense (Dense)                (None, 32)                1056      \n",
            "_________________________________________________________________\n",
            "dense_1 (Dense)              (None, 1)                 33        \n",
            "=================================================================\n",
            "Total params: 1,104,705\n",
            "Trainable params: 1,104,705\n",
            "Non-trainable params: 0\n",
            "_________________________________________________________________\n"
          ]
        }
      ]
    },
    {
      "cell_type": "code",
      "metadata": {
        "id": "92Ih6zm5kfR3"
      },
      "source": [
        "# Compile the model\n",
        "model.compile(optimizer='adam',\n",
        "              loss='binary_crossentropy',\n",
        "              metrics=['accuracy', precision_m, recall_m])"
      ],
      "execution_count": null,
      "outputs": []
    },
    {
      "cell_type": "code",
      "metadata": {
        "colab": {
          "background_save": true,
          "base_uri": "https://localhost:8080/"
        },
        "id": "JuVVUuk1kfWi",
        "outputId": "21eb3c65-a99d-47aa-a68a-e8944948ead3"
      },
      "source": [
        "history = model.fit(X_train_seq_padded, y_train,\n",
        "                    batch_size=32, epochs=5,\n",
        "                    validation_data=(X_test_seq_padded, y_test)) "
      ],
      "execution_count": null,
      "outputs": [
        {
          "name": "stdout",
          "output_type": "stream",
          "text": [
            "Epoch 1/5\n",
            "35521/35521 [==============================] - 195s 5ms/step - loss: 0.1853 - accuracy: 0.9465 - precision_m: 0.9465 - recall_m: 1.0000 - val_loss: 0.1804 - val_accuracy: 0.9470 - val_precision_m: 0.9470 - val_recall_m: 1.0000\n",
            "Epoch 2/5\n",
            "35521/35521 [==============================] - 190s 5ms/step - loss: 0.1786 - accuracy: 0.9465 - precision_m: 0.9466 - recall_m: 0.9999 - val_loss: 0.1794 - val_accuracy: 0.9470 - val_precision_m: 0.9470 - val_recall_m: 1.0000\n",
            "Epoch 3/5\n",
            "35521/35521 [==============================] - 191s 5ms/step - loss: 0.1754 - accuracy: 0.9468 - precision_m: 0.9475 - recall_m: 0.9991 - val_loss: 0.1792 - val_accuracy: 0.9467 - val_precision_m: 0.9477 - val_recall_m: 0.9988\n",
            "Epoch 4/5\n",
            "35521/35521 [==============================] - 190s 5ms/step - loss: 0.1724 - accuracy: 0.9478 - precision_m: 0.9488 - recall_m: 0.9987 - val_loss: 0.1799 - val_accuracy: 0.9464 - val_precision_m: 0.9475 - val_recall_m: 0.9986\n",
            "Epoch 5/5\n",
            "35521/35521 [==============================] - 188s 5ms/step - loss: 0.1702 - accuracy: 0.9482 - precision_m: 0.9492 - recall_m: 0.9987 - val_loss: 0.1820 - val_accuracy: 0.9460 - val_precision_m: 0.9481 - val_recall_m: 0.9976\n"
          ]
        }
      ]
    },
    {
      "cell_type": "markdown",
      "metadata": {
        "id": "0PdL-fg_Lqdl"
      },
      "source": [
        "Clean up text\n"
      ]
    },
    {
      "cell_type": "markdown",
      "metadata": {
        "id": "ke2ug2YjMZ61"
      },
      "source": [
        "Lemmatize text"
      ]
    },
    {
      "cell_type": "code",
      "metadata": {
        "colab": {
          "background_save": true
        },
        "id": "q33DweFJJqRK",
        "outputId": "2bb913bd-ef8b-40de-b4cd-5da9af4f0267"
      },
      "source": [
        "import matplotlib.pyplot as plt\n",
        "\n",
        "for i in ['accuracy', 'precision_m', 'recall_m']:\n",
        "    acc = history.history[i]\n",
        "    val_acc = history.history['val_{}'.format(i)]\n",
        "    epochs = range(1, len(acc) + 1)\n",
        "\n",
        "    plt.figure()\n",
        "    plt.plot(epochs, acc, label='Training Accuracy')\n",
        "    plt.plot(epochs, val_acc, label='Validation Accuracy')\n",
        "    plt.title('Results for {}'.format(i))\n",
        "    plt.legend()\n",
        "    plt.show()"
      ],
      "execution_count": null,
      "outputs": [
        {
          "data": {
            "image/png": "[encoded data removed]",
            "text/plain": [
              "<Figure size 432x288 with 1 Axes>"
            ]
          },
          "metadata": {},
          "output_type": "display_data"
        },
        {
          "data": {
            "image/png": "[encoded data removed]",
            "text/plain": [
              "<Figure size 432x288 with 1 Axes>"
            ]
          },
          "metadata": {},
          "output_type": "display_data"
        },
        {
          "data": {
            "image/png": "[encoded data removed]",
            "text/plain": [
              "<Figure size 432x288 with 1 Axes>"
            ]
          },
          "metadata": {},
          "output_type": "display_data"
        }
      ]
    },
    {
      "cell_type": "code",
      "metadata": {
        "colab": {
          "background_save": true
        },
        "id": "HsnxcoJ4JqUs"
      },
      "source": [
        ""
      ],
      "execution_count": null,
      "outputs": []
    },
    {
      "cell_type": "code",
      "metadata": {
        "colab": {
          "background_save": true
        },
        "id": "1vaB_Ck7vU6d",
        "outputId": "5b096272-738f-40a4-fbd1-8e1c2ef59a3b"
      },
      "source": [
        "loan_data_cat = loan_data[['sector_name']]\n",
        "loan_data_cat.nunique()"
      ],
      "execution_count": null,
      "outputs": [
        {
          "data": {
            "text/plain": [
              "sector_name    15\n",
              "dtype: int64"
            ]
          },
          "execution_count": null,
          "metadata": {},
          "output_type": "execute_result"
        }
      ]
    },
    {
      "cell_type": "markdown",
      "metadata": {
        "id": "Rnh_tWNyCaPm"
      },
      "source": [
        "# New Section"
      ]
    },
    {
      "cell_type": "code",
      "metadata": {
        "colab": {
          "background_save": true
        },
        "id": "J085oOr9vET5"
      },
      "source": [
        ""
      ],
      "execution_count": null,
      "outputs": []
    },
    {
      "cell_type": "code",
      "metadata": {
        "colab": {
          "background_save": true
        },
        "id": "T9_gJ0M7sPHo",
        "outputId": "629acbba-89ac-428b-8b96-bc7afa1e5398"
      },
      "source": [
        "# Create a new column to calculate the average contribution by lenders\n",
        "dat['contrib_per_lend'] = data['funded_amount'] / data['num_lenders_total']\n",
        "dat['contrib_per_lend'].value_counts()"
      ],
      "execution_count": null,
      "outputs": [
        {
          "data": {
            "text/plain": [
              "25.000000    302126\n",
              "33.333333     49133\n",
              "37.500000     35945\n",
              "50.000000     35508\n",
              "31.250000     35149\n",
              "              ...  \n",
              "74.788136         1\n",
              "59.548611         1\n",
              "68.684211         1\n",
              "26.101695         1\n",
              "43.842365         1\n",
              "Name: contrib_per_lend, Length: 19326, dtype: int64"
            ]
          },
          "execution_count": null,
          "metadata": {},
          "output_type": "execute_result"
        }
      ]
    },
    {
      "cell_type": "code",
      "metadata": {
        "colab": {
          "background_save": true
        },
        "id": "_thp16rosPLl",
        "outputId": "29714f42-f5bf-45a3-b03a-c4efeb9b4863"
      },
      "source": [
        "#Create a new column for the average monthly repayment\n",
        "dat['monthly_repayment'] = data['funded_amount'] / data['lender_term']\n",
        "dat['monthly_repayment'].value_counts()"
      ],
      "execution_count": null,
      "outputs": [
        {
          "data": {
            "text/plain": [
              "25.000000      69627\n",
              "50.000000      36566\n",
              "21.428571      35766\n",
              "35.714286      35570\n",
              "28.571429      31103\n",
              "               ...  \n",
              "296.666667         1\n",
              "2191.666667        1\n",
              "123.500000         1\n",
              "23.546512          1\n",
              "181.578947         1\n",
              "Name: monthly_repayment, Length: 6981, dtype: int64"
            ]
          },
          "execution_count": null,
          "metadata": {},
          "output_type": "execute_result"
        }
      ]
    },
    {
      "cell_type": "code",
      "metadata": {
        "id": "erRi1LTnNO9u"
      },
      "source": [
        "#Dropping the columns that are not necessary for the model\n",
        "#data_reduced = dat.drop(columns=['loan_id', 'country_code', 'image_id', 'video_id', 'num_lenders_total', 'description_translated'])"
      ],
      "execution_count": 1,
      "outputs": []
    },
    {
      "cell_type": "code",
      "metadata": {
        "colab": {
          "background_save": true
        },
        "id": "QAg-VtV0sPP8"
      },
      "source": [
        "data_reduced.describe(include=object)"
      ],
      "execution_count": null,
      "outputs": []
    },
    {
      "cell_type": "code",
      "metadata": {
        "colab": {
          "background_save": true
        },
        "id": "noaEeduUxsm-"
      },
      "source": [
        "data_reduced.describe()"
      ],
      "execution_count": null,
      "outputs": []
    },
    {
      "cell_type": "code",
      "metadata": {
        "colab": {
          "background_save": true
        },
        "id": "8IEKrjDUymi1"
      },
      "source": [
        "# import seaborn as sns\n",
        "# sns.pairplot(df1[['contrib_per_lend', 'repayment_monthly']])"
      ],
      "execution_count": null,
      "outputs": []
    },
    {
      "cell_type": "code",
      "metadata": {
        "colab": {
          "background_save": true
        },
        "id": "-J39N2A8-pZd"
      },
      "source": [
        "data_reduced.columns"
      ],
      "execution_count": null,
      "outputs": []
    },
    {
      "cell_type": "code",
      "metadata": {
        "colab": {
          "background_save": true
        },
        "id": "oHeIk6chj4lJ"
      },
      "source": [
        "#data_reduced.columns = [i.replace(' ', '_').lower() for i in df1.columns]"
      ],
      "execution_count": null,
      "outputs": []
    },
    {
      "cell_type": "code",
      "metadata": {
        "colab": {
          "background_save": true
        },
        "id": "0f94h79Qh2NK"
      },
      "source": [
        "data_reduced.isnull().sum()"
      ],
      "execution_count": null,
      "outputs": []
    },
    {
      "cell_type": "code",
      "metadata": {
        "colab": {
          "background_save": true
        },
        "id": "5D2AnJGfh_P_"
      },
      "source": [
        "data_reduced.loan_amount.value_counts()"
      ],
      "execution_count": null,
      "outputs": []
    },
    {
      "cell_type": "code",
      "metadata": {
        "colab": {
          "background_save": true
        },
        "id": "Ch6PqKn1i1nL"
      },
      "source": [
        "data_reduced.funded_amount.value_counts()"
      ],
      "execution_count": null,
      "outputs": []
    },
    {
      "cell_type": "code",
      "metadata": {
        "colab": {
          "background_save": true
        },
        "id": "3gNjWsTcidlo"
      },
      "source": [
        "data_reduced['status'].value_counts()"
      ],
      "execution_count": null,
      "outputs": []
    },
    {
      "cell_type": "code",
      "metadata": {
        "colab": {
          "background_save": true
        },
        "id": "ePn9EWjplVnQ"
      },
      "source": [
        "data_reduced.info()"
      ],
      "execution_count": null,
      "outputs": []
    },
    {
      "cell_type": "code",
      "metadata": {
        "colab": {
          "background_save": true
        },
        "id": "4c1j_4FGr95x"
      },
      "source": [
        "data_reduced.repayment_interval.value_counts()"
      ],
      "execution_count": null,
      "outputs": []
    },
    {
      "cell_type": "code",
      "metadata": {
        "colab": {
          "background_save": true
        },
        "id": "Wcg48jYhsKXS"
      },
      "source": [
        "data_reduced.lender_term.value_counts()"
      ],
      "execution_count": null,
      "outputs": []
    },
    {
      "cell_type": "code",
      "metadata": {
        "colab": {
          "background_save": true
        },
        "id": "Nod4Z1mX2AZT"
      },
      "source": [
        "d = data_reduced['loan_name'].value_counts()[0:20]\n",
        "d.plot(kind='bar')"
      ],
      "execution_count": null,
      "outputs": []
    },
    {
      "cell_type": "code",
      "metadata": {
        "colab": {
          "background_save": true
        },
        "id": "tDLxY4HvJpbY"
      },
      "source": [
        "#Create a new column that shows the repayment status( 1 = irregular payment and 0 = payment on time)\n",
        "data_reduced['repayment_status'] = data_reduced.apply(lambda x: 1 if x['repayment_interval'] =='irregular' else 0, axis=1)"
      ],
      "execution_count": null,
      "outputs": []
    },
    {
      "cell_type": "code",
      "metadata": {
        "colab": {
          "background_save": true
        },
        "id": "87cuez48jqQR"
      },
      "source": [
        "data_reduced['repayment_status'].value_counts().plot(kind='pie')"
      ],
      "execution_count": null,
      "outputs": []
    },
    {
      "cell_type": "code",
      "metadata": {
        "colab": {
          "background_save": true
        },
        "id": "OOFGJLFYjqXB"
      },
      "source": [
        "data_reduced.info()"
      ],
      "execution_count": null,
      "outputs": []
    },
    {
      "cell_type": "code",
      "metadata": {
        "colab": {
          "background_save": true
        },
        "id": "8UYn_-7xqpuz"
      },
      "source": [
        "data_clean = data_reduced[['loan_name', 'funded_amount','loan_amount','currency_exchange_coverage_rate', 'partner_id','lender_term', 'num_journal_entries', 'num_bulk_entries', 'contrib_per_lend','monthly_repayment', 'repayment_status']]\n"
      ],
      "execution_count": null,
      "outputs": []
    },
    {
      "cell_type": "code",
      "metadata": {
        "colab": {
          "background_save": true
        },
        "id": "3HOhFo00s4wV"
      },
      "source": [
        "# check scikit-learn version\n",
        "import sklearn\n",
        "print(sklearn.__version__)"
      ],
      "execution_count": null,
      "outputs": []
    },
    {
      "cell_type": "code",
      "metadata": {
        "colab": {
          "background_save": true
        },
        "id": "KNvJiULKs410"
      },
      "source": [
        ""
      ],
      "execution_count": null,
      "outputs": []
    },
    {
      "cell_type": "code",
      "metadata": {
        "colab": {
          "background_save": true
        },
        "id": "tn-msHXKs46F"
      },
      "source": [
        ""
      ],
      "execution_count": null,
      "outputs": []
    },
    {
      "cell_type": "code",
      "metadata": {
        "colab": {
          "background_save": true
        },
        "id": "WNEJszhYs4-D"
      },
      "source": [
        ""
      ],
      "execution_count": null,
      "outputs": []
    },
    {
      "cell_type": "code",
      "metadata": {
        "colab": {
          "background_save": true
        },
        "id": "XvuvrojHs5E8"
      },
      "source": [
        ""
      ],
      "execution_count": null,
      "outputs": []
    },
    {
      "cell_type": "code",
      "metadata": {
        "colab": {
          "background_save": true
        },
        "id": "luYrE4lp2Ak8"
      },
      "source": [
        ""
      ],
      "execution_count": null,
      "outputs": []
    },
    {
      "cell_type": "code",
      "metadata": {
        "colab": {
          "background_save": true
        },
        "id": "-Xggn-aCr-Bq"
      },
      "source": [
        ""
      ],
      "execution_count": null,
      "outputs": []
    },
    {
      "cell_type": "code",
      "metadata": {
        "colab": {
          "background_save": true
        },
        "id": "DhoG3tT4u9h8"
      },
      "source": [
        "df2 = pd.read_csv('/content/drive/MyDrive/New Folder/lenders.csv')\n",
        "df2.head()"
      ],
      "execution_count": null,
      "outputs": []
    },
    {
      "cell_type": "code",
      "metadata": {
        "colab": {
          "background_save": true
        },
        "id": "N_3i7nOwjWlg"
      },
      "source": [
        "df2.isnull().sum()"
      ],
      "execution_count": null,
      "outputs": []
    },
    {
      "cell_type": "code",
      "metadata": {
        "colab": {
          "background_save": true
        },
        "id": "RAk5xaOijr5T"
      },
      "source": [
        "df2.info()"
      ],
      "execution_count": null,
      "outputs": []
    },
    {
      "cell_type": "code",
      "metadata": {
        "colab": {
          "background_save": true
        },
        "id": "vBf68vHhnYsv"
      },
      "source": [
        "df1['SECTOR_NAME'].value_counts()"
      ],
      "execution_count": null,
      "outputs": []
    },
    {
      "cell_type": "code",
      "metadata": {
        "colab": {
          "background_save": true
        },
        "id": "T-m61F_NnYwW"
      },
      "source": [
        ""
      ],
      "execution_count": null,
      "outputs": []
    },
    {
      "cell_type": "code",
      "metadata": {
        "colab": {
          "background_save": true
        },
        "id": "YwjggJcMnY6C"
      },
      "source": [
        ""
      ],
      "execution_count": null,
      "outputs": []
    },
    {
      "cell_type": "code",
      "metadata": {
        "colab": {
          "background_save": true
        },
        "id": "BbrTEo79nY9F"
      },
      "source": [
        ""
      ],
      "execution_count": null,
      "outputs": []
    }
  ]
}