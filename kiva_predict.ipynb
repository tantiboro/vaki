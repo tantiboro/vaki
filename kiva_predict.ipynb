{
  "nbformat": 4,
  "nbformat_minor": 0,
  "metadata": {
    "accelerator": "GPU",
    "colab": {
      "name": "kiva_predict",
      "provenance": [],
      "collapsed_sections": [],
      "toc_visible": true,
      "machine_shape": "hm",
      "mount_file_id": "1p1bDm9-k81WBhkfKriDUmM2kUaO9K630",
      "authorship_tag": "ABX9TyN1s0mGcbxq5z6WkjZEBigp",
      "include_colab_link": true
    },
    "kernelspec": {
      "display_name": "Python 3",
      "name": "python3"
    },
    "language_info": {
      "name": "python"
    }
  },
  "cells": [
    {
      "cell_type": "markdown",
      "metadata": {
        "id": "view-in-github",
        "colab_type": "text"
      },
      "source": [
        "<a href=\"https://colab.research.google.com/github/tantiboro/vaki/blob/main/kiva_predict.ipynb\" target=\"_parent\"><img src=\"https://colab.research.google.com/assets/colab-badge.svg\" alt=\"Open In Colab\"/></a>"
      ]
    },
    {
      "cell_type": "code",
      "metadata": {
        "id": "k62AJ6U7Bp7Q"
      },
      "source": [
        "#import the Dependencies\n",
        "import pandas as pd\n",
        "import numpy as np\n",
        "import seaborn as sns\n",
        "pd.set_option('display.max_rows', 50)\n",
        "pd.set_option('display.max_columns', 50)\n",
        "pd.set_option('display.max_colwidth', None)"
      ],
      "execution_count": null,
      "outputs": []
    },
    {
      "cell_type": "code",
      "metadata": {
        "colab": {
          "base_uri": "https://localhost:8080/"
        },
        "id": "dsM94H_V1DXO",
        "outputId": "3e4c4a24-88d4-44e1-8635-ce7ee2b85337"
      },
      "source": [
        "gpu_info = !nvidia-smi\n",
        "gpu_info = '\\n'.join(gpu_info)\n",
        "if gpu_info.find('failed') >= 0:\n",
        "  print('Not connected to a GPU')\n",
        "else:\n",
        "  print(gpu_info)"
      ],
      "execution_count": null,
      "outputs": [
        {
          "name": "stdout",
          "output_type": "stream",
          "text": [
            "Fri Nov  5 11:28:54 2021       \n",
            "+-----------------------------------------------------------------------------+\n",
            "| NVIDIA-SMI 495.44       Driver Version: 460.32.03    CUDA Version: 11.2     |\n",
            "|-------------------------------+----------------------+----------------------+\n",
            "| GPU  Name        Persistence-M| Bus-Id        Disp.A | Volatile Uncorr. ECC |\n",
            "| Fan  Temp  Perf  Pwr:Usage/Cap|         Memory-Usage | GPU-Util  Compute M. |\n",
            "|                               |                      |               MIG M. |\n",
            "|===============================+======================+======================|\n",
            "|   0  Tesla P100-PCIE...  Off  | 00000000:00:04.0 Off |                    0 |\n",
            "| N/A   34C    P0    28W / 250W |      0MiB / 16280MiB |      0%      Default |\n",
            "|                               |                      |                  N/A |\n",
            "+-------------------------------+----------------------+----------------------+\n",
            "                                                                               \n",
            "+-----------------------------------------------------------------------------+\n",
            "| Processes:                                                                  |\n",
            "|  GPU   GI   CI        PID   Type   Process name                  GPU Memory |\n",
            "|        ID   ID                                                   Usage      |\n",
            "|=============================================================================|\n",
            "|  No running processes found                                                 |\n",
            "+-----------------------------------------------------------------------------+\n"
          ]
        }
      ]
    },
    {
      "cell_type": "code",
      "metadata": {
        "id": "IZCkPJhG-cLh"
      },
      "source": [
        "#df = pd.read_csv('/content/drive/MyDrive/New Folder/loans_lenders.csv')"
      ],
      "execution_count": null,
      "outputs": []
    },
    {
      "cell_type": "code",
      "metadata": {
        "id": "18yHmCKdu9eV"
      },
      "source": [
        "#loading the dataset\n",
        "df = pd.read_csv('/content/drive/MyDrive/New Folder/loans.csv')"
      ],
      "execution_count": null,
      "outputs": []
    },
    {
      "cell_type": "code",
      "metadata": {
        "colab": {
          "base_uri": "https://localhost:8080/"
        },
        "id": "ZexAKrYRPOQ-",
        "outputId": "275def8d-551e-4f85-b178-61ec7f1ebc84"
      },
      "source": [
        "# How many columns and rows are they in the dataset\n",
        "print(f'The dataset has {df.shape[0]} rows and {df.shape[1]} columns.')"
      ],
      "execution_count": null,
      "outputs": [
        {
          "name": "stdout",
          "output_type": "stream",
          "text": [
            "The dataset has 2086700 rows and 34 columns.\n"
          ]
        }
      ]
    },
    {
      "cell_type": "code",
      "metadata": {
        "colab": {
          "base_uri": "https://localhost:8080/"
        },
        "id": "xd9Gt5g7O5td",
        "outputId": "ae64eb27-ac7c-49b6-be40-a65747bf511b"
      },
      "source": [
        "print(f'The columns of the dataset are: {df.columns.to_list()}')"
      ],
      "execution_count": null,
      "outputs": [
        {
          "name": "stdout",
          "output_type": "stream",
          "text": [
            "The columns of the dataset are: ['LOAN_ID', 'LOAN_NAME', 'ORIGINAL_LANGUAGE', 'DESCRIPTION', 'DESCRIPTION_TRANSLATED', 'FUNDED_AMOUNT', 'LOAN_AMOUNT', 'STATUS', 'IMAGE_ID', 'VIDEO_ID', 'ACTIVITY_NAME', 'SECTOR_NAME', 'LOAN_USE', 'COUNTRY_CODE', 'COUNTRY_NAME', 'TOWN_NAME', 'CURRENCY_POLICY', 'CURRENCY_EXCHANGE_COVERAGE_RATE', 'CURRENCY', 'PARTNER_ID', 'POSTED_TIME', 'PLANNED_EXPIRATION_TIME', 'DISBURSE_TIME', 'RAISED_TIME', 'LENDER_TERM', 'NUM_LENDERS_TOTAL', 'NUM_JOURNAL_ENTRIES', 'NUM_BULK_ENTRIES', 'TAGS', 'BORROWER_NAMES', 'BORROWER_GENDERS', 'BORROWER_PICTURED', 'REPAYMENT_INTERVAL', 'DISTRIBUTION_MODEL']\n"
          ]
        }
      ]
    },
    {
      "cell_type": "code",
      "metadata": {
        "colab": {
          "base_uri": "https://localhost:8080/"
        },
        "id": "tt8RaHKhQANc",
        "outputId": "1b2f3481-1210-4340-c76a-eb95b8da03ed"
      },
      "source": [
        "# How many NaN are in the dataframe\n",
        "df.isnull().sum()"
      ],
      "execution_count": null,
      "outputs": [
        {
          "data": {
            "text/plain": [
              "LOAN_ID                                  0\n",
              "LOAN_NAME                            50238\n",
              "ORIGINAL_LANGUAGE                    45891\n",
              "DESCRIPTION                          45926\n",
              "DESCRIPTION_TRANSLATED              455312\n",
              "FUNDED_AMOUNT                            0\n",
              "LOAN_AMOUNT                              0\n",
              "STATUS                                   0\n",
              "IMAGE_ID                             45891\n",
              "VIDEO_ID                           2085522\n",
              "ACTIVITY_NAME                            0\n",
              "SECTOR_NAME                              0\n",
              "LOAN_USE                             45914\n",
              "COUNTRY_CODE                            34\n",
              "COUNTRY_NAME                             0\n",
              "TOWN_NAME                           176345\n",
              "CURRENCY_POLICY                          0\n",
              "CURRENCY_EXCHANGE_COVERAGE_RATE     473453\n",
              "CURRENCY                                 0\n",
              "PARTNER_ID                           21173\n",
              "POSTED_TIME                              0\n",
              "PLANNED_EXPIRATION_TIME             371834\n",
              "DISBURSE_TIME                         4013\n",
              "RAISED_TIME                         102686\n",
              "LENDER_TERM                             24\n",
              "NUM_LENDERS_TOTAL                        0\n",
              "NUM_JOURNAL_ENTRIES                      0\n",
              "NUM_BULK_ENTRIES                         0\n",
              "TAGS                                942813\n",
              "BORROWER_NAMES                       50238\n",
              "BORROWER_GENDERS                     45891\n",
              "BORROWER_PICTURED                    45891\n",
              "REPAYMENT_INTERVAL                       0\n",
              "DISTRIBUTION_MODEL                       0\n",
              "dtype: int64"
            ]
          },
          "execution_count": 7,
          "metadata": {},
          "output_type": "execute_result"
        }
      ]
    },
    {
      "cell_type": "code",
      "metadata": {
        "id": "UgdwRnqpQv0E"
      },
      "source": [
        "# Dropping columns with more than 100k missing values and only informative data\n",
        "df1 = df.drop(columns = ['LOAN_ID', 'DESCRIPTION', 'COUNTRY_CODE','VIDEO_ID', 'CURRENCY_EXCHANGE_COVERAGE_RATE', 'TOWN_NAME', 'PLANNED_EXPIRATION_TIME', 'RAISED_TIME', 'TAGS', 'IMAGE_ID', 'PARTNER_ID', 'LOAN_NAME', 'ORIGINAL_LANGUAGE', 'BORROWER_NAMES', 'BORROWER_PICTURED', 'DISBURSE_TIME'], axis=1)"
      ],
      "execution_count": null,
      "outputs": []
    },
    {
      "cell_type": "code",
      "metadata": {
        "id": "9i7QZ0FttKUM"
      },
      "source": [
        "#df1.isnull().sum()"
      ],
      "execution_count": null,
      "outputs": []
    },
    {
      "cell_type": "code",
      "metadata": {
        "id": "_FdXjg6Cp6tl"
      },
      "source": [
        "df2 = df1.dropna()"
      ],
      "execution_count": null,
      "outputs": []
    },
    {
      "cell_type": "code",
      "metadata": {
        "colab": {
          "base_uri": "https://localhost:8080/"
        },
        "id": "sBF5KLpY49RY",
        "outputId": "2dd73cf9-a5c0-47f6-b140-295e1076b613"
      },
      "source": [
        "df2['STATUS'].value_counts()"
      ],
      "execution_count": null,
      "outputs": [
        {
          "data": {
            "text/plain": [
              "funded         1537208\n",
              "expired          86606\n",
              "fundRaising       7564\n",
              "Name: STATUS, dtype: int64"
            ]
          },
          "execution_count": 11,
          "metadata": {},
          "output_type": "execute_result"
        }
      ]
    },
    {
      "cell_type": "code",
      "metadata": {
        "colab": {
          "base_uri": "https://localhost:8080/"
        },
        "id": "xYnG0uJ4dZu0",
        "outputId": "94703051-1098-48e1-f7b5-b37f78c1f923"
      },
      "source": [
        "print(f'The dataset has {df2.shape[0]} rows and {df2.shape[1]} columns.')"
      ],
      "execution_count": null,
      "outputs": [
        {
          "name": "stdout",
          "output_type": "stream",
          "text": [
            "The dataset has 1631378 rows and 18 columns.\n"
          ]
        }
      ]
    },
    {
      "cell_type": "code",
      "metadata": {
        "id": "41X21YtPuKBZ"
      },
      "source": [
        "#df2.isnull().sum()"
      ],
      "execution_count": null,
      "outputs": []
    },
    {
      "cell_type": "code",
      "metadata": {
        "colab": {
          "base_uri": "https://localhost:8080/"
        },
        "id": "hh5VKBqAjbRL",
        "outputId": "652539cc-112d-4745-d8e7-833978f8f0bc"
      },
      "source": [
        "#Check the status of all the loans\n",
        "df2['STATUS'].value_counts()"
      ],
      "execution_count": null,
      "outputs": [
        {
          "data": {
            "text/plain": [
              "funded         1537208\n",
              "expired          86606\n",
              "fundRaising       7564\n",
              "Name: STATUS, dtype: int64"
            ]
          },
          "execution_count": 14,
          "metadata": {},
          "output_type": "execute_result"
        }
      ]
    },
    {
      "cell_type": "code",
      "metadata": {
        "id": "kawqz5k_jbeL"
      },
      "source": [
        ""
      ],
      "execution_count": null,
      "outputs": []
    },
    {
      "cell_type": "code",
      "metadata": {
        "colab": {
          "base_uri": "https://localhost:8080/",
          "height": 168
        },
        "id": "blJEjy1tDWY6",
        "outputId": "2e49a3f3-4ada-4a67-d8b6-f4b6492c916d"
      },
      "source": [
        "# Drop the loans that are still on fundraising stage\n",
        "data = df2.loc[df1['STATUS'] != 'fundRaising']\n",
        "data.head(1)"
      ],
      "execution_count": null,
      "outputs": [
        {
          "data": {
            "text/html": [
              "<div>\n",
              "<style scoped>\n",
              "    .dataframe tbody tr th:only-of-type {\n",
              "        vertical-align: middle;\n",
              "    }\n",
              "\n",
              "    .dataframe tbody tr th {\n",
              "        vertical-align: top;\n",
              "    }\n",
              "\n",
              "    .dataframe thead th {\n",
              "        text-align: right;\n",
              "    }\n",
              "</style>\n",
              "<table border=\"1\" class=\"dataframe\">\n",
              "  <thead>\n",
              "    <tr style=\"text-align: right;\">\n",
              "      <th></th>\n",
              "      <th>DESCRIPTION_TRANSLATED</th>\n",
              "      <th>FUNDED_AMOUNT</th>\n",
              "      <th>LOAN_AMOUNT</th>\n",
              "      <th>STATUS</th>\n",
              "      <th>ACTIVITY_NAME</th>\n",
              "      <th>SECTOR_NAME</th>\n",
              "      <th>LOAN_USE</th>\n",
              "      <th>COUNTRY_NAME</th>\n",
              "      <th>CURRENCY_POLICY</th>\n",
              "      <th>CURRENCY</th>\n",
              "      <th>POSTED_TIME</th>\n",
              "      <th>LENDER_TERM</th>\n",
              "      <th>NUM_LENDERS_TOTAL</th>\n",
              "      <th>NUM_JOURNAL_ENTRIES</th>\n",
              "      <th>NUM_BULK_ENTRIES</th>\n",
              "      <th>BORROWER_GENDERS</th>\n",
              "      <th>REPAYMENT_INTERVAL</th>\n",
              "      <th>DISTRIBUTION_MODEL</th>\n",
              "    </tr>\n",
              "  </thead>\n",
              "  <tbody>\n",
              "    <tr>\n",
              "      <th>1</th>\n",
              "      <td>Rosa works hard to support her family. Rosa is married and has a general store business in the Philippines.&lt;br /&gt;&lt;br /&gt;Rosa requested a PHP 5,000 loan through NWTF to buy more groceries to sell in her general store.&lt;br /&gt;&lt;br /&gt;Rosa has been in this business for 10 years now.&lt;br /&gt;&lt;br /&gt;Rosa would like to save enough to provide a secure future for her family.</td>\n",
              "      <td>125.0</td>\n",
              "      <td>125.0</td>\n",
              "      <td>funded</td>\n",
              "      <td>General Store</td>\n",
              "      <td>Retail</td>\n",
              "      <td>to buy more groceries to sell in her general store</td>\n",
              "      <td>Philippines</td>\n",
              "      <td>shared</td>\n",
              "      <td>PHP</td>\n",
              "      <td>2015-08-16 14:03:48.000 +0000</td>\n",
              "      <td>8.0</td>\n",
              "      <td>5</td>\n",
              "      <td>1</td>\n",
              "      <td>1</td>\n",
              "      <td>female</td>\n",
              "      <td>monthly</td>\n",
              "      <td>field_partner</td>\n",
              "    </tr>\n",
              "  </tbody>\n",
              "</table>\n",
              "</div>"
            ],
            "text/plain": [
              "                                                                                                                                                                                                                                                                                                                                                     DESCRIPTION_TRANSLATED  \\\n",
              "1  Rosa works hard to support her family. Rosa is married and has a general store business in the Philippines.<br /><br />Rosa requested a PHP 5,000 loan through NWTF to buy more groceries to sell in her general store.<br /><br />Rosa has been in this business for 10 years now.<br /><br />Rosa would like to save enough to provide a secure future for her family.   \n",
              "\n",
              "   FUNDED_AMOUNT  LOAN_AMOUNT  STATUS  ACTIVITY_NAME SECTOR_NAME  \\\n",
              "1          125.0        125.0  funded  General Store      Retail   \n",
              "\n",
              "                                             LOAN_USE COUNTRY_NAME  \\\n",
              "1  to buy more groceries to sell in her general store  Philippines   \n",
              "\n",
              "  CURRENCY_POLICY CURRENCY                    POSTED_TIME  LENDER_TERM  \\\n",
              "1          shared      PHP  2015-08-16 14:03:48.000 +0000          8.0   \n",
              "\n",
              "   NUM_LENDERS_TOTAL  NUM_JOURNAL_ENTRIES  NUM_BULK_ENTRIES BORROWER_GENDERS  \\\n",
              "1                  5                    1                 1           female   \n",
              "\n",
              "  REPAYMENT_INTERVAL DISTRIBUTION_MODEL  \n",
              "1            monthly      field_partner  "
            ]
          },
          "execution_count": 15,
          "metadata": {},
          "output_type": "execute_result"
        }
      ]
    },
    {
      "cell_type": "code",
      "metadata": {
        "colab": {
          "base_uri": "https://localhost:8080/"
        },
        "id": "6ThriRuMSTXS",
        "outputId": "94dd7db5-fd3e-45c4-b012-d1c014b4350f"
      },
      "source": [
        "# Checking again the status of the remaining loans\n",
        "data['STATUS'].value_counts()"
      ],
      "execution_count": null,
      "outputs": [
        {
          "data": {
            "text/plain": [
              "funded     1537208\n",
              "expired      86606\n",
              "Name: STATUS, dtype: int64"
            ]
          },
          "execution_count": 16,
          "metadata": {},
          "output_type": "execute_result"
        }
      ]
    },
    {
      "cell_type": "code",
      "metadata": {
        "colab": {
          "base_uri": "https://localhost:8080/"
        },
        "id": "6J5nhHe1YjQP",
        "outputId": "156dfef0-24a7-429b-a184-7b7834296bdb"
      },
      "source": [
        "print(data.dtypes)"
      ],
      "execution_count": null,
      "outputs": [
        {
          "name": "stdout",
          "output_type": "stream",
          "text": [
            "DESCRIPTION_TRANSLATED     object\n",
            "FUNDED_AMOUNT             float64\n",
            "LOAN_AMOUNT               float64\n",
            "STATUS                     object\n",
            "ACTIVITY_NAME              object\n",
            "SECTOR_NAME                object\n",
            "LOAN_USE                   object\n",
            "COUNTRY_NAME               object\n",
            "CURRENCY_POLICY            object\n",
            "CURRENCY                   object\n",
            "POSTED_TIME                object\n",
            "LENDER_TERM               float64\n",
            "NUM_LENDERS_TOTAL           int64\n",
            "NUM_JOURNAL_ENTRIES         int64\n",
            "NUM_BULK_ENTRIES            int64\n",
            "BORROWER_GENDERS           object\n",
            "REPAYMENT_INTERVAL         object\n",
            "DISTRIBUTION_MODEL         object\n",
            "dtype: object\n"
          ]
        }
      ]
    },
    {
      "cell_type": "code",
      "metadata": {
        "id": "hXfV1DF1IobR"
      },
      "source": [
        "data.columns = [i.replace(' ', '_').lower() for i in data.columns]"
      ],
      "execution_count": null,
      "outputs": []
    },
    {
      "cell_type": "code",
      "metadata": {
        "colab": {
          "base_uri": "https://localhost:8080/"
        },
        "id": "HOz7uUT5IxQu",
        "outputId": "68cfb5e3-c2b4-4c9a-981c-1ef271964b0b"
      },
      "source": [
        "print(f'The dataset has the following colums: {data.columns.to_list()}.')"
      ],
      "execution_count": null,
      "outputs": [
        {
          "name": "stdout",
          "output_type": "stream",
          "text": [
            "The dataset has the following colums: ['description_translated', 'funded_amount', 'loan_amount', 'status', 'activity_name', 'sector_name', 'loan_use', 'country_name', 'currency_policy', 'currency', 'posted_time', 'lender_term', 'num_lenders_total', 'num_journal_entries', 'num_bulk_entries', 'borrower_genders', 'repayment_interval', 'distribution_model'].\n"
          ]
        }
      ]
    },
    {
      "cell_type": "code",
      "metadata": {
        "colab": {
          "base_uri": "https://localhost:8080/"
        },
        "id": "zdOmIsi2aGps",
        "outputId": "957f6c28-596d-4a6d-b01e-0cfb543e7041"
      },
      "source": [
        "dat = data.copy()\n",
        "dat['status'].value_counts()"
      ],
      "execution_count": null,
      "outputs": [
        {
          "data": {
            "text/plain": [
              "funded     1537208\n",
              "expired      86606\n",
              "Name: status, dtype: int64"
            ]
          },
          "execution_count": 20,
          "metadata": {},
          "output_type": "execute_result"
        }
      ]
    },
    {
      "cell_type": "code",
      "metadata": {
        "colab": {
          "base_uri": "https://localhost:8080/",
          "height": 168
        },
        "id": "tR4KFRQOJbFG",
        "outputId": "24b0e618-e574-4d16-8401-3e3579916a09"
      },
      "source": [
        "dat.head(1)"
      ],
      "execution_count": null,
      "outputs": [
        {
          "data": {
            "text/html": [
              "<div>\n",
              "<style scoped>\n",
              "    .dataframe tbody tr th:only-of-type {\n",
              "        vertical-align: middle;\n",
              "    }\n",
              "\n",
              "    .dataframe tbody tr th {\n",
              "        vertical-align: top;\n",
              "    }\n",
              "\n",
              "    .dataframe thead th {\n",
              "        text-align: right;\n",
              "    }\n",
              "</style>\n",
              "<table border=\"1\" class=\"dataframe\">\n",
              "  <thead>\n",
              "    <tr style=\"text-align: right;\">\n",
              "      <th></th>\n",
              "      <th>description_translated</th>\n",
              "      <th>funded_amount</th>\n",
              "      <th>loan_amount</th>\n",
              "      <th>status</th>\n",
              "      <th>activity_name</th>\n",
              "      <th>sector_name</th>\n",
              "      <th>loan_use</th>\n",
              "      <th>country_name</th>\n",
              "      <th>currency_policy</th>\n",
              "      <th>currency</th>\n",
              "      <th>posted_time</th>\n",
              "      <th>lender_term</th>\n",
              "      <th>num_lenders_total</th>\n",
              "      <th>num_journal_entries</th>\n",
              "      <th>num_bulk_entries</th>\n",
              "      <th>borrower_genders</th>\n",
              "      <th>repayment_interval</th>\n",
              "      <th>distribution_model</th>\n",
              "    </tr>\n",
              "  </thead>\n",
              "  <tbody>\n",
              "    <tr>\n",
              "      <th>1</th>\n",
              "      <td>Rosa works hard to support her family. Rosa is married and has a general store business in the Philippines.&lt;br /&gt;&lt;br /&gt;Rosa requested a PHP 5,000 loan through NWTF to buy more groceries to sell in her general store.&lt;br /&gt;&lt;br /&gt;Rosa has been in this business for 10 years now.&lt;br /&gt;&lt;br /&gt;Rosa would like to save enough to provide a secure future for her family.</td>\n",
              "      <td>125.0</td>\n",
              "      <td>125.0</td>\n",
              "      <td>funded</td>\n",
              "      <td>General Store</td>\n",
              "      <td>Retail</td>\n",
              "      <td>to buy more groceries to sell in her general store</td>\n",
              "      <td>Philippines</td>\n",
              "      <td>shared</td>\n",
              "      <td>PHP</td>\n",
              "      <td>2015-08-16 14:03:48.000 +0000</td>\n",
              "      <td>8.0</td>\n",
              "      <td>5</td>\n",
              "      <td>1</td>\n",
              "      <td>1</td>\n",
              "      <td>female</td>\n",
              "      <td>monthly</td>\n",
              "      <td>field_partner</td>\n",
              "    </tr>\n",
              "  </tbody>\n",
              "</table>\n",
              "</div>"
            ],
            "text/plain": [
              "                                                                                                                                                                                                                                                                                                                                                     description_translated  \\\n",
              "1  Rosa works hard to support her family. Rosa is married and has a general store business in the Philippines.<br /><br />Rosa requested a PHP 5,000 loan through NWTF to buy more groceries to sell in her general store.<br /><br />Rosa has been in this business for 10 years now.<br /><br />Rosa would like to save enough to provide a secure future for her family.   \n",
              "\n",
              "   funded_amount  loan_amount  status  activity_name sector_name  \\\n",
              "1          125.0        125.0  funded  General Store      Retail   \n",
              "\n",
              "                                             loan_use country_name  \\\n",
              "1  to buy more groceries to sell in her general store  Philippines   \n",
              "\n",
              "  currency_policy currency                    posted_time  lender_term  \\\n",
              "1          shared      PHP  2015-08-16 14:03:48.000 +0000          8.0   \n",
              "\n",
              "   num_lenders_total  num_journal_entries  num_bulk_entries borrower_genders  \\\n",
              "1                  5                    1                 1           female   \n",
              "\n",
              "  repayment_interval distribution_model  \n",
              "1            monthly      field_partner  "
            ]
          },
          "execution_count": 21,
          "metadata": {},
          "output_type": "execute_result"
        }
      ]
    },
    {
      "cell_type": "code",
      "metadata": {
        "colab": {
          "base_uri": "https://localhost:8080/",
          "height": 321
        },
        "id": "apO5GZQbY00A",
        "outputId": "1947b38d-2dca-4a6f-fd65-985f3297d255"
      },
      "source": [
        "dat['status'].value_counts().plot(kind='bar')"
      ],
      "execution_count": null,
      "outputs": [
        {
          "data": {
            "text/plain": [
              "<matplotlib.axes._subplots.AxesSubplot at 0x7f91a7f53690>"
            ]
          },
          "execution_count": 22,
          "metadata": {},
          "output_type": "execute_result"
        },
        {
          "data": {
            "image/png": "[encoded data removed]",
            "text/plain": [
              "<Figure size 432x288 with 1 Axes>"
            ]
          },
          "metadata": {},
          "output_type": "display_data"
        }
      ]
    },
    {
      "cell_type": "code",
      "metadata": {
        "colab": {
          "base_uri": "https://localhost:8080/",
          "height": 345
        },
        "id": "s5r6vNY8S-rp",
        "outputId": "0b958409-c556-4c59-ee37-538b778e620f"
      },
      "source": [
        "dat['sector_name'].value_counts().plot(kind='bar')"
      ],
      "execution_count": null,
      "outputs": [
        {
          "data": {
            "text/plain": [
              "<matplotlib.axes._subplots.AxesSubplot at 0x7f91a7edb550>"
            ]
          },
          "execution_count": 23,
          "metadata": {},
          "output_type": "execute_result"
        },
        {
          "data": {
            "image/png": "[encoded data removed]",
            "text/plain": [
              "<Figure size 432x288 with 1 Axes>"
            ]
          },
          "metadata": {},
          "output_type": "display_data"
        }
      ]
    },
    {
      "cell_type": "code",
      "metadata": {
        "id": "Yc9j3rar3u2j"
      },
      "source": [
        "#dat.loc[dat['status'] == 'funded', 'posted_time'].apply(lambda v: v.year).unique()"
      ],
      "execution_count": null,
      "outputs": []
    },
    {
      "cell_type": "markdown",
      "metadata": {
        "id": "yrJhX_Kcsbdi"
      },
      "source": [
        ""
      ]
    },
    {
      "cell_type": "code",
      "metadata": {
        "colab": {
          "base_uri": "https://localhost:8080/",
          "height": 1000
        },
        "id": "5_ACqpZzaBTk",
        "outputId": "976ccd33-de3d-44bc-d981-6fe04771af32"
      },
      "source": [
        "dat[['loan_amount', 'sector_name', 'status']].groupby(['sector_name', 'status']).count()"
      ],
      "execution_count": null,
      "outputs": [
        {
          "data": {
            "text/html": [
              "<div>\n",
              "<style scoped>\n",
              "    .dataframe tbody tr th:only-of-type {\n",
              "        vertical-align: middle;\n",
              "    }\n",
              "\n",
              "    .dataframe tbody tr th {\n",
              "        vertical-align: top;\n",
              "    }\n",
              "\n",
              "    .dataframe thead th {\n",
              "        text-align: right;\n",
              "    }\n",
              "</style>\n",
              "<table border=\"1\" class=\"dataframe\">\n",
              "  <thead>\n",
              "    <tr style=\"text-align: right;\">\n",
              "      <th></th>\n",
              "      <th></th>\n",
              "      <th>loan_amount</th>\n",
              "    </tr>\n",
              "    <tr>\n",
              "      <th>sector_name</th>\n",
              "      <th>status</th>\n",
              "      <th></th>\n",
              "    </tr>\n",
              "  </thead>\n",
              "  <tbody>\n",
              "    <tr>\n",
              "      <th rowspan=\"2\" valign=\"top\">Agriculture</th>\n",
              "      <th>expired</th>\n",
              "      <td>24015</td>\n",
              "    </tr>\n",
              "    <tr>\n",
              "      <th>funded</th>\n",
              "      <td>412565</td>\n",
              "    </tr>\n",
              "    <tr>\n",
              "      <th rowspan=\"2\" valign=\"top\">Arts</th>\n",
              "      <th>expired</th>\n",
              "      <td>273</td>\n",
              "    </tr>\n",
              "    <tr>\n",
              "      <th>funded</th>\n",
              "      <td>33126</td>\n",
              "    </tr>\n",
              "    <tr>\n",
              "      <th rowspan=\"2\" valign=\"top\">Clothing</th>\n",
              "      <th>expired</th>\n",
              "      <td>5427</td>\n",
              "    </tr>\n",
              "    <tr>\n",
              "      <th>funded</th>\n",
              "      <td>76251</td>\n",
              "    </tr>\n",
              "    <tr>\n",
              "      <th rowspan=\"2\" valign=\"top\">Construction</th>\n",
              "      <th>expired</th>\n",
              "      <td>741</td>\n",
              "    </tr>\n",
              "    <tr>\n",
              "      <th>funded</th>\n",
              "      <td>16466</td>\n",
              "    </tr>\n",
              "    <tr>\n",
              "      <th rowspan=\"2\" valign=\"top\">Education</th>\n",
              "      <th>expired</th>\n",
              "      <td>978</td>\n",
              "    </tr>\n",
              "    <tr>\n",
              "      <th>funded</th>\n",
              "      <td>64980</td>\n",
              "    </tr>\n",
              "    <tr>\n",
              "      <th rowspan=\"2\" valign=\"top\">Entertainment</th>\n",
              "      <th>expired</th>\n",
              "      <td>171</td>\n",
              "    </tr>\n",
              "    <tr>\n",
              "      <th>funded</th>\n",
              "      <td>1668</td>\n",
              "    </tr>\n",
              "    <tr>\n",
              "      <th rowspan=\"2\" valign=\"top\">Food</th>\n",
              "      <th>expired</th>\n",
              "      <td>15304</td>\n",
              "    </tr>\n",
              "    <tr>\n",
              "      <th>funded</th>\n",
              "      <td>322141</td>\n",
              "    </tr>\n",
              "    <tr>\n",
              "      <th rowspan=\"2\" valign=\"top\">Health</th>\n",
              "      <th>expired</th>\n",
              "      <td>1836</td>\n",
              "    </tr>\n",
              "    <tr>\n",
              "      <th>funded</th>\n",
              "      <td>24142</td>\n",
              "    </tr>\n",
              "    <tr>\n",
              "      <th rowspan=\"2\" valign=\"top\">Housing</th>\n",
              "      <th>expired</th>\n",
              "      <td>6077</td>\n",
              "    </tr>\n",
              "    <tr>\n",
              "      <th>funded</th>\n",
              "      <td>90198</td>\n",
              "    </tr>\n",
              "    <tr>\n",
              "      <th rowspan=\"2\" valign=\"top\">Manufacturing</th>\n",
              "      <th>expired</th>\n",
              "      <td>32</td>\n",
              "    </tr>\n",
              "    <tr>\n",
              "      <th>funded</th>\n",
              "      <td>14109</td>\n",
              "    </tr>\n",
              "    <tr>\n",
              "      <th rowspan=\"2\" valign=\"top\">Personal Use</th>\n",
              "      <th>expired</th>\n",
              "      <td>2019</td>\n",
              "    </tr>\n",
              "    <tr>\n",
              "      <th>funded</th>\n",
              "      <td>71139</td>\n",
              "    </tr>\n",
              "    <tr>\n",
              "      <th rowspan=\"2\" valign=\"top\">Retail</th>\n",
              "      <th>expired</th>\n",
              "      <td>19139</td>\n",
              "    </tr>\n",
              "    <tr>\n",
              "      <th>funded</th>\n",
              "      <td>281654</td>\n",
              "    </tr>\n",
              "    <tr>\n",
              "      <th rowspan=\"2\" valign=\"top\">Services</th>\n",
              "      <th>expired</th>\n",
              "      <td>7019</td>\n",
              "    </tr>\n",
              "    <tr>\n",
              "      <th>funded</th>\n",
              "      <td>97925</td>\n",
              "    </tr>\n",
              "    <tr>\n",
              "      <th rowspan=\"2\" valign=\"top\">Transportation</th>\n",
              "      <th>expired</th>\n",
              "      <td>3520</td>\n",
              "    </tr>\n",
              "    <tr>\n",
              "      <th>funded</th>\n",
              "      <td>29435</td>\n",
              "    </tr>\n",
              "    <tr>\n",
              "      <th rowspan=\"2\" valign=\"top\">Wholesale</th>\n",
              "      <th>expired</th>\n",
              "      <td>55</td>\n",
              "    </tr>\n",
              "    <tr>\n",
              "      <th>funded</th>\n",
              "      <td>1409</td>\n",
              "    </tr>\n",
              "  </tbody>\n",
              "</table>\n",
              "</div>"
            ],
            "text/plain": [
              "                        loan_amount\n",
              "sector_name    status              \n",
              "Agriculture    expired        24015\n",
              "               funded        412565\n",
              "Arts           expired          273\n",
              "               funded         33126\n",
              "Clothing       expired         5427\n",
              "               funded         76251\n",
              "Construction   expired          741\n",
              "               funded         16466\n",
              "Education      expired          978\n",
              "               funded         64980\n",
              "Entertainment  expired          171\n",
              "               funded          1668\n",
              "Food           expired        15304\n",
              "               funded        322141\n",
              "Health         expired         1836\n",
              "               funded         24142\n",
              "Housing        expired         6077\n",
              "               funded         90198\n",
              "Manufacturing  expired           32\n",
              "               funded         14109\n",
              "Personal Use   expired         2019\n",
              "               funded         71139\n",
              "Retail         expired        19139\n",
              "               funded        281654\n",
              "Services       expired         7019\n",
              "               funded         97925\n",
              "Transportation expired         3520\n",
              "               funded         29435\n",
              "Wholesale      expired           55\n",
              "               funded          1409"
            ]
          },
          "execution_count": 25,
          "metadata": {},
          "output_type": "execute_result"
        }
      ]
    },
    {
      "cell_type": "code",
      "metadata": {
        "id": "GiIdI_QDsfCw"
      },
      "source": [
        "bins = np.array([0, 200, 400, 600, 1000, 100000, 500000])"
      ],
      "execution_count": null,
      "outputs": []
    },
    {
      "cell_type": "code",
      "metadata": {
        "id": "X5lVLDdm1Apr"
      },
      "source": [
        "labels = pd.cut(dat.loan_amount, bins)"
      ],
      "execution_count": null,
      "outputs": []
    },
    {
      "cell_type": "code",
      "metadata": {
        "colab": {
          "base_uri": "https://localhost:8080/"
        },
        "id": "dss4wtV71Ata",
        "outputId": "33f86750-0dde-428f-9a74-44ad479242bf"
      },
      "source": [
        "labels"
      ],
      "execution_count": null,
      "outputs": [
        {
          "data": {
            "text/plain": [
              "1                (0, 200]\n",
              "2                (0, 200]\n",
              "3          (1000, 100000]\n",
              "4              (400, 600]\n",
              "5              (200, 400]\n",
              "                ...      \n",
              "2086695        (400, 600]\n",
              "2086696          (0, 200]\n",
              "2086697        (400, 600]\n",
              "2086698    (1000, 100000]\n",
              "2086699    (1000, 100000]\n",
              "Name: loan_amount, Length: 1623814, dtype: category\n",
              "Categories (6, interval[int64]): [(0, 200] < (200, 400] < (400, 600] < (600, 1000] <\n",
              "                                  (1000, 100000] < (100000, 500000]]"
            ]
          },
          "execution_count": 28,
          "metadata": {},
          "output_type": "execute_result"
        }
      ]
    },
    {
      "cell_type": "code",
      "metadata": {
        "id": "oMbAzNo31Axn"
      },
      "source": [
        "grouped = dat.groupby(['status', labels])"
      ],
      "execution_count": null,
      "outputs": []
    },
    {
      "cell_type": "code",
      "metadata": {
        "colab": {
          "base_uri": "https://localhost:8080/",
          "height": 144
        },
        "id": "sEcPk0o211vj",
        "outputId": "257358b0-e050-4739-eeb4-b7f64754b2cc"
      },
      "source": [
        "grouped.size().unstack()"
      ],
      "execution_count": null,
      "outputs": [
        {
          "data": {
            "text/html": [
              "<div>\n",
              "<style scoped>\n",
              "    .dataframe tbody tr th:only-of-type {\n",
              "        vertical-align: middle;\n",
              "    }\n",
              "\n",
              "    .dataframe tbody tr th {\n",
              "        vertical-align: top;\n",
              "    }\n",
              "\n",
              "    .dataframe thead th {\n",
              "        text-align: right;\n",
              "    }\n",
              "</style>\n",
              "<table border=\"1\" class=\"dataframe\">\n",
              "  <thead>\n",
              "    <tr style=\"text-align: right;\">\n",
              "      <th>loan_amount</th>\n",
              "      <th>(0, 200]</th>\n",
              "      <th>(200, 400]</th>\n",
              "      <th>(400, 600]</th>\n",
              "      <th>(600, 1000]</th>\n",
              "      <th>(1000, 100000]</th>\n",
              "      <th>(100000, 500000]</th>\n",
              "    </tr>\n",
              "    <tr>\n",
              "      <th>status</th>\n",
              "      <th></th>\n",
              "      <th></th>\n",
              "      <th></th>\n",
              "      <th></th>\n",
              "      <th></th>\n",
              "      <th></th>\n",
              "    </tr>\n",
              "  </thead>\n",
              "  <tbody>\n",
              "    <tr>\n",
              "      <th>expired</th>\n",
              "      <td>86</td>\n",
              "      <td>5439</td>\n",
              "      <td>13018</td>\n",
              "      <td>26046</td>\n",
              "      <td>42017</td>\n",
              "      <td>0</td>\n",
              "    </tr>\n",
              "    <tr>\n",
              "      <th>funded</th>\n",
              "      <td>282320</td>\n",
              "      <td>402571</td>\n",
              "      <td>274334</td>\n",
              "      <td>273489</td>\n",
              "      <td>304466</td>\n",
              "      <td>28</td>\n",
              "    </tr>\n",
              "  </tbody>\n",
              "</table>\n",
              "</div>"
            ],
            "text/plain": [
              "loan_amount  (0, 200]  (200, 400]  (400, 600]  (600, 1000]  (1000, 100000]  \\\n",
              "status                                                                       \n",
              "expired            86        5439       13018        26046           42017   \n",
              "funded         282320      402571      274334       273489          304466   \n",
              "\n",
              "loan_amount  (100000, 500000]  \n",
              "status                         \n",
              "expired                     0  \n",
              "funded                     28  "
            ]
          },
          "execution_count": 30,
          "metadata": {},
          "output_type": "execute_result"
        }
      ]
    },
    {
      "cell_type": "code",
      "metadata": {
        "id": "GyjLHL3y11zV"
      },
      "source": [
        ""
      ],
      "execution_count": null,
      "outputs": []
    },
    {
      "cell_type": "code",
      "metadata": {
        "id": "O6O-h_sf113U"
      },
      "source": [
        ""
      ],
      "execution_count": null,
      "outputs": []
    },
    {
      "cell_type": "code",
      "metadata": {
        "colab": {
          "base_uri": "https://localhost:8080/",
          "height": 144
        },
        "id": "RQDXvTxiLNfQ",
        "outputId": "ba72d51a-9b81-4a99-e5c2-4b1769197142"
      },
      "source": [
        "dat.groupby('status').mean()"
      ],
      "execution_count": null,
      "outputs": [
        {
          "data": {
            "text/html": [
              "<div>\n",
              "<style scoped>\n",
              "    .dataframe tbody tr th:only-of-type {\n",
              "        vertical-align: middle;\n",
              "    }\n",
              "\n",
              "    .dataframe tbody tr th {\n",
              "        vertical-align: top;\n",
              "    }\n",
              "\n",
              "    .dataframe thead th {\n",
              "        text-align: right;\n",
              "    }\n",
              "</style>\n",
              "<table border=\"1\" class=\"dataframe\">\n",
              "  <thead>\n",
              "    <tr style=\"text-align: right;\">\n",
              "      <th></th>\n",
              "      <th>funded_amount</th>\n",
              "      <th>loan_amount</th>\n",
              "      <th>lender_term</th>\n",
              "      <th>num_lenders_total</th>\n",
              "      <th>num_journal_entries</th>\n",
              "      <th>num_bulk_entries</th>\n",
              "    </tr>\n",
              "    <tr>\n",
              "      <th>status</th>\n",
              "      <th></th>\n",
              "      <th></th>\n",
              "      <th></th>\n",
              "      <th></th>\n",
              "      <th></th>\n",
              "      <th></th>\n",
              "    </tr>\n",
              "  </thead>\n",
              "  <tbody>\n",
              "    <tr>\n",
              "      <th>expired</th>\n",
              "      <td>587.280558</td>\n",
              "      <td>1419.374812</td>\n",
              "      <td>18.185437</td>\n",
              "      <td>15.439150</td>\n",
              "      <td>1.014064</td>\n",
              "      <td>1.000820</td>\n",
              "    </tr>\n",
              "    <tr>\n",
              "      <th>funded</th>\n",
              "      <td>796.813200</td>\n",
              "      <td>796.813346</td>\n",
              "      <td>12.980549</td>\n",
              "      <td>21.304216</td>\n",
              "      <td>1.504796</td>\n",
              "      <td>1.134655</td>\n",
              "    </tr>\n",
              "  </tbody>\n",
              "</table>\n",
              "</div>"
            ],
            "text/plain": [
              "         funded_amount  loan_amount  lender_term  num_lenders_total  \\\n",
              "status                                                                \n",
              "expired     587.280558  1419.374812    18.185437          15.439150   \n",
              "funded      796.813200   796.813346    12.980549          21.304216   \n",
              "\n",
              "         num_journal_entries  num_bulk_entries  \n",
              "status                                          \n",
              "expired             1.014064          1.000820  \n",
              "funded              1.504796          1.134655  "
            ]
          },
          "execution_count": 31,
          "metadata": {},
          "output_type": "execute_result"
        }
      ]
    },
    {
      "cell_type": "code",
      "metadata": {
        "colab": {
          "base_uri": "https://localhost:8080/"
        },
        "id": "RYtygiR7w7bV",
        "outputId": "b7885d6c-f3da-46d6-edfc-53e820946beb"
      },
      "source": [
        "dat['loan_amount_higher'] = np.where(dat['funded_amount'] >= dat['loan_amount'], \n",
        "                                           'yes', 'no')\n",
        "dat['loan_amount_higher'].value_counts()"
      ],
      "execution_count": null,
      "outputs": [
        {
          "data": {
            "text/plain": [
              "yes    1537211\n",
              "no       86603\n",
              "Name: loan_amount_higher, dtype: int64"
            ]
          },
          "execution_count": 32,
          "metadata": {},
          "output_type": "execute_result"
        }
      ]
    },
    {
      "cell_type": "code",
      "metadata": {
        "colab": {
          "base_uri": "https://localhost:8080/",
          "height": 310
        },
        "id": "pdkALoyHby5T",
        "outputId": "40e66848-92c2-4a73-beb3-b6f598f3a672"
      },
      "source": [
        "learning_data = dat[['loan_amount', 'loan_use', 'sector_name', 'status']]\n",
        "learning_data['status'] = dat.apply(lambda x: 1 if x.status == 'funded' else 0, axis=1)\n",
        "\n",
        "learning_data.head()"
      ],
      "execution_count": null,
      "outputs": [
        {
          "name": "stderr",
          "output_type": "stream",
          "text": [
            "/usr/local/lib/python3.7/dist-packages/ipykernel_launcher.py:2: SettingWithCopyWarning: \n",
            "A value is trying to be set on a copy of a slice from a DataFrame.\n",
            "Try using .loc[row_indexer,col_indexer] = value instead\n",
            "\n",
            "See the caveats in the documentation: https://pandas.pydata.org/pandas-docs/stable/user_guide/indexing.html#returning-a-view-versus-a-copy\n",
            "  \n"
          ]
        },
        {
          "data": {
            "text/html": [
              "<div>\n",
              "<style scoped>\n",
              "    .dataframe tbody tr th:only-of-type {\n",
              "        vertical-align: middle;\n",
              "    }\n",
              "\n",
              "    .dataframe tbody tr th {\n",
              "        vertical-align: top;\n",
              "    }\n",
              "\n",
              "    .dataframe thead th {\n",
              "        text-align: right;\n",
              "    }\n",
              "</style>\n",
              "<table border=\"1\" class=\"dataframe\">\n",
              "  <thead>\n",
              "    <tr style=\"text-align: right;\">\n",
              "      <th></th>\n",
              "      <th>loan_amount</th>\n",
              "      <th>loan_use</th>\n",
              "      <th>sector_name</th>\n",
              "      <th>status</th>\n",
              "    </tr>\n",
              "  </thead>\n",
              "  <tbody>\n",
              "    <tr>\n",
              "      <th>1</th>\n",
              "      <td>125.0</td>\n",
              "      <td>to buy more groceries to sell in her general store</td>\n",
              "      <td>Retail</td>\n",
              "      <td>1</td>\n",
              "    </tr>\n",
              "    <tr>\n",
              "      <th>2</th>\n",
              "      <td>175.0</td>\n",
              "      <td>to buy more bananas to sell and other supplies needed in her business.</td>\n",
              "      <td>Food</td>\n",
              "      <td>1</td>\n",
              "    </tr>\n",
              "    <tr>\n",
              "      <th>3</th>\n",
              "      <td>1400.0</td>\n",
              "      <td>to buy more taro roots (seedlings), more banana tubers (seedlings), chemicals, a backpack sprayer, a wheelbarrow, a chainsaw, and a rake.</td>\n",
              "      <td>Agriculture</td>\n",
              "      <td>1</td>\n",
              "    </tr>\n",
              "    <tr>\n",
              "      <th>4</th>\n",
              "      <td>425.0</td>\n",
              "      <td>to increase her stock of  various brands of beer: 33 Export, Mutzig, Amstel,   etc</td>\n",
              "      <td>Food</td>\n",
              "      <td>1</td>\n",
              "    </tr>\n",
              "    <tr>\n",
              "      <th>5</th>\n",
              "      <td>325.0</td>\n",
              "      <td>to buy fertilizers and seeds to get a good yield and grow his farming business.</td>\n",
              "      <td>Agriculture</td>\n",
              "      <td>1</td>\n",
              "    </tr>\n",
              "  </tbody>\n",
              "</table>\n",
              "</div>"
            ],
            "text/plain": [
              "   loan_amount  \\\n",
              "1        125.0   \n",
              "2        175.0   \n",
              "3       1400.0   \n",
              "4        425.0   \n",
              "5        325.0   \n",
              "\n",
              "                                                                                                                                    loan_use  \\\n",
              "1                                                                                         to buy more groceries to sell in her general store   \n",
              "2                                                                     to buy more bananas to sell and other supplies needed in her business.   \n",
              "3  to buy more taro roots (seedlings), more banana tubers (seedlings), chemicals, a backpack sprayer, a wheelbarrow, a chainsaw, and a rake.   \n",
              "4                                                         to increase her stock of  various brands of beer: 33 Export, Mutzig, Amstel,   etc   \n",
              "5                                                            to buy fertilizers and seeds to get a good yield and grow his farming business.   \n",
              "\n",
              "   sector_name  status  \n",
              "1       Retail       1  \n",
              "2         Food       1  \n",
              "3  Agriculture       1  \n",
              "4         Food       1  \n",
              "5  Agriculture       1  "
            ]
          },
          "execution_count": 33,
          "metadata": {},
          "output_type": "execute_result"
        }
      ]
    },
    {
      "cell_type": "code",
      "metadata": {
        "colab": {
          "base_uri": "https://localhost:8080/"
        },
        "id": "zPsdVnGNwhoL",
        "outputId": "b30de84e-0d90-4a67-e2dc-bb4073921a53"
      },
      "source": [
        "cat_data = dat[['sector_name']]\n",
        "cat_data.nunique()"
      ],
      "execution_count": null,
      "outputs": [
        {
          "data": {
            "text/plain": [
              "sector_name    15\n",
              "dtype: int64"
            ]
          },
          "execution_count": 34,
          "metadata": {},
          "output_type": "execute_result"
        }
      ]
    },
    {
      "cell_type": "code",
      "metadata": {
        "colab": {
          "base_uri": "https://localhost:8080/"
        },
        "id": "lY7bDiO8whri",
        "outputId": "e6ce2b94-38b0-4f5e-a3ed-080fb918a010"
      },
      "source": [
        "from sklearn.preprocessing import OneHotEncoder\n",
        "\n",
        "cat_encoder = OneHotEncoder()\n",
        "cat_data_1hot = cat_encoder.fit_transform(cat_data)\n",
        "cat_data_1hot"
      ],
      "execution_count": null,
      "outputs": [
        {
          "data": {
            "text/plain": [
              "<1623814x15 sparse matrix of type '<class 'numpy.float64'>'\n",
              "\twith 1623814 stored elements in Compressed Sparse Row format>"
            ]
          },
          "execution_count": 35,
          "metadata": {},
          "output_type": "execute_result"
        }
      ]
    },
    {
      "cell_type": "code",
      "metadata": {
        "colab": {
          "base_uri": "https://localhost:8080/"
        },
        "id": "AEgJlFKGwhuv",
        "outputId": "6b185305-d0cd-497f-b032-410f3bf06879"
      },
      "source": [
        "cat_data_1hot.toarray()"
      ],
      "execution_count": null,
      "outputs": [
        {
          "data": {
            "text/plain": [
              "array([[0., 0., 0., ..., 0., 0., 0.],\n",
              "       [0., 0., 0., ..., 0., 0., 0.],\n",
              "       [1., 0., 0., ..., 0., 0., 0.],\n",
              "       ...,\n",
              "       [1., 0., 0., ..., 0., 0., 0.],\n",
              "       [1., 0., 0., ..., 0., 0., 0.],\n",
              "       [0., 0., 0., ..., 0., 0., 0.]])"
            ]
          },
          "execution_count": 36,
          "metadata": {},
          "output_type": "execute_result"
        }
      ]
    },
    {
      "cell_type": "code",
      "metadata": {
        "colab": {
          "base_uri": "https://localhost:8080/",
          "height": 206
        },
        "id": "oiW__n7-xjBz",
        "outputId": "17943cbb-5c97-46bb-9442-2f9d40d24553"
      },
      "source": [
        "df3 = pd.DataFrame(cat_data_1hot.toarray())\n",
        "df3.head()"
      ],
      "execution_count": null,
      "outputs": [
        {
          "data": {
            "text/html": [
              "<div>\n",
              "<style scoped>\n",
              "    .dataframe tbody tr th:only-of-type {\n",
              "        vertical-align: middle;\n",
              "    }\n",
              "\n",
              "    .dataframe tbody tr th {\n",
              "        vertical-align: top;\n",
              "    }\n",
              "\n",
              "    .dataframe thead th {\n",
              "        text-align: right;\n",
              "    }\n",
              "</style>\n",
              "<table border=\"1\" class=\"dataframe\">\n",
              "  <thead>\n",
              "    <tr style=\"text-align: right;\">\n",
              "      <th></th>\n",
              "      <th>0</th>\n",
              "      <th>1</th>\n",
              "      <th>2</th>\n",
              "      <th>3</th>\n",
              "      <th>4</th>\n",
              "      <th>5</th>\n",
              "      <th>6</th>\n",
              "      <th>7</th>\n",
              "      <th>8</th>\n",
              "      <th>9</th>\n",
              "      <th>10</th>\n",
              "      <th>11</th>\n",
              "      <th>12</th>\n",
              "      <th>13</th>\n",
              "      <th>14</th>\n",
              "    </tr>\n",
              "  </thead>\n",
              "  <tbody>\n",
              "    <tr>\n",
              "      <th>0</th>\n",
              "      <td>0.0</td>\n",
              "      <td>0.0</td>\n",
              "      <td>0.0</td>\n",
              "      <td>0.0</td>\n",
              "      <td>0.0</td>\n",
              "      <td>0.0</td>\n",
              "      <td>0.0</td>\n",
              "      <td>0.0</td>\n",
              "      <td>0.0</td>\n",
              "      <td>0.0</td>\n",
              "      <td>0.0</td>\n",
              "      <td>1.0</td>\n",
              "      <td>0.0</td>\n",
              "      <td>0.0</td>\n",
              "      <td>0.0</td>\n",
              "    </tr>\n",
              "    <tr>\n",
              "      <th>1</th>\n",
              "      <td>0.0</td>\n",
              "      <td>0.0</td>\n",
              "      <td>0.0</td>\n",
              "      <td>0.0</td>\n",
              "      <td>0.0</td>\n",
              "      <td>0.0</td>\n",
              "      <td>1.0</td>\n",
              "      <td>0.0</td>\n",
              "      <td>0.0</td>\n",
              "      <td>0.0</td>\n",
              "      <td>0.0</td>\n",
              "      <td>0.0</td>\n",
              "      <td>0.0</td>\n",
              "      <td>0.0</td>\n",
              "      <td>0.0</td>\n",
              "    </tr>\n",
              "    <tr>\n",
              "      <th>2</th>\n",
              "      <td>1.0</td>\n",
              "      <td>0.0</td>\n",
              "      <td>0.0</td>\n",
              "      <td>0.0</td>\n",
              "      <td>0.0</td>\n",
              "      <td>0.0</td>\n",
              "      <td>0.0</td>\n",
              "      <td>0.0</td>\n",
              "      <td>0.0</td>\n",
              "      <td>0.0</td>\n",
              "      <td>0.0</td>\n",
              "      <td>0.0</td>\n",
              "      <td>0.0</td>\n",
              "      <td>0.0</td>\n",
              "      <td>0.0</td>\n",
              "    </tr>\n",
              "    <tr>\n",
              "      <th>3</th>\n",
              "      <td>0.0</td>\n",
              "      <td>0.0</td>\n",
              "      <td>0.0</td>\n",
              "      <td>0.0</td>\n",
              "      <td>0.0</td>\n",
              "      <td>0.0</td>\n",
              "      <td>1.0</td>\n",
              "      <td>0.0</td>\n",
              "      <td>0.0</td>\n",
              "      <td>0.0</td>\n",
              "      <td>0.0</td>\n",
              "      <td>0.0</td>\n",
              "      <td>0.0</td>\n",
              "      <td>0.0</td>\n",
              "      <td>0.0</td>\n",
              "    </tr>\n",
              "    <tr>\n",
              "      <th>4</th>\n",
              "      <td>1.0</td>\n",
              "      <td>0.0</td>\n",
              "      <td>0.0</td>\n",
              "      <td>0.0</td>\n",
              "      <td>0.0</td>\n",
              "      <td>0.0</td>\n",
              "      <td>0.0</td>\n",
              "      <td>0.0</td>\n",
              "      <td>0.0</td>\n",
              "      <td>0.0</td>\n",
              "      <td>0.0</td>\n",
              "      <td>0.0</td>\n",
              "      <td>0.0</td>\n",
              "      <td>0.0</td>\n",
              "      <td>0.0</td>\n",
              "    </tr>\n",
              "  </tbody>\n",
              "</table>\n",
              "</div>"
            ],
            "text/plain": [
              "    0    1    2    3    4    5    6    7    8    9    10   11   12   13   14\n",
              "0  0.0  0.0  0.0  0.0  0.0  0.0  0.0  0.0  0.0  0.0  0.0  1.0  0.0  0.0  0.0\n",
              "1  0.0  0.0  0.0  0.0  0.0  0.0  1.0  0.0  0.0  0.0  0.0  0.0  0.0  0.0  0.0\n",
              "2  1.0  0.0  0.0  0.0  0.0  0.0  0.0  0.0  0.0  0.0  0.0  0.0  0.0  0.0  0.0\n",
              "3  0.0  0.0  0.0  0.0  0.0  0.0  1.0  0.0  0.0  0.0  0.0  0.0  0.0  0.0  0.0\n",
              "4  1.0  0.0  0.0  0.0  0.0  0.0  0.0  0.0  0.0  0.0  0.0  0.0  0.0  0.0  0.0"
            ]
          },
          "execution_count": 37,
          "metadata": {},
          "output_type": "execute_result"
        }
      ]
    },
    {
      "cell_type": "code",
      "metadata": {
        "colab": {
          "base_uri": "https://localhost:8080/"
        },
        "id": "8r2Rs8ORxjFJ",
        "outputId": "9cd71c23-4bb3-4a4b-84ca-78a2999c03f7"
      },
      "source": [
        "df3.dtypes"
      ],
      "execution_count": null,
      "outputs": [
        {
          "data": {
            "text/plain": [
              "0     float64\n",
              "1     float64\n",
              "2     float64\n",
              "3     float64\n",
              "4     float64\n",
              "5     float64\n",
              "6     float64\n",
              "7     float64\n",
              "8     float64\n",
              "9     float64\n",
              "10    float64\n",
              "11    float64\n",
              "12    float64\n",
              "13    float64\n",
              "14    float64\n",
              "dtype: object"
            ]
          },
          "execution_count": 38,
          "metadata": {},
          "output_type": "execute_result"
        }
      ]
    },
    {
      "cell_type": "code",
      "metadata": {
        "colab": {
          "base_uri": "https://localhost:8080/",
          "height": 206
        },
        "id": "aA3Oh4M5xjIa",
        "outputId": "bee6359d-120a-4941-edea-948e0620b9a1"
      },
      "source": [
        "newdf = pd.concat([learning_data[['loan_amount', 'status']].reset_index(drop=True), df3], axis=1)\n",
        "newdf.head()"
      ],
      "execution_count": null,
      "outputs": [
        {
          "data": {
            "text/html": [
              "<div>\n",
              "<style scoped>\n",
              "    .dataframe tbody tr th:only-of-type {\n",
              "        vertical-align: middle;\n",
              "    }\n",
              "\n",
              "    .dataframe tbody tr th {\n",
              "        vertical-align: top;\n",
              "    }\n",
              "\n",
              "    .dataframe thead th {\n",
              "        text-align: right;\n",
              "    }\n",
              "</style>\n",
              "<table border=\"1\" class=\"dataframe\">\n",
              "  <thead>\n",
              "    <tr style=\"text-align: right;\">\n",
              "      <th></th>\n",
              "      <th>loan_amount</th>\n",
              "      <th>status</th>\n",
              "      <th>0</th>\n",
              "      <th>1</th>\n",
              "      <th>2</th>\n",
              "      <th>3</th>\n",
              "      <th>4</th>\n",
              "      <th>5</th>\n",
              "      <th>6</th>\n",
              "      <th>7</th>\n",
              "      <th>8</th>\n",
              "      <th>9</th>\n",
              "      <th>10</th>\n",
              "      <th>11</th>\n",
              "      <th>12</th>\n",
              "      <th>13</th>\n",
              "      <th>14</th>\n",
              "    </tr>\n",
              "  </thead>\n",
              "  <tbody>\n",
              "    <tr>\n",
              "      <th>0</th>\n",
              "      <td>125.0</td>\n",
              "      <td>1</td>\n",
              "      <td>0.0</td>\n",
              "      <td>0.0</td>\n",
              "      <td>0.0</td>\n",
              "      <td>0.0</td>\n",
              "      <td>0.0</td>\n",
              "      <td>0.0</td>\n",
              "      <td>0.0</td>\n",
              "      <td>0.0</td>\n",
              "      <td>0.0</td>\n",
              "      <td>0.0</td>\n",
              "      <td>0.0</td>\n",
              "      <td>1.0</td>\n",
              "      <td>0.0</td>\n",
              "      <td>0.0</td>\n",
              "      <td>0.0</td>\n",
              "    </tr>\n",
              "    <tr>\n",
              "      <th>1</th>\n",
              "      <td>175.0</td>\n",
              "      <td>1</td>\n",
              "      <td>0.0</td>\n",
              "      <td>0.0</td>\n",
              "      <td>0.0</td>\n",
              "      <td>0.0</td>\n",
              "      <td>0.0</td>\n",
              "      <td>0.0</td>\n",
              "      <td>1.0</td>\n",
              "      <td>0.0</td>\n",
              "      <td>0.0</td>\n",
              "      <td>0.0</td>\n",
              "      <td>0.0</td>\n",
              "      <td>0.0</td>\n",
              "      <td>0.0</td>\n",
              "      <td>0.0</td>\n",
              "      <td>0.0</td>\n",
              "    </tr>\n",
              "    <tr>\n",
              "      <th>2</th>\n",
              "      <td>1400.0</td>\n",
              "      <td>1</td>\n",
              "      <td>1.0</td>\n",
              "      <td>0.0</td>\n",
              "      <td>0.0</td>\n",
              "      <td>0.0</td>\n",
              "      <td>0.0</td>\n",
              "      <td>0.0</td>\n",
              "      <td>0.0</td>\n",
              "      <td>0.0</td>\n",
              "      <td>0.0</td>\n",
              "      <td>0.0</td>\n",
              "      <td>0.0</td>\n",
              "      <td>0.0</td>\n",
              "      <td>0.0</td>\n",
              "      <td>0.0</td>\n",
              "      <td>0.0</td>\n",
              "    </tr>\n",
              "    <tr>\n",
              "      <th>3</th>\n",
              "      <td>425.0</td>\n",
              "      <td>1</td>\n",
              "      <td>0.0</td>\n",
              "      <td>0.0</td>\n",
              "      <td>0.0</td>\n",
              "      <td>0.0</td>\n",
              "      <td>0.0</td>\n",
              "      <td>0.0</td>\n",
              "      <td>1.0</td>\n",
              "      <td>0.0</td>\n",
              "      <td>0.0</td>\n",
              "      <td>0.0</td>\n",
              "      <td>0.0</td>\n",
              "      <td>0.0</td>\n",
              "      <td>0.0</td>\n",
              "      <td>0.0</td>\n",
              "      <td>0.0</td>\n",
              "    </tr>\n",
              "    <tr>\n",
              "      <th>4</th>\n",
              "      <td>325.0</td>\n",
              "      <td>1</td>\n",
              "      <td>1.0</td>\n",
              "      <td>0.0</td>\n",
              "      <td>0.0</td>\n",
              "      <td>0.0</td>\n",
              "      <td>0.0</td>\n",
              "      <td>0.0</td>\n",
              "      <td>0.0</td>\n",
              "      <td>0.0</td>\n",
              "      <td>0.0</td>\n",
              "      <td>0.0</td>\n",
              "      <td>0.0</td>\n",
              "      <td>0.0</td>\n",
              "      <td>0.0</td>\n",
              "      <td>0.0</td>\n",
              "      <td>0.0</td>\n",
              "    </tr>\n",
              "  </tbody>\n",
              "</table>\n",
              "</div>"
            ],
            "text/plain": [
              "   loan_amount  status    0    1    2    3    4    5    6    7    8    9   10  \\\n",
              "0        125.0       1  0.0  0.0  0.0  0.0  0.0  0.0  0.0  0.0  0.0  0.0  0.0   \n",
              "1        175.0       1  0.0  0.0  0.0  0.0  0.0  0.0  1.0  0.0  0.0  0.0  0.0   \n",
              "2       1400.0       1  1.0  0.0  0.0  0.0  0.0  0.0  0.0  0.0  0.0  0.0  0.0   \n",
              "3        425.0       1  0.0  0.0  0.0  0.0  0.0  0.0  1.0  0.0  0.0  0.0  0.0   \n",
              "4        325.0       1  1.0  0.0  0.0  0.0  0.0  0.0  0.0  0.0  0.0  0.0  0.0   \n",
              "\n",
              "    11   12   13   14  \n",
              "0  1.0  0.0  0.0  0.0  \n",
              "1  0.0  0.0  0.0  0.0  \n",
              "2  0.0  0.0  0.0  0.0  \n",
              "3  0.0  0.0  0.0  0.0  \n",
              "4  0.0  0.0  0.0  0.0  "
            ]
          },
          "execution_count": 39,
          "metadata": {},
          "output_type": "execute_result"
        }
      ]
    },
    {
      "cell_type": "code",
      "metadata": {
        "id": "d4RDZoD2S2Qq"
      },
      "source": [
        "#newdf['status'].value_counts()"
      ],
      "execution_count": null,
      "outputs": []
    },
    {
      "cell_type": "code",
      "metadata": {
        "id": "QE6cnBiDxjLs"
      },
      "source": [
        "target = newdf['status']\n",
        "data_features = newdf.drop('status', axis=1)"
      ],
      "execution_count": null,
      "outputs": []
    },
    {
      "cell_type": "code",
      "metadata": {
        "id": "MTDuTkHjQZJT"
      },
      "source": [
        "# newdf['status' == 0]\n",
        "# newdf['status' == 1]\n",
        "# # print(target_0.value_counts())\n",
        "# # print(target_1.value_counts())"
      ],
      "execution_count": null,
      "outputs": []
    },
    {
      "cell_type": "code",
      "metadata": {
        "id": "T6jYxlVBS0dy"
      },
      "source": [
        ""
      ],
      "execution_count": null,
      "outputs": []
    },
    {
      "cell_type": "code",
      "metadata": {
        "id": "VOkWXOBiNaMr"
      },
      "source": [
        "#Explore RandomForestClassifier on a holdout set"
      ],
      "execution_count": null,
      "outputs": []
    },
    {
      "cell_type": "code",
      "metadata": {
        "id": "j7m7VGRVxjNq"
      },
      "source": [
        "#import the methods that will be needed to evaluate a basic model\n",
        "#import Random Forest for Classification from sklearn\n",
        "#Split the data into training and test set\n",
        "from sklearn.ensemble import RandomForestClassifier\n",
        "from sklearn.model_selection import train_test_split\n",
        "from sklearn.metrics import precision_score, recall_score, classification_report, confusion_matrix\n",
        "\n",
        "X_train, X_test, y_train, y_test = train_test_split(data_features, target, test_size=0.3)"
      ],
      "execution_count": null,
      "outputs": []
    },
    {
      "cell_type": "code",
      "metadata": {
        "id": "C0rlGipNldj5"
      },
      "source": [
        "#Define a function to run and evaluate the model\n",
        "def rf_m(X_train, y_train, X_test):\n",
        "  rf = RandomForestClassifier()\n",
        "  rf_model = rf.fit(X_train, y_train)\n",
        "  y_pred = rf_model.predict(X_test)\n",
        "  precision = precision_score(y_test, y_pred)\n",
        "  recall = recall_score(y_test, y_pred)\n",
        "  print('Precision: {} / Recall: {}'.format(round(precision, 3), round(recall, 3)))\n",
        "  print(confusion_matrix(y_test, y_pred))\n",
        "  print(classification_report(y_test, y_pred))\n",
        "  return y_pred "
      ],
      "execution_count": null,
      "outputs": []
    },
    {
      "cell_type": "code",
      "metadata": {
        "colab": {
          "base_uri": "https://localhost:8080/"
        },
        "id": "hN1nsa6dnZuv",
        "outputId": "bc5ea8cc-8c14-4574-a766-1fc96297cdd2"
      },
      "source": [
        "y_pred = rf_m(X_train, y_train, X_test)"
      ],
      "execution_count": null,
      "outputs": [
        {
          "name": "stdout",
          "output_type": "stream",
          "text": [
            "Precision: 0.946 / Recall: 1.0\n",
            "[[    70  26091]\n",
            " [   209 460775]]\n",
            "              precision    recall  f1-score   support\n",
            "\n",
            "           0       0.25      0.00      0.01     26161\n",
            "           1       0.95      1.00      0.97    460984\n",
            "\n",
            "    accuracy                           0.95    487145\n",
            "   macro avg       0.60      0.50      0.49    487145\n",
            "weighted avg       0.91      0.95      0.92    487145\n",
            "\n"
          ]
        }
      ]
    },
    {
      "cell_type": "code",
      "metadata": {
        "colab": {
          "base_uri": "https://localhost:8080/"
        },
        "id": "1aA_VLrvU4eJ",
        "outputId": "6ef8e4e1-e113-4724-f052-8cda9c4ede11"
      },
      "source": [
        "import joblib\n",
        "# save\n",
        "joblib.dump(rf_m, \"my_random_forest.joblib\")\n",
        "\n",
        "# load\n",
        "#loaded_rf = joblib.load(\"my_random_forest.joblib\")"
      ],
      "execution_count": null,
      "outputs": [
        {
          "data": {
            "text/plain": [
              "['my_random_forest.joblib']"
            ]
          },
          "execution_count": 47,
          "metadata": {},
          "output_type": "execute_result"
        }
      ]
    },
    {
      "cell_type": "code",
      "metadata": {
        "id": "VFUza29YkjrB"
      },
      "source": [
        "count_class_1, count_class_0 = newdf['status'].value_counts()\n"
      ],
      "execution_count": null,
      "outputs": []
    },
    {
      "cell_type": "code",
      "metadata": {
        "id": "2LQ99BNqkjwG"
      },
      "source": [
        "df_class_0 = newdf[newdf['status'] == 0]\n",
        "df_class_1 = newdf[newdf['status'] == 1]"
      ],
      "execution_count": null,
      "outputs": []
    },
    {
      "cell_type": "code",
      "metadata": {
        "colab": {
          "base_uri": "https://localhost:8080/"
        },
        "id": "CdVQnJxKvMIT",
        "outputId": "7ad89f6b-3306-46ce-f350-c0b30c03af49"
      },
      "source": [
        "print(count_class_0)\n",
        "print(count_class_1)"
      ],
      "execution_count": null,
      "outputs": [
        {
          "name": "stdout",
          "output_type": "stream",
          "text": [
            "86606\n",
            "1537208\n"
          ]
        }
      ]
    },
    {
      "cell_type": "code",
      "metadata": {
        "colab": {
          "base_uri": "https://localhost:8080/"
        },
        "id": "lKsT_8dUr8YL",
        "outputId": "003dd75c-2918-429f-9cba-24aac1dc2ca1"
      },
      "source": [
        "# Undersampling 1_class and concat the dataframe to for a new dataframe\n",
        "df_class_1_under = df_class_1.sample(count_class_0)\n",
        "df_class_1_under.shape\n",
        "df_test_under = pd.concat([df_class_1_under, df_class_0], axis=0)\n",
        "print ('Random under-Sampling')\n",
        "print(df_test_under.status.value_counts())"
      ],
      "execution_count": null,
      "outputs": [
        {
          "name": "stdout",
          "output_type": "stream",
          "text": [
            "Random under-Sampling\n",
            "1    86606\n",
            "0    86606\n",
            "Name: status, dtype: int64\n"
          ]
        }
      ]
    },
    {
      "cell_type": "code",
      "metadata": {
        "id": "_RtO9IKez_AT"
      },
      "source": [
        "X = df_test_under.drop(['status'], axis=1)\n",
        "y = df_test_under['status']\n",
        "X_train, X_test, y_train, y_test = train_test_split(X, y, test_size=0.3, random_state=42, stratify=y)"
      ],
      "execution_count": null,
      "outputs": []
    },
    {
      "cell_type": "code",
      "metadata": {
        "colab": {
          "base_uri": "https://localhost:8080/"
        },
        "id": "Iqxf8zFAz_Dn",
        "outputId": "abd18ef1-2539-4cff-ee5b-d792b9dd64b2"
      },
      "source": [
        "y_pred = rf_m(X_train, y_train, X_test)"
      ],
      "execution_count": null,
      "outputs": [
        {
          "name": "stdout",
          "output_type": "stream",
          "text": [
            "Precision: 0.791 / Recall: 0.614\n",
            "[[21771  4211]\n",
            " [10025 15957]]\n",
            "              precision    recall  f1-score   support\n",
            "\n",
            "           0       0.68      0.84      0.75     25982\n",
            "           1       0.79      0.61      0.69     25982\n",
            "\n",
            "    accuracy                           0.73     51964\n",
            "   macro avg       0.74      0.73      0.72     51964\n",
            "weighted avg       0.74      0.73      0.72     51964\n",
            "\n"
          ]
        }
      ]
    },
    {
      "cell_type": "code",
      "metadata": {
        "id": "tWROwGnAz_Gy"
      },
      "source": [
        ""
      ],
      "execution_count": null,
      "outputs": []
    },
    {
      "cell_type": "markdown",
      "metadata": {
        "id": "x4C8WlSX32Ru"
      },
      "source": [
        ""
      ]
    },
    {
      "cell_type": "markdown",
      "metadata": {
        "id": "gHfd9qlq3nix"
      },
      "source": [
        "Oversampling"
      ]
    },
    {
      "cell_type": "code",
      "metadata": {
        "colab": {
          "base_uri": "https://localhost:8080/"
        },
        "id": "jal19mnH38M1",
        "outputId": "a3c201b5-cecb-462f-fdb0-7ef206c77bc3"
      },
      "source": [
        "df_class_0_over = df_class_0.sample(count_class_1, replace=True)\n",
        "df_class_0_over.shape\n",
        "df_test_over = pd.concat([df_class_0_over, df_class_1], axis=0)\n",
        "print ('Random over-Sampling')\n",
        "print(df_test_over.status.value_counts())"
      ],
      "execution_count": null,
      "outputs": [
        {
          "name": "stdout",
          "output_type": "stream",
          "text": [
            "Random over-Sampling\n",
            "1    1537208\n",
            "0    1537208\n",
            "Name: status, dtype: int64\n"
          ]
        }
      ]
    },
    {
      "cell_type": "code",
      "metadata": {
        "id": "vLALsReez_Jx"
      },
      "source": [
        "X = df_test_over.drop(['status'], axis=1)\n",
        "y = df_test_over['status']\n",
        "X_train, X_test, y_train, y_test = train_test_split(X, y, test_size=0.3, random_state=42, stratify=y)"
      ],
      "execution_count": null,
      "outputs": []
    },
    {
      "cell_type": "code",
      "metadata": {
        "colab": {
          "base_uri": "https://localhost:8080/"
        },
        "id": "dfcu5b875Usb",
        "outputId": "599e7afd-d275-4aef-b1d4-2894f92df80a"
      },
      "source": [
        "y_pred = rf_m(X_train, y_train, X_test)"
      ],
      "execution_count": null,
      "outputs": [
        {
          "name": "stdout",
          "output_type": "stream",
          "text": [
            "Precision: 0.814 / Recall: 0.61\n",
            "[[396651  64512]\n",
            " [179689 281473]]\n",
            "              precision    recall  f1-score   support\n",
            "\n",
            "           0       0.69      0.86      0.76    461163\n",
            "           1       0.81      0.61      0.70    461162\n",
            "\n",
            "    accuracy                           0.74    922325\n",
            "   macro avg       0.75      0.74      0.73    922325\n",
            "weighted avg       0.75      0.74      0.73    922325\n",
            "\n"
          ]
        }
      ]
    },
    {
      "cell_type": "markdown",
      "metadata": {
        "id": "mVP2N-1I3s6K"
      },
      "source": [
        ""
      ]
    },
    {
      "cell_type": "markdown",
      "metadata": {
        "id": "i7hhS3L4CrDq"
      },
      "source": [
        "Method 3: SMOTE"
      ]
    },
    {
      "cell_type": "code",
      "metadata": {
        "colab": {
          "base_uri": "https://localhost:8080/"
        },
        "id": "CKyG9ij3GIu2",
        "outputId": "1bbaf563-1308-446e-e5de-20ef47896178"
      },
      "source": [
        "newdf['status'].value_counts()"
      ],
      "execution_count": null,
      "outputs": [
        {
          "data": {
            "text/plain": [
              "1    1537208\n",
              "0      86606\n",
              "Name: status, dtype: int64"
            ]
          },
          "execution_count": 57,
          "metadata": {},
          "output_type": "execute_result"
        }
      ]
    },
    {
      "cell_type": "code",
      "metadata": {
        "id": "4WX9mmkxCxSO"
      },
      "source": [
        "#!pip install imbalanced-learn\n",
        "y = newdf['status']\n",
        "X = newdf.drop('status', axis=1)\n"
      ],
      "execution_count": null,
      "outputs": []
    },
    {
      "cell_type": "code",
      "metadata": {
        "colab": {
          "base_uri": "https://localhost:8080/"
        },
        "id": "KBsSMj4wQKvy",
        "outputId": "0ab89325-99b2-4939-870a-7fcc77cb72ab"
      },
      "source": [
        "from imblearn.over_sampling import SMOTE\n",
        "from collections import Counter\n",
        "from sklearn.model_selection import train_test_split\n",
        "#X_train, X_test, y_train, y_test = train_test_split(data_feat, targ, test_size=0.3)\n",
        "sm = SMOTE(random_state=42)\n",
        "X_sm, y_sm = sm.fit_sample(X, y)\n",
        "print('Resampled dataset shape %s' % Counter(y_sm))"
      ],
      "execution_count": null,
      "outputs": [
        {
          "name": "stderr",
          "output_type": "stream",
          "text": [
            "/usr/local/lib/python3.7/dist-packages/sklearn/externals/six.py:31: FutureWarning: The module is deprecated in version 0.21 and will be removed in version 0.23 since we've dropped support for Python 2.7. Please rely on the official version of six (https://pypi.org/project/six/).\n",
            "  \"(https://pypi.org/project/six/).\", FutureWarning)\n",
            "/usr/local/lib/python3.7/dist-packages/sklearn/utils/deprecation.py:144: FutureWarning: The sklearn.neighbors.base module is  deprecated in version 0.22 and will be removed in version 0.24. The corresponding classes / functions should instead be imported from sklearn.neighbors. Anything that cannot be imported from sklearn.neighbors is now part of the private API.\n",
            "  warnings.warn(message, FutureWarning)\n",
            "/usr/local/lib/python3.7/dist-packages/sklearn/utils/deprecation.py:87: FutureWarning: Function safe_indexing is deprecated; safe_indexing is deprecated in version 0.22 and will be removed in version 0.24.\n",
            "  warnings.warn(msg, category=FutureWarning)\n"
          ]
        },
        {
          "name": "stdout",
          "output_type": "stream",
          "text": [
            "Resampled dataset shape Counter({1: 1537208, 0: 1537208})\n"
          ]
        }
      ]
    },
    {
      "cell_type": "code",
      "metadata": {
        "id": "n9rzCOp0Ot5z"
      },
      "source": [
        "from sklearn.model_selection import train_test_split\n",
        "X_train, X_test, y_train, y_test = train_test_split(X_sm, y_sm, test_size=0.2, random_state=15, stratify=y_sm)"
      ],
      "execution_count": null,
      "outputs": []
    },
    {
      "cell_type": "code",
      "metadata": {
        "colab": {
          "base_uri": "https://localhost:8080/"
        },
        "id": "nMWJv5r1Ot9Z",
        "outputId": "56191534-18e8-43b8-e060-0e2780d3edde"
      },
      "source": [
        "y_pred = rf_m(X_train, y_train, X_test)"
      ],
      "execution_count": null,
      "outputs": [
        {
          "name": "stdout",
          "output_type": "stream",
          "text": [
            "Precision: 0.817 / Recall: 0.617\n",
            "[[265041  42401]\n",
            " [117602 189840]]\n",
            "              precision    recall  f1-score   support\n",
            "\n",
            "           0       0.69      0.86      0.77    307442\n",
            "           1       0.82      0.62      0.70    307442\n",
            "\n",
            "    accuracy                           0.74    614884\n",
            "   macro avg       0.76      0.74      0.74    614884\n",
            "weighted avg       0.76      0.74      0.74    614884\n",
            "\n"
          ]
        }
      ]
    },
    {
      "cell_type": "code",
      "metadata": {
        "id": "AMrHT9TRwl71"
      },
      "source": [
        ""
      ],
      "execution_count": null,
      "outputs": []
    },
    {
      "cell_type": "code",
      "metadata": {
        "id": "Ju8yXdwp4aRH"
      },
      "source": [
        "from sklearn.preprocessing import StandardScaler\n",
        "#Create a StandardScaler model and fit it to the training data\n",
        "X_scaler = StandardScaler().fit(X_train)\n",
        "\n",
        "X_train_scaled = X_scaler.transform(X_train)\n",
        "X_test_scaled = X_scaler.transform(X_test)"
      ],
      "execution_count": null,
      "outputs": []
    },
    {
      "cell_type": "code",
      "metadata": {
        "colab": {
          "base_uri": "https://localhost:8080/"
        },
        "id": "aHxfnngjBWCx",
        "outputId": "94387a21-9320-407e-dfcc-d9478165ef9a"
      },
      "source": [
        "# Train the model\n",
        "from sklearn.linear_model import LogisticRegression\n",
        "model = LogisticRegression()\n",
        "model.fit(X_train_scaled, y_train)"
      ],
      "execution_count": null,
      "outputs": [
        {
          "data": {
            "text/plain": [
              "LogisticRegression(C=1.0, class_weight=None, dual=False, fit_intercept=True,\n",
              "                   intercept_scaling=1, l1_ratio=None, max_iter=100,\n",
              "                   multi_class='auto', n_jobs=None, penalty='l2',\n",
              "                   random_state=None, solver='lbfgs', tol=0.0001, verbose=0,\n",
              "                   warm_start=False)"
            ]
          },
          "execution_count": 63,
          "metadata": {},
          "output_type": "execute_result"
        }
      ]
    },
    {
      "cell_type": "code",
      "metadata": {
        "colab": {
          "base_uri": "https://localhost:8080/"
        },
        "id": "1NF6kn79BWGy",
        "outputId": "1bc42d5b-c48c-46cd-f5f9-3d70afd46e85"
      },
      "source": [
        "print(f\"Training Data Score: {model.score(X_train_scaled, y_train)}\")\n",
        "print(f\"Testing Data Score: {model.score(X_test_scaled, y_test)}\")"
      ],
      "execution_count": null,
      "outputs": [
        {
          "name": "stdout",
          "output_type": "stream",
          "text": [
            "Training Data Score: 0.6874210215601992\n",
            "Testing Data Score: 0.6875979859615797\n"
          ]
        }
      ]
    },
    {
      "cell_type": "code",
      "metadata": {
        "colab": {
          "base_uri": "https://localhost:8080/"
        },
        "id": "3Ka1WZUrIYcP",
        "outputId": "2a53019a-f079-4605-f433-5f2999e6e50f"
      },
      "source": [
        "y_pred = rf_m(X_train_scaled, y_train, X_test_scaled)"
      ],
      "execution_count": null,
      "outputs": [
        {
          "name": "stdout",
          "output_type": "stream",
          "text": [
            "Precision: 0.817 / Recall: 0.617\n",
            "[[265060  42382]\n",
            " [117599 189843]]\n",
            "              precision    recall  f1-score   support\n",
            "\n",
            "           0       0.69      0.86      0.77    307442\n",
            "           1       0.82      0.62      0.70    307442\n",
            "\n",
            "    accuracy                           0.74    614884\n",
            "   macro avg       0.76      0.74      0.74    614884\n",
            "weighted avg       0.76      0.74      0.74    614884\n",
            "\n"
          ]
        }
      ]
    },
    {
      "cell_type": "code",
      "metadata": {
        "id": "vE2X-HBHPPi8"
      },
      "source": [
        "from sklearn.dummy import DummyClassifier"
      ],
      "execution_count": null,
      "outputs": []
    },
    {
      "cell_type": "code",
      "metadata": {
        "id": "OAZuHvR-PPsL"
      },
      "source": [
        "frequent_clf = DummyClassifier(strategy='most_frequent').fit(X_train, y_train)"
      ],
      "execution_count": null,
      "outputs": []
    },
    {
      "cell_type": "code",
      "metadata": {
        "id": "68O0r7ARPPwG"
      },
      "source": [
        "y_freq_pred = frequent_clf.predict(X_test)"
      ],
      "execution_count": null,
      "outputs": []
    },
    {
      "cell_type": "code",
      "metadata": {
        "id": "cvRdv8seQiy-"
      },
      "source": [
        "uniform_clf = DummyClassifier(strategy='uniform').fit(X_train, y_train)"
      ],
      "execution_count": null,
      "outputs": []
    },
    {
      "cell_type": "code",
      "metadata": {
        "id": "nVAs-mQxQi23"
      },
      "source": [
        "y_uniform_pred = uniform_clf.predict(X_test)"
      ],
      "execution_count": null,
      "outputs": []
    },
    {
      "cell_type": "code",
      "metadata": {
        "colab": {
          "base_uri": "https://localhost:8080/"
        },
        "id": "398qcu3uQi61",
        "outputId": "e80cfe65-b645-48c1-a461-1f2da07b8935"
      },
      "source": [
        "print(frequent_clf.score(X_test, y_test))\n",
        "print(uniform_clf.score(X_test, y_test))"
      ],
      "execution_count": null,
      "outputs": [
        {
          "name": "stdout",
          "output_type": "stream",
          "text": [
            "0.5\n",
            "0.4992583967057201\n"
          ]
        }
      ]
    },
    {
      "cell_type": "code",
      "metadata": {
        "id": "q923UMOTDPxs"
      },
      "source": [
        ""
      ],
      "execution_count": null,
      "outputs": []
    },
    {
      "cell_type": "code",
      "metadata": {
        "colab": {
          "base_uri": "https://localhost:8080/"
        },
        "id": "oRrB71Gyb71S",
        "outputId": "213e2384-4721-47e1-b46f-443860f9b209"
      },
      "source": [
        "# New Machine Learning data on how the loan use can affect the funding\n",
        "loan_data = learning_data.dropna()\n",
        "loan_data.isnull().sum()"
      ],
      "execution_count": null,
      "outputs": [
        {
          "data": {
            "text/plain": [
              "loan_amount    0\n",
              "loan_use       0\n",
              "sector_name    0\n",
              "status         0\n",
              "dtype: int64"
            ]
          },
          "execution_count": 72,
          "metadata": {},
          "output_type": "execute_result"
        }
      ]
    },
    {
      "cell_type": "code",
      "metadata": {
        "colab": {
          "base_uri": "https://localhost:8080/",
          "height": 424
        },
        "id": "GfnrcqbLYp8E",
        "outputId": "b2e607e7-1e7f-46bf-9789-f736f3605821"
      },
      "source": [
        "pd.set_option('display.max_colwidth', None)\n",
        "loan_data[loan_data['loan_use'].apply(lambda x: x.isascii())]"
      ],
      "execution_count": null,
      "outputs": [
        {
          "data": {
            "text/html": [
              "<div>\n",
              "<style scoped>\n",
              "    .dataframe tbody tr th:only-of-type {\n",
              "        vertical-align: middle;\n",
              "    }\n",
              "\n",
              "    .dataframe tbody tr th {\n",
              "        vertical-align: top;\n",
              "    }\n",
              "\n",
              "    .dataframe thead th {\n",
              "        text-align: right;\n",
              "    }\n",
              "</style>\n",
              "<table border=\"1\" class=\"dataframe\">\n",
              "  <thead>\n",
              "    <tr style=\"text-align: right;\">\n",
              "      <th></th>\n",
              "      <th>loan_amount</th>\n",
              "      <th>loan_use</th>\n",
              "      <th>sector_name</th>\n",
              "      <th>status</th>\n",
              "    </tr>\n",
              "  </thead>\n",
              "  <tbody>\n",
              "    <tr>\n",
              "      <th>1</th>\n",
              "      <td>125.0</td>\n",
              "      <td>to buy more groceries to sell in her general store</td>\n",
              "      <td>Retail</td>\n",
              "      <td>1</td>\n",
              "    </tr>\n",
              "    <tr>\n",
              "      <th>2</th>\n",
              "      <td>175.0</td>\n",
              "      <td>to buy more bananas to sell and other supplies needed in her business.</td>\n",
              "      <td>Food</td>\n",
              "      <td>1</td>\n",
              "    </tr>\n",
              "    <tr>\n",
              "      <th>3</th>\n",
              "      <td>1400.0</td>\n",
              "      <td>to buy more taro roots (seedlings), more banana tubers (seedlings), chemicals, a backpack sprayer, a wheelbarrow, a chainsaw, and a rake.</td>\n",
              "      <td>Agriculture</td>\n",
              "      <td>1</td>\n",
              "    </tr>\n",
              "    <tr>\n",
              "      <th>4</th>\n",
              "      <td>425.0</td>\n",
              "      <td>to increase her stock of  various brands of beer: 33 Export, Mutzig, Amstel,   etc</td>\n",
              "      <td>Food</td>\n",
              "      <td>1</td>\n",
              "    </tr>\n",
              "    <tr>\n",
              "      <th>5</th>\n",
              "      <td>325.0</td>\n",
              "      <td>to buy fertilizers and seeds to get a good yield and grow his farming business.</td>\n",
              "      <td>Agriculture</td>\n",
              "      <td>1</td>\n",
              "    </tr>\n",
              "    <tr>\n",
              "      <th>...</th>\n",
              "      <td>...</td>\n",
              "      <td>...</td>\n",
              "      <td>...</td>\n",
              "      <td>...</td>\n",
              "    </tr>\n",
              "    <tr>\n",
              "      <th>2086695</th>\n",
              "      <td>600.0</td>\n",
              "      <td>to process more mobile airtime credit transactions on weekends.</td>\n",
              "      <td>Retail</td>\n",
              "      <td>0</td>\n",
              "    </tr>\n",
              "    <tr>\n",
              "      <th>2086696</th>\n",
              "      <td>100.0</td>\n",
              "      <td>to access premium seeds and high quality fertilizer for 0.5 acres of maize, in addition to advice and insurance, optimizing for increased productivity and profits</td>\n",
              "      <td>Agriculture</td>\n",
              "      <td>1</td>\n",
              "    </tr>\n",
              "    <tr>\n",
              "      <th>2086697</th>\n",
              "      <td>500.0</td>\n",
              "      <td>to cultivate her 2.1 hectares of beans and 0.7 hectares of corn, and purchase the necessary inputs.</td>\n",
              "      <td>Agriculture</td>\n",
              "      <td>1</td>\n",
              "    </tr>\n",
              "    <tr>\n",
              "      <th>2086698</th>\n",
              "      <td>1350.0</td>\n",
              "      <td>to purchase a solar light and gain access to cost efficient hybrid seeds and fertilizer for maize cultivation.\\t\\t\\t\\t\\t\\t\\t</td>\n",
              "      <td>Agriculture</td>\n",
              "      <td>1</td>\n",
              "    </tr>\n",
              "    <tr>\n",
              "      <th>2086699</th>\n",
              "      <td>5000.0</td>\n",
              "      <td>fill our showroom with great buys that incoming college kids will love to purchase.</td>\n",
              "      <td>Retail</td>\n",
              "      <td>0</td>\n",
              "    </tr>\n",
              "  </tbody>\n",
              "</table>\n",
              "<p>1605045 rows × 4 columns</p>\n",
              "</div>"
            ],
            "text/plain": [
              "         loan_amount  \\\n",
              "1              125.0   \n",
              "2              175.0   \n",
              "3             1400.0   \n",
              "4              425.0   \n",
              "5              325.0   \n",
              "...              ...   \n",
              "2086695        600.0   \n",
              "2086696        100.0   \n",
              "2086697        500.0   \n",
              "2086698       1350.0   \n",
              "2086699       5000.0   \n",
              "\n",
              "                                                                                                                                                                   loan_use  \\\n",
              "1                                                                                                                        to buy more groceries to sell in her general store   \n",
              "2                                                                                                    to buy more bananas to sell and other supplies needed in her business.   \n",
              "3                                 to buy more taro roots (seedlings), more banana tubers (seedlings), chemicals, a backpack sprayer, a wheelbarrow, a chainsaw, and a rake.   \n",
              "4                                                                                        to increase her stock of  various brands of beer: 33 Export, Mutzig, Amstel,   etc   \n",
              "5                                                                                           to buy fertilizers and seeds to get a good yield and grow his farming business.   \n",
              "...                                                                                                                                                                     ...   \n",
              "2086695                                                                                                     to process more mobile airtime credit transactions on weekends.   \n",
              "2086696  to access premium seeds and high quality fertilizer for 0.5 acres of maize, in addition to advice and insurance, optimizing for increased productivity and profits   \n",
              "2086697                                                                 to cultivate her 2.1 hectares of beans and 0.7 hectares of corn, and purchase the necessary inputs.   \n",
              "2086698                                        to purchase a solar light and gain access to cost efficient hybrid seeds and fertilizer for maize cultivation.\\t\\t\\t\\t\\t\\t\\t   \n",
              "2086699                                                                                fill our showroom with great buys that incoming college kids will love to purchase.    \n",
              "\n",
              "         sector_name  status  \n",
              "1             Retail       1  \n",
              "2               Food       1  \n",
              "3        Agriculture       1  \n",
              "4               Food       1  \n",
              "5        Agriculture       1  \n",
              "...              ...     ...  \n",
              "2086695       Retail       0  \n",
              "2086696  Agriculture       1  \n",
              "2086697  Agriculture       1  \n",
              "2086698  Agriculture       1  \n",
              "2086699       Retail       0  \n",
              "\n",
              "[1605045 rows x 4 columns]"
            ]
          },
          "execution_count": 73,
          "metadata": {},
          "output_type": "execute_result"
        }
      ]
    },
    {
      "cell_type": "code",
      "metadata": {
        "colab": {
          "base_uri": "https://localhost:8080/",
          "height": 206
        },
        "id": "tBG_WU7JG-lA",
        "outputId": "eeb09d93-b10a-4a62-cdd6-3eed88103cb2"
      },
      "source": [
        "loan_data.head()"
      ],
      "execution_count": null,
      "outputs": [
        {
          "data": {
            "text/html": [
              "<div>\n",
              "<style scoped>\n",
              "    .dataframe tbody tr th:only-of-type {\n",
              "        vertical-align: middle;\n",
              "    }\n",
              "\n",
              "    .dataframe tbody tr th {\n",
              "        vertical-align: top;\n",
              "    }\n",
              "\n",
              "    .dataframe thead th {\n",
              "        text-align: right;\n",
              "    }\n",
              "</style>\n",
              "<table border=\"1\" class=\"dataframe\">\n",
              "  <thead>\n",
              "    <tr style=\"text-align: right;\">\n",
              "      <th></th>\n",
              "      <th>loan_amount</th>\n",
              "      <th>loan_use</th>\n",
              "      <th>sector_name</th>\n",
              "      <th>status</th>\n",
              "    </tr>\n",
              "  </thead>\n",
              "  <tbody>\n",
              "    <tr>\n",
              "      <th>1</th>\n",
              "      <td>125.0</td>\n",
              "      <td>to buy more groceries to sell in her general store</td>\n",
              "      <td>Retail</td>\n",
              "      <td>1</td>\n",
              "    </tr>\n",
              "    <tr>\n",
              "      <th>2</th>\n",
              "      <td>175.0</td>\n",
              "      <td>to buy more bananas to sell and other supplies needed in her business.</td>\n",
              "      <td>Food</td>\n",
              "      <td>1</td>\n",
              "    </tr>\n",
              "    <tr>\n",
              "      <th>3</th>\n",
              "      <td>1400.0</td>\n",
              "      <td>to buy more taro roots (seedlings), more banana tubers (seedlings), chemicals, a backpack sprayer, a wheelbarrow, a chainsaw, and a rake.</td>\n",
              "      <td>Agriculture</td>\n",
              "      <td>1</td>\n",
              "    </tr>\n",
              "    <tr>\n",
              "      <th>4</th>\n",
              "      <td>425.0</td>\n",
              "      <td>to increase her stock of  various brands of beer: 33 Export, Mutzig, Amstel,   etc</td>\n",
              "      <td>Food</td>\n",
              "      <td>1</td>\n",
              "    </tr>\n",
              "    <tr>\n",
              "      <th>5</th>\n",
              "      <td>325.0</td>\n",
              "      <td>to buy fertilizers and seeds to get a good yield and grow his farming business.</td>\n",
              "      <td>Agriculture</td>\n",
              "      <td>1</td>\n",
              "    </tr>\n",
              "  </tbody>\n",
              "</table>\n",
              "</div>"
            ],
            "text/plain": [
              "   loan_amount  \\\n",
              "1        125.0   \n",
              "2        175.0   \n",
              "3       1400.0   \n",
              "4        425.0   \n",
              "5        325.0   \n",
              "\n",
              "                                                                                                                                    loan_use  \\\n",
              "1                                                                                         to buy more groceries to sell in her general store   \n",
              "2                                                                     to buy more bananas to sell and other supplies needed in her business.   \n",
              "3  to buy more taro roots (seedlings), more banana tubers (seedlings), chemicals, a backpack sprayer, a wheelbarrow, a chainsaw, and a rake.   \n",
              "4                                                         to increase her stock of  various brands of beer: 33 Export, Mutzig, Amstel,   etc   \n",
              "5                                                            to buy fertilizers and seeds to get a good yield and grow his farming business.   \n",
              "\n",
              "   sector_name  status  \n",
              "1       Retail       1  \n",
              "2         Food       1  \n",
              "3  Agriculture       1  \n",
              "4         Food       1  \n",
              "5  Agriculture       1  "
            ]
          },
          "execution_count": 74,
          "metadata": {},
          "output_type": "execute_result"
        }
      ]
    },
    {
      "cell_type": "code",
      "metadata": {
        "colab": {
          "base_uri": "https://localhost:8080/",
          "height": 206
        },
        "id": "MzJI8YH7G-o8",
        "outputId": "2c11df7f-cfbb-45c9-bfcc-5be5eddce761"
      },
      "source": [
        "loan_data.tail()"
      ],
      "execution_count": null,
      "outputs": [
        {
          "data": {
            "text/html": [
              "<div>\n",
              "<style scoped>\n",
              "    .dataframe tbody tr th:only-of-type {\n",
              "        vertical-align: middle;\n",
              "    }\n",
              "\n",
              "    .dataframe tbody tr th {\n",
              "        vertical-align: top;\n",
              "    }\n",
              "\n",
              "    .dataframe thead th {\n",
              "        text-align: right;\n",
              "    }\n",
              "</style>\n",
              "<table border=\"1\" class=\"dataframe\">\n",
              "  <thead>\n",
              "    <tr style=\"text-align: right;\">\n",
              "      <th></th>\n",
              "      <th>loan_amount</th>\n",
              "      <th>loan_use</th>\n",
              "      <th>sector_name</th>\n",
              "      <th>status</th>\n",
              "    </tr>\n",
              "  </thead>\n",
              "  <tbody>\n",
              "    <tr>\n",
              "      <th>2086695</th>\n",
              "      <td>600.0</td>\n",
              "      <td>to process more mobile airtime credit transactions on weekends.</td>\n",
              "      <td>Retail</td>\n",
              "      <td>0</td>\n",
              "    </tr>\n",
              "    <tr>\n",
              "      <th>2086696</th>\n",
              "      <td>100.0</td>\n",
              "      <td>to access premium seeds and high quality fertilizer for 0.5 acres of maize, in addition to advice and insurance, optimizing for increased productivity and profits</td>\n",
              "      <td>Agriculture</td>\n",
              "      <td>1</td>\n",
              "    </tr>\n",
              "    <tr>\n",
              "      <th>2086697</th>\n",
              "      <td>500.0</td>\n",
              "      <td>to cultivate her 2.1 hectares of beans and 0.7 hectares of corn, and purchase the necessary inputs.</td>\n",
              "      <td>Agriculture</td>\n",
              "      <td>1</td>\n",
              "    </tr>\n",
              "    <tr>\n",
              "      <th>2086698</th>\n",
              "      <td>1350.0</td>\n",
              "      <td>to purchase a solar light and gain access to cost efficient hybrid seeds and fertilizer for maize cultivation.\\t\\t\\t\\t\\t\\t\\t</td>\n",
              "      <td>Agriculture</td>\n",
              "      <td>1</td>\n",
              "    </tr>\n",
              "    <tr>\n",
              "      <th>2086699</th>\n",
              "      <td>5000.0</td>\n",
              "      <td>fill our showroom with great buys that incoming college kids will love to purchase.</td>\n",
              "      <td>Retail</td>\n",
              "      <td>0</td>\n",
              "    </tr>\n",
              "  </tbody>\n",
              "</table>\n",
              "</div>"
            ],
            "text/plain": [
              "         loan_amount  \\\n",
              "2086695        600.0   \n",
              "2086696        100.0   \n",
              "2086697        500.0   \n",
              "2086698       1350.0   \n",
              "2086699       5000.0   \n",
              "\n",
              "                                                                                                                                                                   loan_use  \\\n",
              "2086695                                                                                                     to process more mobile airtime credit transactions on weekends.   \n",
              "2086696  to access premium seeds and high quality fertilizer for 0.5 acres of maize, in addition to advice and insurance, optimizing for increased productivity and profits   \n",
              "2086697                                                                 to cultivate her 2.1 hectares of beans and 0.7 hectares of corn, and purchase the necessary inputs.   \n",
              "2086698                                        to purchase a solar light and gain access to cost efficient hybrid seeds and fertilizer for maize cultivation.\\t\\t\\t\\t\\t\\t\\t   \n",
              "2086699                                                                                fill our showroom with great buys that incoming college kids will love to purchase.    \n",
              "\n",
              "         sector_name  status  \n",
              "2086695       Retail       0  \n",
              "2086696  Agriculture       1  \n",
              "2086697  Agriculture       1  \n",
              "2086698  Agriculture       1  \n",
              "2086699       Retail       0  "
            ]
          },
          "execution_count": 75,
          "metadata": {},
          "output_type": "execute_result"
        }
      ]
    },
    {
      "cell_type": "code",
      "metadata": {
        "id": "Hg_cOJYvbjqK"
      },
      "source": [
        ""
      ],
      "execution_count": null,
      "outputs": []
    },
    {
      "cell_type": "markdown",
      "metadata": {
        "id": "1scASJsPbxgy"
      },
      "source": [
        "RNN:Implement a basic RNN"
      ]
    },
    {
      "cell_type": "markdown",
      "metadata": {
        "id": "tCdvRpezcDMT"
      },
      "source": [
        "Read in, Clean and split the data"
      ]
    },
    {
      "cell_type": "code",
      "metadata": {
        "id": "gMTwlX8FbjvP"
      },
      "source": [
        "import numpy as np\n",
        "import pandas as pd\n",
        "from sklearn.model_selection import train_test_split\n",
        "pd.set_option('display.max_colwidth', 1000)"
      ],
      "execution_count": null,
      "outputs": []
    },
    {
      "cell_type": "code",
      "metadata": {
        "colab": {
          "base_uri": "https://localhost:8080/"
        },
        "id": "in6097H6bjzi",
        "outputId": "7a61e397-2677-4015-a84c-e768e209863f"
      },
      "source": [
        "#Read the data in\n",
        "data_df = learning_data.drop(columns=['sector_name'])\n",
        "features = data_df['loan_use']\n",
        "labels = data_df['status']\n",
        "labels.value_counts()"
      ],
      "execution_count": null,
      "outputs": [
        {
          "data": {
            "text/plain": [
              "1    1537208\n",
              "0      86606\n",
              "Name: status, dtype: int64"
            ]
          },
          "execution_count": 77,
          "metadata": {},
          "output_type": "execute_result"
        }
      ]
    },
    {
      "cell_type": "code",
      "metadata": {
        "id": "stRgOzvHbj6l"
      },
      "source": [
        "#Spliting the data for training and testing\n",
        "X_train, X_test, y_train, y_test = train_test_split(features, labels, test_size=0.3)"
      ],
      "execution_count": null,
      "outputs": []
    },
    {
      "cell_type": "code",
      "metadata": {
        "id": "WFUsTLv3bj-O"
      },
      "source": [
        "# # Install Keras\n",
        "# !pip install -U keras==2.6.0"
      ],
      "execution_count": null,
      "outputs": []
    },
    {
      "cell_type": "code",
      "metadata": {
        "id": "L43dwJ1UfXZT"
      },
      "source": [
        "# Import the tools needed for keras\n",
        "from keras.preprocessing.text import Tokenizer\n",
        "from keras.preprocessing.sequence import pad_sequences"
      ],
      "execution_count": null,
      "outputs": []
    },
    {
      "cell_type": "markdown",
      "metadata": {
        "id": "bD_NLck0gQnM"
      },
      "source": [
        "Using Tensorflow backend"
      ]
    },
    {
      "cell_type": "code",
      "metadata": {
        "id": "TmuUybIMfXcr"
      },
      "source": [
        "# Initialize and fit the tokenizer\n",
        "tokenizer = Tokenizer()\n",
        "tokenizer.fit_on_texts(X_train)"
      ],
      "execution_count": null,
      "outputs": []
    },
    {
      "cell_type": "code",
      "metadata": {
        "id": "zdtQ2db5fXji"
      },
      "source": [
        "#Use that tokenizer to transform the data in the training \n",
        "X_train_seq = tokenizer.texts_to_sequences(X_train)\n",
        "X_test_seq = tokenizer.texts_to_sequences(X_test)"
      ],
      "execution_count": null,
      "outputs": []
    },
    {
      "cell_type": "code",
      "metadata": {
        "colab": {
          "base_uri": "https://localhost:8080/"
        },
        "id": "9qZ8jxr4fXmz",
        "outputId": "4f0961e5-0cbe-4152-a5f4-8fe8bbbacecb"
      },
      "source": [
        "X_train_seq[0]"
      ],
      "execution_count": null,
      "outputs": [
        {
          "data": {
            "text/plain": [
              "[1, 3, 147, 125, 37, 2, 92]"
            ]
          },
          "execution_count": 83,
          "metadata": {},
          "output_type": "execute_result"
        }
      ]
    },
    {
      "cell_type": "code",
      "metadata": {
        "id": "vb7_V74fi8Ys"
      },
      "source": [
        "# Pad the sequences so each sequence is the same length\n",
        "X_train_seq_padded = pad_sequences(X_train_seq, 50)\n",
        "X_test_seq_padded = pad_sequences(X_test_seq, 50)"
      ],
      "execution_count": null,
      "outputs": []
    },
    {
      "cell_type": "code",
      "metadata": {
        "colab": {
          "base_uri": "https://localhost:8080/"
        },
        "id": "FgdzeiCMi8cq",
        "outputId": "952e3727-60ce-493e-bed5-b5bac47a4a6f"
      },
      "source": [
        "X_train_seq_padded[0]"
      ],
      "execution_count": null,
      "outputs": [
        {
          "data": {
            "text/plain": [
              "array([  0,   0,   0,   0,   0,   0,   0,   0,   0,   0,   0,   0,   0,\n",
              "         0,   0,   0,   0,   0,   0,   0,   0,   0,   0,   0,   0,   0,\n",
              "         0,   0,   0,   0,   0,   0,   0,   0,   0,   0,   0,   0,   0,\n",
              "         0,   0,   0,   0,   1,   3, 147, 125,  37,   2,  92], dtype=int32)"
            ]
          },
          "execution_count": 85,
          "metadata": {},
          "output_type": "execute_result"
        }
      ]
    },
    {
      "cell_type": "markdown",
      "metadata": {
        "id": "AESEBcNDkY7L"
      },
      "source": [
        "Building the model\n"
      ]
    },
    {
      "cell_type": "code",
      "metadata": {
        "id": "AtbOgIr2i8f6"
      },
      "source": [
        "# Import the tools needed for keras and define the functions to calculate recall and precision\n",
        "import keras.backend as K\n",
        "from keras.layers import Dense, Embedding, LSTM\n",
        "from keras.models import Sequential\n",
        "\n",
        "def recall_m(y_true, y_pred):\n",
        "  true_positives = K.sum(K.round(K.clip(y_true * y_pred, 0, 1)))\n",
        "  possible_positives = K.sum(K.round(K.clip(y_true, 0, 1)))\n",
        "  recall = true_positives / (possible_positives + K.epsilon())\n",
        "  return recall\n",
        "\n",
        "def precision_m(y_true, y_pred):\n",
        "  true_positives = K.sum(K.round(K.clip(y_true * y_pred, 0, 1)))\n",
        "  predicted_positives = K.sum(K.round(K.clip(y_pred, 0, 1)))\n",
        "  recall = true_positives / (predicted_positives + K.epsilon())\n",
        "  return recall\n"
      ],
      "execution_count": null,
      "outputs": []
    },
    {
      "cell_type": "code",
      "metadata": {
        "colab": {
          "base_uri": "https://localhost:8080/"
        },
        "id": "ZC1w2N23kfOf",
        "outputId": "ca5509fe-b2f3-40f1-a8dc-0290788190fd"
      },
      "source": [
        "#Construct a RNN model\n",
        "model = Sequential()\n",
        "\n",
        "model.add(Embedding(len(tokenizer.index_word)+1, 32))\n",
        "model.add(LSTM(32, dropout=0, recurrent_dropout=0))\n",
        "model.add(Dense(32, activation='relu'))\n",
        "model.add(Dense(1, activation='sigmoid'))\n",
        "model.summary()"
      ],
      "execution_count": null,
      "outputs": [
        {
          "name": "stdout",
          "output_type": "stream",
          "text": [
            "Model: \"sequential\"\n",
            "_________________________________________________________________\n",
            "Layer (type)                 Output Shape              Param #   \n",
            "=================================================================\n",
            "embedding (Embedding)        (None, None, 32)          1092992   \n",
            "_________________________________________________________________\n",
            "lstm (LSTM)                  (None, 32)                8320      \n",
            "_________________________________________________________________\n",
            "dense (Dense)                (None, 32)                1056      \n",
            "_________________________________________________________________\n",
            "dense_1 (Dense)              (None, 1)                 33        \n",
            "=================================================================\n",
            "Total params: 1,102,401\n",
            "Trainable params: 1,102,401\n",
            "Non-trainable params: 0\n",
            "_________________________________________________________________\n"
          ]
        }
      ]
    },
    {
      "cell_type": "code",
      "metadata": {
        "id": "92Ih6zm5kfR3"
      },
      "source": [
        "# Compile the model\n",
        "model.compile(optimizer='adam',\n",
        "              loss='binary_crossentropy',\n",
        "              metrics=['accuracy', precision_m, recall_m])"
      ],
      "execution_count": null,
      "outputs": []
    },
    {
      "cell_type": "code",
      "metadata": {
        "colab": {
          "base_uri": "https://localhost:8080/"
        },
        "id": "JuVVUuk1kfWi",
        "outputId": "01c73d97-84a0-4929-f9c0-8ddbb6416084"
      },
      "source": [
        "history = model.fit(X_train_seq_padded, y_train,\n",
        "                    batch_size=32, epochs=5,\n",
        "                    validation_data=(X_test_seq_padded, y_test)) "
      ],
      "execution_count": null,
      "outputs": [
        {
          "name": "stdout",
          "output_type": "stream",
          "text": [
            "Epoch 1/5\n",
            "35521/35521 [==============================] - 202s 6ms/step - loss: 0.1851 - accuracy: 0.9468 - precision_m: 0.9468 - recall_m: 1.0000 - val_loss: 0.1831 - val_accuracy: 0.9464 - val_precision_m: 0.9464 - val_recall_m: 1.0000\n",
            "Epoch 2/5\n",
            "35521/35521 [==============================] - 195s 5ms/step - loss: 0.1785 - accuracy: 0.9468 - precision_m: 0.9469 - recall_m: 0.9999 - val_loss: 0.1806 - val_accuracy: 0.9464 - val_precision_m: 0.9466 - val_recall_m: 0.9999\n",
            "Epoch 3/5\n",
            "35521/35521 [==============================] - 195s 6ms/step - loss: 0.1754 - accuracy: 0.9471 - precision_m: 0.9477 - recall_m: 0.9992 - val_loss: 0.1795 - val_accuracy: 0.9463 - val_precision_m: 0.9471 - val_recall_m: 0.9992\n",
            "Epoch 4/5\n",
            "35521/35521 [==============================] - 195s 5ms/step - loss: 0.1724 - accuracy: 0.9477 - precision_m: 0.9485 - recall_m: 0.9990 - val_loss: 0.1819 - val_accuracy: 0.9460 - val_precision_m: 0.9469 - val_recall_m: 0.9989\n",
            "Epoch 5/5\n",
            "35521/35521 [==============================] - 196s 6ms/step - loss: 0.1701 - accuracy: 0.9483 - precision_m: 0.9491 - recall_m: 0.9989 - val_loss: 0.1805 - val_accuracy: 0.9458 - val_precision_m: 0.9471 - val_recall_m: 0.9985\n"
          ]
        }
      ]
    },
    {
      "cell_type": "markdown",
      "metadata": {
        "id": "0PdL-fg_Lqdl"
      },
      "source": [
        "Clean up text\n"
      ]
    },
    {
      "cell_type": "markdown",
      "metadata": {
        "id": "ke2ug2YjMZ61"
      },
      "source": [
        "Lemmatize text"
      ]
    },
    {
      "cell_type": "code",
      "metadata": {
        "colab": {
          "base_uri": "https://localhost:8080/",
          "height": 861
        },
        "id": "q33DweFJJqRK",
        "outputId": "383a6110-4812-419e-b6c3-c9608d0b7818"
      },
      "source": [
        "import matplotlib.pyplot as plt\n",
        "\n",
        "for i in ['accuracy', 'precision_m', 'recall_m']:\n",
        "    acc = history.history[i]\n",
        "    val_acc = history.history['val_{}'.format(i)]\n",
        "    epochs = range(1, len(acc) + 1)\n",
        "\n",
        "    plt.figure()\n",
        "    plt.plot(epochs, acc, label='Training Accuracy')\n",
        "    plt.plot(epochs, val_acc, label='Validation Accuracy')\n",
        "    plt.title('Results for {}'.format(i))\n",
        "    plt.legend()\n",
        "    plt.show()\n",
        "    plt.savefig('fig_rnn1.png')"
      ],
      "execution_count": null,
      "outputs": [
        {
          "data": {
            "image/png": "[encoded data removed]",
            "text/plain": [
              "<Figure size 432x288 with 1 Axes>"
            ]
          },
          "metadata": {},
          "output_type": "display_data"
        },
        {
          "data": {
            "text/plain": [
              "<Figure size 432x288 with 0 Axes>"
            ]
          },
          "metadata": {},
          "output_type": "display_data"
        },
        {
          "data": {
            "image/png": "[encoded data removed]",
            "text/plain": [
              "<Figure size 432x288 with 1 Axes>"
            ]
          },
          "metadata": {},
          "output_type": "display_data"
        },
        {
          "data": {
            "text/plain": [
              "<Figure size 432x288 with 0 Axes>"
            ]
          },
          "metadata": {},
          "output_type": "display_data"
        },
        {
          "data": {
            "image/png": "[encoded data removed]",
            "text/plain": [
              "<Figure size 432x288 with 1 Axes>"
            ]
          },
          "metadata": {},
          "output_type": "display_data"
        },
        {
          "data": {
            "text/plain": [
              "<Figure size 432x288 with 0 Axes>"
            ]
          },
          "metadata": {},
          "output_type": "display_data"
        }
      ]
    },
    {
      "cell_type": "code",
      "metadata": {
        "id": "1Sez-vbeVKob"
      },
      "source": [
        "count_class_1, count_class_0 = learning_data['status'].value_counts()"
      ],
      "execution_count": null,
      "outputs": []
    },
    {
      "cell_type": "code",
      "metadata": {
        "id": "lvTuJ0oMVKsR"
      },
      "source": [
        "df4_0 = learning_data[learning_data['status'] == 0].drop(columns=['loan_amount', 'sector_name'])\n",
        "df4_1 = learning_data[learning_data['status'] == 1].drop(columns=['loan_amount', 'sector_name'])"
      ],
      "execution_count": null,
      "outputs": []
    },
    {
      "cell_type": "code",
      "metadata": {
        "colab": {
          "base_uri": "https://localhost:8080/"
        },
        "id": "7yEPYFSidoTJ",
        "outputId": "dd14eb71-538f-4b4e-bde4-27281a857250"
      },
      "source": [
        "df4_0.head()"
      ],
      "execution_count": null,
      "outputs": [
        {
          "data": {
            "text/html": [
              "<div>\n",
              "<style scoped>\n",
              "    .dataframe tbody tr th:only-of-type {\n",
              "        vertical-align: middle;\n",
              "    }\n",
              "\n",
              "    .dataframe tbody tr th {\n",
              "        vertical-align: top;\n",
              "    }\n",
              "\n",
              "    .dataframe thead th {\n",
              "        text-align: right;\n",
              "    }\n",
              "</style>\n",
              "<table border=\"1\" class=\"dataframe\">\n",
              "  <thead>\n",
              "    <tr style=\"text-align: right;\">\n",
              "      <th></th>\n",
              "      <th>loan_use</th>\n",
              "      <th>status</th>\n",
              "    </tr>\n",
              "  </thead>\n",
              "  <tbody>\n",
              "    <tr>\n",
              "      <th>30</th>\n",
              "      <td>to purchase more variety of fish to sell</td>\n",
              "      <td>0</td>\n",
              "    </tr>\n",
              "    <tr>\n",
              "      <th>99</th>\n",
              "      <td>him to buy more fodder for his cattle.</td>\n",
              "      <td>0</td>\n",
              "    </tr>\n",
              "    <tr>\n",
              "      <th>119</th>\n",
              "      <td>to purchase a motor bike</td>\n",
              "      <td>0</td>\n",
              "    </tr>\n",
              "    <tr>\n",
              "      <th>170</th>\n",
              "      <td>to buy clothes, jeans, blouses, watches, tennis shoes and a variety of accessories.</td>\n",
              "      <td>0</td>\n",
              "    </tr>\n",
              "    <tr>\n",
              "      <th>190</th>\n",
              "      <td>to buy sweets, drinks, basic food staples, and some household items.</td>\n",
              "      <td>0</td>\n",
              "    </tr>\n",
              "  </tbody>\n",
              "</table>\n",
              "</div>"
            ],
            "text/plain": [
              "                                                                                loan_use  \\\n",
              "30                                              to purchase more variety of fish to sell   \n",
              "99                                                him to buy more fodder for his cattle.   \n",
              "119                                                             to purchase a motor bike   \n",
              "170  to buy clothes, jeans, blouses, watches, tennis shoes and a variety of accessories.   \n",
              "190                 to buy sweets, drinks, basic food staples, and some household items.   \n",
              "\n",
              "     status  \n",
              "30        0  \n",
              "99        0  \n",
              "119       0  \n",
              "170       0  \n",
              "190       0  "
            ]
          },
          "execution_count": 93,
          "metadata": {},
          "output_type": "execute_result"
        }
      ]
    },
    {
      "cell_type": "code",
      "metadata": {
        "colab": {
          "base_uri": "https://localhost:8080/"
        },
        "id": "RsnsPdWNVK2f",
        "outputId": "72c8ddd0-241a-469b-e712-82ab33eb690b"
      },
      "source": [
        "print(count_class_0)\n",
        "print(count_class_1)"
      ],
      "execution_count": null,
      "outputs": [
        {
          "name": "stdout",
          "output_type": "stream",
          "text": [
            "86606\n",
            "1537208\n"
          ]
        }
      ]
    },
    {
      "cell_type": "code",
      "metadata": {
        "colab": {
          "base_uri": "https://localhost:8080/"
        },
        "id": "pmUsk_PoVK6I",
        "outputId": "5b44cb1d-4629-4bb2-e383-bc869e28e214"
      },
      "source": [
        "# Undersampling 1_class and concat the dataframe to for a new dataframe\n",
        "df4_1_under = df4_1.sample(count_class_0)\n",
        "df4_1_under.shape\n",
        "df4_test_under = pd.concat([df4_1_under, df4_0], axis=0)\n",
        "print ('Random under-Sampling')\n",
        "print(df4_test_under.status.value_counts())"
      ],
      "execution_count": null,
      "outputs": [
        {
          "name": "stdout",
          "output_type": "stream",
          "text": [
            "Random under-Sampling\n",
            "1    86606\n",
            "0    86606\n",
            "Name: status, dtype: int64\n"
          ]
        }
      ]
    },
    {
      "cell_type": "code",
      "metadata": {
        "colab": {
          "base_uri": "https://localhost:8080/"
        },
        "id": "o0XrkkJ9ZULW",
        "outputId": "a371a47c-5ad6-406e-b680-7a5867bd56e2"
      },
      "source": [
        "df4_test_under.head()"
      ],
      "execution_count": null,
      "outputs": [
        {
          "data": {
            "text/html": [
              "<div>\n",
              "<style scoped>\n",
              "    .dataframe tbody tr th:only-of-type {\n",
              "        vertical-align: middle;\n",
              "    }\n",
              "\n",
              "    .dataframe tbody tr th {\n",
              "        vertical-align: top;\n",
              "    }\n",
              "\n",
              "    .dataframe thead th {\n",
              "        text-align: right;\n",
              "    }\n",
              "</style>\n",
              "<table border=\"1\" class=\"dataframe\">\n",
              "  <thead>\n",
              "    <tr style=\"text-align: right;\">\n",
              "      <th></th>\n",
              "      <th>loan_use</th>\n",
              "      <th>status</th>\n",
              "    </tr>\n",
              "  </thead>\n",
              "  <tbody>\n",
              "    <tr>\n",
              "      <th>1353802</th>\n",
              "      <td>to buy leather in a variety of colours, fasteners, and glue</td>\n",
              "      <td>1</td>\n",
              "    </tr>\n",
              "    <tr>\n",
              "      <th>1547527</th>\n",
              "      <td>Working capital</td>\n",
              "      <td>1</td>\n",
              "    </tr>\n",
              "    <tr>\n",
              "      <th>1972214</th>\n",
              "      <td>to buy a boat, because he has to rent the one he uses everyday and it's sometimes not available.</td>\n",
              "      <td>1</td>\n",
              "    </tr>\n",
              "    <tr>\n",
              "      <th>425005</th>\n",
              "      <td>to build a sanitary toilet</td>\n",
              "      <td>1</td>\n",
              "    </tr>\n",
              "    <tr>\n",
              "      <th>1838414</th>\n",
              "      <td>to purchase calves to raise and expand his husbandry business.</td>\n",
              "      <td>1</td>\n",
              "    </tr>\n",
              "  </tbody>\n",
              "</table>\n",
              "</div>"
            ],
            "text/plain": [
              "                                                                                                 loan_use  \\\n",
              "1353802                                       to buy leather in a variety of colours, fasteners, and glue   \n",
              "1547527                                                                                   Working capital   \n",
              "1972214  to buy a boat, because he has to rent the one he uses everyday and it's sometimes not available.   \n",
              "425005                                                                         to build a sanitary toilet   \n",
              "1838414                                    to purchase calves to raise and expand his husbandry business.   \n",
              "\n",
              "         status  \n",
              "1353802       1  \n",
              "1547527       1  \n",
              "1972214       1  \n",
              "425005        1  \n",
              "1838414       1  "
            ]
          },
          "execution_count": 96,
          "metadata": {},
          "output_type": "execute_result"
        }
      ]
    },
    {
      "cell_type": "code",
      "metadata": {
        "id": "cfB_dWYmdmfV"
      },
      "source": [
        ""
      ],
      "execution_count": null,
      "outputs": []
    },
    {
      "cell_type": "code",
      "metadata": {
        "colab": {
          "base_uri": "https://localhost:8080/"
        },
        "id": "Xl5uzZbEY9qb",
        "outputId": "6e51d9e8-4d21-4c6a-b937-6ddb384854a8"
      },
      "source": [
        "#Read the data in\n",
        "features = df4_test_under['loan_use']\n",
        "labels = df4_test_under['status']\n",
        "labels.value_counts()"
      ],
      "execution_count": null,
      "outputs": [
        {
          "data": {
            "text/plain": [
              "1    86606\n",
              "0    86606\n",
              "Name: status, dtype: int64"
            ]
          },
          "execution_count": 97,
          "metadata": {},
          "output_type": "execute_result"
        }
      ]
    },
    {
      "cell_type": "code",
      "metadata": {
        "id": "0AzQe7AfY-QO"
      },
      "source": [
        "#Spliting the data for training and testing\n",
        "X_train, X_test, y_train, y_test = train_test_split(features, labels, test_size=0.3)"
      ],
      "execution_count": null,
      "outputs": []
    },
    {
      "cell_type": "code",
      "metadata": {
        "id": "hqEpE7rcVK-H"
      },
      "source": [
        "# Initialize and fit the tokenizer\n",
        "tokenizer = Tokenizer()\n",
        "tokenizer.fit_on_texts(X_train)"
      ],
      "execution_count": null,
      "outputs": []
    },
    {
      "cell_type": "code",
      "metadata": {
        "id": "jz8a6ealVLCH"
      },
      "source": [
        ""
      ],
      "execution_count": null,
      "outputs": []
    },
    {
      "cell_type": "code",
      "metadata": {
        "id": "MmjzubVsmFYd"
      },
      "source": [
        "#Use that tokenizer to transform the data in the training \n",
        "X_train_seq = tokenizer.texts_to_sequences(X_train)\n",
        "X_test_seq = tokenizer.texts_to_sequences(X_test)"
      ],
      "execution_count": null,
      "outputs": []
    },
    {
      "cell_type": "code",
      "metadata": {
        "id": "SdDoH1CmYlxZ"
      },
      "source": [
        "# Pad the sequences so each sequence is the same length\n",
        "X_train_seq_padded = pad_sequences(X_train_seq, 50)\n",
        "X_test_seq_padded = pad_sequences(X_test_seq, 50)"
      ],
      "execution_count": null,
      "outputs": []
    },
    {
      "cell_type": "code",
      "metadata": {
        "colab": {
          "base_uri": "https://localhost:8080/"
        },
        "id": "wPwF5FAiYl1c",
        "outputId": "2cc77de9-63fc-4028-d0d5-b3772d0603ac"
      },
      "source": [
        "X_train_seq_padded[0]"
      ],
      "execution_count": null,
      "outputs": [
        {
          "data": {
            "text/plain": [
              "array([  0,   0,   0,   0,   0,   0,   0,   0,   0,   0,   0,   0,   0,\n",
              "         0,   0,   0,   0,   0,   0,   0,   0,   0,   0,   0,   0,   0,\n",
              "         0,   0,   0,   0,   0,   0,   1,   8,  36, 559, 105,  50,  66,\n",
              "       126,  30,   2,  17, 199,  31,   1,  63,   5, 559,  14], dtype=int32)"
            ]
          },
          "execution_count": 102,
          "metadata": {},
          "output_type": "execute_result"
        }
      ]
    },
    {
      "cell_type": "code",
      "metadata": {
        "id": "QAEzgojSYl5E"
      },
      "source": [
        "#Building the model"
      ],
      "execution_count": null,
      "outputs": []
    },
    {
      "cell_type": "code",
      "metadata": {
        "id": "xnDgvaJtYl8v"
      },
      "source": [
        "# Import the tools needed for keras and define the functions to calculate recall and precision\n",
        "import keras.backend as K\n",
        "from keras.layers import Dense, Embedding, LSTM\n",
        "from keras.models import Sequential\n",
        "\n",
        "def recall_m(y_true, y_pred):\n",
        "  true_positives = K.sum(K.round(K.clip(y_true * y_pred, 0, 1)))\n",
        "  possible_positives = K.sum(K.round(K.clip(y_true, 0, 1)))\n",
        "  recall = true_positives / (possible_positives + K.epsilon())\n",
        "  return recall\n",
        "\n",
        "def precision_m(y_true, y_pred):\n",
        "  true_positives = K.sum(K.round(K.clip(y_true * y_pred, 0, 1)))\n",
        "  predicted_positives = K.sum(K.round(K.clip(y_pred, 0, 1)))\n",
        "  recall = true_positives / (predicted_positives + K.epsilon())\n",
        "  return recall\n"
      ],
      "execution_count": null,
      "outputs": []
    },
    {
      "cell_type": "code",
      "metadata": {
        "colab": {
          "base_uri": "https://localhost:8080/"
        },
        "id": "2H_BAWVJYl-7",
        "outputId": "0f235829-5580-4aaa-9ef4-8af1df6ddd96"
      },
      "source": [
        "#Construct a RNN model\n",
        "model = Sequential()\n",
        "\n",
        "model.add(Embedding(len(tokenizer.index_word)+1, 32))\n",
        "model.add(LSTM(32, dropout=0, recurrent_dropout=0))\n",
        "model.add(Dense(32, activation='relu'))\n",
        "model.add(Dense(1, activation='sigmoid'))\n",
        "model.summary()"
      ],
      "execution_count": null,
      "outputs": [
        {
          "name": "stdout",
          "output_type": "stream",
          "text": [
            "Model: \"sequential_1\"\n",
            "_________________________________________________________________\n",
            "Layer (type)                 Output Shape              Param #   \n",
            "=================================================================\n",
            "embedding_1 (Embedding)      (None, None, 32)          453568    \n",
            "_________________________________________________________________\n",
            "lstm_1 (LSTM)                (None, 32)                8320      \n",
            "_________________________________________________________________\n",
            "dense_2 (Dense)              (None, 32)                1056      \n",
            "_________________________________________________________________\n",
            "dense_3 (Dense)              (None, 1)                 33        \n",
            "=================================================================\n",
            "Total params: 462,977\n",
            "Trainable params: 462,977\n",
            "Non-trainable params: 0\n",
            "_________________________________________________________________\n"
          ]
        }
      ]
    },
    {
      "cell_type": "code",
      "metadata": {
        "id": "8GhLqkVsn-2K"
      },
      "source": [
        "# Compile the model\n",
        "model.compile(optimizer='adam',\n",
        "              loss='binary_crossentropy',\n",
        "              metrics=['accuracy', precision_m, recall_m])"
      ],
      "execution_count": null,
      "outputs": []
    },
    {
      "cell_type": "code",
      "metadata": {
        "colab": {
          "background_save": true,
          "base_uri": "https://localhost:8080/"
        },
        "id": "wQR-oTqUn-6B",
        "outputId": "2c25b85a-9b4a-49b3-95d2-b1637118f34a"
      },
      "source": [
        "history = model.fit(X_train_seq_padded, y_train,\n",
        "                    batch_size=32, epochs=30,\n",
        "                    validation_data=(X_test_seq_padded, y_test))"
      ],
      "execution_count": null,
      "outputs": [
        {
          "name": "stdout",
          "output_type": "stream",
          "text": [
            "Epoch 1/30\n",
            "3789/3789 [==============================] - 21s 5ms/step - loss: 0.5787 - accuracy: 0.6884 - precision_m: 0.7167 - recall_m: 0.6270 - val_loss: 0.5662 - val_accuracy: 0.6992 - val_precision_m: 0.7420 - val_recall_m: 0.6084\n",
            "Epoch 2/30\n",
            "3789/3789 [==============================] - 19s 5ms/step - loss: 0.5390 - accuracy: 0.7199 - precision_m: 0.7477 - recall_m: 0.6647 - val_loss: 0.5662 - val_accuracy: 0.7039 - val_precision_m: 0.7469 - val_recall_m: 0.6138\n",
            "Epoch 3/30\n",
            "3789/3789 [==============================] - 19s 5ms/step - loss: 0.5170 - accuracy: 0.7347 - precision_m: 0.7625 - recall_m: 0.6840 - val_loss: 0.5749 - val_accuracy: 0.7028 - val_precision_m: 0.7261 - val_recall_m: 0.6485\n",
            "Epoch 4/30\n",
            "3789/3789 [==============================] - 19s 5ms/step - loss: 0.4989 - accuracy: 0.7465 - precision_m: 0.7731 - recall_m: 0.6994 - val_loss: 0.5750 - val_accuracy: 0.7011 - val_precision_m: 0.7408 - val_recall_m: 0.6153\n",
            "Epoch 5/30\n",
            "3789/3789 [==============================] - 19s 5ms/step - loss: 0.4815 - accuracy: 0.7564 - precision_m: 0.7852 - recall_m: 0.7080 - val_loss: 0.6008 - val_accuracy: 0.7011 - val_precision_m: 0.7318 - val_recall_m: 0.6320\n",
            "Epoch 6/30\n",
            "3789/3789 [==============================] - 18s 5ms/step - loss: 0.4654 - accuracy: 0.7663 - precision_m: 0.7947 - recall_m: 0.7206 - val_loss: 0.6040 - val_accuracy: 0.7007 - val_precision_m: 0.7255 - val_recall_m: 0.6438\n",
            "Epoch 7/30\n",
            "3789/3789 [==============================] - 19s 5ms/step - loss: 0.4493 - accuracy: 0.7748 - precision_m: 0.8014 - recall_m: 0.7333 - val_loss: 0.6136 - val_accuracy: 0.6984 - val_precision_m: 0.7219 - val_recall_m: 0.6437\n",
            "Epoch 8/30\n",
            "3789/3789 [==============================] - 19s 5ms/step - loss: 0.4350 - accuracy: 0.7830 - precision_m: 0.8094 - recall_m: 0.7410 - val_loss: 0.6622 - val_accuracy: 0.6931 - val_precision_m: 0.6971 - val_recall_m: 0.6789\n",
            "Epoch 9/30\n",
            "3789/3789 [==============================] - 19s 5ms/step - loss: 0.4218 - accuracy: 0.7899 - precision_m: 0.8169 - recall_m: 0.7482 - val_loss: 0.6897 - val_accuracy: 0.6931 - val_precision_m: 0.7044 - val_recall_m: 0.6627\n",
            "Epoch 10/30\n",
            "3789/3789 [==============================] - 19s 5ms/step - loss: 0.4091 - accuracy: 0.7966 - precision_m: 0.8236 - recall_m: 0.7571 - val_loss: 0.7144 - val_accuracy: 0.6943 - val_precision_m: 0.7136 - val_recall_m: 0.6467\n",
            "Epoch 11/30\n",
            "3789/3789 [==============================] - 19s 5ms/step - loss: 0.3977 - accuracy: 0.8018 - precision_m: 0.8288 - recall_m: 0.7619 - val_loss: 0.7522 - val_accuracy: 0.6937 - val_precision_m: 0.7128 - val_recall_m: 0.6471\n",
            "Epoch 12/30\n",
            "3789/3789 [==============================] - 19s 5ms/step - loss: 0.3877 - accuracy: 0.8072 - precision_m: 0.8332 - recall_m: 0.7686 - val_loss: 0.7778 - val_accuracy: 0.6912 - val_precision_m: 0.7215 - val_recall_m: 0.6197\n",
            "Epoch 13/30\n",
            "3789/3789 [==============================] - 19s 5ms/step - loss: 0.3772 - accuracy: 0.8130 - precision_m: 0.8390 - recall_m: 0.7759 - val_loss: 0.8230 - val_accuracy: 0.6906 - val_precision_m: 0.7075 - val_recall_m: 0.6468\n",
            "Epoch 14/30\n",
            "3789/3789 [==============================] - 19s 5ms/step - loss: 0.3685 - accuracy: 0.8176 - precision_m: 0.8424 - recall_m: 0.7823 - val_loss: 0.8536 - val_accuracy: 0.6919 - val_precision_m: 0.6984 - val_recall_m: 0.6737\n",
            "Epoch 15/30\n",
            "3789/3789 [==============================] - 19s 5ms/step - loss: 0.3597 - accuracy: 0.8217 - precision_m: 0.8465 - recall_m: 0.7865 - val_loss: 0.9063 - val_accuracy: 0.6911 - val_precision_m: 0.7161 - val_recall_m: 0.6324\n",
            "Epoch 16/30\n",
            "3789/3789 [==============================] - 19s 5ms/step - loss: 0.3521 - accuracy: 0.8264 - precision_m: 0.8521 - recall_m: 0.7901 - val_loss: 0.9189 - val_accuracy: 0.6886 - val_precision_m: 0.7105 - val_recall_m: 0.6349\n",
            "Epoch 17/30\n",
            "3789/3789 [==============================] - 19s 5ms/step - loss: 0.3444 - accuracy: 0.8297 - precision_m: 0.8524 - recall_m: 0.7985 - val_loss: 0.9417 - val_accuracy: 0.6882 - val_precision_m: 0.6980 - val_recall_m: 0.6629\n",
            "Epoch 18/30\n",
            "3789/3789 [==============================] - 19s 5ms/step - loss: 0.3386 - accuracy: 0.8328 - precision_m: 0.8563 - recall_m: 0.7996 - val_loss: 0.9838 - val_accuracy: 0.6850 - val_precision_m: 0.6948 - val_recall_m: 0.6579\n",
            "Epoch 19/30\n",
            "3789/3789 [==============================] - 19s 5ms/step - loss: 0.3299 - accuracy: 0.8372 - precision_m: 0.8590 - recall_m: 0.8074 - val_loss: 1.0417 - val_accuracy: 0.6837 - val_precision_m: 0.6976 - val_recall_m: 0.6477\n",
            "Epoch 20/30\n",
            "3789/3789 [==============================] - 19s 5ms/step - loss: 0.3248 - accuracy: 0.8407 - precision_m: 0.8653 - recall_m: 0.8084 - val_loss: 1.0443 - val_accuracy: 0.6809 - val_precision_m: 0.6910 - val_recall_m: 0.6529\n",
            "Epoch 21/30\n",
            "3789/3789 [==============================] - 19s 5ms/step - loss: 0.3183 - accuracy: 0.8430 - precision_m: 0.8666 - recall_m: 0.8117 - val_loss: 1.1255 - val_accuracy: 0.6851 - val_precision_m: 0.6947 - val_recall_m: 0.6591\n",
            "Epoch 22/30\n",
            "3789/3789 [==============================] - 19s 5ms/step - loss: 0.3125 - accuracy: 0.8469 - precision_m: 0.8684 - recall_m: 0.8182 - val_loss: 1.1215 - val_accuracy: 0.6832 - val_precision_m: 0.7049 - val_recall_m: 0.6297\n",
            "Epoch 23/30\n",
            "3789/3789 [==============================] - 19s 5ms/step - loss: 0.3076 - accuracy: 0.8485 - precision_m: 0.8695 - recall_m: 0.8197 - val_loss: 1.1036 - val_accuracy: 0.6852 - val_precision_m: 0.6969 - val_recall_m: 0.6543\n",
            "Epoch 24/30\n",
            "3789/3789 [==============================] - 19s 5ms/step - loss: 0.3026 - accuracy: 0.8518 - precision_m: 0.8726 - recall_m: 0.8247 - val_loss: 1.2317 - val_accuracy: 0.6822 - val_precision_m: 0.6934 - val_recall_m: 0.6529\n",
            "Epoch 25/30\n",
            "3789/3789 [==============================] - 19s 5ms/step - loss: 0.2974 - accuracy: 0.8527 - precision_m: 0.8751 - recall_m: 0.8229 - val_loss: 1.2257 - val_accuracy: 0.6822 - val_precision_m: 0.6865 - val_recall_m: 0.6693\n",
            "Epoch 26/30\n",
            "3789/3789 [==============================] - 19s 5ms/step - loss: 0.2920 - accuracy: 0.8574 - precision_m: 0.8794 - recall_m: 0.8292 - val_loss: 1.2810 - val_accuracy: 0.6812 - val_precision_m: 0.6930 - val_recall_m: 0.6483\n",
            "Epoch 27/30\n",
            "3789/3789 [==============================] - 19s 5ms/step - loss: 0.2889 - accuracy: 0.8583 - precision_m: 0.8816 - recall_m: 0.8289 - val_loss: 1.2928 - val_accuracy: 0.6806 - val_precision_m: 0.6849 - val_recall_m: 0.6673\n",
            "Epoch 28/30\n",
            "3789/3789 [==============================] - 19s 5ms/step - loss: 0.2861 - accuracy: 0.8597 - precision_m: 0.8809 - recall_m: 0.8328 - val_loss: 1.3216 - val_accuracy: 0.6790 - val_precision_m: 0.6854 - val_recall_m: 0.6595\n",
            "Epoch 29/30\n",
            "3789/3789 [==============================] - 19s 5ms/step - loss: 0.2805 - accuracy: 0.8623 - precision_m: 0.8836 - recall_m: 0.8340 - val_loss: 1.4002 - val_accuracy: 0.6772 - val_precision_m: 0.6834 - val_recall_m: 0.6561\n",
            "Epoch 30/30\n",
            "3789/3789 [==============================] - 19s 5ms/step - loss: 0.2793 - accuracy: 0.8634 - precision_m: 0.8833 - recall_m: 0.8382 - val_loss: 1.3777 - val_accuracy: 0.6800 - val_precision_m: 0.6926 - val_recall_m: 0.6462\n"
          ]
        }
      ]
    },
    {
      "cell_type": "code",
      "metadata": {
        "colab": {
          "background_save": true
        },
        "id": "gMU50AX8n--L",
        "outputId": "7c91f8c7-87be-4db5-bca0-7fab790afa5e"
      },
      "source": [
        "import matplotlib.pyplot as plt\n",
        "\n",
        "for i in ['accuracy', 'precision_m', 'recall_m']:\n",
        "    acc = history.history[i]\n",
        "    val_acc = history.history['val_{}'.format(i)]\n",
        "    epochs = range(1, len(acc) + 1)\n",
        "\n",
        "    plt.figure()\n",
        "    plt.plot(epochs, acc, label='Training Accuracy')\n",
        "    plt.plot(epochs, val_acc, label='Validation Accuracy')\n",
        "    plt.title('Results for {}'.format(i))\n",
        "    plt.legend()\n",
        "    plt.show()\n",
        "    plt.savefig('fig_rnn_under.png')"
      ],
      "execution_count": null,
      "outputs": [
        {
          "data": {
            "image/png": "[encoded data removed]",
            "text/plain": [
              "<Figure size 432x288 with 1 Axes>"
            ]
          },
          "metadata": {},
          "output_type": "display_data"
        },
        {
          "data": {
            "text/plain": [
              "<Figure size 432x288 with 0 Axes>"
            ]
          },
          "metadata": {},
          "output_type": "display_data"
        },
        {
          "data": {
            "image/png": "[encoded data removed]",
            "text/plain": [
              "<Figure size 432x288 with 1 Axes>"
            ]
          },
          "metadata": {},
          "output_type": "display_data"
        },
        {
          "data": {
            "text/plain": [
              "<Figure size 432x288 with 0 Axes>"
            ]
          },
          "metadata": {},
          "output_type": "display_data"
        },
        {
          "data": {
            "image/png": "[encoded data removed]",
            "text/plain": [
              "<Figure size 432x288 with 1 Axes>"
            ]
          },
          "metadata": {},
          "output_type": "display_data"
        },
        {
          "data": {
            "text/plain": [
              "<Figure size 432x288 with 0 Axes>"
            ]
          },
          "metadata": {},
          "output_type": "display_data"
        }
      ]
    },
    {
      "cell_type": "code",
      "metadata": {
        "colab": {
          "background_save": true
        },
        "id": "Rkb8a2iY1djY",
        "outputId": "afd7bbdc-7c94-4ab2-b45d-93b739bb43b6"
      },
      "source": [
        "df4_0_over = df4_0.sample(count_class_1, replace=True)\n",
        "df4_0_over.shape\n",
        "df4_test_over = pd.concat([df4_0_over, df4_1], axis=0)\n",
        "print ('Random under-Sampling')\n",
        "print(df4_test_over.status.value_counts())"
      ],
      "execution_count": null,
      "outputs": [
        {
          "name": "stdout",
          "output_type": "stream",
          "text": [
            "Random under-Sampling\n",
            "1    1537208\n",
            "0    1537208\n",
            "Name: status, dtype: int64\n"
          ]
        }
      ]
    },
    {
      "cell_type": "code",
      "metadata": {
        "colab": {
          "background_save": true
        },
        "id": "_hTmjhMw1dmy",
        "outputId": "0ce3d8eb-8fd5-4fd4-8690-ea86af6d674b"
      },
      "source": [
        "#Read the data in\n",
        "features = df4_test_over['loan_use']\n",
        "labels = df4_test_over['status']\n",
        "labels.value_counts()"
      ],
      "execution_count": null,
      "outputs": [
        {
          "data": {
            "text/plain": [
              "1    1537208\n",
              "0    1537208\n",
              "Name: status, dtype: int64"
            ]
          },
          "execution_count": null,
          "metadata": {},
          "output_type": "execute_result"
        }
      ]
    },
    {
      "cell_type": "code",
      "metadata": {
        "colab": {
          "background_save": true
        },
        "id": "PXOYDoiJ1dqS"
      },
      "source": [
        "#Spliting the data for training and testing\n",
        "X_train, X_test, y_train, y_test = train_test_split(features, labels, test_size=0.3)"
      ],
      "execution_count": null,
      "outputs": []
    },
    {
      "cell_type": "code",
      "metadata": {
        "colab": {
          "background_save": true
        },
        "id": "Y7LX34ey1dtl"
      },
      "source": [
        "# Initialize and fit the tokenizer\n",
        "tokenizer = Tokenizer()\n",
        "tokenizer.fit_on_texts(X_train)"
      ],
      "execution_count": null,
      "outputs": []
    },
    {
      "cell_type": "code",
      "metadata": {
        "colab": {
          "background_save": true
        },
        "id": "Sm2V6Gz_1dxJ"
      },
      "source": [
        "#Use that tokenizer to transform the data in the training \n",
        "X_train_seq = tokenizer.texts_to_sequences(X_train)\n",
        "X_test_seq = tokenizer.texts_to_sequences(X_test)"
      ],
      "execution_count": null,
      "outputs": []
    },
    {
      "cell_type": "code",
      "metadata": {
        "colab": {
          "background_save": true
        },
        "id": "I_Awg-8a1d0o"
      },
      "source": [
        "# Pad the sequences so each sequence is the same length\n",
        "X_train_seq_padded = pad_sequences(X_train_seq, 50)\n",
        "X_test_seq_padded = pad_sequences(X_test_seq, 50)"
      ],
      "execution_count": null,
      "outputs": []
    },
    {
      "cell_type": "code",
      "metadata": {
        "colab": {
          "background_save": true
        },
        "id": "sU2YZDmr3Of8"
      },
      "source": [
        "# Import the tools needed for keras and define the functions to calculate recall and precision\n",
        "import keras.backend as K\n",
        "from keras.layers import Dense, Embedding, LSTM\n",
        "from keras.models import Sequential\n",
        "\n",
        "def recall_m(y_true, y_pred):\n",
        "  true_positives = K.sum(K.round(K.clip(y_true * y_pred, 0, 1)))\n",
        "  possible_positives = K.sum(K.round(K.clip(y_true, 0, 1)))\n",
        "  recall = true_positives / (possible_positives + K.epsilon())\n",
        "  return recall\n",
        "\n",
        "def precision_m(y_true, y_pred):\n",
        "  true_positives = K.sum(K.round(K.clip(y_true * y_pred, 0, 1)))\n",
        "  predicted_positives = K.sum(K.round(K.clip(y_pred, 0, 1)))\n",
        "  recall = true_positives / (predicted_positives + K.epsilon())\n",
        "  return recall"
      ],
      "execution_count": null,
      "outputs": []
    },
    {
      "cell_type": "code",
      "metadata": {
        "colab": {
          "background_save": true
        },
        "id": "M80X3S113OkL",
        "outputId": "af0f0e3a-b0d2-41ee-d332-d0e962685eff"
      },
      "source": [
        "#Construct a RNN model\n",
        "model = Sequential()\n",
        "\n",
        "model.add(Embedding(len(tokenizer.index_word)+1, 32))\n",
        "model.add(LSTM(32, dropout=0, recurrent_dropout=0))\n",
        "model.add(Dense(32, activation='relu'))\n",
        "model.add(Dense(1, activation='sigmoid'))\n",
        "model.summary()"
      ],
      "execution_count": null,
      "outputs": [
        {
          "name": "stdout",
          "output_type": "stream",
          "text": [
            "Model: \"sequential_2\"\n",
            "_________________________________________________________________\n",
            "Layer (type)                 Output Shape              Param #   \n",
            "=================================================================\n",
            "embedding_2 (Embedding)      (None, None, 32)          1110784   \n",
            "_________________________________________________________________\n",
            "lstm_2 (LSTM)                (None, 32)                8320      \n",
            "_________________________________________________________________\n",
            "dense_4 (Dense)              (None, 32)                1056      \n",
            "_________________________________________________________________\n",
            "dense_5 (Dense)              (None, 1)                 33        \n",
            "=================================================================\n",
            "Total params: 1,120,193\n",
            "Trainable params: 1,120,193\n",
            "Non-trainable params: 0\n",
            "_________________________________________________________________\n"
          ]
        }
      ]
    },
    {
      "cell_type": "code",
      "metadata": {
        "colab": {
          "background_save": true
        },
        "id": "UdmiRD533Onu"
      },
      "source": [
        "# Compile the model\n",
        "model.compile(optimizer='adam',\n",
        "              loss='binary_crossentropy',\n",
        "              metrics=['accuracy', precision_m, recall_m])"
      ],
      "execution_count": null,
      "outputs": []
    },
    {
      "cell_type": "code",
      "metadata": {
        "colab": {
          "background_save": true
        },
        "id": "9Enj368-3OrI",
        "outputId": "0ed64e94-0e75-466f-955e-239c90d2693f"
      },
      "source": [
        "history = model.fit(X_train_seq_padded, y_train,\n",
        "                    batch_size=32, epochs=20,\n",
        "                    validation_data=(X_test_seq_padded, y_test))"
      ],
      "execution_count": null,
      "outputs": [
        {
          "name": "stdout",
          "output_type": "stream",
          "text": [
            "Epoch 1/20\n",
            "67253/67253 [==============================] - 377s 6ms/step - loss: 0.5091 - accuracy: 0.7419 - precision_m: 0.7792 - recall_m: 0.6765 - val_loss: 0.4686 - val_accuracy: 0.7697 - val_precision_m: 0.8033 - val_recall_m: 0.7146\n",
            "Epoch 2/20\n",
            "67253/67253 [==============================] - 375s 6ms/step - loss: 0.4371 - accuracy: 0.7886 - precision_m: 0.8332 - recall_m: 0.7223 - val_loss: 0.4210 - val_accuracy: 0.7988 - val_precision_m: 0.8445 - val_recall_m: 0.7328\n",
            "Epoch 3/20\n",
            "67253/67253 [==============================] - 377s 6ms/step - loss: 0.3941 - accuracy: 0.8131 - precision_m: 0.8615 - recall_m: 0.7465 - val_loss: 0.3934 - val_accuracy: 0.8138 - val_precision_m: 0.8683 - val_recall_m: 0.7401\n",
            "Epoch 4/20\n",
            "67253/67253 [==============================] - 377s 6ms/step - loss: 0.3688 - accuracy: 0.8275 - precision_m: 0.8770 - recall_m: 0.7624 - val_loss: 0.3778 - val_accuracy: 0.8235 - val_precision_m: 0.8850 - val_recall_m: 0.7438\n",
            "Epoch 5/20\n",
            "67253/67253 [==============================] - 371s 6ms/step - loss: 0.3531 - accuracy: 0.8357 - precision_m: 0.8853 - recall_m: 0.7717 - val_loss: 0.3673 - val_accuracy: 0.8296 - val_precision_m: 0.8749 - val_recall_m: 0.7695\n",
            "Epoch 6/20\n",
            "67253/67253 [==============================] - 368s 5ms/step - loss: 0.3426 - accuracy: 0.8414 - precision_m: 0.8900 - recall_m: 0.7793 - val_loss: 0.3591 - val_accuracy: 0.8339 - val_precision_m: 0.8829 - val_recall_m: 0.7703\n",
            "Epoch 7/20\n",
            "67253/67253 [==============================] - 369s 5ms/step - loss: 0.3343 - accuracy: 0.8458 - precision_m: 0.8939 - recall_m: 0.7850 - val_loss: 0.3553 - val_accuracy: 0.8375 - val_precision_m: 0.8970 - val_recall_m: 0.7629\n",
            "Epoch 8/20\n",
            "67253/67253 [==============================] - 373s 6ms/step - loss: 0.3284 - accuracy: 0.8489 - precision_m: 0.8964 - recall_m: 0.7893 - val_loss: 0.3515 - val_accuracy: 0.8385 - val_precision_m: 0.8894 - val_recall_m: 0.7734\n",
            "Epoch 9/20\n",
            "67253/67253 [==============================] - 373s 6ms/step - loss: 0.3238 - accuracy: 0.8517 - precision_m: 0.8992 - recall_m: 0.7924 - val_loss: 0.3470 - val_accuracy: 0.8415 - val_precision_m: 0.8930 - val_recall_m: 0.7762\n",
            "Epoch 10/20\n",
            "67253/67253 [==============================] - 373s 6ms/step - loss: 0.3204 - accuracy: 0.8536 - precision_m: 0.9005 - recall_m: 0.7952 - val_loss: 0.3447 - val_accuracy: 0.8425 - val_precision_m: 0.8963 - val_recall_m: 0.7749\n",
            "Epoch 11/20\n",
            "67253/67253 [==============================] - 373s 6ms/step - loss: 0.3173 - accuracy: 0.8553 - precision_m: 0.9013 - recall_m: 0.7983 - val_loss: 0.3439 - val_accuracy: 0.8433 - val_precision_m: 0.8937 - val_recall_m: 0.7793\n",
            "Epoch 12/20\n",
            "67253/67253 [==============================] - 373s 6ms/step - loss: 0.3151 - accuracy: 0.8564 - precision_m: 0.9019 - recall_m: 0.7998 - val_loss: 0.3411 - val_accuracy: 0.8446 - val_precision_m: 0.8994 - val_recall_m: 0.7761\n",
            "Epoch 13/20\n",
            "67253/67253 [==============================] - 374s 6ms/step - loss: 0.3129 - accuracy: 0.8576 - precision_m: 0.9035 - recall_m: 0.8008 - val_loss: 0.3449 - val_accuracy: 0.8434 - val_precision_m: 0.8930 - val_recall_m: 0.7805\n",
            "Epoch 14/20\n",
            "67253/67253 [==============================] - 375s 6ms/step - loss: 0.3112 - accuracy: 0.8584 - precision_m: 0.9033 - recall_m: 0.8028 - val_loss: 0.3386 - val_accuracy: 0.8462 - val_precision_m: 0.8923 - val_recall_m: 0.7876\n",
            "Epoch 15/20\n",
            "67253/67253 [==============================] - 373s 6ms/step - loss: 0.3100 - accuracy: 0.8592 - precision_m: 0.9041 - recall_m: 0.8038 - val_loss: 0.3398 - val_accuracy: 0.8457 - val_precision_m: 0.8951 - val_recall_m: 0.7832\n",
            "Epoch 16/20\n",
            "67253/67253 [==============================] - 374s 6ms/step - loss: 0.3089 - accuracy: 0.8595 - precision_m: 0.9039 - recall_m: 0.8049 - val_loss: 0.3386 - val_accuracy: 0.8467 - val_precision_m: 0.8956 - val_recall_m: 0.7850\n",
            "Epoch 17/20\n",
            "67253/67253 [==============================] - 373s 6ms/step - loss: 0.3068 - accuracy: 0.8609 - precision_m: 0.9052 - recall_m: 0.8066 - val_loss: 0.3371 - val_accuracy: 0.8475 - val_precision_m: 0.8915 - val_recall_m: 0.7915\n",
            "Epoch 18/20\n",
            "67253/67253 [==============================] - 373s 6ms/step - loss: 0.3061 - accuracy: 0.8610 - precision_m: 0.9047 - recall_m: 0.8070 - val_loss: 0.3336 - val_accuracy: 0.8487 - val_precision_m: 0.8960 - val_recall_m: 0.7890\n",
            "Epoch 19/20\n",
            "67253/67253 [==============================] - 372s 6ms/step - loss: 0.3055 - accuracy: 0.8614 - precision_m: 0.9059 - recall_m: 0.8069 - val_loss: 0.3393 - val_accuracy: 0.8469 - val_precision_m: 0.9010 - val_recall_m: 0.7795\n",
            "Epoch 20/20\n",
            "67253/67253 [==============================] - 373s 6ms/step - loss: 0.3045 - accuracy: 0.8619 - precision_m: 0.9062 - recall_m: 0.8077 - val_loss: 0.3367 - val_accuracy: 0.8475 - val_precision_m: 0.9014 - val_recall_m: 0.7808\n"
          ]
        }
      ]
    },
    {
      "cell_type": "code",
      "metadata": {
        "colab": {
          "background_save": true
        },
        "id": "Zu1V35Rf3Oui",
        "outputId": "717d853f-e3ad-49f3-80d9-c11b61c70786"
      },
      "source": [
        "import matplotlib.pyplot as plt\n",
        "\n",
        "for i in ['accuracy', 'precision_m', 'recall_m']:\n",
        "    acc = history.history[i]\n",
        "    val_acc = history.history['val_{}'.format(i)]\n",
        "    epochs = range(1, len(acc) + 1)\n",
        "\n",
        "    plt.figure()\n",
        "    plt.plot(epochs, acc, label='Training Accuracy')\n",
        "    plt.plot(epochs, val_acc, label='Validation Accuracy')\n",
        "    plt.title('Results for {}'.format(i))\n",
        "    plt.legend()\n",
        "    plt.show()\n",
        "    plt.savefig('fig_rnn_over.png')"
      ],
      "execution_count": null,
      "outputs": [
        {
          "data": {
            "image/png": "[encoded data removed]",
            "text/plain": [
              "<Figure size 432x288 with 1 Axes>"
            ]
          },
          "metadata": {},
          "output_type": "display_data"
        },
        {
          "data": {
            "text/plain": [
              "<Figure size 432x288 with 0 Axes>"
            ]
          },
          "metadata": {},
          "output_type": "display_data"
        },
        {
          "data": {
            "image/png": "[encoded data removed]",
            "text/plain": [
              "<Figure size 432x288 with 1 Axes>"
            ]
          },
          "metadata": {},
          "output_type": "display_data"
        },
        {
          "data": {
            "text/plain": [
              "<Figure size 432x288 with 0 Axes>"
            ]
          },
          "metadata": {},
          "output_type": "display_data"
        },
        {
          "data": {
            "image/png": "[encoded data removed]",
            "text/plain": [
              "<Figure size 432x288 with 1 Axes>"
            ]
          },
          "metadata": {},
          "output_type": "display_data"
        },
        {
          "data": {
            "text/plain": [
              "<Figure size 432x288 with 0 Axes>"
            ]
          },
          "metadata": {},
          "output_type": "display_data"
        }
      ]
    },
    {
      "cell_type": "code",
      "metadata": {
        "colab": {
          "background_save": true
        },
        "id": "Lv1fcpnh1d3c"
      },
      "source": [
        ""
      ],
      "execution_count": null,
      "outputs": []
    },
    {
      "cell_type": "code",
      "metadata": {
        "colab": {
          "background_save": true
        },
        "id": "6uFL1bJh1d6m"
      },
      "source": [
        ""
      ],
      "execution_count": null,
      "outputs": []
    },
    {
      "cell_type": "code",
      "metadata": {
        "colab": {
          "background_save": true
        },
        "id": "Cs3CefkZrQyI"
      },
      "source": [
        ""
      ],
      "execution_count": null,
      "outputs": []
    },
    {
      "cell_type": "code",
      "metadata": {
        "colab": {
          "background_save": true
        },
        "id": "f_kmmfR0rQ1q"
      },
      "source": [
        ""
      ],
      "execution_count": null,
      "outputs": []
    },
    {
      "cell_type": "code",
      "metadata": {
        "colab": {
          "background_save": true
        },
        "id": "Zwz1X93erQ5N"
      },
      "source": [
        ""
      ],
      "execution_count": null,
      "outputs": []
    },
    {
      "cell_type": "code",
      "metadata": {
        "colab": {
          "background_save": true
        },
        "id": "v3Q0_Tc-rQ8w"
      },
      "source": [
        ""
      ],
      "execution_count": null,
      "outputs": []
    },
    {
      "cell_type": "code",
      "metadata": {
        "colab": {
          "background_save": true
        },
        "id": "EarxW235rQ_q"
      },
      "source": [
        ""
      ],
      "execution_count": null,
      "outputs": []
    },
    {
      "cell_type": "code",
      "metadata": {
        "colab": {
          "background_save": true
        },
        "id": "r7X8_gvLYmCb"
      },
      "source": [
        ""
      ],
      "execution_count": null,
      "outputs": []
    },
    {
      "cell_type": "code",
      "metadata": {
        "colab": {
          "background_save": true
        },
        "id": "u51pO_n7YmE4"
      },
      "source": [
        ""
      ],
      "execution_count": null,
      "outputs": []
    },
    {
      "cell_type": "code",
      "metadata": {
        "colab": {
          "background_save": true
        },
        "id": "HsnxcoJ4JqUs"
      },
      "source": [
        "def rnn_model(X_train, y_train, X_test):\n",
        "  \n",
        "  #Construct a RNN model\n",
        "  model = Sequential()\n",
        "  model.add(Embedding(len(tokenizer.index_word)+1, 32))\n",
        "  model.add(LSTM(32, dropout=0, recurrent_dropout=0))\n",
        "  model.add(Dense(32, activation='relu'))\n",
        "  model.add(Dense(1, activation='sigmoid'))\n",
        "  # Compile the model\n",
        "  model.compile(optimizer='adam',\n",
        "              loss='binary_crossentropy',\n",
        "              metrics=['accuracy', precision_m, recall_m])\n",
        "  #validate the model\n",
        "  history = model.fit(X_train_seq_padded, y_train,\n",
        "                    batch_size=32, epochs=5,\n",
        "                    validation_data=(X_test_seq_padded, y_test))\n",
        "  \n"
      ],
      "execution_count": null,
      "outputs": []
    },
    {
      "cell_type": "code",
      "metadata": {
        "colab": {
          "background_save": true
        },
        "id": "1vaB_Ck7vU6d",
        "outputId": "10e5caa0-2820-46f0-dffb-dc8fe95f21fb"
      },
      "source": [
        "loan_data_cat = loan_data[['sector_name']]\n",
        "loan_data_cat.nunique()"
      ],
      "execution_count": null,
      "outputs": [
        {
          "data": {
            "text/plain": [
              "sector_name    15\n",
              "dtype: int64"
            ]
          },
          "execution_count": null,
          "metadata": {},
          "output_type": "execute_result"
        }
      ]
    },
    {
      "cell_type": "markdown",
      "metadata": {
        "id": "Rnh_tWNyCaPm"
      },
      "source": [
        "# New Section"
      ]
    },
    {
      "cell_type": "code",
      "metadata": {
        "colab": {
          "background_save": true
        },
        "id": "J085oOr9vET5"
      },
      "source": [
        ""
      ],
      "execution_count": null,
      "outputs": []
    },
    {
      "cell_type": "code",
      "metadata": {
        "colab": {
          "background_save": true
        },
        "id": "T9_gJ0M7sPHo",
        "outputId": "9a600143-2665-4cfb-ba62-9d6b287fd6c1"
      },
      "source": [
        "# Create a new column to calculate the average contribution by lenders\n",
        "dat['contrib_per_lend'] = data['funded_amount'] / data['num_lenders_total']\n",
        "dat['contrib_per_lend'].value_counts()"
      ],
      "execution_count": null,
      "outputs": [
        {
          "data": {
            "text/plain": [
              "25.000000    302126\n",
              "33.333333     49133\n",
              "37.500000     35945\n",
              "50.000000     35508\n",
              "31.250000     35149\n",
              "              ...  \n",
              "74.788136         1\n",
              "59.548611         1\n",
              "68.684211         1\n",
              "26.101695         1\n",
              "43.842365         1\n",
              "Name: contrib_per_lend, Length: 19326, dtype: int64"
            ]
          },
          "execution_count": null,
          "metadata": {},
          "output_type": "execute_result"
        }
      ]
    },
    {
      "cell_type": "code",
      "metadata": {
        "colab": {
          "background_save": true
        },
        "id": "_thp16rosPLl",
        "outputId": "dae03079-cd83-4710-d84d-efcc42fa336a"
      },
      "source": [
        "#Create a new column for the average monthly repayment\n",
        "dat['monthly_repayment'] = data['funded_amount'] / data['lender_term']\n",
        "dat['monthly_repayment'].value_counts()"
      ],
      "execution_count": null,
      "outputs": [
        {
          "data": {
            "text/plain": [
              "25.000000      69627\n",
              "50.000000      36566\n",
              "21.428571      35766\n",
              "35.714286      35570\n",
              "28.571429      31103\n",
              "               ...  \n",
              "296.666667         1\n",
              "2191.666667        1\n",
              "123.500000         1\n",
              "23.546512          1\n",
              "181.578947         1\n",
              "Name: monthly_repayment, Length: 6981, dtype: int64"
            ]
          },
          "execution_count": null,
          "metadata": {},
          "output_type": "execute_result"
        }
      ]
    },
    {
      "cell_type": "code",
      "metadata": {
        "colab": {
          "background_save": true
        },
        "id": "erRi1LTnNO9u"
      },
      "source": [
        "#Dropping the columns that are not necessary for the model\n",
        "data_reduced = dat"
      ],
      "execution_count": null,
      "outputs": []
    },
    {
      "cell_type": "code",
      "metadata": {
        "id": "QAg-VtV0sPP8"
      },
      "source": [
        "data_reduced.describe(include=object)"
      ],
      "execution_count": null,
      "outputs": []
    },
    {
      "cell_type": "code",
      "metadata": {
        "id": "noaEeduUxsm-"
      },
      "source": [
        "data_reduced.describe()"
      ],
      "execution_count": null,
      "outputs": []
    },
    {
      "cell_type": "code",
      "metadata": {
        "id": "8IEKrjDUymi1"
      },
      "source": [
        " import seaborn as sns\n",
        " sns.pairplot(df1[['contrib_per_lend', 'repayment_monthly']])"
      ],
      "execution_count": null,
      "outputs": []
    },
    {
      "cell_type": "code",
      "metadata": {
        "id": "-J39N2A8-pZd"
      },
      "source": [
        "data_reduced.columns"
      ],
      "execution_count": null,
      "outputs": []
    },
    {
      "cell_type": "code",
      "metadata": {
        "id": "oHeIk6chj4lJ"
      },
      "source": [
        "data_reduced.columns = [i.replace(' ', '_').lower() for i in df1.columns]"
      ],
      "execution_count": null,
      "outputs": []
    },
    {
      "cell_type": "code",
      "metadata": {
        "id": "0f94h79Qh2NK"
      },
      "source": [
        "data_reduced.isnull().sum()"
      ],
      "execution_count": null,
      "outputs": []
    },
    {
      "cell_type": "code",
      "metadata": {
        "id": "5D2AnJGfh_P_"
      },
      "source": [
        "data_reduced.loan_amount.value_counts()"
      ],
      "execution_count": null,
      "outputs": []
    },
    {
      "cell_type": "code",
      "metadata": {
        "id": "Ch6PqKn1i1nL"
      },
      "source": [
        "data_reduced.funded_amount.value_counts()"
      ],
      "execution_count": null,
      "outputs": []
    },
    {
      "cell_type": "code",
      "metadata": {
        "id": "3gNjWsTcidlo"
      },
      "source": [
        "data_reduced['status'].value_counts()"
      ],
      "execution_count": null,
      "outputs": []
    },
    {
      "cell_type": "code",
      "metadata": {
        "id": "ePn9EWjplVnQ"
      },
      "source": [
        "data_reduced.info()"
      ],
      "execution_count": null,
      "outputs": []
    },
    {
      "cell_type": "code",
      "metadata": {
        "id": "4c1j_4FGr95x"
      },
      "source": [
        "data_reduced.repayment_interval.value_counts()"
      ],
      "execution_count": null,
      "outputs": []
    },
    {
      "cell_type": "code",
      "metadata": {
        "id": "Wcg48jYhsKXS"
      },
      "source": [
        "data_reduced.lender_term.value_counts()"
      ],
      "execution_count": null,
      "outputs": []
    },
    {
      "cell_type": "code",
      "metadata": {
        "id": "Nod4Z1mX2AZT"
      },
      "source": [
        "# d = data_reduced['loan_name'].value_counts()[0:20]\n",
        "# d.plot(kind='bar')"
      ],
      "execution_count": null,
      "outputs": []
    },
    {
      "cell_type": "code",
      "metadata": {
        "id": "tDLxY4HvJpbY"
      },
      "source": [
        "#Create a new column that shows the repayment status( 1 = irregular payment and 0 = payment on time)\n",
        "data_reduced['repayment_status'] = data_reduced.apply(lambda x: 1 if x['repayment_interval'] =='irregular' else 0, axis=1)"
      ],
      "execution_count": null,
      "outputs": []
    },
    {
      "cell_type": "code",
      "metadata": {
        "id": "87cuez48jqQR"
      },
      "source": [
        "data_reduced['repayment_status'].value_counts().plot(kind='pie')"
      ],
      "execution_count": null,
      "outputs": []
    },
    {
      "cell_type": "code",
      "metadata": {
        "id": "OOFGJLFYjqXB"
      },
      "source": [
        "data_reduced.info()"
      ],
      "execution_count": null,
      "outputs": []
    },
    {
      "cell_type": "code",
      "metadata": {
        "id": "8UYn_-7xqpuz"
      },
      "source": [
        "data_clean = data_reduced[['loan_name', 'funded_amount','loan_amount','currency_exchange_coverage_rate', 'partner_id','lender_term', 'num_journal_entries', 'num_bulk_entries', 'contrib_per_lend','monthly_repayment', 'repayment_status']]\n"
      ],
      "execution_count": null,
      "outputs": []
    },
    {
      "cell_type": "code",
      "metadata": {
        "id": "3HOhFo00s4wV"
      },
      "source": [
        "# check scikit-learn version\n",
        "import sklearn\n",
        "print(sklearn.__version__)"
      ],
      "execution_count": null,
      "outputs": []
    },
    {
      "cell_type": "code",
      "metadata": {
        "id": "KNvJiULKs410"
      },
      "source": [
        ""
      ],
      "execution_count": null,
      "outputs": []
    },
    {
      "cell_type": "code",
      "metadata": {
        "id": "tn-msHXKs46F"
      },
      "source": [
        ""
      ],
      "execution_count": null,
      "outputs": []
    },
    {
      "cell_type": "code",
      "metadata": {
        "id": "WNEJszhYs4-D"
      },
      "source": [
        ""
      ],
      "execution_count": null,
      "outputs": []
    },
    {
      "cell_type": "code",
      "metadata": {
        "id": "XvuvrojHs5E8"
      },
      "source": [
        ""
      ],
      "execution_count": null,
      "outputs": []
    },
    {
      "cell_type": "code",
      "metadata": {
        "id": "luYrE4lp2Ak8"
      },
      "source": [
        ""
      ],
      "execution_count": null,
      "outputs": []
    },
    {
      "cell_type": "code",
      "metadata": {
        "id": "-Xggn-aCr-Bq"
      },
      "source": [
        ""
      ],
      "execution_count": null,
      "outputs": []
    },
    {
      "cell_type": "code",
      "metadata": {
        "id": "DhoG3tT4u9h8"
      },
      "source": [
        "df2 = pd.read_csv('/content/drive/MyDrive/New Folder/lenders.csv')\n",
        "df2.head()"
      ],
      "execution_count": null,
      "outputs": []
    },
    {
      "cell_type": "code",
      "metadata": {
        "id": "N_3i7nOwjWlg"
      },
      "source": [
        "df2.isnull().sum()"
      ],
      "execution_count": null,
      "outputs": []
    },
    {
      "cell_type": "code",
      "metadata": {
        "id": "RAk5xaOijr5T"
      },
      "source": [
        "df2.info()"
      ],
      "execution_count": null,
      "outputs": []
    },
    {
      "cell_type": "code",
      "metadata": {
        "id": "vBf68vHhnYsv"
      },
      "source": [
        "df1['SECTOR_NAME'].value_counts()"
      ],
      "execution_count": null,
      "outputs": []
    },
    {
      "cell_type": "code",
      "metadata": {
        "id": "T-m61F_NnYwW"
      },
      "source": [
        ""
      ],
      "execution_count": null,
      "outputs": []
    },
    {
      "cell_type": "code",
      "metadata": {
        "id": "YwjggJcMnY6C"
      },
      "source": [
        ""
      ],
      "execution_count": null,
      "outputs": []
    },
    {
      "cell_type": "code",
      "metadata": {
        "id": "BbrTEo79nY9F"
      },
      "source": [
        ""
      ],
      "execution_count": null,
      "outputs": []
    }
  ]
}