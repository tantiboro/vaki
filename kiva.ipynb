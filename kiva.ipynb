{
  "nbformat": 4,
  "nbformat_minor": 0,
  "metadata": {
    "colab": {
      "name": "Untitled",
      "provenance": [],
      "collapsed_sections": [],
      "mount_file_id": "1km0_AzPc56arSM4hyrlOA686FkW-Etlr",
      "authorship_tag": "ABX9TyNDOAz0Cs2s9hYag/bUnPub",
      "include_colab_link": true
    },
    "kernelspec": {
      "name": "python3",
      "display_name": "Python 3"
    },
    "language_info": {
      "name": "python"
    }
  },
  "cells": [
    {
      "cell_type": "markdown",
      "metadata": {
        "id": "view-in-github",
        "colab_type": "text"
      },
      "source": [
        "<a href=\"https://colab.research.google.com/github/tantiboro/vaki/blob/main/kiva.ipynb\" target=\"_parent\"><img src=\"https://colab.research.google.com/assets/colab-badge.svg\" alt=\"Open In Colab\"/></a>"
      ]
    },
    {
      "cell_type": "code",
      "metadata": {
        "id": "k62AJ6U7Bp7Q"
      },
      "source": [
        "#import the Dependencies\n",
        "import pandas as pd\n",
        "import numpy as np\n",
        "import seaborn as sns\n",
        "pd.set_option('display.max_rows', 50)\n",
        "pd.set_option('display.max_columns', 50)"
      ],
      "execution_count": 1,
      "outputs": []
    },
    {
      "cell_type": "code",
      "metadata": {
        "id": "IZCkPJhG-cLh"
      },
      "source": [
        "#df = pd.read_csv('/content/drive/MyDrive/New Folder/loans_lenders.csv')"
      ],
      "execution_count": null,
      "outputs": []
    },
    {
      "cell_type": "code",
      "metadata": {
        "id": "hQ81Bq_lBjQ0"
      },
      "source": [
        ""
      ],
      "execution_count": null,
      "outputs": []
    },
    {
      "cell_type": "code",
      "metadata": {
        "id": "nFAlicYMkEd-"
      },
      "source": [
        "#df.isnull().sum()"
      ],
      "execution_count": null,
      "outputs": []
    },
    {
      "cell_type": "code",
      "metadata": {
        "id": "Co-SnTrmkHfW"
      },
      "source": [
        "#df.info()"
      ],
      "execution_count": null,
      "outputs": []
    },
    {
      "cell_type": "code",
      "metadata": {
        "id": "tHEtqCPsrJUL"
      },
      "source": [
        ""
      ],
      "execution_count": null,
      "outputs": []
    },
    {
      "cell_type": "code",
      "metadata": {
        "id": "18yHmCKdu9eV"
      },
      "source": [
        "#loading the dataset\n",
        "df = pd.read_csv('/content/drive/MyDrive/New Folder/loans.csv')"
      ],
      "execution_count": 2,
      "outputs": []
    },
    {
      "cell_type": "code",
      "metadata": {
        "colab": {
          "base_uri": "https://localhost:8080/"
        },
        "id": "hh5VKBqAjbRL",
        "outputId": "6635eb3c-b640-43fb-b97e-a7658cc57e99"
      },
      "source": [
        "#Check the status of all the loans\n",
        "df['STATUS'].value_counts()"
      ],
      "execution_count": 3,
      "outputs": [
        {
          "output_type": "execute_result",
          "data": {
            "text/plain": [
              "funded         1977543\n",
              "expired          92411\n",
              "refunded          9182\n",
              "fundRaising       7564\n",
              "Name: STATUS, dtype: int64"
            ]
          },
          "metadata": {},
          "execution_count": 3
        }
      ]
    },
    {
      "cell_type": "code",
      "metadata": {
        "id": "kawqz5k_jbeL"
      },
      "source": [
        ""
      ],
      "execution_count": null,
      "outputs": []
    },
    {
      "cell_type": "code",
      "metadata": {
        "colab": {
          "base_uri": "https://localhost:8080/",
          "height": 632
        },
        "id": "blJEjy1tDWY6",
        "outputId": "75f71bb4-1f97-44f8-b2d5-88b2ccb45d74"
      },
      "source": [
        "# Drop the loans that are still on fundraising stage\n",
        "data = df.loc[df['STATUS'] != 'fundRaising']\n",
        "data.head()"
      ],
      "execution_count": 4,
      "outputs": [
        {
          "output_type": "execute_result",
          "data": {
            "text/html": [
              "<div>\n",
              "<style scoped>\n",
              "    .dataframe tbody tr th:only-of-type {\n",
              "        vertical-align: middle;\n",
              "    }\n",
              "\n",
              "    .dataframe tbody tr th {\n",
              "        vertical-align: top;\n",
              "    }\n",
              "\n",
              "    .dataframe thead th {\n",
              "        text-align: right;\n",
              "    }\n",
              "</style>\n",
              "<table border=\"1\" class=\"dataframe\">\n",
              "  <thead>\n",
              "    <tr style=\"text-align: right;\">\n",
              "      <th></th>\n",
              "      <th>LOAN_ID</th>\n",
              "      <th>LOAN_NAME</th>\n",
              "      <th>ORIGINAL_LANGUAGE</th>\n",
              "      <th>DESCRIPTION</th>\n",
              "      <th>DESCRIPTION_TRANSLATED</th>\n",
              "      <th>FUNDED_AMOUNT</th>\n",
              "      <th>LOAN_AMOUNT</th>\n",
              "      <th>STATUS</th>\n",
              "      <th>IMAGE_ID</th>\n",
              "      <th>VIDEO_ID</th>\n",
              "      <th>ACTIVITY_NAME</th>\n",
              "      <th>SECTOR_NAME</th>\n",
              "      <th>LOAN_USE</th>\n",
              "      <th>COUNTRY_CODE</th>\n",
              "      <th>COUNTRY_NAME</th>\n",
              "      <th>TOWN_NAME</th>\n",
              "      <th>CURRENCY_POLICY</th>\n",
              "      <th>CURRENCY_EXCHANGE_COVERAGE_RATE</th>\n",
              "      <th>CURRENCY</th>\n",
              "      <th>PARTNER_ID</th>\n",
              "      <th>POSTED_TIME</th>\n",
              "      <th>PLANNED_EXPIRATION_TIME</th>\n",
              "      <th>DISBURSE_TIME</th>\n",
              "      <th>RAISED_TIME</th>\n",
              "      <th>LENDER_TERM</th>\n",
              "      <th>NUM_LENDERS_TOTAL</th>\n",
              "      <th>NUM_JOURNAL_ENTRIES</th>\n",
              "      <th>NUM_BULK_ENTRIES</th>\n",
              "      <th>TAGS</th>\n",
              "      <th>BORROWER_NAMES</th>\n",
              "      <th>BORROWER_GENDERS</th>\n",
              "      <th>BORROWER_PICTURED</th>\n",
              "      <th>REPAYMENT_INTERVAL</th>\n",
              "      <th>DISTRIBUTION_MODEL</th>\n",
              "    </tr>\n",
              "  </thead>\n",
              "  <tbody>\n",
              "    <tr>\n",
              "      <th>0</th>\n",
              "      <td>202058</td>\n",
              "      <td>Irene</td>\n",
              "      <td>English</td>\n",
              "      <td>Irene P. is from the village of Upper Centro,T...</td>\n",
              "      <td>NaN</td>\n",
              "      <td>1100.0</td>\n",
              "      <td>1100.0</td>\n",
              "      <td>funded</td>\n",
              "      <td>541043.0</td>\n",
              "      <td>NaN</td>\n",
              "      <td>General Store</td>\n",
              "      <td>Retail</td>\n",
              "      <td>to purchase additional inventory and working c...</td>\n",
              "      <td>PH</td>\n",
              "      <td>Philippines</td>\n",
              "      <td>Tudela-Upper Centro, Tudela,Misamis Occidental</td>\n",
              "      <td>shared</td>\n",
              "      <td>0.2</td>\n",
              "      <td>PHP</td>\n",
              "      <td>126.0</td>\n",
              "      <td>2010-05-20 08:40:17.000 +0000</td>\n",
              "      <td>NaN</td>\n",
              "      <td>2010-04-30 07:00:00.000 +0000</td>\n",
              "      <td>2010-06-30 16:09:20.000 +0000</td>\n",
              "      <td>19.0</td>\n",
              "      <td>40</td>\n",
              "      <td>2</td>\n",
              "      <td>1</td>\n",
              "      <td>NaN</td>\n",
              "      <td>Irene</td>\n",
              "      <td>female</td>\n",
              "      <td>true</td>\n",
              "      <td>monthly</td>\n",
              "      <td>field_partner</td>\n",
              "    </tr>\n",
              "    <tr>\n",
              "      <th>1</th>\n",
              "      <td>932948</td>\n",
              "      <td>Rosa</td>\n",
              "      <td>English</td>\n",
              "      <td>Rosa works hard to support her family. Rosa is...</td>\n",
              "      <td>Rosa works hard to support her family. Rosa is...</td>\n",
              "      <td>125.0</td>\n",
              "      <td>125.0</td>\n",
              "      <td>funded</td>\n",
              "      <td>1956738.0</td>\n",
              "      <td>NaN</td>\n",
              "      <td>General Store</td>\n",
              "      <td>Retail</td>\n",
              "      <td>to buy more groceries to sell in her general s...</td>\n",
              "      <td>PH</td>\n",
              "      <td>Philippines</td>\n",
              "      <td>Calatrava, Negros Occidental</td>\n",
              "      <td>shared</td>\n",
              "      <td>0.1</td>\n",
              "      <td>PHP</td>\n",
              "      <td>145.0</td>\n",
              "      <td>2015-08-16 14:03:48.000 +0000</td>\n",
              "      <td>2015-09-17 22:20:02.000 +0000</td>\n",
              "      <td>2015-07-17 07:00:00.000 +0000</td>\n",
              "      <td>2015-08-19 01:22:29.000 +0000</td>\n",
              "      <td>8.0</td>\n",
              "      <td>5</td>\n",
              "      <td>1</td>\n",
              "      <td>1</td>\n",
              "      <td>NaN</td>\n",
              "      <td>Rosa</td>\n",
              "      <td>female</td>\n",
              "      <td>true</td>\n",
              "      <td>monthly</td>\n",
              "      <td>field_partner</td>\n",
              "    </tr>\n",
              "    <tr>\n",
              "      <th>2</th>\n",
              "      <td>1159746</td>\n",
              "      <td>Warlita</td>\n",
              "      <td>English</td>\n",
              "      <td>Warlita is a widowed woman with two children. ...</td>\n",
              "      <td>Warlita is a widowed woman with two children. ...</td>\n",
              "      <td>175.0</td>\n",
              "      <td>175.0</td>\n",
              "      <td>funded</td>\n",
              "      <td>2321392.0</td>\n",
              "      <td>NaN</td>\n",
              "      <td>Fruits &amp; Vegetables</td>\n",
              "      <td>Food</td>\n",
              "      <td>to buy more bananas to sell and other supplies...</td>\n",
              "      <td>PH</td>\n",
              "      <td>Philippines</td>\n",
              "      <td>Sogod Leyte</td>\n",
              "      <td>shared</td>\n",
              "      <td>0.1</td>\n",
              "      <td>PHP</td>\n",
              "      <td>145.0</td>\n",
              "      <td>2016-09-28 13:37:22.000 +0000</td>\n",
              "      <td>2016-11-04 22:30:05.000 +0000</td>\n",
              "      <td>2016-08-30 07:00:00.000 +0000</td>\n",
              "      <td>2016-10-06 16:34:29.000 +0000</td>\n",
              "      <td>11.0</td>\n",
              "      <td>7</td>\n",
              "      <td>1</td>\n",
              "      <td>1</td>\n",
              "      <td>#Widowed, #Woman-Owned Business, #Elderly</td>\n",
              "      <td>Warlita</td>\n",
              "      <td>female</td>\n",
              "      <td>true</td>\n",
              "      <td>monthly</td>\n",
              "      <td>field_partner</td>\n",
              "    </tr>\n",
              "    <tr>\n",
              "      <th>3</th>\n",
              "      <td>1396016</td>\n",
              "      <td>FAAFOFOLA</td>\n",
              "      <td>English</td>\n",
              "      <td>Faafofola is a 40-year-old married woman with ...</td>\n",
              "      <td>Faafofola is a 40-year-old married woman with ...</td>\n",
              "      <td>1400.0</td>\n",
              "      <td>1400.0</td>\n",
              "      <td>funded</td>\n",
              "      <td>2661688.0</td>\n",
              "      <td>NaN</td>\n",
              "      <td>Farming</td>\n",
              "      <td>Agriculture</td>\n",
              "      <td>to buy more taro roots (seedlings), more banan...</td>\n",
              "      <td>WS</td>\n",
              "      <td>Samoa</td>\n",
              "      <td>Moataa</td>\n",
              "      <td>shared</td>\n",
              "      <td>0.1</td>\n",
              "      <td>WST</td>\n",
              "      <td>15.0</td>\n",
              "      <td>2017-10-16 02:59:44.000 +0000</td>\n",
              "      <td>2017-11-18 20:20:02.000 +0000</td>\n",
              "      <td>2017-10-06 07:00:00.000 +0000</td>\n",
              "      <td>2017-11-17 16:27:29.000 +0000</td>\n",
              "      <td>14.0</td>\n",
              "      <td>34</td>\n",
              "      <td>1</td>\n",
              "      <td>1</td>\n",
              "      <td>#Trees, #Woman-Owned Business, user_favorite, ...</td>\n",
              "      <td>FAAFOFOLA</td>\n",
              "      <td>female</td>\n",
              "      <td>true</td>\n",
              "      <td>monthly</td>\n",
              "      <td>field_partner</td>\n",
              "    </tr>\n",
              "    <tr>\n",
              "      <th>4</th>\n",
              "      <td>521395</td>\n",
              "      <td>Veronique</td>\n",
              "      <td>French</td>\n",
              "      <td>Veronique est une veuve agée de........ avec à...</td>\n",
              "      <td>Veronique is a widow, …[text missing] years ol...</td>\n",
              "      <td>425.0</td>\n",
              "      <td>425.0</td>\n",
              "      <td>funded</td>\n",
              "      <td>1283652.0</td>\n",
              "      <td>NaN</td>\n",
              "      <td>Liquor Store / Off-License</td>\n",
              "      <td>Food</td>\n",
              "      <td>to increase her stock of  various brands of be...</td>\n",
              "      <td>CM</td>\n",
              "      <td>Cameroon</td>\n",
              "      <td>Yaoundé</td>\n",
              "      <td>shared</td>\n",
              "      <td>0.1</td>\n",
              "      <td>XAF</td>\n",
              "      <td>217.0</td>\n",
              "      <td>2013-01-25 10:57:20.000 +0000</td>\n",
              "      <td>2013-02-24 21:30:03.000 +0000</td>\n",
              "      <td>2013-01-11 08:00:00.000 +0000</td>\n",
              "      <td>2013-01-26 12:43:47.000 +0000</td>\n",
              "      <td>15.0</td>\n",
              "      <td>17</td>\n",
              "      <td>1</td>\n",
              "      <td>1</td>\n",
              "      <td>NaN</td>\n",
              "      <td>Veronique</td>\n",
              "      <td>female</td>\n",
              "      <td>true</td>\n",
              "      <td>monthly</td>\n",
              "      <td>field_partner</td>\n",
              "    </tr>\n",
              "  </tbody>\n",
              "</table>\n",
              "</div>"
            ],
            "text/plain": [
              "   LOAN_ID  LOAN_NAME ORIGINAL_LANGUAGE  \\\n",
              "0   202058      Irene           English   \n",
              "1   932948       Rosa           English   \n",
              "2  1159746    Warlita           English   \n",
              "3  1396016  FAAFOFOLA           English   \n",
              "4   521395  Veronique            French   \n",
              "\n",
              "                                         DESCRIPTION  \\\n",
              "0  Irene P. is from the village of Upper Centro,T...   \n",
              "1  Rosa works hard to support her family. Rosa is...   \n",
              "2  Warlita is a widowed woman with two children. ...   \n",
              "3  Faafofola is a 40-year-old married woman with ...   \n",
              "4  Veronique est une veuve agée de........ avec à...   \n",
              "\n",
              "                              DESCRIPTION_TRANSLATED  FUNDED_AMOUNT  \\\n",
              "0                                                NaN         1100.0   \n",
              "1  Rosa works hard to support her family. Rosa is...          125.0   \n",
              "2  Warlita is a widowed woman with two children. ...          175.0   \n",
              "3  Faafofola is a 40-year-old married woman with ...         1400.0   \n",
              "4  Veronique is a widow, …[text missing] years ol...          425.0   \n",
              "\n",
              "   LOAN_AMOUNT  STATUS   IMAGE_ID  VIDEO_ID               ACTIVITY_NAME  \\\n",
              "0       1100.0  funded   541043.0       NaN               General Store   \n",
              "1        125.0  funded  1956738.0       NaN               General Store   \n",
              "2        175.0  funded  2321392.0       NaN         Fruits & Vegetables   \n",
              "3       1400.0  funded  2661688.0       NaN                     Farming   \n",
              "4        425.0  funded  1283652.0       NaN  Liquor Store / Off-License   \n",
              "\n",
              "   SECTOR_NAME                                           LOAN_USE  \\\n",
              "0       Retail  to purchase additional inventory and working c...   \n",
              "1       Retail  to buy more groceries to sell in her general s...   \n",
              "2         Food  to buy more bananas to sell and other supplies...   \n",
              "3  Agriculture  to buy more taro roots (seedlings), more banan...   \n",
              "4         Food  to increase her stock of  various brands of be...   \n",
              "\n",
              "  COUNTRY_CODE COUNTRY_NAME                                       TOWN_NAME  \\\n",
              "0           PH  Philippines  Tudela-Upper Centro, Tudela,Misamis Occidental   \n",
              "1           PH  Philippines                    Calatrava, Negros Occidental   \n",
              "2           PH  Philippines                                     Sogod Leyte   \n",
              "3           WS        Samoa                                          Moataa   \n",
              "4           CM     Cameroon                                         Yaoundé   \n",
              "\n",
              "  CURRENCY_POLICY  CURRENCY_EXCHANGE_COVERAGE_RATE CURRENCY  PARTNER_ID  \\\n",
              "0          shared                              0.2      PHP       126.0   \n",
              "1          shared                              0.1      PHP       145.0   \n",
              "2          shared                              0.1      PHP       145.0   \n",
              "3          shared                              0.1      WST        15.0   \n",
              "4          shared                              0.1      XAF       217.0   \n",
              "\n",
              "                     POSTED_TIME        PLANNED_EXPIRATION_TIME  \\\n",
              "0  2010-05-20 08:40:17.000 +0000                            NaN   \n",
              "1  2015-08-16 14:03:48.000 +0000  2015-09-17 22:20:02.000 +0000   \n",
              "2  2016-09-28 13:37:22.000 +0000  2016-11-04 22:30:05.000 +0000   \n",
              "3  2017-10-16 02:59:44.000 +0000  2017-11-18 20:20:02.000 +0000   \n",
              "4  2013-01-25 10:57:20.000 +0000  2013-02-24 21:30:03.000 +0000   \n",
              "\n",
              "                   DISBURSE_TIME                    RAISED_TIME  LENDER_TERM  \\\n",
              "0  2010-04-30 07:00:00.000 +0000  2010-06-30 16:09:20.000 +0000         19.0   \n",
              "1  2015-07-17 07:00:00.000 +0000  2015-08-19 01:22:29.000 +0000          8.0   \n",
              "2  2016-08-30 07:00:00.000 +0000  2016-10-06 16:34:29.000 +0000         11.0   \n",
              "3  2017-10-06 07:00:00.000 +0000  2017-11-17 16:27:29.000 +0000         14.0   \n",
              "4  2013-01-11 08:00:00.000 +0000  2013-01-26 12:43:47.000 +0000         15.0   \n",
              "\n",
              "   NUM_LENDERS_TOTAL  NUM_JOURNAL_ENTRIES  NUM_BULK_ENTRIES  \\\n",
              "0                 40                    2                 1   \n",
              "1                  5                    1                 1   \n",
              "2                  7                    1                 1   \n",
              "3                 34                    1                 1   \n",
              "4                 17                    1                 1   \n",
              "\n",
              "                                                TAGS BORROWER_NAMES  \\\n",
              "0                                                NaN          Irene   \n",
              "1                                                NaN           Rosa   \n",
              "2          #Widowed, #Woman-Owned Business, #Elderly        Warlita   \n",
              "3  #Trees, #Woman-Owned Business, user_favorite, ...      FAAFOFOLA   \n",
              "4                                                NaN      Veronique   \n",
              "\n",
              "  BORROWER_GENDERS BORROWER_PICTURED REPAYMENT_INTERVAL DISTRIBUTION_MODEL  \n",
              "0           female              true            monthly      field_partner  \n",
              "1           female              true            monthly      field_partner  \n",
              "2           female              true            monthly      field_partner  \n",
              "3           female              true            monthly      field_partner  \n",
              "4           female              true            monthly      field_partner  "
            ]
          },
          "metadata": {},
          "execution_count": 4
        }
      ]
    },
    {
      "cell_type": "code",
      "metadata": {
        "id": "6ThriRuMSTXS",
        "colab": {
          "base_uri": "https://localhost:8080/"
        },
        "outputId": "9e7584d4-42f3-493d-beb4-de022f0ddcc6"
      },
      "source": [
        "data['STATUS'].value_counts()"
      ],
      "execution_count": 5,
      "outputs": [
        {
          "output_type": "execute_result",
          "data": {
            "text/plain": [
              "funded      1977543\n",
              "expired       92411\n",
              "refunded       9182\n",
              "Name: STATUS, dtype: int64"
            ]
          },
          "metadata": {},
          "execution_count": 5
        }
      ]
    },
    {
      "cell_type": "code",
      "metadata": {
        "id": "MOx-D84SSTpC"
      },
      "source": [
        ""
      ],
      "execution_count": null,
      "outputs": []
    },
    {
      "cell_type": "code",
      "metadata": {
        "colab": {
          "base_uri": "https://localhost:8080/"
        },
        "id": "6J5nhHe1YjQP",
        "outputId": "d5d4bd9f-e96c-498a-e7e5-0159cd564ce5"
      },
      "source": [
        "data.info()"
      ],
      "execution_count": 6,
      "outputs": [
        {
          "output_type": "stream",
          "name": "stdout",
          "text": [
            "<class 'pandas.core.frame.DataFrame'>\n",
            "Int64Index: 2079136 entries, 0 to 2086699\n",
            "Data columns (total 34 columns):\n",
            " #   Column                           Dtype  \n",
            "---  ------                           -----  \n",
            " 0   LOAN_ID                          int64  \n",
            " 1   LOAN_NAME                        object \n",
            " 2   ORIGINAL_LANGUAGE                object \n",
            " 3   DESCRIPTION                      object \n",
            " 4   DESCRIPTION_TRANSLATED           object \n",
            " 5   FUNDED_AMOUNT                    float64\n",
            " 6   LOAN_AMOUNT                      float64\n",
            " 7   STATUS                           object \n",
            " 8   IMAGE_ID                         float64\n",
            " 9   VIDEO_ID                         float64\n",
            " 10  ACTIVITY_NAME                    object \n",
            " 11  SECTOR_NAME                      object \n",
            " 12  LOAN_USE                         object \n",
            " 13  COUNTRY_CODE                     object \n",
            " 14  COUNTRY_NAME                     object \n",
            " 15  TOWN_NAME                        object \n",
            " 16  CURRENCY_POLICY                  object \n",
            " 17  CURRENCY_EXCHANGE_COVERAGE_RATE  float64\n",
            " 18  CURRENCY                         object \n",
            " 19  PARTNER_ID                       float64\n",
            " 20  POSTED_TIME                      object \n",
            " 21  PLANNED_EXPIRATION_TIME          object \n",
            " 22  DISBURSE_TIME                    object \n",
            " 23  RAISED_TIME                      object \n",
            " 24  LENDER_TERM                      float64\n",
            " 25  NUM_LENDERS_TOTAL                int64  \n",
            " 26  NUM_JOURNAL_ENTRIES              int64  \n",
            " 27  NUM_BULK_ENTRIES                 int64  \n",
            " 28  TAGS                             object \n",
            " 29  BORROWER_NAMES                   object \n",
            " 30  BORROWER_GENDERS                 object \n",
            " 31  BORROWER_PICTURED                object \n",
            " 32  REPAYMENT_INTERVAL               object \n",
            " 33  DISTRIBUTION_MODEL               object \n",
            "dtypes: float64(7), int64(4), object(23)\n",
            "memory usage: 555.2+ MB\n"
          ]
        }
      ]
    },
    {
      "cell_type": "code",
      "metadata": {
        "id": "hXfV1DF1IobR"
      },
      "source": [
        "data.columns = [i.replace(' ', '_').lower() for i in data.columns]"
      ],
      "execution_count": 7,
      "outputs": []
    },
    {
      "cell_type": "code",
      "metadata": {
        "colab": {
          "base_uri": "https://localhost:8080/"
        },
        "id": "HOz7uUT5IxQu",
        "outputId": "9e3a03a4-8fc9-4181-e15c-bcf51aed92ae"
      },
      "source": [
        "data.columns"
      ],
      "execution_count": 8,
      "outputs": [
        {
          "output_type": "execute_result",
          "data": {
            "text/plain": [
              "Index(['loan_id', 'loan_name', 'original_language', 'description',\n",
              "       'description_translated', 'funded_amount', 'loan_amount', 'status',\n",
              "       'image_id', 'video_id', 'activity_name', 'sector_name', 'loan_use',\n",
              "       'country_code', 'country_name', 'town_name', 'currency_policy',\n",
              "       'currency_exchange_coverage_rate', 'currency', 'partner_id',\n",
              "       'posted_time', 'planned_expiration_time', 'disburse_time',\n",
              "       'raised_time', 'lender_term', 'num_lenders_total',\n",
              "       'num_journal_entries', 'num_bulk_entries', 'tags', 'borrower_names',\n",
              "       'borrower_genders', 'borrower_pictured', 'repayment_interval',\n",
              "       'distribution_model'],\n",
              "      dtype='object')"
            ]
          },
          "metadata": {},
          "execution_count": 8
        }
      ]
    },
    {
      "cell_type": "code",
      "metadata": {
        "id": "zdOmIsi2aGps"
      },
      "source": [
        "dat = data.copy()"
      ],
      "execution_count": 9,
      "outputs": []
    },
    {
      "cell_type": "code",
      "metadata": {
        "id": "jLvkbEdvVanV"
      },
      "source": [
        "dat['loan_status'] = dat.apply(lambda x: 'funded' if x.status == 'refunded' else x.status, axis=1)"
      ],
      "execution_count": 10,
      "outputs": []
    },
    {
      "cell_type": "code",
      "metadata": {
        "colab": {
          "base_uri": "https://localhost:8080/",
          "height": 632
        },
        "id": "tR4KFRQOJbFG",
        "outputId": "487632ef-bd1d-4f79-c5c3-488b4028a846"
      },
      "source": [
        "dat.head()"
      ],
      "execution_count": 11,
      "outputs": [
        {
          "output_type": "execute_result",
          "data": {
            "text/html": [
              "<div>\n",
              "<style scoped>\n",
              "    .dataframe tbody tr th:only-of-type {\n",
              "        vertical-align: middle;\n",
              "    }\n",
              "\n",
              "    .dataframe tbody tr th {\n",
              "        vertical-align: top;\n",
              "    }\n",
              "\n",
              "    .dataframe thead th {\n",
              "        text-align: right;\n",
              "    }\n",
              "</style>\n",
              "<table border=\"1\" class=\"dataframe\">\n",
              "  <thead>\n",
              "    <tr style=\"text-align: right;\">\n",
              "      <th></th>\n",
              "      <th>loan_id</th>\n",
              "      <th>loan_name</th>\n",
              "      <th>original_language</th>\n",
              "      <th>description</th>\n",
              "      <th>description_translated</th>\n",
              "      <th>funded_amount</th>\n",
              "      <th>loan_amount</th>\n",
              "      <th>status</th>\n",
              "      <th>image_id</th>\n",
              "      <th>video_id</th>\n",
              "      <th>activity_name</th>\n",
              "      <th>sector_name</th>\n",
              "      <th>loan_use</th>\n",
              "      <th>country_code</th>\n",
              "      <th>country_name</th>\n",
              "      <th>town_name</th>\n",
              "      <th>currency_policy</th>\n",
              "      <th>currency_exchange_coverage_rate</th>\n",
              "      <th>currency</th>\n",
              "      <th>partner_id</th>\n",
              "      <th>posted_time</th>\n",
              "      <th>planned_expiration_time</th>\n",
              "      <th>disburse_time</th>\n",
              "      <th>raised_time</th>\n",
              "      <th>lender_term</th>\n",
              "      <th>num_lenders_total</th>\n",
              "      <th>num_journal_entries</th>\n",
              "      <th>num_bulk_entries</th>\n",
              "      <th>tags</th>\n",
              "      <th>borrower_names</th>\n",
              "      <th>borrower_genders</th>\n",
              "      <th>borrower_pictured</th>\n",
              "      <th>repayment_interval</th>\n",
              "      <th>distribution_model</th>\n",
              "      <th>loan_status</th>\n",
              "    </tr>\n",
              "  </thead>\n",
              "  <tbody>\n",
              "    <tr>\n",
              "      <th>0</th>\n",
              "      <td>202058</td>\n",
              "      <td>Irene</td>\n",
              "      <td>English</td>\n",
              "      <td>Irene P. is from the village of Upper Centro,T...</td>\n",
              "      <td>NaN</td>\n",
              "      <td>1100.0</td>\n",
              "      <td>1100.0</td>\n",
              "      <td>funded</td>\n",
              "      <td>541043.0</td>\n",
              "      <td>NaN</td>\n",
              "      <td>General Store</td>\n",
              "      <td>Retail</td>\n",
              "      <td>to purchase additional inventory and working c...</td>\n",
              "      <td>PH</td>\n",
              "      <td>Philippines</td>\n",
              "      <td>Tudela-Upper Centro, Tudela,Misamis Occidental</td>\n",
              "      <td>shared</td>\n",
              "      <td>0.2</td>\n",
              "      <td>PHP</td>\n",
              "      <td>126.0</td>\n",
              "      <td>2010-05-20 08:40:17.000 +0000</td>\n",
              "      <td>NaN</td>\n",
              "      <td>2010-04-30 07:00:00.000 +0000</td>\n",
              "      <td>2010-06-30 16:09:20.000 +0000</td>\n",
              "      <td>19.0</td>\n",
              "      <td>40</td>\n",
              "      <td>2</td>\n",
              "      <td>1</td>\n",
              "      <td>NaN</td>\n",
              "      <td>Irene</td>\n",
              "      <td>female</td>\n",
              "      <td>true</td>\n",
              "      <td>monthly</td>\n",
              "      <td>field_partner</td>\n",
              "      <td>funded</td>\n",
              "    </tr>\n",
              "    <tr>\n",
              "      <th>1</th>\n",
              "      <td>932948</td>\n",
              "      <td>Rosa</td>\n",
              "      <td>English</td>\n",
              "      <td>Rosa works hard to support her family. Rosa is...</td>\n",
              "      <td>Rosa works hard to support her family. Rosa is...</td>\n",
              "      <td>125.0</td>\n",
              "      <td>125.0</td>\n",
              "      <td>funded</td>\n",
              "      <td>1956738.0</td>\n",
              "      <td>NaN</td>\n",
              "      <td>General Store</td>\n",
              "      <td>Retail</td>\n",
              "      <td>to buy more groceries to sell in her general s...</td>\n",
              "      <td>PH</td>\n",
              "      <td>Philippines</td>\n",
              "      <td>Calatrava, Negros Occidental</td>\n",
              "      <td>shared</td>\n",
              "      <td>0.1</td>\n",
              "      <td>PHP</td>\n",
              "      <td>145.0</td>\n",
              "      <td>2015-08-16 14:03:48.000 +0000</td>\n",
              "      <td>2015-09-17 22:20:02.000 +0000</td>\n",
              "      <td>2015-07-17 07:00:00.000 +0000</td>\n",
              "      <td>2015-08-19 01:22:29.000 +0000</td>\n",
              "      <td>8.0</td>\n",
              "      <td>5</td>\n",
              "      <td>1</td>\n",
              "      <td>1</td>\n",
              "      <td>NaN</td>\n",
              "      <td>Rosa</td>\n",
              "      <td>female</td>\n",
              "      <td>true</td>\n",
              "      <td>monthly</td>\n",
              "      <td>field_partner</td>\n",
              "      <td>funded</td>\n",
              "    </tr>\n",
              "    <tr>\n",
              "      <th>2</th>\n",
              "      <td>1159746</td>\n",
              "      <td>Warlita</td>\n",
              "      <td>English</td>\n",
              "      <td>Warlita is a widowed woman with two children. ...</td>\n",
              "      <td>Warlita is a widowed woman with two children. ...</td>\n",
              "      <td>175.0</td>\n",
              "      <td>175.0</td>\n",
              "      <td>funded</td>\n",
              "      <td>2321392.0</td>\n",
              "      <td>NaN</td>\n",
              "      <td>Fruits &amp; Vegetables</td>\n",
              "      <td>Food</td>\n",
              "      <td>to buy more bananas to sell and other supplies...</td>\n",
              "      <td>PH</td>\n",
              "      <td>Philippines</td>\n",
              "      <td>Sogod Leyte</td>\n",
              "      <td>shared</td>\n",
              "      <td>0.1</td>\n",
              "      <td>PHP</td>\n",
              "      <td>145.0</td>\n",
              "      <td>2016-09-28 13:37:22.000 +0000</td>\n",
              "      <td>2016-11-04 22:30:05.000 +0000</td>\n",
              "      <td>2016-08-30 07:00:00.000 +0000</td>\n",
              "      <td>2016-10-06 16:34:29.000 +0000</td>\n",
              "      <td>11.0</td>\n",
              "      <td>7</td>\n",
              "      <td>1</td>\n",
              "      <td>1</td>\n",
              "      <td>#Widowed, #Woman-Owned Business, #Elderly</td>\n",
              "      <td>Warlita</td>\n",
              "      <td>female</td>\n",
              "      <td>true</td>\n",
              "      <td>monthly</td>\n",
              "      <td>field_partner</td>\n",
              "      <td>funded</td>\n",
              "    </tr>\n",
              "    <tr>\n",
              "      <th>3</th>\n",
              "      <td>1396016</td>\n",
              "      <td>FAAFOFOLA</td>\n",
              "      <td>English</td>\n",
              "      <td>Faafofola is a 40-year-old married woman with ...</td>\n",
              "      <td>Faafofola is a 40-year-old married woman with ...</td>\n",
              "      <td>1400.0</td>\n",
              "      <td>1400.0</td>\n",
              "      <td>funded</td>\n",
              "      <td>2661688.0</td>\n",
              "      <td>NaN</td>\n",
              "      <td>Farming</td>\n",
              "      <td>Agriculture</td>\n",
              "      <td>to buy more taro roots (seedlings), more banan...</td>\n",
              "      <td>WS</td>\n",
              "      <td>Samoa</td>\n",
              "      <td>Moataa</td>\n",
              "      <td>shared</td>\n",
              "      <td>0.1</td>\n",
              "      <td>WST</td>\n",
              "      <td>15.0</td>\n",
              "      <td>2017-10-16 02:59:44.000 +0000</td>\n",
              "      <td>2017-11-18 20:20:02.000 +0000</td>\n",
              "      <td>2017-10-06 07:00:00.000 +0000</td>\n",
              "      <td>2017-11-17 16:27:29.000 +0000</td>\n",
              "      <td>14.0</td>\n",
              "      <td>34</td>\n",
              "      <td>1</td>\n",
              "      <td>1</td>\n",
              "      <td>#Trees, #Woman-Owned Business, user_favorite, ...</td>\n",
              "      <td>FAAFOFOLA</td>\n",
              "      <td>female</td>\n",
              "      <td>true</td>\n",
              "      <td>monthly</td>\n",
              "      <td>field_partner</td>\n",
              "      <td>funded</td>\n",
              "    </tr>\n",
              "    <tr>\n",
              "      <th>4</th>\n",
              "      <td>521395</td>\n",
              "      <td>Veronique</td>\n",
              "      <td>French</td>\n",
              "      <td>Veronique est une veuve agée de........ avec à...</td>\n",
              "      <td>Veronique is a widow, …[text missing] years ol...</td>\n",
              "      <td>425.0</td>\n",
              "      <td>425.0</td>\n",
              "      <td>funded</td>\n",
              "      <td>1283652.0</td>\n",
              "      <td>NaN</td>\n",
              "      <td>Liquor Store / Off-License</td>\n",
              "      <td>Food</td>\n",
              "      <td>to increase her stock of  various brands of be...</td>\n",
              "      <td>CM</td>\n",
              "      <td>Cameroon</td>\n",
              "      <td>Yaoundé</td>\n",
              "      <td>shared</td>\n",
              "      <td>0.1</td>\n",
              "      <td>XAF</td>\n",
              "      <td>217.0</td>\n",
              "      <td>2013-01-25 10:57:20.000 +0000</td>\n",
              "      <td>2013-02-24 21:30:03.000 +0000</td>\n",
              "      <td>2013-01-11 08:00:00.000 +0000</td>\n",
              "      <td>2013-01-26 12:43:47.000 +0000</td>\n",
              "      <td>15.0</td>\n",
              "      <td>17</td>\n",
              "      <td>1</td>\n",
              "      <td>1</td>\n",
              "      <td>NaN</td>\n",
              "      <td>Veronique</td>\n",
              "      <td>female</td>\n",
              "      <td>true</td>\n",
              "      <td>monthly</td>\n",
              "      <td>field_partner</td>\n",
              "      <td>funded</td>\n",
              "    </tr>\n",
              "  </tbody>\n",
              "</table>\n",
              "</div>"
            ],
            "text/plain": [
              "   loan_id  loan_name original_language  \\\n",
              "0   202058      Irene           English   \n",
              "1   932948       Rosa           English   \n",
              "2  1159746    Warlita           English   \n",
              "3  1396016  FAAFOFOLA           English   \n",
              "4   521395  Veronique            French   \n",
              "\n",
              "                                         description  \\\n",
              "0  Irene P. is from the village of Upper Centro,T...   \n",
              "1  Rosa works hard to support her family. Rosa is...   \n",
              "2  Warlita is a widowed woman with two children. ...   \n",
              "3  Faafofola is a 40-year-old married woman with ...   \n",
              "4  Veronique est une veuve agée de........ avec à...   \n",
              "\n",
              "                              description_translated  funded_amount  \\\n",
              "0                                                NaN         1100.0   \n",
              "1  Rosa works hard to support her family. Rosa is...          125.0   \n",
              "2  Warlita is a widowed woman with two children. ...          175.0   \n",
              "3  Faafofola is a 40-year-old married woman with ...         1400.0   \n",
              "4  Veronique is a widow, …[text missing] years ol...          425.0   \n",
              "\n",
              "   loan_amount  status   image_id  video_id               activity_name  \\\n",
              "0       1100.0  funded   541043.0       NaN               General Store   \n",
              "1        125.0  funded  1956738.0       NaN               General Store   \n",
              "2        175.0  funded  2321392.0       NaN         Fruits & Vegetables   \n",
              "3       1400.0  funded  2661688.0       NaN                     Farming   \n",
              "4        425.0  funded  1283652.0       NaN  Liquor Store / Off-License   \n",
              "\n",
              "   sector_name                                           loan_use  \\\n",
              "0       Retail  to purchase additional inventory and working c...   \n",
              "1       Retail  to buy more groceries to sell in her general s...   \n",
              "2         Food  to buy more bananas to sell and other supplies...   \n",
              "3  Agriculture  to buy more taro roots (seedlings), more banan...   \n",
              "4         Food  to increase her stock of  various brands of be...   \n",
              "\n",
              "  country_code country_name                                       town_name  \\\n",
              "0           PH  Philippines  Tudela-Upper Centro, Tudela,Misamis Occidental   \n",
              "1           PH  Philippines                    Calatrava, Negros Occidental   \n",
              "2           PH  Philippines                                     Sogod Leyte   \n",
              "3           WS        Samoa                                          Moataa   \n",
              "4           CM     Cameroon                                         Yaoundé   \n",
              "\n",
              "  currency_policy  currency_exchange_coverage_rate currency  partner_id  \\\n",
              "0          shared                              0.2      PHP       126.0   \n",
              "1          shared                              0.1      PHP       145.0   \n",
              "2          shared                              0.1      PHP       145.0   \n",
              "3          shared                              0.1      WST        15.0   \n",
              "4          shared                              0.1      XAF       217.0   \n",
              "\n",
              "                     posted_time        planned_expiration_time  \\\n",
              "0  2010-05-20 08:40:17.000 +0000                            NaN   \n",
              "1  2015-08-16 14:03:48.000 +0000  2015-09-17 22:20:02.000 +0000   \n",
              "2  2016-09-28 13:37:22.000 +0000  2016-11-04 22:30:05.000 +0000   \n",
              "3  2017-10-16 02:59:44.000 +0000  2017-11-18 20:20:02.000 +0000   \n",
              "4  2013-01-25 10:57:20.000 +0000  2013-02-24 21:30:03.000 +0000   \n",
              "\n",
              "                   disburse_time                    raised_time  lender_term  \\\n",
              "0  2010-04-30 07:00:00.000 +0000  2010-06-30 16:09:20.000 +0000         19.0   \n",
              "1  2015-07-17 07:00:00.000 +0000  2015-08-19 01:22:29.000 +0000          8.0   \n",
              "2  2016-08-30 07:00:00.000 +0000  2016-10-06 16:34:29.000 +0000         11.0   \n",
              "3  2017-10-06 07:00:00.000 +0000  2017-11-17 16:27:29.000 +0000         14.0   \n",
              "4  2013-01-11 08:00:00.000 +0000  2013-01-26 12:43:47.000 +0000         15.0   \n",
              "\n",
              "   num_lenders_total  num_journal_entries  num_bulk_entries  \\\n",
              "0                 40                    2                 1   \n",
              "1                  5                    1                 1   \n",
              "2                  7                    1                 1   \n",
              "3                 34                    1                 1   \n",
              "4                 17                    1                 1   \n",
              "\n",
              "                                                tags borrower_names  \\\n",
              "0                                                NaN          Irene   \n",
              "1                                                NaN           Rosa   \n",
              "2          #Widowed, #Woman-Owned Business, #Elderly        Warlita   \n",
              "3  #Trees, #Woman-Owned Business, user_favorite, ...      FAAFOFOLA   \n",
              "4                                                NaN      Veronique   \n",
              "\n",
              "  borrower_genders borrower_pictured repayment_interval distribution_model  \\\n",
              "0           female              true            monthly      field_partner   \n",
              "1           female              true            monthly      field_partner   \n",
              "2           female              true            monthly      field_partner   \n",
              "3           female              true            monthly      field_partner   \n",
              "4           female              true            monthly      field_partner   \n",
              "\n",
              "  loan_status  \n",
              "0      funded  \n",
              "1      funded  \n",
              "2      funded  \n",
              "3      funded  \n",
              "4      funded  "
            ]
          },
          "metadata": {},
          "execution_count": 11
        }
      ]
    },
    {
      "cell_type": "code",
      "metadata": {
        "colab": {
          "base_uri": "https://localhost:8080/",
          "height": 265
        },
        "id": "apO5GZQbY00A",
        "outputId": "8110c5c0-24f9-4a66-f189-0ebba2737fa8"
      },
      "source": [
        "dat['loan_status'].value_counts().plot(kind='pie')"
      ],
      "execution_count": 12,
      "outputs": [
        {
          "output_type": "execute_result",
          "data": {
            "text/plain": [
              "<matplotlib.axes._subplots.AxesSubplot at 0x7ff80bfb0310>"
            ]
          },
          "metadata": {},
          "execution_count": 12
        },
        {
          "output_type": "display_data",
          "data": {
            "image/png": "[encoded data removed]",
            "text/plain": [
              "<Figure size 432x288 with 1 Axes>"
            ]
          },
          "metadata": {}
        }
      ]
    },
    {
      "cell_type": "code",
      "metadata": {
        "colab": {
          "base_uri": "https://localhost:8080/"
        },
        "id": "s5r6vNY8S-rp",
        "outputId": "f1ad2fa3-68af-44d6-fda8-7813b9c385db"
      },
      "source": [
        "dat['sector_name'].value_counts()"
      ],
      "execution_count": 17,
      "outputs": [
        {
          "output_type": "execute_result",
          "data": {
            "text/plain": [
              "Agriculture       537842\n",
              "Food              458204\n",
              "Retail            398742\n",
              "Services          141483\n",
              "Clothing          111635\n",
              "Housing           106530\n",
              "Personal Use       80240\n",
              "Education          73129\n",
              "Transportation     49508\n",
              "Arts               41584\n",
              "Health             29638\n",
              "Construction       24724\n",
              "Manufacturing      20676\n",
              "Entertainment       2624\n",
              "Wholesale           2577\n",
              "Name: sector_name, dtype: int64"
            ]
          },
          "metadata": {},
          "execution_count": 17
        }
      ]
    },
    {
      "cell_type": "code",
      "metadata": {
        "colab": {
          "base_uri": "https://localhost:8080/",
          "height": 1000
        },
        "id": "5_ACqpZzaBTk",
        "outputId": "0294787f-477b-4372-f6cf-69b155a3fd77"
      },
      "source": [
        "dat[['loan_amount', 'funded_amount', 'sector_name', 'loan_status']].groupby(['sector_name', 'loan_status']).count()"
      ],
      "execution_count": 22,
      "outputs": [
        {
          "output_type": "execute_result",
          "data": {
            "text/html": [
              "<div>\n",
              "<style scoped>\n",
              "    .dataframe tbody tr th:only-of-type {\n",
              "        vertical-align: middle;\n",
              "    }\n",
              "\n",
              "    .dataframe tbody tr th {\n",
              "        vertical-align: top;\n",
              "    }\n",
              "\n",
              "    .dataframe thead th {\n",
              "        text-align: right;\n",
              "    }\n",
              "</style>\n",
              "<table border=\"1\" class=\"dataframe\">\n",
              "  <thead>\n",
              "    <tr style=\"text-align: right;\">\n",
              "      <th></th>\n",
              "      <th></th>\n",
              "      <th>loan_amount</th>\n",
              "      <th>funded_amount</th>\n",
              "    </tr>\n",
              "    <tr>\n",
              "      <th>sector_name</th>\n",
              "      <th>loan_status</th>\n",
              "      <th></th>\n",
              "      <th></th>\n",
              "    </tr>\n",
              "  </thead>\n",
              "  <tbody>\n",
              "    <tr>\n",
              "      <th rowspan=\"2\" valign=\"top\">Agriculture</th>\n",
              "      <th>expired</th>\n",
              "      <td>24956</td>\n",
              "      <td>24956</td>\n",
              "    </tr>\n",
              "    <tr>\n",
              "      <th>funded</th>\n",
              "      <td>512886</td>\n",
              "      <td>512886</td>\n",
              "    </tr>\n",
              "    <tr>\n",
              "      <th rowspan=\"2\" valign=\"top\">Arts</th>\n",
              "      <th>expired</th>\n",
              "      <td>277</td>\n",
              "      <td>277</td>\n",
              "    </tr>\n",
              "    <tr>\n",
              "      <th>funded</th>\n",
              "      <td>41307</td>\n",
              "      <td>41307</td>\n",
              "    </tr>\n",
              "    <tr>\n",
              "      <th rowspan=\"2\" valign=\"top\">Clothing</th>\n",
              "      <th>expired</th>\n",
              "      <td>5937</td>\n",
              "      <td>5937</td>\n",
              "    </tr>\n",
              "    <tr>\n",
              "      <th>funded</th>\n",
              "      <td>105698</td>\n",
              "      <td>105698</td>\n",
              "    </tr>\n",
              "    <tr>\n",
              "      <th rowspan=\"2\" valign=\"top\">Construction</th>\n",
              "      <th>expired</th>\n",
              "      <td>801</td>\n",
              "      <td>801</td>\n",
              "    </tr>\n",
              "    <tr>\n",
              "      <th>funded</th>\n",
              "      <td>23923</td>\n",
              "      <td>23923</td>\n",
              "    </tr>\n",
              "    <tr>\n",
              "      <th rowspan=\"2\" valign=\"top\">Education</th>\n",
              "      <th>expired</th>\n",
              "      <td>991</td>\n",
              "      <td>991</td>\n",
              "    </tr>\n",
              "    <tr>\n",
              "      <th>funded</th>\n",
              "      <td>72138</td>\n",
              "      <td>72138</td>\n",
              "    </tr>\n",
              "    <tr>\n",
              "      <th rowspan=\"2\" valign=\"top\">Entertainment</th>\n",
              "      <th>expired</th>\n",
              "      <td>182</td>\n",
              "      <td>182</td>\n",
              "    </tr>\n",
              "    <tr>\n",
              "      <th>funded</th>\n",
              "      <td>2442</td>\n",
              "      <td>2442</td>\n",
              "    </tr>\n",
              "    <tr>\n",
              "      <th rowspan=\"2\" valign=\"top\">Food</th>\n",
              "      <th>expired</th>\n",
              "      <td>16232</td>\n",
              "      <td>16232</td>\n",
              "    </tr>\n",
              "    <tr>\n",
              "      <th>funded</th>\n",
              "      <td>441972</td>\n",
              "      <td>441972</td>\n",
              "    </tr>\n",
              "    <tr>\n",
              "      <th rowspan=\"2\" valign=\"top\">Health</th>\n",
              "      <th>expired</th>\n",
              "      <td>1837</td>\n",
              "      <td>1837</td>\n",
              "    </tr>\n",
              "    <tr>\n",
              "      <th>funded</th>\n",
              "      <td>27801</td>\n",
              "      <td>27801</td>\n",
              "    </tr>\n",
              "    <tr>\n",
              "      <th rowspan=\"2\" valign=\"top\">Housing</th>\n",
              "      <th>expired</th>\n",
              "      <td>6929</td>\n",
              "      <td>6929</td>\n",
              "    </tr>\n",
              "    <tr>\n",
              "      <th>funded</th>\n",
              "      <td>99601</td>\n",
              "      <td>99601</td>\n",
              "    </tr>\n",
              "    <tr>\n",
              "      <th rowspan=\"2\" valign=\"top\">Manufacturing</th>\n",
              "      <th>expired</th>\n",
              "      <td>35</td>\n",
              "      <td>35</td>\n",
              "    </tr>\n",
              "    <tr>\n",
              "      <th>funded</th>\n",
              "      <td>20641</td>\n",
              "      <td>20641</td>\n",
              "    </tr>\n",
              "    <tr>\n",
              "      <th rowspan=\"2\" valign=\"top\">Personal Use</th>\n",
              "      <th>expired</th>\n",
              "      <td>2227</td>\n",
              "      <td>2227</td>\n",
              "    </tr>\n",
              "    <tr>\n",
              "      <th>funded</th>\n",
              "      <td>78013</td>\n",
              "      <td>78013</td>\n",
              "    </tr>\n",
              "    <tr>\n",
              "      <th rowspan=\"2\" valign=\"top\">Retail</th>\n",
              "      <th>expired</th>\n",
              "      <td>20436</td>\n",
              "      <td>20436</td>\n",
              "    </tr>\n",
              "    <tr>\n",
              "      <th>funded</th>\n",
              "      <td>378306</td>\n",
              "      <td>378306</td>\n",
              "    </tr>\n",
              "    <tr>\n",
              "      <th rowspan=\"2\" valign=\"top\">Services</th>\n",
              "      <th>expired</th>\n",
              "      <td>7555</td>\n",
              "      <td>7555</td>\n",
              "    </tr>\n",
              "    <tr>\n",
              "      <th>funded</th>\n",
              "      <td>133928</td>\n",
              "      <td>133928</td>\n",
              "    </tr>\n",
              "    <tr>\n",
              "      <th rowspan=\"2\" valign=\"top\">Transportation</th>\n",
              "      <th>expired</th>\n",
              "      <td>3944</td>\n",
              "      <td>3944</td>\n",
              "    </tr>\n",
              "    <tr>\n",
              "      <th>funded</th>\n",
              "      <td>45564</td>\n",
              "      <td>45564</td>\n",
              "    </tr>\n",
              "    <tr>\n",
              "      <th rowspan=\"2\" valign=\"top\">Wholesale</th>\n",
              "      <th>expired</th>\n",
              "      <td>72</td>\n",
              "      <td>72</td>\n",
              "    </tr>\n",
              "    <tr>\n",
              "      <th>funded</th>\n",
              "      <td>2505</td>\n",
              "      <td>2505</td>\n",
              "    </tr>\n",
              "  </tbody>\n",
              "</table>\n",
              "</div>"
            ],
            "text/plain": [
              "                            loan_amount  funded_amount\n",
              "sector_name    loan_status                            \n",
              "Agriculture    expired            24956          24956\n",
              "               funded            512886         512886\n",
              "Arts           expired              277            277\n",
              "               funded             41307          41307\n",
              "Clothing       expired             5937           5937\n",
              "               funded            105698         105698\n",
              "Construction   expired              801            801\n",
              "               funded             23923          23923\n",
              "Education      expired              991            991\n",
              "               funded             72138          72138\n",
              "Entertainment  expired              182            182\n",
              "               funded              2442           2442\n",
              "Food           expired            16232          16232\n",
              "               funded            441972         441972\n",
              "Health         expired             1837           1837\n",
              "               funded             27801          27801\n",
              "Housing        expired             6929           6929\n",
              "               funded             99601          99601\n",
              "Manufacturing  expired               35             35\n",
              "               funded             20641          20641\n",
              "Personal Use   expired             2227           2227\n",
              "               funded             78013          78013\n",
              "Retail         expired            20436          20436\n",
              "               funded            378306         378306\n",
              "Services       expired             7555           7555\n",
              "               funded            133928         133928\n",
              "Transportation expired             3944           3944\n",
              "               funded             45564          45564\n",
              "Wholesale      expired               72             72\n",
              "               funded              2505           2505"
            ]
          },
          "metadata": {},
          "execution_count": 22
        }
      ]
    },
    {
      "cell_type": "code",
      "metadata": {
        "id": "RQDXvTxiLNfQ",
        "colab": {
          "base_uri": "https://localhost:8080/",
          "height": 142
        },
        "outputId": "26e30a3d-66de-4f70-c423-81d2b995d226"
      },
      "source": [
        "dat.groupby('loan_status').mean()"
      ],
      "execution_count": 15,
      "outputs": [
        {
          "output_type": "execute_result",
          "data": {
            "text/html": [
              "<div>\n",
              "<style scoped>\n",
              "    .dataframe tbody tr th:only-of-type {\n",
              "        vertical-align: middle;\n",
              "    }\n",
              "\n",
              "    .dataframe tbody tr th {\n",
              "        vertical-align: top;\n",
              "    }\n",
              "\n",
              "    .dataframe thead th {\n",
              "        text-align: right;\n",
              "    }\n",
              "</style>\n",
              "<table border=\"1\" class=\"dataframe\">\n",
              "  <thead>\n",
              "    <tr style=\"text-align: right;\">\n",
              "      <th></th>\n",
              "      <th>loan_id</th>\n",
              "      <th>funded_amount</th>\n",
              "      <th>loan_amount</th>\n",
              "      <th>image_id</th>\n",
              "      <th>video_id</th>\n",
              "      <th>currency_exchange_coverage_rate</th>\n",
              "      <th>partner_id</th>\n",
              "      <th>lender_term</th>\n",
              "      <th>num_lenders_total</th>\n",
              "      <th>num_journal_entries</th>\n",
              "      <th>num_bulk_entries</th>\n",
              "    </tr>\n",
              "    <tr>\n",
              "      <th>loan_status</th>\n",
              "      <th></th>\n",
              "      <th></th>\n",
              "      <th></th>\n",
              "      <th></th>\n",
              "      <th></th>\n",
              "      <th></th>\n",
              "      <th></th>\n",
              "      <th></th>\n",
              "      <th></th>\n",
              "      <th></th>\n",
              "      <th></th>\n",
              "    </tr>\n",
              "  </thead>\n",
              "  <tbody>\n",
              "    <tr>\n",
              "      <th>expired</th>\n",
              "      <td>1.212499e+06</td>\n",
              "      <td>623.285702</td>\n",
              "      <td>1459.180455</td>\n",
              "      <td>2.360417e+06</td>\n",
              "      <td>3879.597484</td>\n",
              "      <td>0.100243</td>\n",
              "      <td>173.607515</td>\n",
              "      <td>18.267755</td>\n",
              "      <td>16.158726</td>\n",
              "      <td>1.016275</td>\n",
              "      <td>1.000768</td>\n",
              "    </tr>\n",
              "    <tr>\n",
              "      <th>funded</th>\n",
              "      <td>1.051751e+06</td>\n",
              "      <td>783.177813</td>\n",
              "      <td>785.271125</td>\n",
              "      <td>2.097029e+06</td>\n",
              "      <td>3022.999017</td>\n",
              "      <td>0.106252</td>\n",
              "      <td>168.337626</td>\n",
              "      <td>12.876386</td>\n",
              "      <td>21.628300</td>\n",
              "      <td>1.567216</td>\n",
              "      <td>1.154725</td>\n",
              "    </tr>\n",
              "  </tbody>\n",
              "</table>\n",
              "</div>"
            ],
            "text/plain": [
              "                  loan_id  funded_amount  loan_amount      image_id  \\\n",
              "loan_status                                                           \n",
              "expired      1.212499e+06     623.285702  1459.180455  2.360417e+06   \n",
              "funded       1.051751e+06     783.177813   785.271125  2.097029e+06   \n",
              "\n",
              "                video_id  currency_exchange_coverage_rate  partner_id  \\\n",
              "loan_status                                                             \n",
              "expired      3879.597484                         0.100243  173.607515   \n",
              "funded       3022.999017                         0.106252  168.337626   \n",
              "\n",
              "             lender_term  num_lenders_total  num_journal_entries  \\\n",
              "loan_status                                                        \n",
              "expired        18.267755          16.158726             1.016275   \n",
              "funded         12.876386          21.628300             1.567216   \n",
              "\n",
              "             num_bulk_entries  \n",
              "loan_status                    \n",
              "expired              1.000768  \n",
              "funded               1.154725  "
            ]
          },
          "metadata": {},
          "execution_count": 15
        }
      ]
    },
    {
      "cell_type": "code",
      "metadata": {
        "id": "xyzs3UOeWf5F"
      },
      "source": [
        "[ 'loan_name', 'original_language', 'description',\n",
        "       'description_translated', 'funded_amount', 'loan_amount', 'status',\n",
        "        'activity_name', 'sector_name', 'loan_use', 'country_name', 'currency_policy',\n",
        "       'currency_exchange_coverage_rate', 'currency', 'partner_id',\n",
        "       'posted_time', 'planned_expiration_time', 'disburse_time',\n",
        "       'raised_time', 'lender_term', 'num_lenders_total',\n",
        "       'num_journal_entries', 'num_bulk_entries', 'tags', 'borrower_names',\n",
        "       'borrower_genders', 'borrower_pictured', 'repayment_interval',\n",
        "       'distribution_model'"
      ],
      "execution_count": null,
      "outputs": []
    },
    {
      "cell_type": "code",
      "metadata": {
        "colab": {
          "base_uri": "https://localhost:8080/"
        },
        "id": "T9_gJ0M7sPHo",
        "outputId": "771c6c0a-fc14-4e24-f21d-90ddd328807c"
      },
      "source": [
        "# Create a new column to calculate the average contribution by lenders\n",
        "dat['contrib_per_lend'] = data['funded_amount'] / data['num_lenders_total']\n",
        "dat['contrib_per_lend'].value_counts()"
      ],
      "execution_count": null,
      "outputs": [
        {
          "output_type": "execute_result",
          "data": {
            "text/plain": [
              "25.000000     356709\n",
              "33.333333      58184\n",
              "31.250000      47823\n",
              "37.500000      42240\n",
              "50.000000      40844\n",
              "               ...  \n",
              "197.000000         1\n",
              "103.773585         1\n",
              "72.649573          1\n",
              "37.740385          1\n",
              "25.164474          1\n",
              "Name: contrib_per_lend, Length: 19519, dtype: int64"
            ]
          },
          "metadata": {},
          "execution_count": 9
        }
      ]
    },
    {
      "cell_type": "code",
      "metadata": {
        "colab": {
          "base_uri": "https://localhost:8080/"
        },
        "id": "_thp16rosPLl",
        "outputId": "5692ca66-ea4c-46b3-b5a1-636e662bcf3e"
      },
      "source": [
        "#Create a new column for the average monthly repayment\n",
        "dat['monthly_repayment'] = data['funded_amount'] / data['lender_term']\n",
        "dat['monthly_repayment'].value_counts()"
      ],
      "execution_count": null,
      "outputs": [
        {
          "output_type": "execute_result",
          "data": {
            "text/plain": [
              "25.000000      82979\n",
              "50.000000      47977\n",
              "35.714286      43187\n",
              "21.428571      39369\n",
              "37.500000      36875\n",
              "               ...  \n",
              "622.727273         1\n",
              "26.111111          1\n",
              "48.571429          1\n",
              "167.592593         1\n",
              "2208.333333        1\n",
              "Name: repayment_monthly, Length: 7039, dtype: int64"
            ]
          },
          "metadata": {},
          "execution_count": 10
        }
      ]
    },
    {
      "cell_type": "code",
      "metadata": {
        "id": "erRi1LTnNO9u",
        "colab": {
          "base_uri": "https://localhost:8080/",
          "height": 162
        },
        "outputId": "a83992f9-3d81-445b-b883-c034220f48b3"
      },
      "source": [
        "#Dropping the columns that are not necessary for the model\n",
        "data_reduced = dat.drop(columns=['loan_id', 'country_code', 'image_id', 'video_id', 'num_lenders_total', 'description_translated'])"
      ],
      "execution_count": null,
      "outputs": [
        {
          "output_type": "error",
          "ename": "NameError",
          "evalue": "ignored",
          "traceback": [
            "\u001b[0;31m---------------------------------------------------------------------------\u001b[0m",
            "\u001b[0;31mNameError\u001b[0m                                 Traceback (most recent call last)",
            "\u001b[0;32m<ipython-input-1-13358057edf5>\u001b[0m in \u001b[0;36m<module>\u001b[0;34m()\u001b[0m\n\u001b[0;32m----> 1\u001b[0;31m \u001b[0mdata_reduced\u001b[0m \u001b[0;34m=\u001b[0m \u001b[0mdat\u001b[0m\u001b[0;34m.\u001b[0m\u001b[0mdrop\u001b[0m\u001b[0;34m(\u001b[0m\u001b[0mcolumns\u001b[0m\u001b[0;34m=\u001b[0m\u001b[0;34m[\u001b[0m\u001b[0;34m'loan_id'\u001b[0m\u001b[0;34m,\u001b[0m \u001b[0;34m'country_code'\u001b[0m\u001b[0;34m,\u001b[0m \u001b[0;34m'image_id'\u001b[0m\u001b[0;34m,\u001b[0m \u001b[0;34m'video_id'\u001b[0m\u001b[0;34m,\u001b[0m \u001b[0;34m'num_lenders_total'\u001b[0m\u001b[0;34m,\u001b[0m \u001b[0;34m'description_translated'\u001b[0m\u001b[0;34m]\u001b[0m\u001b[0;34m)\u001b[0m\u001b[0;34m\u001b[0m\u001b[0;34m\u001b[0m\u001b[0m\n\u001b[0m",
            "\u001b[0;31mNameError\u001b[0m: name 'dat' is not defined"
          ]
        }
      ]
    },
    {
      "cell_type": "code",
      "metadata": {
        "colab": {
          "base_uri": "https://localhost:8080/",
          "height": 261
        },
        "id": "QAg-VtV0sPP8",
        "outputId": "c86fbebf-1cf9-44cf-d1bf-f7eb7c56f13b"
      },
      "source": [
        "data_reduced.describe(include=object)"
      ],
      "execution_count": null,
      "outputs": [
        {
          "output_type": "execute_result",
          "data": {
            "text/html": [
              "<div>\n",
              "<style scoped>\n",
              "    .dataframe tbody tr th:only-of-type {\n",
              "        vertical-align: middle;\n",
              "    }\n",
              "\n",
              "    .dataframe tbody tr th {\n",
              "        vertical-align: top;\n",
              "    }\n",
              "\n",
              "    .dataframe thead th {\n",
              "        text-align: right;\n",
              "    }\n",
              "</style>\n",
              "<table border=\"1\" class=\"dataframe\">\n",
              "  <thead>\n",
              "    <tr style=\"text-align: right;\">\n",
              "      <th></th>\n",
              "      <th>loan_name</th>\n",
              "      <th>original_language</th>\n",
              "      <th>description</th>\n",
              "      <th>status</th>\n",
              "      <th>activity_name</th>\n",
              "      <th>sector_name</th>\n",
              "      <th>loan_use</th>\n",
              "      <th>country_name</th>\n",
              "      <th>town_name</th>\n",
              "      <th>currency_policy</th>\n",
              "      <th>currency</th>\n",
              "      <th>posted_time</th>\n",
              "      <th>planned_expiration_time</th>\n",
              "      <th>disburse_time</th>\n",
              "      <th>raised_time</th>\n",
              "      <th>tags</th>\n",
              "      <th>borrower_names</th>\n",
              "      <th>borrower_genders</th>\n",
              "      <th>borrower_pictured</th>\n",
              "      <th>repayment_interval</th>\n",
              "      <th>distribution_model</th>\n",
              "    </tr>\n",
              "  </thead>\n",
              "  <tbody>\n",
              "    <tr>\n",
              "      <th>count</th>\n",
              "      <td>1936894</td>\n",
              "      <td>1940851</td>\n",
              "      <td>1940823</td>\n",
              "      <td>1977543</td>\n",
              "      <td>1977543</td>\n",
              "      <td>1977543</td>\n",
              "      <td>1940834</td>\n",
              "      <td>1977543</td>\n",
              "      <td>1819103</td>\n",
              "      <td>1977543</td>\n",
              "      <td>1977543</td>\n",
              "      <td>1977543</td>\n",
              "      <td>1610102</td>\n",
              "      <td>1977527</td>\n",
              "      <td>1977543</td>\n",
              "      <td>1056645</td>\n",
              "      <td>1936894</td>\n",
              "      <td>1940851</td>\n",
              "      <td>1940851</td>\n",
              "      <td>1977543</td>\n",
              "      <td>1977543</td>\n",
              "    </tr>\n",
              "    <tr>\n",
              "      <th>unique</th>\n",
              "      <td>444006</td>\n",
              "      <td>8</td>\n",
              "      <td>1936715</td>\n",
              "      <td>1</td>\n",
              "      <td>163</td>\n",
              "      <td>15</td>\n",
              "      <td>1177192</td>\n",
              "      <td>97</td>\n",
              "      <td>27976</td>\n",
              "      <td>2</td>\n",
              "      <td>78</td>\n",
              "      <td>1970459</td>\n",
              "      <td>854188</td>\n",
              "      <td>78380</td>\n",
              "      <td>1628575</td>\n",
              "      <td>203835</td>\n",
              "      <td>589032</td>\n",
              "      <td>23774</td>\n",
              "      <td>7734</td>\n",
              "      <td>3</td>\n",
              "      <td>2</td>\n",
              "    </tr>\n",
              "    <tr>\n",
              "      <th>top</th>\n",
              "      <td>Anonymous Group</td>\n",
              "      <td>English</td>\n",
              "      <td>Hello Kiva Community! &lt;br /&gt;&lt;br /&gt;Meet Mary, w...</td>\n",
              "      <td>funded</td>\n",
              "      <td>Farming</td>\n",
              "      <td>Agriculture</td>\n",
              "      <td>to build a sanitary toilet for her family</td>\n",
              "      <td>Philippines</td>\n",
              "      <td>Kaduna</td>\n",
              "      <td>shared</td>\n",
              "      <td>PHP</td>\n",
              "      <td>2006-04-16 07:10:50.000 +0000</td>\n",
              "      <td>2018-07-20 05:35:51.000 +0000</td>\n",
              "      <td>2020-01-28 08:00:00.000 +0000</td>\n",
              "      <td>2005-03-31 06:27:55.000 +0000</td>\n",
              "      <td>user_favorite</td>\n",
              "      <td>Mary</td>\n",
              "      <td>female</td>\n",
              "      <td>true</td>\n",
              "      <td>monthly</td>\n",
              "      <td>field_partner</td>\n",
              "    </tr>\n",
              "    <tr>\n",
              "      <th>freq</th>\n",
              "      <td>7082</td>\n",
              "      <td>1347026</td>\n",
              "      <td>17</td>\n",
              "      <td>1977543</td>\n",
              "      <td>211372</td>\n",
              "      <td>510693</td>\n",
              "      <td>18117</td>\n",
              "      <td>437345</td>\n",
              "      <td>17178</td>\n",
              "      <td>1522902</td>\n",
              "      <td>437343</td>\n",
              "      <td>205</td>\n",
              "      <td>27</td>\n",
              "      <td>4451</td>\n",
              "      <td>202</td>\n",
              "      <td>75473</td>\n",
              "      <td>5794</td>\n",
              "      <td>1298469</td>\n",
              "      <td>1674182</td>\n",
              "      <td>1711871</td>\n",
              "      <td>1960373</td>\n",
              "    </tr>\n",
              "  </tbody>\n",
              "</table>\n",
              "</div>"
            ],
            "text/plain": [
              "              loan_name original_language  \\\n",
              "count           1936894           1940851   \n",
              "unique           444006                 8   \n",
              "top     Anonymous Group           English   \n",
              "freq               7082           1347026   \n",
              "\n",
              "                                              description   status  \\\n",
              "count                                             1940823  1977543   \n",
              "unique                                            1936715        1   \n",
              "top     Hello Kiva Community! <br /><br />Meet Mary, w...   funded   \n",
              "freq                                                   17  1977543   \n",
              "\n",
              "       activity_name  sector_name                                   loan_use  \\\n",
              "count        1977543      1977543                                    1940834   \n",
              "unique           163           15                                    1177192   \n",
              "top          Farming  Agriculture  to build a sanitary toilet for her family   \n",
              "freq          211372       510693                                      18117   \n",
              "\n",
              "       country_name town_name currency_policy currency  \\\n",
              "count       1977543   1819103         1977543  1977543   \n",
              "unique           97     27976               2       78   \n",
              "top     Philippines    Kaduna          shared      PHP   \n",
              "freq         437345     17178         1522902   437343   \n",
              "\n",
              "                          posted_time        planned_expiration_time  \\\n",
              "count                         1977543                        1610102   \n",
              "unique                        1970459                         854188   \n",
              "top     2006-04-16 07:10:50.000 +0000  2018-07-20 05:35:51.000 +0000   \n",
              "freq                              205                             27   \n",
              "\n",
              "                        disburse_time                    raised_time  \\\n",
              "count                         1977527                        1977543   \n",
              "unique                          78380                        1628575   \n",
              "top     2020-01-28 08:00:00.000 +0000  2005-03-31 06:27:55.000 +0000   \n",
              "freq                             4451                            202   \n",
              "\n",
              "                 tags borrower_names borrower_genders borrower_pictured  \\\n",
              "count         1056645        1936894          1940851           1940851   \n",
              "unique         203835         589032            23774              7734   \n",
              "top     user_favorite           Mary           female              true   \n",
              "freq            75473           5794          1298469           1674182   \n",
              "\n",
              "       repayment_interval distribution_model  \n",
              "count             1977543            1977543  \n",
              "unique                  3                  2  \n",
              "top               monthly      field_partner  \n",
              "freq              1711871            1960373  "
            ]
          },
          "metadata": {},
          "execution_count": 12
        }
      ]
    },
    {
      "cell_type": "code",
      "metadata": {
        "colab": {
          "base_uri": "https://localhost:8080/",
          "height": 297
        },
        "id": "noaEeduUxsm-",
        "outputId": "9149005b-ad76-4341-8d74-97feb53649ec"
      },
      "source": [
        "data_reduced.describe()"
      ],
      "execution_count": null,
      "outputs": [
        {
          "output_type": "execute_result",
          "data": {
            "text/html": [
              "<div>\n",
              "<style scoped>\n",
              "    .dataframe tbody tr th:only-of-type {\n",
              "        vertical-align: middle;\n",
              "    }\n",
              "\n",
              "    .dataframe tbody tr th {\n",
              "        vertical-align: top;\n",
              "    }\n",
              "\n",
              "    .dataframe thead th {\n",
              "        text-align: right;\n",
              "    }\n",
              "</style>\n",
              "<table border=\"1\" class=\"dataframe\">\n",
              "  <thead>\n",
              "    <tr style=\"text-align: right;\">\n",
              "      <th></th>\n",
              "      <th>funded_amount</th>\n",
              "      <th>loan_amount</th>\n",
              "      <th>currency_exchange_coverage_rate</th>\n",
              "      <th>partner_id</th>\n",
              "      <th>lender_term</th>\n",
              "      <th>num_journal_entries</th>\n",
              "      <th>num_bulk_entries</th>\n",
              "      <th>contrib_per_lend</th>\n",
              "      <th>repayment_monthly</th>\n",
              "    </tr>\n",
              "  </thead>\n",
              "  <tbody>\n",
              "    <tr>\n",
              "      <th>count</th>\n",
              "      <td>1.977543e+06</td>\n",
              "      <td>1.977543e+06</td>\n",
              "      <td>1.522902e+06</td>\n",
              "      <td>1.960373e+06</td>\n",
              "      <td>1.977521e+06</td>\n",
              "      <td>1.977543e+06</td>\n",
              "      <td>1.977543e+06</td>\n",
              "      <td>1.977543e+06</td>\n",
              "      <td>1.977521e+06</td>\n",
              "    </tr>\n",
              "    <tr>\n",
              "      <th>mean</th>\n",
              "      <td>7.837110e+02</td>\n",
              "      <td>7.837111e+02</td>\n",
              "      <td>1.061842e-01</td>\n",
              "      <td>1.683680e+02</td>\n",
              "      <td>1.287206e+01</td>\n",
              "      <td>1.567482e+00</td>\n",
              "      <td>1.155112e+00</td>\n",
              "      <td>5.550396e+01</td>\n",
              "      <td>7.198233e+01</td>\n",
              "    </tr>\n",
              "    <tr>\n",
              "      <th>std</th>\n",
              "      <td>1.618479e+03</td>\n",
              "      <td>1.618479e+03</td>\n",
              "      <td>4.094721e-02</td>\n",
              "      <td>1.077789e+02</td>\n",
              "      <td>7.146057e+00</td>\n",
              "      <td>1.104296e+00</td>\n",
              "      <td>5.336206e-01</td>\n",
              "      <td>1.616493e+02</td>\n",
              "      <td>1.404544e+02</td>\n",
              "    </tr>\n",
              "    <tr>\n",
              "      <th>min</th>\n",
              "      <td>2.500000e+01</td>\n",
              "      <td>2.500000e+01</td>\n",
              "      <td>0.000000e+00</td>\n",
              "      <td>1.000000e+00</td>\n",
              "      <td>1.000000e+00</td>\n",
              "      <td>1.000000e+00</td>\n",
              "      <td>1.000000e+00</td>\n",
              "      <td>5.000000e+00</td>\n",
              "      <td>2.906977e-01</td>\n",
              "    </tr>\n",
              "    <tr>\n",
              "      <th>25%</th>\n",
              "      <td>2.500000e+02</td>\n",
              "      <td>2.500000e+02</td>\n",
              "      <td>1.000000e-01</td>\n",
              "      <td>1.100000e+02</td>\n",
              "      <td>8.000000e+00</td>\n",
              "      <td>1.000000e+00</td>\n",
              "      <td>1.000000e+00</td>\n",
              "      <td>2.678571e+01</td>\n",
              "      <td>2.500000e+01</td>\n",
              "    </tr>\n",
              "    <tr>\n",
              "      <th>50%</th>\n",
              "      <td>5.000000e+02</td>\n",
              "      <td>5.000000e+02</td>\n",
              "      <td>1.000000e-01</td>\n",
              "      <td>1.450000e+02</td>\n",
              "      <td>1.200000e+01</td>\n",
              "      <td>1.000000e+00</td>\n",
              "      <td>1.000000e+00</td>\n",
              "      <td>3.095238e+01</td>\n",
              "      <td>3.928571e+01</td>\n",
              "    </tr>\n",
              "    <tr>\n",
              "      <th>75%</th>\n",
              "      <td>9.000000e+02</td>\n",
              "      <td>9.000000e+02</td>\n",
              "      <td>1.000000e-01</td>\n",
              "      <td>1.880000e+02</td>\n",
              "      <td>1.400000e+01</td>\n",
              "      <td>2.000000e+00</td>\n",
              "      <td>1.000000e+00</td>\n",
              "      <td>4.070185e+01</td>\n",
              "      <td>7.000000e+01</td>\n",
              "    </tr>\n",
              "    <tr>\n",
              "      <th>max</th>\n",
              "      <td>5.000000e+05</td>\n",
              "      <td>5.000000e+05</td>\n",
              "      <td>2.000000e-01</td>\n",
              "      <td>6.190000e+02</td>\n",
              "      <td>1.560000e+02</td>\n",
              "      <td>1.260000e+02</td>\n",
              "      <td>6.300000e+01</td>\n",
              "      <td>2.500000e+04</td>\n",
              "      <td>5.000000e+04</td>\n",
              "    </tr>\n",
              "  </tbody>\n",
              "</table>\n",
              "</div>"
            ],
            "text/plain": [
              "       funded_amount   loan_amount  currency_exchange_coverage_rate  \\\n",
              "count   1.977543e+06  1.977543e+06                     1.522902e+06   \n",
              "mean    7.837110e+02  7.837111e+02                     1.061842e-01   \n",
              "std     1.618479e+03  1.618479e+03                     4.094721e-02   \n",
              "min     2.500000e+01  2.500000e+01                     0.000000e+00   \n",
              "25%     2.500000e+02  2.500000e+02                     1.000000e-01   \n",
              "50%     5.000000e+02  5.000000e+02                     1.000000e-01   \n",
              "75%     9.000000e+02  9.000000e+02                     1.000000e-01   \n",
              "max     5.000000e+05  5.000000e+05                     2.000000e-01   \n",
              "\n",
              "         partner_id   lender_term  num_journal_entries  num_bulk_entries  \\\n",
              "count  1.960373e+06  1.977521e+06         1.977543e+06      1.977543e+06   \n",
              "mean   1.683680e+02  1.287206e+01         1.567482e+00      1.155112e+00   \n",
              "std    1.077789e+02  7.146057e+00         1.104296e+00      5.336206e-01   \n",
              "min    1.000000e+00  1.000000e+00         1.000000e+00      1.000000e+00   \n",
              "25%    1.100000e+02  8.000000e+00         1.000000e+00      1.000000e+00   \n",
              "50%    1.450000e+02  1.200000e+01         1.000000e+00      1.000000e+00   \n",
              "75%    1.880000e+02  1.400000e+01         2.000000e+00      1.000000e+00   \n",
              "max    6.190000e+02  1.560000e+02         1.260000e+02      6.300000e+01   \n",
              "\n",
              "       contrib_per_lend  repayment_monthly  \n",
              "count      1.977543e+06       1.977521e+06  \n",
              "mean       5.550396e+01       7.198233e+01  \n",
              "std        1.616493e+02       1.404544e+02  \n",
              "min        5.000000e+00       2.906977e-01  \n",
              "25%        2.678571e+01       2.500000e+01  \n",
              "50%        3.095238e+01       3.928571e+01  \n",
              "75%        4.070185e+01       7.000000e+01  \n",
              "max        2.500000e+04       5.000000e+04  "
            ]
          },
          "metadata": {},
          "execution_count": 13
        }
      ]
    },
    {
      "cell_type": "code",
      "metadata": {
        "id": "8IEKrjDUymi1"
      },
      "source": [
        "# import seaborn as sns\n",
        "# sns.pairplot(df1[['contrib_per_lend', 'repayment_monthly']])"
      ],
      "execution_count": null,
      "outputs": []
    },
    {
      "cell_type": "code",
      "metadata": {
        "colab": {
          "base_uri": "https://localhost:8080/",
          "height": 326
        },
        "id": "es91bd0xymma",
        "outputId": "e78f10a2-752c-4cb1-a374-a7055fac56c3"
      },
      "source": [
        "data_reduced['repayment_interval'].value_counts().plot(kind='bar')"
      ],
      "execution_count": null,
      "outputs": [
        {
          "output_type": "execute_result",
          "data": {
            "text/plain": [
              "<matplotlib.axes._subplots.AxesSubplot at 0x7f89f25cb4d0>"
            ]
          },
          "metadata": {},
          "execution_count": 14
        },
        {
          "output_type": "display_data",
          "data": {
            "image/png": "[encoded data removed]",
            "text/plain": [
              "<Figure size 432x288 with 1 Axes>"
            ]
          },
          "metadata": {
            "needs_background": "light"
          }
        }
      ]
    },
    {
      "cell_type": "code",
      "metadata": {
        "colab": {
          "base_uri": "https://localhost:8080/"
        },
        "id": "-J39N2A8-pZd",
        "outputId": "1ea3ecf4-6ae3-46c3-8c97-878ba71f8ea3"
      },
      "source": [
        "data_reduced.columns"
      ],
      "execution_count": null,
      "outputs": [
        {
          "output_type": "execute_result",
          "data": {
            "text/plain": [
              "Index(['loan_name', 'original_language', 'description', 'funded_amount',\n",
              "       'loan_amount', 'status', 'activity_name', 'sector_name', 'loan_use',\n",
              "       'country_name', 'town_name', 'currency_policy',\n",
              "       'currency_exchange_coverage_rate', 'currency', 'partner_id',\n",
              "       'posted_time', 'planned_expiration_time', 'disburse_time',\n",
              "       'raised_time', 'lender_term', 'num_journal_entries', 'num_bulk_entries',\n",
              "       'tags', 'borrower_names', 'borrower_genders', 'borrower_pictured',\n",
              "       'repayment_interval', 'distribution_model', 'contrib_per_lend',\n",
              "       'repayment_monthly'],\n",
              "      dtype='object')"
            ]
          },
          "metadata": {},
          "execution_count": 15
        }
      ]
    },
    {
      "cell_type": "code",
      "metadata": {
        "id": "oHeIk6chj4lJ"
      },
      "source": [
        "#data_reduced.columns = [i.replace(' ', '_').lower() for i in df1.columns]"
      ],
      "execution_count": null,
      "outputs": []
    },
    {
      "cell_type": "code",
      "metadata": {
        "colab": {
          "base_uri": "https://localhost:8080/"
        },
        "id": "0f94h79Qh2NK",
        "outputId": "c3c36438-71f0-47e5-ef59-e532bccbc0fa"
      },
      "source": [
        "data_reduced.isnull().sum()"
      ],
      "execution_count": null,
      "outputs": [
        {
          "output_type": "execute_result",
          "data": {
            "text/plain": [
              "loan_name                           40649\n",
              "original_language                   36692\n",
              "description                         36720\n",
              "funded_amount                           0\n",
              "loan_amount                             0\n",
              "status                                  0\n",
              "activity_name                           0\n",
              "sector_name                             0\n",
              "loan_use                            36709\n",
              "country_name                            0\n",
              "town_name                          158440\n",
              "currency_policy                         0\n",
              "currency_exchange_coverage_rate    454641\n",
              "currency                                0\n",
              "partner_id                          17170\n",
              "posted_time                             0\n",
              "planned_expiration_time            367441\n",
              "disburse_time                          16\n",
              "raised_time                             0\n",
              "lender_term                            22\n",
              "num_journal_entries                     0\n",
              "num_bulk_entries                        0\n",
              "tags                               920898\n",
              "borrower_names                      40649\n",
              "borrower_genders                    36692\n",
              "borrower_pictured                   36692\n",
              "repayment_interval                      0\n",
              "distribution_model                      0\n",
              "contrib_per_lend                        0\n",
              "repayment_monthly                      22\n",
              "dtype: int64"
            ]
          },
          "metadata": {},
          "execution_count": 16
        }
      ]
    },
    {
      "cell_type": "code",
      "metadata": {
        "colab": {
          "base_uri": "https://localhost:8080/"
        },
        "id": "5D2AnJGfh_P_",
        "outputId": "3bc337ed-4c5d-4584-d5e6-aecab3c34276"
      },
      "source": [
        "data_reduced.loan_amount.value_counts()"
      ],
      "execution_count": null,
      "outputs": [
        {
          "output_type": "execute_result",
          "data": {
            "text/plain": [
              "200.0       97556\n",
              "300.0       91475\n",
              "500.0       84737\n",
              "250.0       76575\n",
              "225.0       74493\n",
              "            ...  \n",
              "13650.0         1\n",
              "417775.0        1\n",
              "13575.0         1\n",
              "13500.0         1\n",
              "30100.0         1\n",
              "Name: loan_amount, Length: 614, dtype: int64"
            ]
          },
          "metadata": {},
          "execution_count": 17
        }
      ]
    },
    {
      "cell_type": "code",
      "metadata": {
        "colab": {
          "base_uri": "https://localhost:8080/"
        },
        "id": "Ch6PqKn1i1nL",
        "outputId": "af6b8814-8d4b-4aac-9e15-6404a7ad0977"
      },
      "source": [
        "data_reduced.funded_amount.value_counts()"
      ],
      "execution_count": null,
      "outputs": [
        {
          "output_type": "execute_result",
          "data": {
            "text/plain": [
              "200.0       97556\n",
              "300.0       91475\n",
              "500.0       84736\n",
              "250.0       76575\n",
              "225.0       74493\n",
              "            ...  \n",
              "13650.0         1\n",
              "417775.0        1\n",
              "13575.0         1\n",
              "13500.0         1\n",
              "30100.0         1\n",
              "Name: funded_amount, Length: 614, dtype: int64"
            ]
          },
          "metadata": {},
          "execution_count": 18
        }
      ]
    },
    {
      "cell_type": "code",
      "metadata": {
        "colab": {
          "base_uri": "https://localhost:8080/"
        },
        "id": "3gNjWsTcidlo",
        "outputId": "762feb8b-f5c2-49bc-cc7b-4a219a37d4f0"
      },
      "source": [
        "data_reduced['status'].value_counts()"
      ],
      "execution_count": null,
      "outputs": [
        {
          "output_type": "execute_result",
          "data": {
            "text/plain": [
              "funded    1977543\n",
              "Name: status, dtype: int64"
            ]
          },
          "metadata": {},
          "execution_count": 19
        }
      ]
    },
    {
      "cell_type": "code",
      "metadata": {
        "colab": {
          "base_uri": "https://localhost:8080/"
        },
        "id": "ePn9EWjplVnQ",
        "outputId": "9612c5e7-f450-4d9a-adf0-69201494e574"
      },
      "source": [
        "data_reduced.info()"
      ],
      "execution_count": null,
      "outputs": [
        {
          "output_type": "stream",
          "name": "stdout",
          "text": [
            "<class 'pandas.core.frame.DataFrame'>\n",
            "Int64Index: 1977543 entries, 0 to 2086698\n",
            "Data columns (total 30 columns):\n",
            " #   Column                           Dtype  \n",
            "---  ------                           -----  \n",
            " 0   loan_name                        object \n",
            " 1   original_language                object \n",
            " 2   description                      object \n",
            " 3   funded_amount                    float64\n",
            " 4   loan_amount                      float64\n",
            " 5   status                           object \n",
            " 6   activity_name                    object \n",
            " 7   sector_name                      object \n",
            " 8   loan_use                         object \n",
            " 9   country_name                     object \n",
            " 10  town_name                        object \n",
            " 11  currency_policy                  object \n",
            " 12  currency_exchange_coverage_rate  float64\n",
            " 13  currency                         object \n",
            " 14  partner_id                       float64\n",
            " 15  posted_time                      object \n",
            " 16  planned_expiration_time          object \n",
            " 17  disburse_time                    object \n",
            " 18  raised_time                      object \n",
            " 19  lender_term                      float64\n",
            " 20  num_journal_entries              int64  \n",
            " 21  num_bulk_entries                 int64  \n",
            " 22  tags                             object \n",
            " 23  borrower_names                   object \n",
            " 24  borrower_genders                 object \n",
            " 25  borrower_pictured                object \n",
            " 26  repayment_interval               object \n",
            " 27  distribution_model               object \n",
            " 28  contrib_per_lend                 float64\n",
            " 29  repayment_monthly                float64\n",
            "dtypes: float64(7), int64(2), object(21)\n",
            "memory usage: 467.7+ MB\n"
          ]
        }
      ]
    },
    {
      "cell_type": "code",
      "metadata": {
        "id": "4c1j_4FGr95x",
        "colab": {
          "base_uri": "https://localhost:8080/"
        },
        "outputId": "a3659796-d129-4e33-8297-f000f6ff6be3"
      },
      "source": [
        "data_reduced.repayment_interval.value_counts()"
      ],
      "execution_count": null,
      "outputs": [
        {
          "output_type": "execute_result",
          "data": {
            "text/plain": [
              "monthly      1711871\n",
              "bullet        178411\n",
              "irregular      87261\n",
              "Name: repayment_interval, dtype: int64"
            ]
          },
          "metadata": {},
          "execution_count": 21
        }
      ]
    },
    {
      "cell_type": "code",
      "metadata": {
        "colab": {
          "base_uri": "https://localhost:8080/"
        },
        "id": "Wcg48jYhsKXS",
        "outputId": "f1c77040-0231-41eb-e893-4c8cb3f23e96"
      },
      "source": [
        "data_reduced.lender_term.value_counts()"
      ],
      "execution_count": null,
      "outputs": [
        {
          "output_type": "execute_result",
          "data": {
            "text/plain": [
              "14.0     493431\n",
              "8.0      403625\n",
              "7.0      123175\n",
              "11.0     119797\n",
              "6.0       98876\n",
              "          ...  \n",
              "154.0         1\n",
              "156.0         1\n",
              "128.0         1\n",
              "103.0         1\n",
              "119.0         1\n",
              "Name: lender_term, Length: 151, dtype: int64"
            ]
          },
          "metadata": {},
          "execution_count": 22
        }
      ]
    },
    {
      "cell_type": "code",
      "metadata": {
        "colab": {
          "base_uri": "https://localhost:8080/",
          "height": 1000
        },
        "id": "gjqFrlzsr99V",
        "outputId": "aafd4c60-49ed-482b-96b9-6dc53ef0e9e0"
      },
      "source": [
        "#loans\n",
        "import seaborn as sns\n",
        "import matplotlib.pyplot as plt\n",
        "import matplotlib_inline\n",
        "\n",
        "sns.set_style('darkgrid')\n",
        "sns.set_context('talk')\n",
        "plt.figure(figsize=(14,26))\n",
        "df_sorted = data_reduced.groupby('country_name')['loan_amount'].count().sort_values()\n",
        "ax = df_sorted.plot.barh()\n",
        "#ax = df1.groupby('COUNTRY_CODE')['LOAN_AMOUNT'].count().plot.barh()\n",
        "plt.title('LOAN AMOUNT BY COUNTRY OF BORROWERS')\n",
        "plt.xticks(fontsize = 8,rotation=45)\n",
        "for p in ax.patches:\n",
        "    ax.annotate(str(p.get_height()), (p.get_x()-0.1, p.get_height()+30))\n"
      ],
      "execution_count": null,
      "outputs": [
        {
          "output_type": "display_data",
          "data": {
            "image/png": "[encoded data removed]",
            "text/plain": [
              "<Figure size 1008x1872 with 1 Axes>"
            ]
          },
          "metadata": {}
        }
      ]
    },
    {
      "cell_type": "code",
      "metadata": {
        "id": "qUuzNJ2rkCJp"
      },
      "source": [
        "data_num = data_reduced[['funded_amount', 'loan_amount', 'currency_exchange_coverage_rate', 'partner_id', 'lender_term', 'contrib_per_lend', 'repayment_monthly', 'num_journal_entries', 'num_bulk_entries']]\n"
      ],
      "execution_count": null,
      "outputs": []
    },
    {
      "cell_type": "code",
      "metadata": {
        "id": "pz8IJJtD7lO1",
        "colab": {
          "base_uri": "https://localhost:8080/",
          "height": 328
        },
        "outputId": "e1c60d8d-d046-48aa-d10b-3ef49dcba56e"
      },
      "source": [
        "def ames_eda(data_num): \n",
        "    eda_df = {}\n",
        "    eda_df['null_sum'] = data_num.isnull().sum()\n",
        "    eda_df['null_pct'] = data_num.isnull().mean()\n",
        "    eda_df['dtypes'] = data_num.dtypes\n",
        "    eda_df['count'] = data_num.count()\n",
        "    eda_df['mean'] = data_num.mean()\n",
        "    eda_df['median'] = data_num.median()\n",
        "    eda_df['min'] = data_num.min()\n",
        "    eda_df['max'] = data_num.max()\n",
        "    \n",
        "    return pd.DataFrame(eda_df)\n",
        "ames_eda(data_num)"
      ],
      "execution_count": null,
      "outputs": [
        {
          "output_type": "execute_result",
          "data": {
            "text/html": [
              "<div>\n",
              "<style scoped>\n",
              "    .dataframe tbody tr th:only-of-type {\n",
              "        vertical-align: middle;\n",
              "    }\n",
              "\n",
              "    .dataframe tbody tr th {\n",
              "        vertical-align: top;\n",
              "    }\n",
              "\n",
              "    .dataframe thead th {\n",
              "        text-align: right;\n",
              "    }\n",
              "</style>\n",
              "<table border=\"1\" class=\"dataframe\">\n",
              "  <thead>\n",
              "    <tr style=\"text-align: right;\">\n",
              "      <th></th>\n",
              "      <th>null_sum</th>\n",
              "      <th>null_pct</th>\n",
              "      <th>dtypes</th>\n",
              "      <th>count</th>\n",
              "      <th>mean</th>\n",
              "      <th>median</th>\n",
              "      <th>min</th>\n",
              "      <th>max</th>\n",
              "    </tr>\n",
              "  </thead>\n",
              "  <tbody>\n",
              "    <tr>\n",
              "      <th>funded_amount</th>\n",
              "      <td>0</td>\n",
              "      <td>0.000000</td>\n",
              "      <td>float64</td>\n",
              "      <td>1977543</td>\n",
              "      <td>783.710961</td>\n",
              "      <td>500.000000</td>\n",
              "      <td>25.000000</td>\n",
              "      <td>500000.0</td>\n",
              "    </tr>\n",
              "    <tr>\n",
              "      <th>loan_amount</th>\n",
              "      <td>0</td>\n",
              "      <td>0.000000</td>\n",
              "      <td>float64</td>\n",
              "      <td>1977543</td>\n",
              "      <td>783.711100</td>\n",
              "      <td>500.000000</td>\n",
              "      <td>25.000000</td>\n",
              "      <td>500000.0</td>\n",
              "    </tr>\n",
              "    <tr>\n",
              "      <th>currency_exchange_coverage_rate</th>\n",
              "      <td>454641</td>\n",
              "      <td>0.229902</td>\n",
              "      <td>float64</td>\n",
              "      <td>1522902</td>\n",
              "      <td>0.106184</td>\n",
              "      <td>0.100000</td>\n",
              "      <td>0.000000</td>\n",
              "      <td>0.2</td>\n",
              "    </tr>\n",
              "    <tr>\n",
              "      <th>partner_id</th>\n",
              "      <td>17170</td>\n",
              "      <td>0.008682</td>\n",
              "      <td>float64</td>\n",
              "      <td>1960373</td>\n",
              "      <td>168.367960</td>\n",
              "      <td>145.000000</td>\n",
              "      <td>1.000000</td>\n",
              "      <td>619.0</td>\n",
              "    </tr>\n",
              "    <tr>\n",
              "      <th>lender_term</th>\n",
              "      <td>22</td>\n",
              "      <td>0.000011</td>\n",
              "      <td>float64</td>\n",
              "      <td>1977521</td>\n",
              "      <td>12.872059</td>\n",
              "      <td>12.000000</td>\n",
              "      <td>1.000000</td>\n",
              "      <td>156.0</td>\n",
              "    </tr>\n",
              "    <tr>\n",
              "      <th>contrib_per_lend</th>\n",
              "      <td>0</td>\n",
              "      <td>0.000000</td>\n",
              "      <td>float64</td>\n",
              "      <td>1977543</td>\n",
              "      <td>55.503955</td>\n",
              "      <td>30.952381</td>\n",
              "      <td>5.000000</td>\n",
              "      <td>25000.0</td>\n",
              "    </tr>\n",
              "    <tr>\n",
              "      <th>repayment_monthly</th>\n",
              "      <td>22</td>\n",
              "      <td>0.000011</td>\n",
              "      <td>float64</td>\n",
              "      <td>1977521</td>\n",
              "      <td>71.982333</td>\n",
              "      <td>39.285714</td>\n",
              "      <td>0.290698</td>\n",
              "      <td>50000.0</td>\n",
              "    </tr>\n",
              "    <tr>\n",
              "      <th>num_journal_entries</th>\n",
              "      <td>0</td>\n",
              "      <td>0.000000</td>\n",
              "      <td>int64</td>\n",
              "      <td>1977543</td>\n",
              "      <td>1.567482</td>\n",
              "      <td>1.000000</td>\n",
              "      <td>1.000000</td>\n",
              "      <td>126.0</td>\n",
              "    </tr>\n",
              "    <tr>\n",
              "      <th>num_bulk_entries</th>\n",
              "      <td>0</td>\n",
              "      <td>0.000000</td>\n",
              "      <td>int64</td>\n",
              "      <td>1977543</td>\n",
              "      <td>1.155112</td>\n",
              "      <td>1.000000</td>\n",
              "      <td>1.000000</td>\n",
              "      <td>63.0</td>\n",
              "    </tr>\n",
              "  </tbody>\n",
              "</table>\n",
              "</div>"
            ],
            "text/plain": [
              "                                 null_sum  null_pct   dtypes    count  \\\n",
              "funded_amount                           0  0.000000  float64  1977543   \n",
              "loan_amount                             0  0.000000  float64  1977543   \n",
              "currency_exchange_coverage_rate    454641  0.229902  float64  1522902   \n",
              "partner_id                          17170  0.008682  float64  1960373   \n",
              "lender_term                            22  0.000011  float64  1977521   \n",
              "contrib_per_lend                        0  0.000000  float64  1977543   \n",
              "repayment_monthly                      22  0.000011  float64  1977521   \n",
              "num_journal_entries                     0  0.000000    int64  1977543   \n",
              "num_bulk_entries                        0  0.000000    int64  1977543   \n",
              "\n",
              "                                       mean      median        min       max  \n",
              "funded_amount                    783.710961  500.000000  25.000000  500000.0  \n",
              "loan_amount                      783.711100  500.000000  25.000000  500000.0  \n",
              "currency_exchange_coverage_rate    0.106184    0.100000   0.000000       0.2  \n",
              "partner_id                       168.367960  145.000000   1.000000     619.0  \n",
              "lender_term                       12.872059   12.000000   1.000000     156.0  \n",
              "contrib_per_lend                  55.503955   30.952381   5.000000   25000.0  \n",
              "repayment_monthly                 71.982333   39.285714   0.290698   50000.0  \n",
              "num_journal_entries                1.567482    1.000000   1.000000     126.0  \n",
              "num_bulk_entries                   1.155112    1.000000   1.000000      63.0  "
            ]
          },
          "metadata": {},
          "execution_count": 25
        }
      ]
    },
    {
      "cell_type": "code",
      "metadata": {
        "id": "YYgfviny7lT2",
        "colab": {
          "base_uri": "https://localhost:8080/",
          "height": 797
        },
        "outputId": "f82cb6a7-3575-41e1-9786-ed80f913d672"
      },
      "source": [
        "mean_corr = data_num.corr()\n",
        "fig=plt.figure(figsize=(13,11))\n",
        "g1 = sns.heatmap(mean_corr, cmap='coolwarm', vmin=0, vmax=1)\n",
        "g1.set_xticklabels(g1.get_xticklabels(), rotation=70, fontsize=8)\n",
        "g1.set_yticklabels(g1.get_yticklabels(), rotation=15, fontsize=8)\n",
        "plt.title(\"Correlation Plot of Mean Features\")\n",
        "plt.savefig(\"Corr_Mean_Features.png\", dpi=200)\n",
        "plt.show()"
      ],
      "execution_count": null,
      "outputs": [
        {
          "output_type": "display_data",
          "data": {
            "image/png": "[encoded data removed]",
            "text/plain": [
              "<Figure size 936x792 with 2 Axes>"
            ]
          },
          "metadata": {}
        }
      ]
    },
    {
      "cell_type": "code",
      "metadata": {
        "id": "v2kLtrLs7lXr"
      },
      "source": [
        "attributes = ['funded_amount', 'loan_amount', 'currency_exchange_coverage_rate', 'partner_id', 'lender_term',\n",
        "               'num_lenders_total', 'num_journal_entries', 'num_bulk_entries']\n",
        "def histograms_numeric_columns(df1_num, attributes):\n",
        "    '''\n",
        "    Takes df, numerical columns as list\n",
        "    Returns a group of histagrams\n",
        "    '''\n",
        "    f = pd.melt(df1_num, value_vars=attributes) \n",
        "    g = sns.FacetGrid(f, col='variable',  col_wrap=2, sharex=False, sharey=False)\n",
        "    g = g.map(sns.distplot, 'value')\n",
        "    return g"
      ],
      "execution_count": null,
      "outputs": []
    },
    {
      "cell_type": "code",
      "metadata": {
        "id": "Nod4Z1mX2AZT",
        "colab": {
          "base_uri": "https://localhost:8080/",
          "height": 431
        },
        "outputId": "51a0e0df-dd40-446c-83d9-cf5f244058ee"
      },
      "source": [
        "d = data_reduced['loan_name'].value_counts()[0:20]\n",
        "d.plot(kind='bar')"
      ],
      "execution_count": null,
      "outputs": [
        {
          "output_type": "execute_result",
          "data": {
            "text/plain": [
              "<matplotlib.axes._subplots.AxesSubplot at 0x7f89e7527490>"
            ]
          },
          "metadata": {},
          "execution_count": 28
        },
        {
          "output_type": "display_data",
          "data": {
            "image/png": "[encoded data removed]",
            "text/plain": [
              "<Figure size 432x288 with 1 Axes>"
            ]
          },
          "metadata": {}
        }
      ]
    },
    {
      "cell_type": "code",
      "metadata": {
        "id": "tDLxY4HvJpbY"
      },
      "source": [
        "#Create a new column that shows the repayment status( 1 = irregular payment and 0 = payment on time)\n",
        "data_reduced['repayment_status'] = data_reduced.apply(lambda x: 1 if x['repayment_interval'] =='irregular' else 0, axis=1)"
      ],
      "execution_count": null,
      "outputs": []
    },
    {
      "cell_type": "code",
      "metadata": {
        "colab": {
          "base_uri": "https://localhost:8080/",
          "height": 305
        },
        "id": "87cuez48jqQR",
        "outputId": "85a438a8-23b4-4519-d141-f9fff0881cd5"
      },
      "source": [
        "data_reduced['repayment_status'].value_counts().plot(kind='bar')"
      ],
      "execution_count": null,
      "outputs": [
        {
          "output_type": "execute_result",
          "data": {
            "text/plain": [
              "<matplotlib.axes._subplots.AxesSubplot at 0x7f89e2fc0150>"
            ]
          },
          "metadata": {},
          "execution_count": 30
        },
        {
          "output_type": "display_data",
          "data": {
            "image/png": "[encoded data removed]",
            "text/plain": [
              "<Figure size 432x288 with 1 Axes>"
            ]
          },
          "metadata": {}
        }
      ]
    },
    {
      "cell_type": "code",
      "metadata": {
        "colab": {
          "base_uri": "https://localhost:8080/"
        },
        "id": "OOFGJLFYjqXB",
        "outputId": "8b307b20-50e3-4cd5-91b2-bcf8259a6214"
      },
      "source": [
        "data_reduced.info()"
      ],
      "execution_count": null,
      "outputs": [
        {
          "output_type": "stream",
          "name": "stdout",
          "text": [
            "<class 'pandas.core.frame.DataFrame'>\n",
            "Int64Index: 1977543 entries, 0 to 2086698\n",
            "Data columns (total 31 columns):\n",
            " #   Column                           Dtype  \n",
            "---  ------                           -----  \n",
            " 0   loan_name                        object \n",
            " 1   original_language                object \n",
            " 2   description                      object \n",
            " 3   funded_amount                    float64\n",
            " 4   loan_amount                      float64\n",
            " 5   status                           object \n",
            " 6   activity_name                    object \n",
            " 7   sector_name                      object \n",
            " 8   loan_use                         object \n",
            " 9   country_name                     object \n",
            " 10  town_name                        object \n",
            " 11  currency_policy                  object \n",
            " 12  currency_exchange_coverage_rate  float64\n",
            " 13  currency                         object \n",
            " 14  partner_id                       float64\n",
            " 15  posted_time                      object \n",
            " 16  planned_expiration_time          object \n",
            " 17  disburse_time                    object \n",
            " 18  raised_time                      object \n",
            " 19  lender_term                      float64\n",
            " 20  num_journal_entries              int64  \n",
            " 21  num_bulk_entries                 int64  \n",
            " 22  tags                             object \n",
            " 23  borrower_names                   object \n",
            " 24  borrower_genders                 object \n",
            " 25  borrower_pictured                object \n",
            " 26  repayment_interval               object \n",
            " 27  distribution_model               object \n",
            " 28  contrib_per_lend                 float64\n",
            " 29  repayment_monthly                float64\n",
            " 30  repayment_status                 int64  \n",
            "dtypes: float64(7), int64(3), object(21)\n",
            "memory usage: 482.8+ MB\n"
          ]
        }
      ]
    },
    {
      "cell_type": "code",
      "metadata": {
        "id": "8UYn_-7xqpuz"
      },
      "source": [
        "data_clean = data_reduced[['loan_name', 'funded_amount','loan_amount','currency_exchange_coverage_rate', 'partner_id','lender_term', 'num_journal_entries', 'num_bulk_entries', 'contrib_per_lend','repayment_monthly', 'repayment_status']]\n"
      ],
      "execution_count": null,
      "outputs": []
    },
    {
      "cell_type": "code",
      "metadata": {
        "colab": {
          "base_uri": "https://localhost:8080/"
        },
        "id": "3HOhFo00s4wV",
        "outputId": "d76922b6-d7d6-4ede-bcac-2d87d543497a"
      },
      "source": [
        "# check scikit-learn version\n",
        "import sklearn\n",
        "print(sklearn.__version__)"
      ],
      "execution_count": null,
      "outputs": [
        {
          "output_type": "stream",
          "name": "stdout",
          "text": [
            "0.22.2.post1\n"
          ]
        }
      ]
    },
    {
      "cell_type": "code",
      "metadata": {
        "id": "KNvJiULKs410"
      },
      "source": [
        ""
      ],
      "execution_count": null,
      "outputs": []
    },
    {
      "cell_type": "code",
      "metadata": {
        "id": "tn-msHXKs46F"
      },
      "source": [
        ""
      ],
      "execution_count": null,
      "outputs": []
    },
    {
      "cell_type": "code",
      "metadata": {
        "id": "WNEJszhYs4-D"
      },
      "source": [
        ""
      ],
      "execution_count": null,
      "outputs": []
    },
    {
      "cell_type": "code",
      "metadata": {
        "id": "XvuvrojHs5E8"
      },
      "source": [
        ""
      ],
      "execution_count": null,
      "outputs": []
    },
    {
      "cell_type": "code",
      "metadata": {
        "id": "97iWHNio2Adz",
        "colab": {
          "base_uri": "https://localhost:8080/",
          "height": 17
        },
        "outputId": "9ac8b791-ef6b-41b6-a5cb-e75d407194c3"
      },
      "source": [
        "import pandas as pd\n",
        "import numpy as np\n",
        "import chart_studio.plotly as py\n",
        "import cufflinks as cf\n",
        "import seaborn as sns\n",
        "import plotly.express as px\n",
        "%matplotlib inline\n",
        "from plotly.offline import download_plotlyjs, init_notebook_mode, plot, iplot\n",
        "init_notebook_mode(connected=True)\n",
        "cf.go_offline()\n",
        "import plotly.graph_objects as go\n",
        "#df_stocks = px.data.stocks()\n",
        "px.line(data_reduced, x='raised_time', y='loan_amount')"
      ],
      "execution_count": null,
      "outputs": [
        {
          "output_type": "display_data",
          "data": {
            "text/html": [
              "        <script type=\"text/javascript\">\n",
              "        window.PlotlyConfig = {MathJaxConfig: 'local'};\n",
              "        if (window.MathJax) {MathJax.Hub.Config({SVG: {font: \"STIX-Web\"}});}\n",
              "        if (typeof require !== 'undefined') {\n",
              "        require.undef(\"plotly\");\n",
              "        requirejs.config({\n",
              "            paths: {\n",
              "                'plotly': ['https://cdn.plot.ly/plotly-latest.min']\n",
              "            }\n",
              "        });\n",
              "        require(['plotly'], function(Plotly) {\n",
              "            window._Plotly = Plotly;\n",
              "        });\n",
              "        }\n",
              "        </script>\n",
              "        "
            ]
          },
          "metadata": {}
        },
        {
          "output_type": "display_data",
          "data": {
            "text/html": [
              "        <script type=\"text/javascript\">\n",
              "        window.PlotlyConfig = {MathJaxConfig: 'local'};\n",
              "        if (window.MathJax) {MathJax.Hub.Config({SVG: {font: \"STIX-Web\"}});}\n",
              "        if (typeof require !== 'undefined') {\n",
              "        require.undef(\"plotly\");\n",
              "        requirejs.config({\n",
              "            paths: {\n",
              "                'plotly': ['https://cdn.plot.ly/plotly-latest.min']\n",
              "            }\n",
              "        });\n",
              "        require(['plotly'], function(Plotly) {\n",
              "            window._Plotly = Plotly;\n",
              "        });\n",
              "        }\n",
              "        </script>\n",
              "        "
            ]
          },
          "metadata": {}
        }
      ]
    },
    {
      "cell_type": "code",
      "metadata": {
        "id": "luYrE4lp2Ak8"
      },
      "source": [
        ""
      ],
      "execution_count": null,
      "outputs": []
    },
    {
      "cell_type": "code",
      "metadata": {
        "id": "-Xggn-aCr-Bq"
      },
      "source": [
        ""
      ],
      "execution_count": null,
      "outputs": []
    },
    {
      "cell_type": "code",
      "metadata": {
        "colab": {
          "base_uri": "https://localhost:8080/",
          "height": 204
        },
        "id": "DhoG3tT4u9h8",
        "outputId": "220d8393-dac7-43c3-a819-88d4af53259b"
      },
      "source": [
        "df2 = pd.read_csv('/content/drive/MyDrive/New Folder/lenders.csv')\n",
        "df2.head()"
      ],
      "execution_count": null,
      "outputs": [
        {
          "output_type": "execute_result",
          "data": {
            "text/html": [
              "<div>\n",
              "<style scoped>\n",
              "    .dataframe tbody tr th:only-of-type {\n",
              "        vertical-align: middle;\n",
              "    }\n",
              "\n",
              "    .dataframe tbody tr th {\n",
              "        vertical-align: top;\n",
              "    }\n",
              "\n",
              "    .dataframe thead th {\n",
              "        text-align: right;\n",
              "    }\n",
              "</style>\n",
              "<table border=\"1\" class=\"dataframe\">\n",
              "  <thead>\n",
              "    <tr style=\"text-align: right;\">\n",
              "      <th></th>\n",
              "      <th>PERMANENT_NAME</th>\n",
              "      <th>DISPLAY_NAME</th>\n",
              "      <th>MAIN_PIC_ID</th>\n",
              "      <th>CITY</th>\n",
              "      <th>STATE</th>\n",
              "      <th>COUNTRY_CODE</th>\n",
              "      <th>MEMBER_SINCE</th>\n",
              "      <th>PERSONAL_URL</th>\n",
              "      <th>OCCUPATION</th>\n",
              "      <th>LOAN_BECAUSE</th>\n",
              "      <th>OTHER_INFO</th>\n",
              "      <th>LOAN_PURCHASE_NUM</th>\n",
              "      <th>INVITED_BY</th>\n",
              "      <th>NUM_INVITED</th>\n",
              "    </tr>\n",
              "  </thead>\n",
              "  <tbody>\n",
              "    <tr>\n",
              "      <th>0</th>\n",
              "      <td>julie70699492</td>\n",
              "      <td>Julie</td>\n",
              "      <td>NaN</td>\n",
              "      <td>NaN</td>\n",
              "      <td>NaN</td>\n",
              "      <td>NaN</td>\n",
              "      <td>1613601597</td>\n",
              "      <td>NaN</td>\n",
              "      <td>NaN</td>\n",
              "      <td>NaN</td>\n",
              "      <td>NaN</td>\n",
              "      <td>1</td>\n",
              "      <td>NaN</td>\n",
              "      <td>0</td>\n",
              "    </tr>\n",
              "    <tr>\n",
              "      <th>1</th>\n",
              "      <td>milo6882</td>\n",
              "      <td>Milo Re</td>\n",
              "      <td>NaN</td>\n",
              "      <td>NaN</td>\n",
              "      <td>NaN</td>\n",
              "      <td>NaN</td>\n",
              "      <td>1614018683</td>\n",
              "      <td>NaN</td>\n",
              "      <td>NaN</td>\n",
              "      <td>NaN</td>\n",
              "      <td>NaN</td>\n",
              "      <td>1</td>\n",
              "      <td>NaN</td>\n",
              "      <td>0</td>\n",
              "    </tr>\n",
              "    <tr>\n",
              "      <th>2</th>\n",
              "      <td>dionysios2219</td>\n",
              "      <td>dionysios</td>\n",
              "      <td>NaN</td>\n",
              "      <td>NaN</td>\n",
              "      <td>NaN</td>\n",
              "      <td>NaN</td>\n",
              "      <td>1613694450</td>\n",
              "      <td>NaN</td>\n",
              "      <td>NaN</td>\n",
              "      <td>NaN</td>\n",
              "      <td>NaN</td>\n",
              "      <td>1</td>\n",
              "      <td>NaN</td>\n",
              "      <td>0</td>\n",
              "    </tr>\n",
              "    <tr>\n",
              "      <th>3</th>\n",
              "      <td>simon85818350</td>\n",
              "      <td>Simon Re</td>\n",
              "      <td>NaN</td>\n",
              "      <td>NaN</td>\n",
              "      <td>NaN</td>\n",
              "      <td>NaN</td>\n",
              "      <td>1614018664</td>\n",
              "      <td>NaN</td>\n",
              "      <td>NaN</td>\n",
              "      <td>NaN</td>\n",
              "      <td>NaN</td>\n",
              "      <td>1</td>\n",
              "      <td>NaN</td>\n",
              "      <td>0</td>\n",
              "    </tr>\n",
              "    <tr>\n",
              "      <th>4</th>\n",
              "      <td>miky1853</td>\n",
              "      <td>Miky</td>\n",
              "      <td>NaN</td>\n",
              "      <td>NaN</td>\n",
              "      <td>NaN</td>\n",
              "      <td>NaN</td>\n",
              "      <td>1613595408</td>\n",
              "      <td>NaN</td>\n",
              "      <td>NaN</td>\n",
              "      <td>NaN</td>\n",
              "      <td>NaN</td>\n",
              "      <td>1</td>\n",
              "      <td>NaN</td>\n",
              "      <td>0</td>\n",
              "    </tr>\n",
              "  </tbody>\n",
              "</table>\n",
              "</div>"
            ],
            "text/plain": [
              "  PERMANENT_NAME DISPLAY_NAME  ...  INVITED_BY NUM_INVITED\n",
              "0  julie70699492        Julie  ...         NaN           0\n",
              "1       milo6882      Milo Re  ...         NaN           0\n",
              "2  dionysios2219    dionysios  ...         NaN           0\n",
              "3  simon85818350     Simon Re  ...         NaN           0\n",
              "4       miky1853         Miky  ...         NaN           0\n",
              "\n",
              "[5 rows x 14 columns]"
            ]
          },
          "metadata": {},
          "execution_count": 6
        }
      ]
    },
    {
      "cell_type": "code",
      "metadata": {
        "colab": {
          "base_uri": "https://localhost:8080/"
        },
        "id": "N_3i7nOwjWlg",
        "outputId": "3e4c77c8-3bb3-493b-f847-6bc85f12d661"
      },
      "source": [
        "df2.isnull().sum()"
      ],
      "execution_count": null,
      "outputs": [
        {
          "output_type": "execute_result",
          "data": {
            "text/plain": [
              "PERMANENT_NAME             0\n",
              "DISPLAY_NAME            1596\n",
              "MAIN_PIC_ID          1044640\n",
              "CITY                 1016056\n",
              "STATE                1051403\n",
              "COUNTRY_CODE          894070\n",
              "MEMBER_SINCE               0\n",
              "PERSONAL_URL         1512517\n",
              "OCCUPATION           1224118\n",
              "LOAN_BECAUSE         1409167\n",
              "OTHER_INFO           1473473\n",
              "LOAN_PURCHASE_NUM          0\n",
              "INVITED_BY           1145612\n",
              "NUM_INVITED                0\n",
              "dtype: int64"
            ]
          },
          "metadata": {},
          "execution_count": 7
        }
      ]
    },
    {
      "cell_type": "code",
      "metadata": {
        "colab": {
          "base_uri": "https://localhost:8080/"
        },
        "id": "RAk5xaOijr5T",
        "outputId": "945f65c8-b11a-400a-a8d5-ff028bd4eed6"
      },
      "source": [
        "df2.info()"
      ],
      "execution_count": null,
      "outputs": [
        {
          "output_type": "stream",
          "name": "stdout",
          "text": [
            "<class 'pandas.core.frame.DataFrame'>\n",
            "RangeIndex: 1561255 entries, 0 to 1561254\n",
            "Data columns (total 14 columns):\n",
            " #   Column             Non-Null Count    Dtype  \n",
            "---  ------             --------------    -----  \n",
            " 0   PERMANENT_NAME     1561255 non-null  object \n",
            " 1   DISPLAY_NAME       1559659 non-null  object \n",
            " 2   MAIN_PIC_ID        516615 non-null   float64\n",
            " 3   CITY               545199 non-null   object \n",
            " 4   STATE              509852 non-null   object \n",
            " 5   COUNTRY_CODE       667185 non-null   object \n",
            " 6   MEMBER_SINCE       1561255 non-null  int64  \n",
            " 7   PERSONAL_URL       48738 non-null    object \n",
            " 8   OCCUPATION         337137 non-null   object \n",
            " 9   LOAN_BECAUSE       152088 non-null   object \n",
            " 10  OTHER_INFO         87782 non-null    object \n",
            " 11  LOAN_PURCHASE_NUM  1561255 non-null  int64  \n",
            " 12  INVITED_BY         415643 non-null   object \n",
            " 13  NUM_INVITED        1561255 non-null  int64  \n",
            "dtypes: float64(1), int64(3), object(10)\n",
            "memory usage: 166.8+ MB\n"
          ]
        }
      ]
    },
    {
      "cell_type": "code",
      "metadata": {
        "colab": {
          "base_uri": "https://localhost:8080/"
        },
        "id": "vBf68vHhnYsv",
        "outputId": "15b3fa51-e48b-4607-ab51-49d0c1b7f2d3"
      },
      "source": [
        "df1['SECTOR_NAME'].value_counts()"
      ],
      "execution_count": null,
      "outputs": [
        {
          "output_type": "execute_result",
          "data": {
            "text/plain": [
              "Agriculture       541946\n",
              "Food              459380\n",
              "Retail            399877\n",
              "Services          141725\n",
              "Clothing          111880\n",
              "Housing           106823\n",
              "Personal Use       80290\n",
              "Education          73149\n",
              "Transportation     49600\n",
              "Arts               41596\n",
              "Health             29773\n",
              "Construction       24767\n",
              "Manufacturing      20687\n",
              "Entertainment       2625\n",
              "Wholesale           2582\n",
              "Name: SECTOR_NAME, dtype: int64"
            ]
          },
          "metadata": {},
          "execution_count": 8
        }
      ]
    },
    {
      "cell_type": "code",
      "metadata": {
        "id": "T-m61F_NnYwW"
      },
      "source": [
        ""
      ],
      "execution_count": null,
      "outputs": []
    },
    {
      "cell_type": "code",
      "metadata": {
        "id": "YwjggJcMnY6C"
      },
      "source": [
        ""
      ],
      "execution_count": null,
      "outputs": []
    },
    {
      "cell_type": "code",
      "metadata": {
        "id": "BbrTEo79nY9F"
      },
      "source": [
        ""
      ],
      "execution_count": null,
      "outputs": []
    }
  ]
}