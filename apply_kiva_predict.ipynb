{
  "nbformat": 4,
  "nbformat_minor": 0,
  "metadata": {
    "accelerator": "GPU",
    "colab": {
      "name": "Copy of kiva_predict",
      "provenance": [],
      "collapsed_sections": [],
      "machine_shape": "hm",
      "mount_file_id": "1UsWW22qidbBbCqpJlVqbrq1PF2NfbrM6",
      "authorship_tag": "ABX9TyNtIFnqXcBy12zqEwJbBMAs",
      "include_colab_link": true
    },
    "kernelspec": {
      "display_name": "Python 3",
      "name": "python3"
    },
    "language_info": {
      "name": "python"
    }
  },
  "cells": [
    {
      "cell_type": "markdown",
      "metadata": {
        "id": "view-in-github",
        "colab_type": "text"
      },
      "source": [
        "<a href=\"https://colab.research.google.com/github/tantiboro/vaki/blob/main/apply_kiva_predict.ipynb\" target=\"_parent\"><img src=\"https://colab.research.google.com/assets/colab-badge.svg\" alt=\"Open In Colab\"/></a>"
      ]
    },
    {
      "cell_type": "code",
      "metadata": {
        "id": "k62AJ6U7Bp7Q"
      },
      "source": [
        "#import the Dependencies\n",
        "import pandas as pd\n",
        "import numpy as np\n",
        "import seaborn as sns\n",
        "pd.set_option('display.max_rows', 50)\n",
        "pd.set_option('display.max_columns', 50)\n",
        "pd.set_option('display.max_colwidth', None)"
      ],
      "execution_count": 3,
      "outputs": []
    },
    {
      "cell_type": "code",
      "metadata": {
        "colab": {
          "base_uri": "https://localhost:8080/"
        },
        "id": "dsM94H_V1DXO",
        "outputId": "7b5c3395-5088-4411-e5a6-683fed92572f"
      },
      "source": [
        "gpu_info = !nvidia-smi\n",
        "gpu_info = '\\n'.join(gpu_info)\n",
        "if gpu_info.find('failed') >= 0:\n",
        "  print('Not connected to a GPU')\n",
        "else:\n",
        "  print(gpu_info)"
      ],
      "execution_count": 4,
      "outputs": [
        {
          "output_type": "stream",
          "name": "stdout",
          "text": [
            "Tue Nov 23 03:04:11 2021       \n",
            "+-----------------------------------------------------------------------------+\n",
            "| NVIDIA-SMI 495.44       Driver Version: 460.32.03    CUDA Version: 11.2     |\n",
            "|-------------------------------+----------------------+----------------------+\n",
            "| GPU  Name        Persistence-M| Bus-Id        Disp.A | Volatile Uncorr. ECC |\n",
            "| Fan  Temp  Perf  Pwr:Usage/Cap|         Memory-Usage | GPU-Util  Compute M. |\n",
            "|                               |                      |               MIG M. |\n",
            "|===============================+======================+======================|\n",
            "|   0  Tesla P100-PCIE...  Off  | 00000000:00:04.0 Off |                    0 |\n",
            "| N/A   36C    P0    27W / 250W |      0MiB / 16280MiB |      0%      Default |\n",
            "|                               |                      |                  N/A |\n",
            "+-------------------------------+----------------------+----------------------+\n",
            "                                                                               \n",
            "+-----------------------------------------------------------------------------+\n",
            "| Processes:                                                                  |\n",
            "|  GPU   GI   CI        PID   Type   Process name                  GPU Memory |\n",
            "|        ID   ID                                                   Usage      |\n",
            "|=============================================================================|\n",
            "|  No running processes found                                                 |\n",
            "+-----------------------------------------------------------------------------+\n"
          ]
        }
      ]
    },
    {
      "cell_type": "code",
      "metadata": {
        "id": "18yHmCKdu9eV"
      },
      "source": [
        "#loading the dataset\n",
        "df = pd.read_csv('/content/drive/MyDrive/New Folder/loans.csv')"
      ],
      "execution_count": 5,
      "outputs": []
    },
    {
      "cell_type": "code",
      "metadata": {
        "colab": {
          "base_uri": "https://localhost:8080/"
        },
        "id": "ZexAKrYRPOQ-",
        "outputId": "bbf8b5ca-5a9b-4bec-c134-06e558365c11"
      },
      "source": [
        "# How many columns and rows are they in the dataset\n",
        "print(f'The dataset has {df.shape[0]} rows and {df.shape[1]} columns.')"
      ],
      "execution_count": 6,
      "outputs": [
        {
          "output_type": "stream",
          "name": "stdout",
          "text": [
            "The dataset has 2086700 rows and 34 columns.\n"
          ]
        }
      ]
    },
    {
      "cell_type": "code",
      "metadata": {
        "id": "X7Yr6XVT5UU2"
      },
      "source": [
        "df.columns = [i.replace(' ', '_').lower() for i in df.columns]"
      ],
      "execution_count": 7,
      "outputs": []
    },
    {
      "cell_type": "code",
      "metadata": {
        "colab": {
          "base_uri": "https://localhost:8080/"
        },
        "id": "xd9Gt5g7O5td",
        "outputId": "ded4853e-6847-4f8a-a172-53373686f2a3"
      },
      "source": [
        "print(f'The columns of the dataset are: {df.columns.to_list()}')"
      ],
      "execution_count": 8,
      "outputs": [
        {
          "output_type": "stream",
          "name": "stdout",
          "text": [
            "The columns of the dataset are: ['loan_id', 'loan_name', 'original_language', 'description', 'description_translated', 'funded_amount', 'loan_amount', 'status', 'image_id', 'video_id', 'activity_name', 'sector_name', 'loan_use', 'country_code', 'country_name', 'town_name', 'currency_policy', 'currency_exchange_coverage_rate', 'currency', 'partner_id', 'posted_time', 'planned_expiration_time', 'disburse_time', 'raised_time', 'lender_term', 'num_lenders_total', 'num_journal_entries', 'num_bulk_entries', 'tags', 'borrower_names', 'borrower_genders', 'borrower_pictured', 'repayment_interval', 'distribution_model']\n"
          ]
        }
      ]
    },
    {
      "cell_type": "code",
      "metadata": {
        "colab": {
          "base_uri": "https://localhost:8080/",
          "height": 570
        },
        "id": "uIkLez2j6AVx",
        "outputId": "b4c901be-1996-4962-9a5c-a2608507f3fa"
      },
      "source": [
        "df_truncated = df[['description_translated', 'loan_amount','sector_name', 'loan_use','status']]\n",
        "df_truncated.head()"
      ],
      "execution_count": 9,
      "outputs": [
        {
          "output_type": "execute_result",
          "data": {
            "text/html": [
              "<div>\n",
              "<style scoped>\n",
              "    .dataframe tbody tr th:only-of-type {\n",
              "        vertical-align: middle;\n",
              "    }\n",
              "\n",
              "    .dataframe tbody tr th {\n",
              "        vertical-align: top;\n",
              "    }\n",
              "\n",
              "    .dataframe thead th {\n",
              "        text-align: right;\n",
              "    }\n",
              "</style>\n",
              "<table border=\"1\" class=\"dataframe\">\n",
              "  <thead>\n",
              "    <tr style=\"text-align: right;\">\n",
              "      <th></th>\n",
              "      <th>description_translated</th>\n",
              "      <th>loan_amount</th>\n",
              "      <th>sector_name</th>\n",
              "      <th>loan_use</th>\n",
              "      <th>status</th>\n",
              "    </tr>\n",
              "  </thead>\n",
              "  <tbody>\n",
              "    <tr>\n",
              "      <th>0</th>\n",
              "      <td>NaN</td>\n",
              "      <td>1100.0</td>\n",
              "      <td>Retail</td>\n",
              "      <td>to purchase additional inventory and working capital</td>\n",
              "      <td>funded</td>\n",
              "    </tr>\n",
              "    <tr>\n",
              "      <th>1</th>\n",
              "      <td>Rosa works hard to support her family. Rosa is married and has a general store business in the Philippines.&lt;br /&gt;&lt;br /&gt;Rosa requested a PHP 5,000 loan through NWTF to buy more groceries to sell in her general store.&lt;br /&gt;&lt;br /&gt;Rosa has been in this business for 10 years now.&lt;br /&gt;&lt;br /&gt;Rosa would like to save enough to provide a secure future for her family.</td>\n",
              "      <td>125.0</td>\n",
              "      <td>Retail</td>\n",
              "      <td>to buy more groceries to sell in her general store</td>\n",
              "      <td>funded</td>\n",
              "    </tr>\n",
              "    <tr>\n",
              "      <th>2</th>\n",
              "      <td>Warlita is a widowed woman with two children. She is a very hardworking entrepreneur. She is 54 years old and has one child currently in school.&lt;br /&gt;&lt;br /&gt;Warlita has a buy-and-sell banana business in the Philippines. She has requested a PHP 8,000 loan amount through NWTF to buy more bananas to sell and other supplies needed in her business. She has been in this business for three years. In the future, Warlita would like to save enough to provide a secure future for her family.</td>\n",
              "      <td>175.0</td>\n",
              "      <td>Food</td>\n",
              "      <td>to buy more bananas to sell and other supplies needed in her business.</td>\n",
              "      <td>funded</td>\n",
              "    </tr>\n",
              "    <tr>\n",
              "      <th>3</th>\n",
              "      <td>Faafofola is a 40-year-old married woman with three children. She runs a small business of planting taro and banana and sell them in her community to earn a living. She has four years of experience with this business. &lt;br /&gt;&lt;br /&gt;Faafofola works very hard to please her customers, and she is also well known in her community because of her good products. Faafofola needs a loan to buy more taro roots (seedlings), more banana tubers (seedlings), chemicals, a backpack sprayer, a wheelbarrow, a chainsaw, and a rake to help take her business to the next level. &lt;br /&gt;&lt;br /&gt;Her dream is that one day she will earn more profit to buy a vehicle to deliver her products to the market. She became a member of SPBD in 2013.</td>\n",
              "      <td>1400.0</td>\n",
              "      <td>Agriculture</td>\n",
              "      <td>to buy more taro roots (seedlings), more banana tubers (seedlings), chemicals, a backpack sprayer, a wheelbarrow, a chainsaw, and a rake.</td>\n",
              "      <td>funded</td>\n",
              "    </tr>\n",
              "    <tr>\n",
              "      <th>4</th>\n",
              "      <td>Veronique is a widow, …[text missing] years old, with seven children in her care. In order to provide for herself and her children, she has started a business selling alcoholic beverages, such as various brands of beer: 33 Export, Mutzig, Amstel, Castel, Guinness, etc. She also sells food.  She is seeking a loan that will allow her to keep a steady stock, avoid depleting her stock, and, if possible, take advantage of some discounts from the breweries. She plans to use her earnings to strengthen her business further and increase her sales level. \\r\\n</td>\n",
              "      <td>425.0</td>\n",
              "      <td>Food</td>\n",
              "      <td>to increase her stock of  various brands of beer: 33 Export, Mutzig, Amstel,   etc</td>\n",
              "      <td>funded</td>\n",
              "    </tr>\n",
              "  </tbody>\n",
              "</table>\n",
              "</div>"
            ],
            "text/plain": [
              "                                                                                                                                                                                                                                                                                                                                                                                                                                                                                                                                                                                                                                                                                                                         description_translated  \\\n",
              "0                                                                                                                                                                                                                                                                                                                                                                                                                                                                                                                                                                                                                                                                                                                                           NaN   \n",
              "1                                                                                                                                                                                                                                                                                                                                                                      Rosa works hard to support her family. Rosa is married and has a general store business in the Philippines.<br /><br />Rosa requested a PHP 5,000 loan through NWTF to buy more groceries to sell in her general store.<br /><br />Rosa has been in this business for 10 years now.<br /><br />Rosa would like to save enough to provide a secure future for her family.   \n",
              "2                                                                                                                                                                                                                                           Warlita is a widowed woman with two children. She is a very hardworking entrepreneur. She is 54 years old and has one child currently in school.<br /><br />Warlita has a buy-and-sell banana business in the Philippines. She has requested a PHP 8,000 loan amount through NWTF to buy more bananas to sell and other supplies needed in her business. She has been in this business for three years. In the future, Warlita would like to save enough to provide a secure future for her family.   \n",
              "3  Faafofola is a 40-year-old married woman with three children. She runs a small business of planting taro and banana and sell them in her community to earn a living. She has four years of experience with this business. <br /><br />Faafofola works very hard to please her customers, and she is also well known in her community because of her good products. Faafofola needs a loan to buy more taro roots (seedlings), more banana tubers (seedlings), chemicals, a backpack sprayer, a wheelbarrow, a chainsaw, and a rake to help take her business to the next level. <br /><br />Her dream is that one day she will earn more profit to buy a vehicle to deliver her products to the market. She became a member of SPBD in 2013.   \n",
              "4                                                                                                                                                                   Veronique is a widow, …[text missing] years old, with seven children in her care. In order to provide for herself and her children, she has started a business selling alcoholic beverages, such as various brands of beer: 33 Export, Mutzig, Amstel, Castel, Guinness, etc. She also sells food.  She is seeking a loan that will allow her to keep a steady stock, avoid depleting her stock, and, if possible, take advantage of some discounts from the breweries. She plans to use her earnings to strengthen her business further and increase her sales level. \\r\\n   \n",
              "\n",
              "   loan_amount  sector_name  \\\n",
              "0       1100.0       Retail   \n",
              "1        125.0       Retail   \n",
              "2        175.0         Food   \n",
              "3       1400.0  Agriculture   \n",
              "4        425.0         Food   \n",
              "\n",
              "                                                                                                                                    loan_use  \\\n",
              "0                                                                                       to purchase additional inventory and working capital   \n",
              "1                                                                                         to buy more groceries to sell in her general store   \n",
              "2                                                                     to buy more bananas to sell and other supplies needed in her business.   \n",
              "3  to buy more taro roots (seedlings), more banana tubers (seedlings), chemicals, a backpack sprayer, a wheelbarrow, a chainsaw, and a rake.   \n",
              "4                                                         to increase her stock of  various brands of beer: 33 Export, Mutzig, Amstel,   etc   \n",
              "\n",
              "   status  \n",
              "0  funded  \n",
              "1  funded  \n",
              "2  funded  \n",
              "3  funded  \n",
              "4  funded  "
            ]
          },
          "metadata": {},
          "execution_count": 9
        }
      ]
    },
    {
      "cell_type": "code",
      "metadata": {
        "id": "_FdXjg6Cp6tl"
      },
      "source": [
        "df_reduced = df_truncated.dropna()"
      ],
      "execution_count": 10,
      "outputs": []
    },
    {
      "cell_type": "code",
      "metadata": {
        "colab": {
          "base_uri": "https://localhost:8080/"
        },
        "id": "sBF5KLpY49RY",
        "outputId": "14b46c52-ba64-466f-8100-b951c630e074"
      },
      "source": [
        "df_reduced['status'].value_counts()"
      ],
      "execution_count": 11,
      "outputs": [
        {
          "output_type": "execute_result",
          "data": {
            "text/plain": [
              "funded         1537208\n",
              "expired          86607\n",
              "fundRaising       7564\n",
              "Name: status, dtype: int64"
            ]
          },
          "metadata": {},
          "execution_count": 11
        }
      ]
    },
    {
      "cell_type": "code",
      "metadata": {
        "colab": {
          "base_uri": "https://localhost:8080/"
        },
        "id": "xYnG0uJ4dZu0",
        "outputId": "d4eee876-7ccf-4191-d2de-8df41e01eb45"
      },
      "source": [
        "print(f'The dataset has {df_reduced.shape[0]} rows and {df_reduced.shape[1]} columns.')"
      ],
      "execution_count": 12,
      "outputs": [
        {
          "output_type": "stream",
          "name": "stdout",
          "text": [
            "The dataset has 1631379 rows and 5 columns.\n"
          ]
        }
      ]
    },
    {
      "cell_type": "code",
      "metadata": {
        "id": "41X21YtPuKBZ"
      },
      "source": [
        "df_red = df_reduced[df_reduced.status != 'fundRaising']"
      ],
      "execution_count": 13,
      "outputs": []
    },
    {
      "cell_type": "code",
      "metadata": {
        "colab": {
          "base_uri": "https://localhost:8080/"
        },
        "id": "hh5VKBqAjbRL",
        "outputId": "8ac47099-f340-41af-9b21-ab6fe488e218"
      },
      "source": [
        "#Check the status of all the loans\n",
        "df_red['status'].value_counts()"
      ],
      "execution_count": 14,
      "outputs": [
        {
          "output_type": "execute_result",
          "data": {
            "text/plain": [
              "funded     1537208\n",
              "expired      86607\n",
              "Name: status, dtype: int64"
            ]
          },
          "metadata": {},
          "execution_count": 14
        }
      ]
    },
    {
      "cell_type": "code",
      "metadata": {
        "id": "kawqz5k_jbeL"
      },
      "source": [
        ""
      ],
      "execution_count": null,
      "outputs": []
    },
    {
      "cell_type": "code",
      "metadata": {
        "colab": {
          "base_uri": "https://localhost:8080/",
          "height": 658
        },
        "id": "blJEjy1tDWY6",
        "outputId": "63c76157-aa46-4be9-9aff-e097aa9d7313"
      },
      "source": [
        "df_red.head()"
      ],
      "execution_count": 15,
      "outputs": [
        {
          "output_type": "execute_result",
          "data": {
            "text/html": [
              "<div>\n",
              "<style scoped>\n",
              "    .dataframe tbody tr th:only-of-type {\n",
              "        vertical-align: middle;\n",
              "    }\n",
              "\n",
              "    .dataframe tbody tr th {\n",
              "        vertical-align: top;\n",
              "    }\n",
              "\n",
              "    .dataframe thead th {\n",
              "        text-align: right;\n",
              "    }\n",
              "</style>\n",
              "<table border=\"1\" class=\"dataframe\">\n",
              "  <thead>\n",
              "    <tr style=\"text-align: right;\">\n",
              "      <th></th>\n",
              "      <th>description_translated</th>\n",
              "      <th>loan_amount</th>\n",
              "      <th>sector_name</th>\n",
              "      <th>loan_use</th>\n",
              "      <th>status</th>\n",
              "    </tr>\n",
              "  </thead>\n",
              "  <tbody>\n",
              "    <tr>\n",
              "      <th>1</th>\n",
              "      <td>Rosa works hard to support her family. Rosa is married and has a general store business in the Philippines.&lt;br /&gt;&lt;br /&gt;Rosa requested a PHP 5,000 loan through NWTF to buy more groceries to sell in her general store.&lt;br /&gt;&lt;br /&gt;Rosa has been in this business for 10 years now.&lt;br /&gt;&lt;br /&gt;Rosa would like to save enough to provide a secure future for her family.</td>\n",
              "      <td>125.0</td>\n",
              "      <td>Retail</td>\n",
              "      <td>to buy more groceries to sell in her general store</td>\n",
              "      <td>funded</td>\n",
              "    </tr>\n",
              "    <tr>\n",
              "      <th>2</th>\n",
              "      <td>Warlita is a widowed woman with two children. She is a very hardworking entrepreneur. She is 54 years old and has one child currently in school.&lt;br /&gt;&lt;br /&gt;Warlita has a buy-and-sell banana business in the Philippines. She has requested a PHP 8,000 loan amount through NWTF to buy more bananas to sell and other supplies needed in her business. She has been in this business for three years. In the future, Warlita would like to save enough to provide a secure future for her family.</td>\n",
              "      <td>175.0</td>\n",
              "      <td>Food</td>\n",
              "      <td>to buy more bananas to sell and other supplies needed in her business.</td>\n",
              "      <td>funded</td>\n",
              "    </tr>\n",
              "    <tr>\n",
              "      <th>3</th>\n",
              "      <td>Faafofola is a 40-year-old married woman with three children. She runs a small business of planting taro and banana and sell them in her community to earn a living. She has four years of experience with this business. &lt;br /&gt;&lt;br /&gt;Faafofola works very hard to please her customers, and she is also well known in her community because of her good products. Faafofola needs a loan to buy more taro roots (seedlings), more banana tubers (seedlings), chemicals, a backpack sprayer, a wheelbarrow, a chainsaw, and a rake to help take her business to the next level. &lt;br /&gt;&lt;br /&gt;Her dream is that one day she will earn more profit to buy a vehicle to deliver her products to the market. She became a member of SPBD in 2013.</td>\n",
              "      <td>1400.0</td>\n",
              "      <td>Agriculture</td>\n",
              "      <td>to buy more taro roots (seedlings), more banana tubers (seedlings), chemicals, a backpack sprayer, a wheelbarrow, a chainsaw, and a rake.</td>\n",
              "      <td>funded</td>\n",
              "    </tr>\n",
              "    <tr>\n",
              "      <th>4</th>\n",
              "      <td>Veronique is a widow, …[text missing] years old, with seven children in her care. In order to provide for herself and her children, she has started a business selling alcoholic beverages, such as various brands of beer: 33 Export, Mutzig, Amstel, Castel, Guinness, etc. She also sells food.  She is seeking a loan that will allow her to keep a steady stock, avoid depleting her stock, and, if possible, take advantage of some discounts from the breweries. She plans to use her earnings to strengthen her business further and increase her sales level. \\r\\n</td>\n",
              "      <td>425.0</td>\n",
              "      <td>Food</td>\n",
              "      <td>to increase her stock of  various brands of beer: 33 Export, Mutzig, Amstel,   etc</td>\n",
              "      <td>funded</td>\n",
              "    </tr>\n",
              "    <tr>\n",
              "      <th>5</th>\n",
              "      <td>Sabitu is married and lives with his family in an ordinary mud house in a small village in Kaduna state. In his community, farming is the primary occupation and, like many diligent smallholders, he dreams of scaling up his farm business.&lt;br /&gt;&lt;br /&gt;Sabitu is returning to work with Babban Gona this season, as he will get access to better-yielding seeds, fertilizers, and other essential farm inputs that will boost his yield. Apart from increasing Sabitu’s yield to ensure that his family never goes hungry, this loan will also help him earn up to three times in net income from selling his maize. Since he first joined Babban Gona in 2015, his happiest memory was buying a car.&lt;br /&gt;&lt;br /&gt;With lenders’ support to grow his farming business, Sabitu is looking forward to a bountiful harvest. Sabitu plans to use the profits from this season’s harvest to pay his children's school fees.</td>\n",
              "      <td>325.0</td>\n",
              "      <td>Agriculture</td>\n",
              "      <td>to buy fertilizers and seeds to get a good yield and grow his farming business.</td>\n",
              "      <td>funded</td>\n",
              "    </tr>\n",
              "  </tbody>\n",
              "</table>\n",
              "</div>"
            ],
            "text/plain": [
              "                                                                                                                                                                                                                                                                                                                                                                                                                                                                                                                                                                                                                                                                                                                                                                                                                                                                                                   description_translated  \\\n",
              "1                                                                                                                                                                                                                                                                                                                                                                                                                                                                                                                                                Rosa works hard to support her family. Rosa is married and has a general store business in the Philippines.<br /><br />Rosa requested a PHP 5,000 loan through NWTF to buy more groceries to sell in her general store.<br /><br />Rosa has been in this business for 10 years now.<br /><br />Rosa would like to save enough to provide a secure future for her family.   \n",
              "2                                                                                                                                                                                                                                                                                                                                                                                                                     Warlita is a widowed woman with two children. She is a very hardworking entrepreneur. She is 54 years old and has one child currently in school.<br /><br />Warlita has a buy-and-sell banana business in the Philippines. She has requested a PHP 8,000 loan amount through NWTF to buy more bananas to sell and other supplies needed in her business. She has been in this business for three years. In the future, Warlita would like to save enough to provide a secure future for her family.   \n",
              "3                                                                                                                                                                            Faafofola is a 40-year-old married woman with three children. She runs a small business of planting taro and banana and sell them in her community to earn a living. She has four years of experience with this business. <br /><br />Faafofola works very hard to please her customers, and she is also well known in her community because of her good products. Faafofola needs a loan to buy more taro roots (seedlings), more banana tubers (seedlings), chemicals, a backpack sprayer, a wheelbarrow, a chainsaw, and a rake to help take her business to the next level. <br /><br />Her dream is that one day she will earn more profit to buy a vehicle to deliver her products to the market. She became a member of SPBD in 2013.   \n",
              "4                                                                                                                                                                                                                                                                                                                                             Veronique is a widow, …[text missing] years old, with seven children in her care. In order to provide for herself and her children, she has started a business selling alcoholic beverages, such as various brands of beer: 33 Export, Mutzig, Amstel, Castel, Guinness, etc. She also sells food.  She is seeking a loan that will allow her to keep a steady stock, avoid depleting her stock, and, if possible, take advantage of some discounts from the breweries. She plans to use her earnings to strengthen her business further and increase her sales level. \\r\\n   \n",
              "5  Sabitu is married and lives with his family in an ordinary mud house in a small village in Kaduna state. In his community, farming is the primary occupation and, like many diligent smallholders, he dreams of scaling up his farm business.<br /><br />Sabitu is returning to work with Babban Gona this season, as he will get access to better-yielding seeds, fertilizers, and other essential farm inputs that will boost his yield. Apart from increasing Sabitu’s yield to ensure that his family never goes hungry, this loan will also help him earn up to three times in net income from selling his maize. Since he first joined Babban Gona in 2015, his happiest memory was buying a car.<br /><br />With lenders’ support to grow his farming business, Sabitu is looking forward to a bountiful harvest. Sabitu plans to use the profits from this season’s harvest to pay his children's school fees.   \n",
              "\n",
              "   loan_amount  sector_name  \\\n",
              "1        125.0       Retail   \n",
              "2        175.0         Food   \n",
              "3       1400.0  Agriculture   \n",
              "4        425.0         Food   \n",
              "5        325.0  Agriculture   \n",
              "\n",
              "                                                                                                                                    loan_use  \\\n",
              "1                                                                                         to buy more groceries to sell in her general store   \n",
              "2                                                                     to buy more bananas to sell and other supplies needed in her business.   \n",
              "3  to buy more taro roots (seedlings), more banana tubers (seedlings), chemicals, a backpack sprayer, a wheelbarrow, a chainsaw, and a rake.   \n",
              "4                                                         to increase her stock of  various brands of beer: 33 Export, Mutzig, Amstel,   etc   \n",
              "5                                                            to buy fertilizers and seeds to get a good yield and grow his farming business.   \n",
              "\n",
              "   status  \n",
              "1  funded  \n",
              "2  funded  \n",
              "3  funded  \n",
              "4  funded  \n",
              "5  funded  "
            ]
          },
          "metadata": {},
          "execution_count": 15
        }
      ]
    },
    {
      "cell_type": "code",
      "metadata": {
        "id": "6J5nhHe1YjQP"
      },
      "source": [
        "#print(data.dtypes)"
      ],
      "execution_count": null,
      "outputs": []
    },
    {
      "cell_type": "code",
      "metadata": {
        "colab": {
          "base_uri": "https://localhost:8080/"
        },
        "id": "HOz7uUT5IxQu",
        "outputId": "55f72d39-6fdb-4d05-9ed3-132385ec6e14"
      },
      "source": [
        "print(f'The dataset has the following colums: {df_red.columns.to_list()}.')"
      ],
      "execution_count": 16,
      "outputs": [
        {
          "output_type": "stream",
          "name": "stdout",
          "text": [
            "The dataset has the following colums: ['description_translated', 'loan_amount', 'sector_name', 'loan_use', 'status'].\n"
          ]
        }
      ]
    },
    {
      "cell_type": "code",
      "metadata": {
        "colab": {
          "base_uri": "https://localhost:8080/"
        },
        "id": "zdOmIsi2aGps",
        "outputId": "4d391917-b226-4bd5-897e-1d26598a1281"
      },
      "source": [
        "df_ = df_red.copy()\n",
        "df_['status'].value_counts()"
      ],
      "execution_count": 17,
      "outputs": [
        {
          "output_type": "execute_result",
          "data": {
            "text/plain": [
              "funded     1537208\n",
              "expired      86607\n",
              "Name: status, dtype: int64"
            ]
          },
          "metadata": {},
          "execution_count": 17
        }
      ]
    },
    {
      "cell_type": "code",
      "metadata": {
        "colab": {
          "base_uri": "https://localhost:8080/",
          "height": 658
        },
        "id": "tR4KFRQOJbFG",
        "outputId": "39fd3bce-31b1-423c-dce1-3c987af9db7b"
      },
      "source": [
        "df_.head()"
      ],
      "execution_count": 18,
      "outputs": [
        {
          "output_type": "execute_result",
          "data": {
            "text/html": [
              "<div>\n",
              "<style scoped>\n",
              "    .dataframe tbody tr th:only-of-type {\n",
              "        vertical-align: middle;\n",
              "    }\n",
              "\n",
              "    .dataframe tbody tr th {\n",
              "        vertical-align: top;\n",
              "    }\n",
              "\n",
              "    .dataframe thead th {\n",
              "        text-align: right;\n",
              "    }\n",
              "</style>\n",
              "<table border=\"1\" class=\"dataframe\">\n",
              "  <thead>\n",
              "    <tr style=\"text-align: right;\">\n",
              "      <th></th>\n",
              "      <th>description_translated</th>\n",
              "      <th>loan_amount</th>\n",
              "      <th>sector_name</th>\n",
              "      <th>loan_use</th>\n",
              "      <th>status</th>\n",
              "    </tr>\n",
              "  </thead>\n",
              "  <tbody>\n",
              "    <tr>\n",
              "      <th>1</th>\n",
              "      <td>Rosa works hard to support her family. Rosa is married and has a general store business in the Philippines.&lt;br /&gt;&lt;br /&gt;Rosa requested a PHP 5,000 loan through NWTF to buy more groceries to sell in her general store.&lt;br /&gt;&lt;br /&gt;Rosa has been in this business for 10 years now.&lt;br /&gt;&lt;br /&gt;Rosa would like to save enough to provide a secure future for her family.</td>\n",
              "      <td>125.0</td>\n",
              "      <td>Retail</td>\n",
              "      <td>to buy more groceries to sell in her general store</td>\n",
              "      <td>funded</td>\n",
              "    </tr>\n",
              "    <tr>\n",
              "      <th>2</th>\n",
              "      <td>Warlita is a widowed woman with two children. She is a very hardworking entrepreneur. She is 54 years old and has one child currently in school.&lt;br /&gt;&lt;br /&gt;Warlita has a buy-and-sell banana business in the Philippines. She has requested a PHP 8,000 loan amount through NWTF to buy more bananas to sell and other supplies needed in her business. She has been in this business for three years. In the future, Warlita would like to save enough to provide a secure future for her family.</td>\n",
              "      <td>175.0</td>\n",
              "      <td>Food</td>\n",
              "      <td>to buy more bananas to sell and other supplies needed in her business.</td>\n",
              "      <td>funded</td>\n",
              "    </tr>\n",
              "    <tr>\n",
              "      <th>3</th>\n",
              "      <td>Faafofola is a 40-year-old married woman with three children. She runs a small business of planting taro and banana and sell them in her community to earn a living. She has four years of experience with this business. &lt;br /&gt;&lt;br /&gt;Faafofola works very hard to please her customers, and she is also well known in her community because of her good products. Faafofola needs a loan to buy more taro roots (seedlings), more banana tubers (seedlings), chemicals, a backpack sprayer, a wheelbarrow, a chainsaw, and a rake to help take her business to the next level. &lt;br /&gt;&lt;br /&gt;Her dream is that one day she will earn more profit to buy a vehicle to deliver her products to the market. She became a member of SPBD in 2013.</td>\n",
              "      <td>1400.0</td>\n",
              "      <td>Agriculture</td>\n",
              "      <td>to buy more taro roots (seedlings), more banana tubers (seedlings), chemicals, a backpack sprayer, a wheelbarrow, a chainsaw, and a rake.</td>\n",
              "      <td>funded</td>\n",
              "    </tr>\n",
              "    <tr>\n",
              "      <th>4</th>\n",
              "      <td>Veronique is a widow, …[text missing] years old, with seven children in her care. In order to provide for herself and her children, she has started a business selling alcoholic beverages, such as various brands of beer: 33 Export, Mutzig, Amstel, Castel, Guinness, etc. She also sells food.  She is seeking a loan that will allow her to keep a steady stock, avoid depleting her stock, and, if possible, take advantage of some discounts from the breweries. She plans to use her earnings to strengthen her business further and increase her sales level. \\r\\n</td>\n",
              "      <td>425.0</td>\n",
              "      <td>Food</td>\n",
              "      <td>to increase her stock of  various brands of beer: 33 Export, Mutzig, Amstel,   etc</td>\n",
              "      <td>funded</td>\n",
              "    </tr>\n",
              "    <tr>\n",
              "      <th>5</th>\n",
              "      <td>Sabitu is married and lives with his family in an ordinary mud house in a small village in Kaduna state. In his community, farming is the primary occupation and, like many diligent smallholders, he dreams of scaling up his farm business.&lt;br /&gt;&lt;br /&gt;Sabitu is returning to work with Babban Gona this season, as he will get access to better-yielding seeds, fertilizers, and other essential farm inputs that will boost his yield. Apart from increasing Sabitu’s yield to ensure that his family never goes hungry, this loan will also help him earn up to three times in net income from selling his maize. Since he first joined Babban Gona in 2015, his happiest memory was buying a car.&lt;br /&gt;&lt;br /&gt;With lenders’ support to grow his farming business, Sabitu is looking forward to a bountiful harvest. Sabitu plans to use the profits from this season’s harvest to pay his children's school fees.</td>\n",
              "      <td>325.0</td>\n",
              "      <td>Agriculture</td>\n",
              "      <td>to buy fertilizers and seeds to get a good yield and grow his farming business.</td>\n",
              "      <td>funded</td>\n",
              "    </tr>\n",
              "  </tbody>\n",
              "</table>\n",
              "</div>"
            ],
            "text/plain": [
              "                                                                                                                                                                                                                                                                                                                                                                                                                                                                                                                                                                                                                                                                                                                                                                                                                                                                                                   description_translated  \\\n",
              "1                                                                                                                                                                                                                                                                                                                                                                                                                                                                                                                                                Rosa works hard to support her family. Rosa is married and has a general store business in the Philippines.<br /><br />Rosa requested a PHP 5,000 loan through NWTF to buy more groceries to sell in her general store.<br /><br />Rosa has been in this business for 10 years now.<br /><br />Rosa would like to save enough to provide a secure future for her family.   \n",
              "2                                                                                                                                                                                                                                                                                                                                                                                                                     Warlita is a widowed woman with two children. She is a very hardworking entrepreneur. She is 54 years old and has one child currently in school.<br /><br />Warlita has a buy-and-sell banana business in the Philippines. She has requested a PHP 8,000 loan amount through NWTF to buy more bananas to sell and other supplies needed in her business. She has been in this business for three years. In the future, Warlita would like to save enough to provide a secure future for her family.   \n",
              "3                                                                                                                                                                            Faafofola is a 40-year-old married woman with three children. She runs a small business of planting taro and banana and sell them in her community to earn a living. She has four years of experience with this business. <br /><br />Faafofola works very hard to please her customers, and she is also well known in her community because of her good products. Faafofola needs a loan to buy more taro roots (seedlings), more banana tubers (seedlings), chemicals, a backpack sprayer, a wheelbarrow, a chainsaw, and a rake to help take her business to the next level. <br /><br />Her dream is that one day she will earn more profit to buy a vehicle to deliver her products to the market. She became a member of SPBD in 2013.   \n",
              "4                                                                                                                                                                                                                                                                                                                                             Veronique is a widow, …[text missing] years old, with seven children in her care. In order to provide for herself and her children, she has started a business selling alcoholic beverages, such as various brands of beer: 33 Export, Mutzig, Amstel, Castel, Guinness, etc. She also sells food.  She is seeking a loan that will allow her to keep a steady stock, avoid depleting her stock, and, if possible, take advantage of some discounts from the breweries. She plans to use her earnings to strengthen her business further and increase her sales level. \\r\\n   \n",
              "5  Sabitu is married and lives with his family in an ordinary mud house in a small village in Kaduna state. In his community, farming is the primary occupation and, like many diligent smallholders, he dreams of scaling up his farm business.<br /><br />Sabitu is returning to work with Babban Gona this season, as he will get access to better-yielding seeds, fertilizers, and other essential farm inputs that will boost his yield. Apart from increasing Sabitu’s yield to ensure that his family never goes hungry, this loan will also help him earn up to three times in net income from selling his maize. Since he first joined Babban Gona in 2015, his happiest memory was buying a car.<br /><br />With lenders’ support to grow his farming business, Sabitu is looking forward to a bountiful harvest. Sabitu plans to use the profits from this season’s harvest to pay his children's school fees.   \n",
              "\n",
              "   loan_amount  sector_name  \\\n",
              "1        125.0       Retail   \n",
              "2        175.0         Food   \n",
              "3       1400.0  Agriculture   \n",
              "4        425.0         Food   \n",
              "5        325.0  Agriculture   \n",
              "\n",
              "                                                                                                                                    loan_use  \\\n",
              "1                                                                                         to buy more groceries to sell in her general store   \n",
              "2                                                                     to buy more bananas to sell and other supplies needed in her business.   \n",
              "3  to buy more taro roots (seedlings), more banana tubers (seedlings), chemicals, a backpack sprayer, a wheelbarrow, a chainsaw, and a rake.   \n",
              "4                                                         to increase her stock of  various brands of beer: 33 Export, Mutzig, Amstel,   etc   \n",
              "5                                                            to buy fertilizers and seeds to get a good yield and grow his farming business.   \n",
              "\n",
              "   status  \n",
              "1  funded  \n",
              "2  funded  \n",
              "3  funded  \n",
              "4  funded  \n",
              "5  funded  "
            ]
          },
          "metadata": {},
          "execution_count": 18
        }
      ]
    },
    {
      "cell_type": "code",
      "metadata": {
        "colab": {
          "base_uri": "https://localhost:8080/",
          "height": 295
        },
        "id": "apO5GZQbY00A",
        "outputId": "258870eb-629e-42c2-9287-727af50dcc22"
      },
      "source": [
        "df_['status'].value_counts().plot(kind='barh')"
      ],
      "execution_count": 19,
      "outputs": [
        {
          "output_type": "execute_result",
          "data": {
            "text/plain": [
              "<matplotlib.axes._subplots.AxesSubplot at 0x7f64a4beee90>"
            ]
          },
          "metadata": {},
          "execution_count": 19
        },
        {
          "output_type": "display_data",
          "data": {
            "image/png": "[encoded data removed]",
            "text/plain": [
              "<Figure size 432x288 with 1 Axes>"
            ]
          },
          "metadata": {
            "needs_background": "light"
          }
        }
      ]
    },
    {
      "cell_type": "code",
      "metadata": {
        "colab": {
          "base_uri": "https://localhost:8080/",
          "height": 282
        },
        "id": "s5r6vNY8S-rp",
        "outputId": "205cf525-2fb9-4a77-f5c7-76ac8d934f84"
      },
      "source": [
        "df_['sector_name'].value_counts().plot(kind='barh')"
      ],
      "execution_count": 20,
      "outputs": [
        {
          "output_type": "execute_result",
          "data": {
            "text/plain": [
              "<matplotlib.axes._subplots.AxesSubplot at 0x7f64a4b55790>"
            ]
          },
          "metadata": {},
          "execution_count": 20
        },
        {
          "output_type": "display_data",
          "data": {
            "image/png": "[encoded data removed]",
            "text/plain": [
              "<Figure size 432x288 with 1 Axes>"
            ]
          },
          "metadata": {
            "needs_background": "light"
          }
        }
      ]
    },
    {
      "cell_type": "code",
      "metadata": {
        "id": "6ogUkuGURTuJ"
      },
      "source": [
        ""
      ],
      "execution_count": null,
      "outputs": []
    },
    {
      "cell_type": "markdown",
      "metadata": {
        "id": "yrJhX_Kcsbdi"
      },
      "source": [
        ""
      ]
    },
    {
      "cell_type": "code",
      "metadata": {
        "id": "GiIdI_QDsfCw"
      },
      "source": [
        "bins = np.array([0, 200, 400, 600, 1000, 100000, 500000])"
      ],
      "execution_count": 21,
      "outputs": []
    },
    {
      "cell_type": "code",
      "metadata": {
        "id": "X5lVLDdm1Apr"
      },
      "source": [
        "labels = pd.cut(df_.loan_amount, bins)"
      ],
      "execution_count": 22,
      "outputs": []
    },
    {
      "cell_type": "code",
      "metadata": {
        "colab": {
          "base_uri": "https://localhost:8080/"
        },
        "id": "dss4wtV71Ata",
        "outputId": "c19e1628-0427-4bd1-a125-e3d2439d262c"
      },
      "source": [
        "labels"
      ],
      "execution_count": 23,
      "outputs": [
        {
          "output_type": "execute_result",
          "data": {
            "text/plain": [
              "1                (0, 200]\n",
              "2                (0, 200]\n",
              "3          (1000, 100000]\n",
              "4              (400, 600]\n",
              "5              (200, 400]\n",
              "                ...      \n",
              "2086695        (400, 600]\n",
              "2086696          (0, 200]\n",
              "2086697        (400, 600]\n",
              "2086698    (1000, 100000]\n",
              "2086699    (1000, 100000]\n",
              "Name: loan_amount, Length: 1623815, dtype: category\n",
              "Categories (6, interval[int64]): [(0, 200] < (200, 400] < (400, 600] < (600, 1000] <\n",
              "                                  (1000, 100000] < (100000, 500000]]"
            ]
          },
          "metadata": {},
          "execution_count": 23
        }
      ]
    },
    {
      "cell_type": "code",
      "metadata": {
        "id": "oMbAzNo31Axn"
      },
      "source": [
        "grouped = df_.groupby(['status', labels])"
      ],
      "execution_count": 24,
      "outputs": []
    },
    {
      "cell_type": "code",
      "metadata": {
        "colab": {
          "base_uri": "https://localhost:8080/",
          "height": 324
        },
        "id": "sEcPk0o211vj",
        "outputId": "4c9b39ce-bfa5-4e35-c69f-648d38c73620"
      },
      "source": [
        "grouped.size().unstack().plot(kind='bar')"
      ],
      "execution_count": 25,
      "outputs": [
        {
          "output_type": "execute_result",
          "data": {
            "text/plain": [
              "<matplotlib.axes._subplots.AxesSubplot at 0x7f64a4b79b50>"
            ]
          },
          "metadata": {},
          "execution_count": 25
        },
        {
          "output_type": "display_data",
          "data": {
            "image/png": "[encoded data removed]",
            "text/plain": [
              "<Figure size 432x288 with 1 Axes>"
            ]
          },
          "metadata": {
            "needs_background": "light"
          }
        }
      ]
    },
    {
      "cell_type": "code",
      "metadata": {
        "colab": {
          "base_uri": "https://localhost:8080/",
          "height": 370
        },
        "id": "GyjLHL3y11zV",
        "outputId": "a86f32f9-b875-4ff6-ce85-36ac85829164"
      },
      "source": [
        "by_sector_name = df_.pivot_table('loan_amount', index='sector_name', columns='status', aggfunc='sum')\n",
        "by_sector_name.plot(kind='bar', figsize=(6,4))"
      ],
      "execution_count": 26,
      "outputs": [
        {
          "output_type": "execute_result",
          "data": {
            "text/plain": [
              "<matplotlib.axes._subplots.AxesSubplot at 0x7f64a459b090>"
            ]
          },
          "metadata": {},
          "execution_count": 26
        },
        {
          "output_type": "display_data",
          "data": {
            "image/png": "[encoded data removed]",
            "text/plain": [
              "<Figure size 432x288 with 1 Axes>"
            ]
          },
          "metadata": {
            "needs_background": "light"
          }
        }
      ]
    },
    {
      "cell_type": "code",
      "metadata": {
        "colab": {
          "base_uri": "https://localhost:8080/",
          "height": 238
        },
        "id": "O6O-h_sf113U",
        "outputId": "ddf2153d-af17-4c97-b5e6-11dbc887c398"
      },
      "source": [
        "by_sector_name_df = pd.DataFrame(by_sector_name)\n",
        "by_sector_name_df.head()"
      ],
      "execution_count": 27,
      "outputs": [
        {
          "output_type": "execute_result",
          "data": {
            "text/html": [
              "<div>\n",
              "<style scoped>\n",
              "    .dataframe tbody tr th:only-of-type {\n",
              "        vertical-align: middle;\n",
              "    }\n",
              "\n",
              "    .dataframe tbody tr th {\n",
              "        vertical-align: top;\n",
              "    }\n",
              "\n",
              "    .dataframe thead th {\n",
              "        text-align: right;\n",
              "    }\n",
              "</style>\n",
              "<table border=\"1\" class=\"dataframe\">\n",
              "  <thead>\n",
              "    <tr style=\"text-align: right;\">\n",
              "      <th>status</th>\n",
              "      <th>expired</th>\n",
              "      <th>funded</th>\n",
              "    </tr>\n",
              "    <tr>\n",
              "      <th>sector_name</th>\n",
              "      <th></th>\n",
              "      <th></th>\n",
              "    </tr>\n",
              "  </thead>\n",
              "  <tbody>\n",
              "    <tr>\n",
              "      <th>Agriculture</th>\n",
              "      <td>30631100.0</td>\n",
              "      <td>302349875.0</td>\n",
              "    </tr>\n",
              "    <tr>\n",
              "      <th>Arts</th>\n",
              "      <td>793425.0</td>\n",
              "      <td>33315025.0</td>\n",
              "    </tr>\n",
              "    <tr>\n",
              "      <th>Clothing</th>\n",
              "      <td>8651650.0</td>\n",
              "      <td>81782225.0</td>\n",
              "    </tr>\n",
              "    <tr>\n",
              "      <th>Construction</th>\n",
              "      <td>1492475.0</td>\n",
              "      <td>15502550.0</td>\n",
              "    </tr>\n",
              "    <tr>\n",
              "      <th>Education</th>\n",
              "      <td>2178600.0</td>\n",
              "      <td>58918875.0</td>\n",
              "    </tr>\n",
              "  </tbody>\n",
              "</table>\n",
              "</div>"
            ],
            "text/plain": [
              "status           expired       funded\n",
              "sector_name                          \n",
              "Agriculture   30631100.0  302349875.0\n",
              "Arts            793425.0   33315025.0\n",
              "Clothing       8651650.0   81782225.0\n",
              "Construction   1492475.0   15502550.0\n",
              "Education      2178600.0   58918875.0"
            ]
          },
          "metadata": {},
          "execution_count": 27
        }
      ]
    },
    {
      "cell_type": "code",
      "metadata": {
        "colab": {
          "base_uri": "https://localhost:8080/",
          "height": 143
        },
        "id": "RQDXvTxiLNfQ",
        "outputId": "6e091091-5fa0-403b-c2f5-b5d51e0bf434"
      },
      "source": [
        "df_.groupby('status').mean()"
      ],
      "execution_count": 28,
      "outputs": [
        {
          "output_type": "execute_result",
          "data": {
            "text/html": [
              "<div>\n",
              "<style scoped>\n",
              "    .dataframe tbody tr th:only-of-type {\n",
              "        vertical-align: middle;\n",
              "    }\n",
              "\n",
              "    .dataframe tbody tr th {\n",
              "        vertical-align: top;\n",
              "    }\n",
              "\n",
              "    .dataframe thead th {\n",
              "        text-align: right;\n",
              "    }\n",
              "</style>\n",
              "<table border=\"1\" class=\"dataframe\">\n",
              "  <thead>\n",
              "    <tr style=\"text-align: right;\">\n",
              "      <th></th>\n",
              "      <th>loan_amount</th>\n",
              "    </tr>\n",
              "    <tr>\n",
              "      <th>status</th>\n",
              "      <th></th>\n",
              "    </tr>\n",
              "  </thead>\n",
              "  <tbody>\n",
              "    <tr>\n",
              "      <th>expired</th>\n",
              "      <td>1419.370259</td>\n",
              "    </tr>\n",
              "    <tr>\n",
              "      <th>funded</th>\n",
              "      <td>796.813346</td>\n",
              "    </tr>\n",
              "  </tbody>\n",
              "</table>\n",
              "</div>"
            ],
            "text/plain": [
              "         loan_amount\n",
              "status              \n",
              "expired  1419.370259\n",
              "funded    796.813346"
            ]
          },
          "metadata": {},
          "execution_count": 28
        }
      ]
    },
    {
      "cell_type": "code",
      "metadata": {
        "colab": {
          "base_uri": "https://localhost:8080/",
          "height": 658
        },
        "id": "pdkALoyHby5T",
        "outputId": "a5d15745-909d-4885-a96b-a4d941d4cacd"
      },
      "source": [
        "learning_data = df_.copy()\n",
        "learning_data['status'] = df_.apply(lambda x: 1 if x.status == 'funded' else 0, axis=1)\n",
        "\n",
        "learning_data.head()"
      ],
      "execution_count": 29,
      "outputs": [
        {
          "output_type": "execute_result",
          "data": {
            "text/html": [
              "<div>\n",
              "<style scoped>\n",
              "    .dataframe tbody tr th:only-of-type {\n",
              "        vertical-align: middle;\n",
              "    }\n",
              "\n",
              "    .dataframe tbody tr th {\n",
              "        vertical-align: top;\n",
              "    }\n",
              "\n",
              "    .dataframe thead th {\n",
              "        text-align: right;\n",
              "    }\n",
              "</style>\n",
              "<table border=\"1\" class=\"dataframe\">\n",
              "  <thead>\n",
              "    <tr style=\"text-align: right;\">\n",
              "      <th></th>\n",
              "      <th>description_translated</th>\n",
              "      <th>loan_amount</th>\n",
              "      <th>sector_name</th>\n",
              "      <th>loan_use</th>\n",
              "      <th>status</th>\n",
              "    </tr>\n",
              "  </thead>\n",
              "  <tbody>\n",
              "    <tr>\n",
              "      <th>1</th>\n",
              "      <td>Rosa works hard to support her family. Rosa is married and has a general store business in the Philippines.&lt;br /&gt;&lt;br /&gt;Rosa requested a PHP 5,000 loan through NWTF to buy more groceries to sell in her general store.&lt;br /&gt;&lt;br /&gt;Rosa has been in this business for 10 years now.&lt;br /&gt;&lt;br /&gt;Rosa would like to save enough to provide a secure future for her family.</td>\n",
              "      <td>125.0</td>\n",
              "      <td>Retail</td>\n",
              "      <td>to buy more groceries to sell in her general store</td>\n",
              "      <td>1</td>\n",
              "    </tr>\n",
              "    <tr>\n",
              "      <th>2</th>\n",
              "      <td>Warlita is a widowed woman with two children. She is a very hardworking entrepreneur. She is 54 years old and has one child currently in school.&lt;br /&gt;&lt;br /&gt;Warlita has a buy-and-sell banana business in the Philippines. She has requested a PHP 8,000 loan amount through NWTF to buy more bananas to sell and other supplies needed in her business. She has been in this business for three years. In the future, Warlita would like to save enough to provide a secure future for her family.</td>\n",
              "      <td>175.0</td>\n",
              "      <td>Food</td>\n",
              "      <td>to buy more bananas to sell and other supplies needed in her business.</td>\n",
              "      <td>1</td>\n",
              "    </tr>\n",
              "    <tr>\n",
              "      <th>3</th>\n",
              "      <td>Faafofola is a 40-year-old married woman with three children. She runs a small business of planting taro and banana and sell them in her community to earn a living. She has four years of experience with this business. &lt;br /&gt;&lt;br /&gt;Faafofola works very hard to please her customers, and she is also well known in her community because of her good products. Faafofola needs a loan to buy more taro roots (seedlings), more banana tubers (seedlings), chemicals, a backpack sprayer, a wheelbarrow, a chainsaw, and a rake to help take her business to the next level. &lt;br /&gt;&lt;br /&gt;Her dream is that one day she will earn more profit to buy a vehicle to deliver her products to the market. She became a member of SPBD in 2013.</td>\n",
              "      <td>1400.0</td>\n",
              "      <td>Agriculture</td>\n",
              "      <td>to buy more taro roots (seedlings), more banana tubers (seedlings), chemicals, a backpack sprayer, a wheelbarrow, a chainsaw, and a rake.</td>\n",
              "      <td>1</td>\n",
              "    </tr>\n",
              "    <tr>\n",
              "      <th>4</th>\n",
              "      <td>Veronique is a widow, …[text missing] years old, with seven children in her care. In order to provide for herself and her children, she has started a business selling alcoholic beverages, such as various brands of beer: 33 Export, Mutzig, Amstel, Castel, Guinness, etc. She also sells food.  She is seeking a loan that will allow her to keep a steady stock, avoid depleting her stock, and, if possible, take advantage of some discounts from the breweries. She plans to use her earnings to strengthen her business further and increase her sales level. \\r\\n</td>\n",
              "      <td>425.0</td>\n",
              "      <td>Food</td>\n",
              "      <td>to increase her stock of  various brands of beer: 33 Export, Mutzig, Amstel,   etc</td>\n",
              "      <td>1</td>\n",
              "    </tr>\n",
              "    <tr>\n",
              "      <th>5</th>\n",
              "      <td>Sabitu is married and lives with his family in an ordinary mud house in a small village in Kaduna state. In his community, farming is the primary occupation and, like many diligent smallholders, he dreams of scaling up his farm business.&lt;br /&gt;&lt;br /&gt;Sabitu is returning to work with Babban Gona this season, as he will get access to better-yielding seeds, fertilizers, and other essential farm inputs that will boost his yield. Apart from increasing Sabitu’s yield to ensure that his family never goes hungry, this loan will also help him earn up to three times in net income from selling his maize. Since he first joined Babban Gona in 2015, his happiest memory was buying a car.&lt;br /&gt;&lt;br /&gt;With lenders’ support to grow his farming business, Sabitu is looking forward to a bountiful harvest. Sabitu plans to use the profits from this season’s harvest to pay his children's school fees.</td>\n",
              "      <td>325.0</td>\n",
              "      <td>Agriculture</td>\n",
              "      <td>to buy fertilizers and seeds to get a good yield and grow his farming business.</td>\n",
              "      <td>1</td>\n",
              "    </tr>\n",
              "  </tbody>\n",
              "</table>\n",
              "</div>"
            ],
            "text/plain": [
              "                                                                                                                                                                                                                                                                                                                                                                                                                                                                                                                                                                                                                                                                                                                                                                                                                                                                                                   description_translated  \\\n",
              "1                                                                                                                                                                                                                                                                                                                                                                                                                                                                                                                                                Rosa works hard to support her family. Rosa is married and has a general store business in the Philippines.<br /><br />Rosa requested a PHP 5,000 loan through NWTF to buy more groceries to sell in her general store.<br /><br />Rosa has been in this business for 10 years now.<br /><br />Rosa would like to save enough to provide a secure future for her family.   \n",
              "2                                                                                                                                                                                                                                                                                                                                                                                                                     Warlita is a widowed woman with two children. She is a very hardworking entrepreneur. She is 54 years old and has one child currently in school.<br /><br />Warlita has a buy-and-sell banana business in the Philippines. She has requested a PHP 8,000 loan amount through NWTF to buy more bananas to sell and other supplies needed in her business. She has been in this business for three years. In the future, Warlita would like to save enough to provide a secure future for her family.   \n",
              "3                                                                                                                                                                            Faafofola is a 40-year-old married woman with three children. She runs a small business of planting taro and banana and sell them in her community to earn a living. She has four years of experience with this business. <br /><br />Faafofola works very hard to please her customers, and she is also well known in her community because of her good products. Faafofola needs a loan to buy more taro roots (seedlings), more banana tubers (seedlings), chemicals, a backpack sprayer, a wheelbarrow, a chainsaw, and a rake to help take her business to the next level. <br /><br />Her dream is that one day she will earn more profit to buy a vehicle to deliver her products to the market. She became a member of SPBD in 2013.   \n",
              "4                                                                                                                                                                                                                                                                                                                                             Veronique is a widow, …[text missing] years old, with seven children in her care. In order to provide for herself and her children, she has started a business selling alcoholic beverages, such as various brands of beer: 33 Export, Mutzig, Amstel, Castel, Guinness, etc. She also sells food.  She is seeking a loan that will allow her to keep a steady stock, avoid depleting her stock, and, if possible, take advantage of some discounts from the breweries. She plans to use her earnings to strengthen her business further and increase her sales level. \\r\\n   \n",
              "5  Sabitu is married and lives with his family in an ordinary mud house in a small village in Kaduna state. In his community, farming is the primary occupation and, like many diligent smallholders, he dreams of scaling up his farm business.<br /><br />Sabitu is returning to work with Babban Gona this season, as he will get access to better-yielding seeds, fertilizers, and other essential farm inputs that will boost his yield. Apart from increasing Sabitu’s yield to ensure that his family never goes hungry, this loan will also help him earn up to three times in net income from selling his maize. Since he first joined Babban Gona in 2015, his happiest memory was buying a car.<br /><br />With lenders’ support to grow his farming business, Sabitu is looking forward to a bountiful harvest. Sabitu plans to use the profits from this season’s harvest to pay his children's school fees.   \n",
              "\n",
              "   loan_amount  sector_name  \\\n",
              "1        125.0       Retail   \n",
              "2        175.0         Food   \n",
              "3       1400.0  Agriculture   \n",
              "4        425.0         Food   \n",
              "5        325.0  Agriculture   \n",
              "\n",
              "                                                                                                                                    loan_use  \\\n",
              "1                                                                                         to buy more groceries to sell in her general store   \n",
              "2                                                                     to buy more bananas to sell and other supplies needed in her business.   \n",
              "3  to buy more taro roots (seedlings), more banana tubers (seedlings), chemicals, a backpack sprayer, a wheelbarrow, a chainsaw, and a rake.   \n",
              "4                                                         to increase her stock of  various brands of beer: 33 Export, Mutzig, Amstel,   etc   \n",
              "5                                                            to buy fertilizers and seeds to get a good yield and grow his farming business.   \n",
              "\n",
              "   status  \n",
              "1       1  \n",
              "2       1  \n",
              "3       1  \n",
              "4       1  \n",
              "5       1  "
            ]
          },
          "metadata": {},
          "execution_count": 29
        }
      ]
    },
    {
      "cell_type": "code",
      "metadata": {
        "id": "Zjm6tY7qXYrv"
      },
      "source": [
        "#count_class_1, count_class_0 = learning_data['status'].value_counts()"
      ],
      "execution_count": null,
      "outputs": []
    },
    {
      "cell_type": "code",
      "metadata": {
        "id": "LnCOrhxeXnX0"
      },
      "source": [
        "# df_class_0 = learning_data[learning_data['status'] == 0]\n",
        "# df_class_1 = learning_data[learning_data['status'] == 1]"
      ],
      "execution_count": null,
      "outputs": []
    },
    {
      "cell_type": "code",
      "metadata": {
        "colab": {
          "base_uri": "https://localhost:8080/"
        },
        "id": "7V0qGUAhXyRw",
        "outputId": "0b1b116c-55e6-4718-c542-6ed11be9dc05"
      },
      "source": [
        "# print(count_class_0)\n",
        "# print(count_class_1)"
      ],
      "execution_count": null,
      "outputs": [
        {
          "output_type": "stream",
          "name": "stdout",
          "text": [
            "86607\n",
            "1537208\n"
          ]
        }
      ]
    },
    {
      "cell_type": "code",
      "metadata": {
        "id": "3bkaB-emYdEh"
      },
      "source": [
        ""
      ],
      "execution_count": null,
      "outputs": []
    },
    {
      "cell_type": "markdown",
      "metadata": {
        "id": "Vky--uqFYgJn"
      },
      "source": [
        "Because of the difference between class 0 and class 1, we downgrade our dataset to the smallest class to avoid bias\n"
      ]
    },
    {
      "cell_type": "code",
      "metadata": {
        "colab": {
          "base_uri": "https://localhost:8080/"
        },
        "id": "ClVcWk_tXyWF",
        "outputId": "1f1cb8bc-cf6d-42cc-e269-b532994ddb44"
      },
      "source": [
        "# df_class_1_under = df_class_1.sample(count_class_0)\n",
        "# df_class_1_under.shape\n",
        "# df_down_size = pd.concat([df_class_1_under, df_class_0], axis=0)\n",
        "# print ('Random under-Sampling')\n",
        "# print(df_down_size.status.value_counts())"
      ],
      "execution_count": null,
      "outputs": [
        {
          "output_type": "stream",
          "name": "stdout",
          "text": [
            "Random under-Sampling\n",
            "1    86607\n",
            "0    86607\n",
            "Name: status, dtype: int64\n"
          ]
        }
      ]
    },
    {
      "cell_type": "code",
      "metadata": {
        "id": "hLqit16rXyaG"
      },
      "source": [
        ""
      ],
      "execution_count": null,
      "outputs": []
    },
    {
      "cell_type": "code",
      "metadata": {
        "id": "XEIYqqZ3Xydu"
      },
      "source": [
        ""
      ],
      "execution_count": null,
      "outputs": []
    },
    {
      "cell_type": "code",
      "metadata": {
        "id": "QOD4AeD4APYW"
      },
      "source": [
        "sector_df = learning_data[['loan_amount', 'sector_name', 'status']]\n",
        "sector_df.to_csv('sector.csv', index=False)"
      ],
      "execution_count": 30,
      "outputs": []
    },
    {
      "cell_type": "code",
      "metadata": {
        "colab": {
          "base_uri": "https://localhost:8080/"
        },
        "id": "SDxLJ0kZXAw5",
        "outputId": "0518ac00-4971-492c-adc6-c46c13981274"
      },
      "source": [
        "sector_df['status'].value_counts()"
      ],
      "execution_count": 31,
      "outputs": [
        {
          "output_type": "execute_result",
          "data": {
            "text/plain": [
              "1    1537208\n",
              "0      86607\n",
              "Name: status, dtype: int64"
            ]
          },
          "metadata": {},
          "execution_count": 31
        }
      ]
    },
    {
      "cell_type": "code",
      "metadata": {
        "id": "FyoXTUPuAPk5"
      },
      "source": [
        "application_df = learning_data[['loan_use', 'description_translated', 'status']]\n",
        "application_df.to_csv('application.csv', index=False)"
      ],
      "execution_count": 32,
      "outputs": []
    },
    {
      "cell_type": "code",
      "metadata": {
        "colab": {
          "base_uri": "https://localhost:8080/"
        },
        "id": "YY7y68oQXVT6",
        "outputId": "a45c0de6-355b-4362-b658-d49a0aa9b88e"
      },
      "source": [
        "application_df['status'].value_counts()"
      ],
      "execution_count": 33,
      "outputs": [
        {
          "output_type": "execute_result",
          "data": {
            "text/plain": [
              "1    1537208\n",
              "0      86607\n",
              "Name: status, dtype: int64"
            ]
          },
          "metadata": {},
          "execution_count": 33
        }
      ]
    },
    {
      "cell_type": "code",
      "metadata": {
        "colab": {
          "base_uri": "https://localhost:8080/"
        },
        "id": "zPsdVnGNwhoL",
        "outputId": "072395ad-b304-4f6f-b684-925fb7bd514f"
      },
      "source": [
        "cat_data = sector_df[['sector_name']]\n",
        "cat_data.nunique()"
      ],
      "execution_count": 34,
      "outputs": [
        {
          "output_type": "execute_result",
          "data": {
            "text/plain": [
              "sector_name    15\n",
              "dtype: int64"
            ]
          },
          "metadata": {},
          "execution_count": 34
        }
      ]
    },
    {
      "cell_type": "code",
      "metadata": {
        "colab": {
          "base_uri": "https://localhost:8080/"
        },
        "id": "lY7bDiO8whri",
        "outputId": "6f2b0d21-77c4-4941-871d-b2269c1fc134"
      },
      "source": [
        "from sklearn.preprocessing import OneHotEncoder\n",
        "\n",
        "cat_encoder = OneHotEncoder()\n",
        "cat_data_1hot = cat_encoder.fit_transform(cat_data)\n",
        "cat_data_1hot"
      ],
      "execution_count": 35,
      "outputs": [
        {
          "output_type": "execute_result",
          "data": {
            "text/plain": [
              "<1623815x15 sparse matrix of type '<class 'numpy.float64'>'\n",
              "\twith 1623815 stored elements in Compressed Sparse Row format>"
            ]
          },
          "metadata": {},
          "execution_count": 35
        }
      ]
    },
    {
      "cell_type": "code",
      "metadata": {
        "colab": {
          "base_uri": "https://localhost:8080/"
        },
        "id": "AEgJlFKGwhuv",
        "outputId": "8d3758a3-82ac-4588-ee0d-9e801a920696"
      },
      "source": [
        "cat_data_1hot.toarray()"
      ],
      "execution_count": 36,
      "outputs": [
        {
          "output_type": "execute_result",
          "data": {
            "text/plain": [
              "array([[0., 0., 0., ..., 0., 0., 0.],\n",
              "       [0., 0., 0., ..., 0., 0., 0.],\n",
              "       [1., 0., 0., ..., 0., 0., 0.],\n",
              "       ...,\n",
              "       [1., 0., 0., ..., 0., 0., 0.],\n",
              "       [1., 0., 0., ..., 0., 0., 0.],\n",
              "       [0., 0., 0., ..., 0., 0., 0.]])"
            ]
          },
          "metadata": {},
          "execution_count": 36
        }
      ]
    },
    {
      "cell_type": "code",
      "metadata": {
        "colab": {
          "base_uri": "https://localhost:8080/",
          "height": 206
        },
        "id": "oiW__n7-xjBz",
        "outputId": "8b008dad-df7d-4f85-d4bb-8919533e2ab1"
      },
      "source": [
        "df3 = pd.DataFrame(cat_data_1hot.toarray())\n",
        "df3.head()"
      ],
      "execution_count": 37,
      "outputs": [
        {
          "output_type": "execute_result",
          "data": {
            "text/html": [
              "<div>\n",
              "<style scoped>\n",
              "    .dataframe tbody tr th:only-of-type {\n",
              "        vertical-align: middle;\n",
              "    }\n",
              "\n",
              "    .dataframe tbody tr th {\n",
              "        vertical-align: top;\n",
              "    }\n",
              "\n",
              "    .dataframe thead th {\n",
              "        text-align: right;\n",
              "    }\n",
              "</style>\n",
              "<table border=\"1\" class=\"dataframe\">\n",
              "  <thead>\n",
              "    <tr style=\"text-align: right;\">\n",
              "      <th></th>\n",
              "      <th>0</th>\n",
              "      <th>1</th>\n",
              "      <th>2</th>\n",
              "      <th>3</th>\n",
              "      <th>4</th>\n",
              "      <th>5</th>\n",
              "      <th>6</th>\n",
              "      <th>7</th>\n",
              "      <th>8</th>\n",
              "      <th>9</th>\n",
              "      <th>10</th>\n",
              "      <th>11</th>\n",
              "      <th>12</th>\n",
              "      <th>13</th>\n",
              "      <th>14</th>\n",
              "    </tr>\n",
              "  </thead>\n",
              "  <tbody>\n",
              "    <tr>\n",
              "      <th>0</th>\n",
              "      <td>0.0</td>\n",
              "      <td>0.0</td>\n",
              "      <td>0.0</td>\n",
              "      <td>0.0</td>\n",
              "      <td>0.0</td>\n",
              "      <td>0.0</td>\n",
              "      <td>0.0</td>\n",
              "      <td>0.0</td>\n",
              "      <td>0.0</td>\n",
              "      <td>0.0</td>\n",
              "      <td>0.0</td>\n",
              "      <td>1.0</td>\n",
              "      <td>0.0</td>\n",
              "      <td>0.0</td>\n",
              "      <td>0.0</td>\n",
              "    </tr>\n",
              "    <tr>\n",
              "      <th>1</th>\n",
              "      <td>0.0</td>\n",
              "      <td>0.0</td>\n",
              "      <td>0.0</td>\n",
              "      <td>0.0</td>\n",
              "      <td>0.0</td>\n",
              "      <td>0.0</td>\n",
              "      <td>1.0</td>\n",
              "      <td>0.0</td>\n",
              "      <td>0.0</td>\n",
              "      <td>0.0</td>\n",
              "      <td>0.0</td>\n",
              "      <td>0.0</td>\n",
              "      <td>0.0</td>\n",
              "      <td>0.0</td>\n",
              "      <td>0.0</td>\n",
              "    </tr>\n",
              "    <tr>\n",
              "      <th>2</th>\n",
              "      <td>1.0</td>\n",
              "      <td>0.0</td>\n",
              "      <td>0.0</td>\n",
              "      <td>0.0</td>\n",
              "      <td>0.0</td>\n",
              "      <td>0.0</td>\n",
              "      <td>0.0</td>\n",
              "      <td>0.0</td>\n",
              "      <td>0.0</td>\n",
              "      <td>0.0</td>\n",
              "      <td>0.0</td>\n",
              "      <td>0.0</td>\n",
              "      <td>0.0</td>\n",
              "      <td>0.0</td>\n",
              "      <td>0.0</td>\n",
              "    </tr>\n",
              "    <tr>\n",
              "      <th>3</th>\n",
              "      <td>0.0</td>\n",
              "      <td>0.0</td>\n",
              "      <td>0.0</td>\n",
              "      <td>0.0</td>\n",
              "      <td>0.0</td>\n",
              "      <td>0.0</td>\n",
              "      <td>1.0</td>\n",
              "      <td>0.0</td>\n",
              "      <td>0.0</td>\n",
              "      <td>0.0</td>\n",
              "      <td>0.0</td>\n",
              "      <td>0.0</td>\n",
              "      <td>0.0</td>\n",
              "      <td>0.0</td>\n",
              "      <td>0.0</td>\n",
              "    </tr>\n",
              "    <tr>\n",
              "      <th>4</th>\n",
              "      <td>1.0</td>\n",
              "      <td>0.0</td>\n",
              "      <td>0.0</td>\n",
              "      <td>0.0</td>\n",
              "      <td>0.0</td>\n",
              "      <td>0.0</td>\n",
              "      <td>0.0</td>\n",
              "      <td>0.0</td>\n",
              "      <td>0.0</td>\n",
              "      <td>0.0</td>\n",
              "      <td>0.0</td>\n",
              "      <td>0.0</td>\n",
              "      <td>0.0</td>\n",
              "      <td>0.0</td>\n",
              "      <td>0.0</td>\n",
              "    </tr>\n",
              "  </tbody>\n",
              "</table>\n",
              "</div>"
            ],
            "text/plain": [
              "    0    1    2    3    4    5    6    7    8    9    10   11   12   13   14\n",
              "0  0.0  0.0  0.0  0.0  0.0  0.0  0.0  0.0  0.0  0.0  0.0  1.0  0.0  0.0  0.0\n",
              "1  0.0  0.0  0.0  0.0  0.0  0.0  1.0  0.0  0.0  0.0  0.0  0.0  0.0  0.0  0.0\n",
              "2  1.0  0.0  0.0  0.0  0.0  0.0  0.0  0.0  0.0  0.0  0.0  0.0  0.0  0.0  0.0\n",
              "3  0.0  0.0  0.0  0.0  0.0  0.0  1.0  0.0  0.0  0.0  0.0  0.0  0.0  0.0  0.0\n",
              "4  1.0  0.0  0.0  0.0  0.0  0.0  0.0  0.0  0.0  0.0  0.0  0.0  0.0  0.0  0.0"
            ]
          },
          "metadata": {},
          "execution_count": 37
        }
      ]
    },
    {
      "cell_type": "code",
      "metadata": {
        "id": "8r2Rs8ORxjFJ"
      },
      "source": [
        "#df3.dtypes"
      ],
      "execution_count": null,
      "outputs": []
    },
    {
      "cell_type": "code",
      "metadata": {
        "colab": {
          "base_uri": "https://localhost:8080/",
          "height": 206
        },
        "id": "aA3Oh4M5xjIa",
        "outputId": "d7d0fa13-4fad-4dae-95c6-fafeeb139412"
      },
      "source": [
        "new_df = pd.concat([sector_df[['loan_amount', 'status']].reset_index(drop=True), df3], axis=1)\n",
        "new_df.head()"
      ],
      "execution_count": 38,
      "outputs": [
        {
          "output_type": "execute_result",
          "data": {
            "text/html": [
              "<div>\n",
              "<style scoped>\n",
              "    .dataframe tbody tr th:only-of-type {\n",
              "        vertical-align: middle;\n",
              "    }\n",
              "\n",
              "    .dataframe tbody tr th {\n",
              "        vertical-align: top;\n",
              "    }\n",
              "\n",
              "    .dataframe thead th {\n",
              "        text-align: right;\n",
              "    }\n",
              "</style>\n",
              "<table border=\"1\" class=\"dataframe\">\n",
              "  <thead>\n",
              "    <tr style=\"text-align: right;\">\n",
              "      <th></th>\n",
              "      <th>loan_amount</th>\n",
              "      <th>status</th>\n",
              "      <th>0</th>\n",
              "      <th>1</th>\n",
              "      <th>2</th>\n",
              "      <th>3</th>\n",
              "      <th>4</th>\n",
              "      <th>5</th>\n",
              "      <th>6</th>\n",
              "      <th>7</th>\n",
              "      <th>8</th>\n",
              "      <th>9</th>\n",
              "      <th>10</th>\n",
              "      <th>11</th>\n",
              "      <th>12</th>\n",
              "      <th>13</th>\n",
              "      <th>14</th>\n",
              "    </tr>\n",
              "  </thead>\n",
              "  <tbody>\n",
              "    <tr>\n",
              "      <th>0</th>\n",
              "      <td>125.0</td>\n",
              "      <td>1</td>\n",
              "      <td>0.0</td>\n",
              "      <td>0.0</td>\n",
              "      <td>0.0</td>\n",
              "      <td>0.0</td>\n",
              "      <td>0.0</td>\n",
              "      <td>0.0</td>\n",
              "      <td>0.0</td>\n",
              "      <td>0.0</td>\n",
              "      <td>0.0</td>\n",
              "      <td>0.0</td>\n",
              "      <td>0.0</td>\n",
              "      <td>1.0</td>\n",
              "      <td>0.0</td>\n",
              "      <td>0.0</td>\n",
              "      <td>0.0</td>\n",
              "    </tr>\n",
              "    <tr>\n",
              "      <th>1</th>\n",
              "      <td>175.0</td>\n",
              "      <td>1</td>\n",
              "      <td>0.0</td>\n",
              "      <td>0.0</td>\n",
              "      <td>0.0</td>\n",
              "      <td>0.0</td>\n",
              "      <td>0.0</td>\n",
              "      <td>0.0</td>\n",
              "      <td>1.0</td>\n",
              "      <td>0.0</td>\n",
              "      <td>0.0</td>\n",
              "      <td>0.0</td>\n",
              "      <td>0.0</td>\n",
              "      <td>0.0</td>\n",
              "      <td>0.0</td>\n",
              "      <td>0.0</td>\n",
              "      <td>0.0</td>\n",
              "    </tr>\n",
              "    <tr>\n",
              "      <th>2</th>\n",
              "      <td>1400.0</td>\n",
              "      <td>1</td>\n",
              "      <td>1.0</td>\n",
              "      <td>0.0</td>\n",
              "      <td>0.0</td>\n",
              "      <td>0.0</td>\n",
              "      <td>0.0</td>\n",
              "      <td>0.0</td>\n",
              "      <td>0.0</td>\n",
              "      <td>0.0</td>\n",
              "      <td>0.0</td>\n",
              "      <td>0.0</td>\n",
              "      <td>0.0</td>\n",
              "      <td>0.0</td>\n",
              "      <td>0.0</td>\n",
              "      <td>0.0</td>\n",
              "      <td>0.0</td>\n",
              "    </tr>\n",
              "    <tr>\n",
              "      <th>3</th>\n",
              "      <td>425.0</td>\n",
              "      <td>1</td>\n",
              "      <td>0.0</td>\n",
              "      <td>0.0</td>\n",
              "      <td>0.0</td>\n",
              "      <td>0.0</td>\n",
              "      <td>0.0</td>\n",
              "      <td>0.0</td>\n",
              "      <td>1.0</td>\n",
              "      <td>0.0</td>\n",
              "      <td>0.0</td>\n",
              "      <td>0.0</td>\n",
              "      <td>0.0</td>\n",
              "      <td>0.0</td>\n",
              "      <td>0.0</td>\n",
              "      <td>0.0</td>\n",
              "      <td>0.0</td>\n",
              "    </tr>\n",
              "    <tr>\n",
              "      <th>4</th>\n",
              "      <td>325.0</td>\n",
              "      <td>1</td>\n",
              "      <td>1.0</td>\n",
              "      <td>0.0</td>\n",
              "      <td>0.0</td>\n",
              "      <td>0.0</td>\n",
              "      <td>0.0</td>\n",
              "      <td>0.0</td>\n",
              "      <td>0.0</td>\n",
              "      <td>0.0</td>\n",
              "      <td>0.0</td>\n",
              "      <td>0.0</td>\n",
              "      <td>0.0</td>\n",
              "      <td>0.0</td>\n",
              "      <td>0.0</td>\n",
              "      <td>0.0</td>\n",
              "      <td>0.0</td>\n",
              "    </tr>\n",
              "  </tbody>\n",
              "</table>\n",
              "</div>"
            ],
            "text/plain": [
              "   loan_amount  status    0    1    2    3    4    5    6    7    8    9   10  \\\n",
              "0        125.0       1  0.0  0.0  0.0  0.0  0.0  0.0  0.0  0.0  0.0  0.0  0.0   \n",
              "1        175.0       1  0.0  0.0  0.0  0.0  0.0  0.0  1.0  0.0  0.0  0.0  0.0   \n",
              "2       1400.0       1  1.0  0.0  0.0  0.0  0.0  0.0  0.0  0.0  0.0  0.0  0.0   \n",
              "3        425.0       1  0.0  0.0  0.0  0.0  0.0  0.0  1.0  0.0  0.0  0.0  0.0   \n",
              "4        325.0       1  1.0  0.0  0.0  0.0  0.0  0.0  0.0  0.0  0.0  0.0  0.0   \n",
              "\n",
              "    11   12   13   14  \n",
              "0  1.0  0.0  0.0  0.0  \n",
              "1  0.0  0.0  0.0  0.0  \n",
              "2  0.0  0.0  0.0  0.0  \n",
              "3  0.0  0.0  0.0  0.0  \n",
              "4  0.0  0.0  0.0  0.0  "
            ]
          },
          "metadata": {},
          "execution_count": 38
        }
      ]
    },
    {
      "cell_type": "code",
      "metadata": {
        "id": "d4RDZoD2S2Qq"
      },
      "source": [
        "#newdf['status'].value_counts()"
      ],
      "execution_count": null,
      "outputs": []
    },
    {
      "cell_type": "code",
      "metadata": {
        "id": "QE6cnBiDxjLs"
      },
      "source": [
        "target = new_df['status']\n",
        "data_features = new_df.drop('status', axis=1)"
      ],
      "execution_count": 39,
      "outputs": []
    },
    {
      "cell_type": "code",
      "metadata": {
        "colab": {
          "base_uri": "https://localhost:8080/"
        },
        "id": "MTDuTkHjQZJT",
        "outputId": "ebfdde15-f480-40c3-b0ed-44f0d9a807e3"
      },
      "source": [
        "target.value_counts()"
      ],
      "execution_count": 40,
      "outputs": [
        {
          "output_type": "execute_result",
          "data": {
            "text/plain": [
              "1    1537208\n",
              "0      86607\n",
              "Name: status, dtype: int64"
            ]
          },
          "metadata": {},
          "execution_count": 40
        }
      ]
    },
    {
      "cell_type": "code",
      "metadata": {
        "id": "T6jYxlVBS0dy"
      },
      "source": [
        "count_class_1, count_class_0 = new_df['status'].value_counts()"
      ],
      "execution_count": 41,
      "outputs": []
    },
    {
      "cell_type": "code",
      "metadata": {
        "id": "VOkWXOBiNaMr"
      },
      "source": [
        "df_class_0 = new_df[new_df['status'] == 0]\n",
        "df_class_1 = new_df[new_df['status'] == 1]"
      ],
      "execution_count": 44,
      "outputs": []
    },
    {
      "cell_type": "code",
      "metadata": {
        "id": "4MmCjzP5B_kk",
        "colab": {
          "base_uri": "https://localhost:8080/"
        },
        "outputId": "9af60841-d593-4026-e49c-930e4d8d43c5"
      },
      "source": [
        "print(count_class_0)\n",
        "print(count_class_1)"
      ],
      "execution_count": 45,
      "outputs": [
        {
          "output_type": "stream",
          "name": "stdout",
          "text": [
            "86607\n",
            "1537208\n"
          ]
        }
      ]
    },
    {
      "cell_type": "code",
      "metadata": {
        "id": "SyQuhbu9Upis",
        "colab": {
          "base_uri": "https://localhost:8080/"
        },
        "outputId": "d03711dc-a74a-4bb5-c61e-647e3245835a"
      },
      "source": [
        "# Undersampling 1_class and concat the dataframe to for a new dataframe\n",
        "df_class_1_under = df_class_1.sample(count_class_0)\n",
        "df_class_1_under.shape\n",
        "df_test_under = pd.concat([df_class_1_under, df_class_0], axis=0)\n",
        "print ('Random under-Sampling')\n",
        "print(df_test_under.status.value_counts())"
      ],
      "execution_count": 46,
      "outputs": [
        {
          "output_type": "stream",
          "name": "stdout",
          "text": [
            "Random under-Sampling\n",
            "1    86607\n",
            "0    86607\n",
            "Name: status, dtype: int64\n"
          ]
        }
      ]
    },
    {
      "cell_type": "code",
      "metadata": {
        "id": "IHS9SFcOVyiH",
        "colab": {
          "base_uri": "https://localhost:8080/",
          "height": 206
        },
        "outputId": "b5cf27c2-c90d-49f1-84d4-9970797bd707"
      },
      "source": [
        "df_test_under.head()"
      ],
      "execution_count": 47,
      "outputs": [
        {
          "output_type": "execute_result",
          "data": {
            "text/html": [
              "<div>\n",
              "<style scoped>\n",
              "    .dataframe tbody tr th:only-of-type {\n",
              "        vertical-align: middle;\n",
              "    }\n",
              "\n",
              "    .dataframe tbody tr th {\n",
              "        vertical-align: top;\n",
              "    }\n",
              "\n",
              "    .dataframe thead th {\n",
              "        text-align: right;\n",
              "    }\n",
              "</style>\n",
              "<table border=\"1\" class=\"dataframe\">\n",
              "  <thead>\n",
              "    <tr style=\"text-align: right;\">\n",
              "      <th></th>\n",
              "      <th>loan_amount</th>\n",
              "      <th>status</th>\n",
              "      <th>0</th>\n",
              "      <th>1</th>\n",
              "      <th>2</th>\n",
              "      <th>3</th>\n",
              "      <th>4</th>\n",
              "      <th>5</th>\n",
              "      <th>6</th>\n",
              "      <th>7</th>\n",
              "      <th>8</th>\n",
              "      <th>9</th>\n",
              "      <th>10</th>\n",
              "      <th>11</th>\n",
              "      <th>12</th>\n",
              "      <th>13</th>\n",
              "      <th>14</th>\n",
              "    </tr>\n",
              "  </thead>\n",
              "  <tbody>\n",
              "    <tr>\n",
              "      <th>1002522</th>\n",
              "      <td>1425.0</td>\n",
              "      <td>1</td>\n",
              "      <td>1.0</td>\n",
              "      <td>0.0</td>\n",
              "      <td>0.0</td>\n",
              "      <td>0.0</td>\n",
              "      <td>0.0</td>\n",
              "      <td>0.0</td>\n",
              "      <td>0.0</td>\n",
              "      <td>0.0</td>\n",
              "      <td>0.0</td>\n",
              "      <td>0.0</td>\n",
              "      <td>0.0</td>\n",
              "      <td>0.0</td>\n",
              "      <td>0.0</td>\n",
              "      <td>0.0</td>\n",
              "      <td>0.0</td>\n",
              "    </tr>\n",
              "    <tr>\n",
              "      <th>1366401</th>\n",
              "      <td>200.0</td>\n",
              "      <td>1</td>\n",
              "      <td>0.0</td>\n",
              "      <td>0.0</td>\n",
              "      <td>0.0</td>\n",
              "      <td>0.0</td>\n",
              "      <td>0.0</td>\n",
              "      <td>0.0</td>\n",
              "      <td>0.0</td>\n",
              "      <td>0.0</td>\n",
              "      <td>1.0</td>\n",
              "      <td>0.0</td>\n",
              "      <td>0.0</td>\n",
              "      <td>0.0</td>\n",
              "      <td>0.0</td>\n",
              "      <td>0.0</td>\n",
              "      <td>0.0</td>\n",
              "    </tr>\n",
              "    <tr>\n",
              "      <th>470977</th>\n",
              "      <td>125.0</td>\n",
              "      <td>1</td>\n",
              "      <td>0.0</td>\n",
              "      <td>0.0</td>\n",
              "      <td>0.0</td>\n",
              "      <td>0.0</td>\n",
              "      <td>0.0</td>\n",
              "      <td>0.0</td>\n",
              "      <td>0.0</td>\n",
              "      <td>0.0</td>\n",
              "      <td>0.0</td>\n",
              "      <td>0.0</td>\n",
              "      <td>0.0</td>\n",
              "      <td>0.0</td>\n",
              "      <td>1.0</td>\n",
              "      <td>0.0</td>\n",
              "      <td>0.0</td>\n",
              "    </tr>\n",
              "    <tr>\n",
              "      <th>146466</th>\n",
              "      <td>275.0</td>\n",
              "      <td>1</td>\n",
              "      <td>0.0</td>\n",
              "      <td>0.0</td>\n",
              "      <td>0.0</td>\n",
              "      <td>0.0</td>\n",
              "      <td>0.0</td>\n",
              "      <td>0.0</td>\n",
              "      <td>1.0</td>\n",
              "      <td>0.0</td>\n",
              "      <td>0.0</td>\n",
              "      <td>0.0</td>\n",
              "      <td>0.0</td>\n",
              "      <td>0.0</td>\n",
              "      <td>0.0</td>\n",
              "      <td>0.0</td>\n",
              "      <td>0.0</td>\n",
              "    </tr>\n",
              "    <tr>\n",
              "      <th>979840</th>\n",
              "      <td>1325.0</td>\n",
              "      <td>1</td>\n",
              "      <td>0.0</td>\n",
              "      <td>0.0</td>\n",
              "      <td>0.0</td>\n",
              "      <td>0.0</td>\n",
              "      <td>0.0</td>\n",
              "      <td>0.0</td>\n",
              "      <td>0.0</td>\n",
              "      <td>0.0</td>\n",
              "      <td>1.0</td>\n",
              "      <td>0.0</td>\n",
              "      <td>0.0</td>\n",
              "      <td>0.0</td>\n",
              "      <td>0.0</td>\n",
              "      <td>0.0</td>\n",
              "      <td>0.0</td>\n",
              "    </tr>\n",
              "  </tbody>\n",
              "</table>\n",
              "</div>"
            ],
            "text/plain": [
              "         loan_amount  status    0    1    2    3    4    5    6    7    8  \\\n",
              "1002522       1425.0       1  1.0  0.0  0.0  0.0  0.0  0.0  0.0  0.0  0.0   \n",
              "1366401        200.0       1  0.0  0.0  0.0  0.0  0.0  0.0  0.0  0.0  1.0   \n",
              "470977         125.0       1  0.0  0.0  0.0  0.0  0.0  0.0  0.0  0.0  0.0   \n",
              "146466         275.0       1  0.0  0.0  0.0  0.0  0.0  0.0  1.0  0.0  0.0   \n",
              "979840        1325.0       1  0.0  0.0  0.0  0.0  0.0  0.0  0.0  0.0  1.0   \n",
              "\n",
              "           9   10   11   12   13   14  \n",
              "1002522  0.0  0.0  0.0  0.0  0.0  0.0  \n",
              "1366401  0.0  0.0  0.0  0.0  0.0  0.0  \n",
              "470977   0.0  0.0  0.0  1.0  0.0  0.0  \n",
              "146466   0.0  0.0  0.0  0.0  0.0  0.0  \n",
              "979840   0.0  0.0  0.0  0.0  0.0  0.0  "
            ]
          },
          "metadata": {},
          "execution_count": 47
        }
      ]
    },
    {
      "cell_type": "code",
      "metadata": {
        "id": "GkBACCryB_uB"
      },
      "source": [
        "features= df_test_under.drop(columns='status')\n",
        "labels = df_test_under['status']"
      ],
      "execution_count": 48,
      "outputs": []
    },
    {
      "cell_type": "code",
      "metadata": {
        "id": "P4LqMsg8UmtP"
      },
      "source": [
        ""
      ],
      "execution_count": null,
      "outputs": []
    },
    {
      "cell_type": "code",
      "metadata": {
        "id": "2R2zisMPCVg9"
      },
      "source": [
        "from sklearn.ensemble import RandomForestClassifier\n",
        "from sklearn.metrics import precision_score, recall_score, classification_report, confusion_matrix\n",
        "from sklearn.model_selection import train_test_split\n",
        "from sklearn.preprocessing import StandardScaler\n",
        "X_train, X_test, y_train, y_test = train_test_split(features, labels, test_size=0.2, random_state=42)\n"
      ],
      "execution_count": 49,
      "outputs": []
    },
    {
      "cell_type": "code",
      "metadata": {
        "id": "QcLAfGHqCVka"
      },
      "source": [
        "#Define a function to run and evaluate the model\n",
        "def rf_m(X_train, y_train, X_test):\n",
        "  rf = RandomForestClassifier()\n",
        "  rf_model = rf.fit(X_train, y_train)\n",
        "  y_pred = rf_model.predict(X_test)\n",
        "  precision = precision_score(y_test, y_pred)\n",
        "  recall = recall_score(y_test, y_pred)\n",
        "  print('Precision: {} / Recall: {}'.format(round(precision, 3), round(recall, 3)))\n",
        "  print(confusion_matrix(y_test, y_pred))\n",
        "  print(classification_report(y_test, y_pred))\n",
        "  return y_pred "
      ],
      "execution_count": 50,
      "outputs": []
    },
    {
      "cell_type": "code",
      "metadata": {
        "id": "PtYxpkGwCVnr"
      },
      "source": [
        "# from sklearn.model_selection import train_test_split\n",
        "# X_train, X_test, y_train, y_test = train_test_split(X_sm, y_sm, test_size=0.2, random_state=15, stratify=y_sm)"
      ],
      "execution_count": null,
      "outputs": []
    },
    {
      "cell_type": "code",
      "metadata": {
        "colab": {
          "base_uri": "https://localhost:8080/"
        },
        "id": "MPf-eYe9EGsL",
        "outputId": "9f4691fe-ceb3-409d-898d-2b2089ae29d3"
      },
      "source": [
        "y_pred = rf_m(X_train, y_train, X_test)"
      ],
      "execution_count": 51,
      "outputs": [
        {
          "output_type": "stream",
          "name": "stderr",
          "text": [
            "/usr/local/lib/python3.7/dist-packages/sklearn/utils/validation.py:1679: FutureWarning: Feature names only support names that are all strings. Got feature names with dtypes: ['int', 'str']. An error will be raised in 1.2.\n",
            "  FutureWarning,\n",
            "/usr/local/lib/python3.7/dist-packages/sklearn/utils/validation.py:1679: FutureWarning: Feature names only support names that are all strings. Got feature names with dtypes: ['int', 'str']. An error will be raised in 1.2.\n",
            "  FutureWarning,\n"
          ]
        },
        {
          "output_type": "stream",
          "name": "stdout",
          "text": [
            "Precision: 0.794 / Recall: 0.615\n",
            "[[14521  2768]\n",
            " [ 6680 10674]]\n",
            "              precision    recall  f1-score   support\n",
            "\n",
            "           0       0.68      0.84      0.75     17289\n",
            "           1       0.79      0.62      0.69     17354\n",
            "\n",
            "    accuracy                           0.73     34643\n",
            "   macro avg       0.74      0.73      0.72     34643\n",
            "weighted avg       0.74      0.73      0.72     34643\n",
            "\n"
          ]
        }
      ]
    },
    {
      "cell_type": "code",
      "metadata": {
        "colab": {
          "base_uri": "https://localhost:8080/"
        },
        "id": "49ySjbxmEW_0",
        "outputId": "6b9057f8-0342-4611-8ea2-8f1829524b59"
      },
      "source": [
        "import joblib\n",
        "# save\n",
        "joblib.dump(rf_m, \"my_Random_Forest.joblib\")"
      ],
      "execution_count": 52,
      "outputs": [
        {
          "output_type": "execute_result",
          "data": {
            "text/plain": [
              "['my_Random_Forest.joblib']"
            ]
          },
          "metadata": {},
          "execution_count": 52
        }
      ]
    },
    {
      "cell_type": "code",
      "metadata": {
        "id": "q923UMOTDPxs"
      },
      "source": [
        ""
      ],
      "execution_count": null,
      "outputs": []
    },
    {
      "cell_type": "code",
      "metadata": {
        "colab": {
          "base_uri": "https://localhost:8080/"
        },
        "id": "oRrB71Gyb71S",
        "outputId": "f5fdb60b-d74c-4f1e-ff47-d942be95c488"
      },
      "source": [
        "# New Machine Learning data on how the loan use can affect the funding\n",
        "loan_data = application_df.dropna()\n",
        "loan_data.isnull().sum()"
      ],
      "execution_count": 53,
      "outputs": [
        {
          "output_type": "execute_result",
          "data": {
            "text/plain": [
              "loan_use                  0\n",
              "description_translated    0\n",
              "status                    0\n",
              "dtype: int64"
            ]
          },
          "metadata": {},
          "execution_count": 53
        }
      ]
    },
    {
      "cell_type": "code",
      "metadata": {
        "colab": {
          "base_uri": "https://localhost:8080/"
        },
        "id": "hRwz7DN2ayL8",
        "outputId": "87bca2d6-7a9b-46e4-dc8a-c34b26ece8ab"
      },
      "source": [
        "loan_data['status'].value_counts()"
      ],
      "execution_count": 54,
      "outputs": [
        {
          "output_type": "execute_result",
          "data": {
            "text/plain": [
              "1    1537208\n",
              "0      86607\n",
              "Name: status, dtype: int64"
            ]
          },
          "metadata": {},
          "execution_count": 54
        }
      ]
    },
    {
      "cell_type": "code",
      "metadata": {
        "id": "amYq4s3zb2xB"
      },
      "source": [
        "count_class_1, count_class_0 = loan_data['status'].value_counts()"
      ],
      "execution_count": 2,
      "outputs": []
    },
    {
      "cell_type": "code",
      "metadata": {
        "id": "g4Jsn136b20-"
      },
      "source": [
        "loan_data_class_0 = loan_data[loan_data['status'] == 0]\n",
        "loan_data_class_1 = loan_data[loan_data['status'] == 1]"
      ],
      "execution_count": 55,
      "outputs": []
    },
    {
      "cell_type": "code",
      "metadata": {
        "id": "tEdGR1xYu_ZH"
      },
      "source": [
        ""
      ],
      "execution_count": null,
      "outputs": []
    },
    {
      "cell_type": "code",
      "metadata": {
        "colab": {
          "base_uri": "https://localhost:8080/"
        },
        "id": "rlX0sUEAczoK",
        "outputId": "b96d34f6-6b6e-41f4-ddfa-950a125afef5"
      },
      "source": [
        "print(count_class_0)\n",
        "print(count_class_1)"
      ],
      "execution_count": 56,
      "outputs": [
        {
          "output_type": "stream",
          "name": "stdout",
          "text": [
            "86607\n",
            "1537208\n"
          ]
        }
      ]
    },
    {
      "cell_type": "code",
      "metadata": {
        "colab": {
          "base_uri": "https://localhost:8080/"
        },
        "id": "6GMJ2zaBb249",
        "outputId": "b97253e7-2053-43c6-ee1a-84f4d8940c04"
      },
      "source": [
        "df_loan_class_0_over = loan_data_class_0.sample(count_class_1, replace=True)\n",
        "df_loan_class_0_over.shape\n",
        "df_loan_over = pd.concat([df_loan_class_0_over, loan_data_class_1], axis=0)\n",
        "print ('Random over-Sampling')\n",
        "print(df_loan_over.status.value_counts())"
      ],
      "execution_count": 59,
      "outputs": [
        {
          "output_type": "stream",
          "name": "stdout",
          "text": [
            "Random over-Sampling\n",
            "1    1537208\n",
            "0    1537208\n",
            "Name: status, dtype: int64\n"
          ]
        }
      ]
    },
    {
      "cell_type": "code",
      "metadata": {
        "id": "tLnNlKrPb3DX"
      },
      "source": [
        "loan_data_3 = df_loan_over[['description_translated', 'status']]\n",
        "loan_data_4 = df_loan_over[['loan_use', 'status']]"
      ],
      "execution_count": 60,
      "outputs": []
    },
    {
      "cell_type": "code",
      "metadata": {
        "colab": {
          "base_uri": "https://localhost:8080/"
        },
        "id": "sHGCScmOqk0u",
        "outputId": "14881232-d647-4cbe-85d6-32785964aab1"
      },
      "source": [
        "loan_data_3.shape"
      ],
      "execution_count": 61,
      "outputs": [
        {
          "output_type": "execute_result",
          "data": {
            "text/plain": [
              "(3074416, 2)"
            ]
          },
          "metadata": {},
          "execution_count": 61
        }
      ]
    },
    {
      "cell_type": "code",
      "metadata": {
        "colab": {
          "base_uri": "https://localhost:8080/"
        },
        "id": "B9C0qg4safCZ",
        "outputId": "8622646b-cd4c-4997-b73a-1aca6bf601b1"
      },
      "source": [
        "loan_data_4.shape"
      ],
      "execution_count": 62,
      "outputs": [
        {
          "output_type": "execute_result",
          "data": {
            "text/plain": [
              "(3074416, 2)"
            ]
          },
          "metadata": {},
          "execution_count": 62
        }
      ]
    },
    {
      "cell_type": "code",
      "metadata": {
        "colab": {
          "base_uri": "https://localhost:8080/",
          "height": 553
        },
        "id": "GfnrcqbLYp8E",
        "outputId": "b579ac54-a69a-495a-f732-a77c87282cc3"
      },
      "source": [
        "pd.set_option('display.max_colwidth', None)\n",
        "loan_df = loan_data\n",
        "loan_df.head()"
      ],
      "execution_count": 63,
      "outputs": [
        {
          "output_type": "execute_result",
          "data": {
            "text/html": [
              "<div>\n",
              "<style scoped>\n",
              "    .dataframe tbody tr th:only-of-type {\n",
              "        vertical-align: middle;\n",
              "    }\n",
              "\n",
              "    .dataframe tbody tr th {\n",
              "        vertical-align: top;\n",
              "    }\n",
              "\n",
              "    .dataframe thead th {\n",
              "        text-align: right;\n",
              "    }\n",
              "</style>\n",
              "<table border=\"1\" class=\"dataframe\">\n",
              "  <thead>\n",
              "    <tr style=\"text-align: right;\">\n",
              "      <th></th>\n",
              "      <th>loan_use</th>\n",
              "      <th>description_translated</th>\n",
              "      <th>status</th>\n",
              "    </tr>\n",
              "  </thead>\n",
              "  <tbody>\n",
              "    <tr>\n",
              "      <th>1</th>\n",
              "      <td>to buy more groceries to sell in her general store</td>\n",
              "      <td>Rosa works hard to support her family. Rosa is married and has a general store business in the Philippines.&lt;br /&gt;&lt;br /&gt;Rosa requested a PHP 5,000 loan through NWTF to buy more groceries to sell in her general store.&lt;br /&gt;&lt;br /&gt;Rosa has been in this business for 10 years now.&lt;br /&gt;&lt;br /&gt;Rosa would like to save enough to provide a secure future for her family.</td>\n",
              "      <td>1</td>\n",
              "    </tr>\n",
              "    <tr>\n",
              "      <th>2</th>\n",
              "      <td>to buy more bananas to sell and other supplies needed in her business.</td>\n",
              "      <td>Warlita is a widowed woman with two children. She is a very hardworking entrepreneur. She is 54 years old and has one child currently in school.&lt;br /&gt;&lt;br /&gt;Warlita has a buy-and-sell banana business in the Philippines. She has requested a PHP 8,000 loan amount through NWTF to buy more bananas to sell and other supplies needed in her business. She has been in this business for three years. In the future, Warlita would like to save enough to provide a secure future for her family.</td>\n",
              "      <td>1</td>\n",
              "    </tr>\n",
              "    <tr>\n",
              "      <th>3</th>\n",
              "      <td>to buy more taro roots (seedlings), more banana tubers (seedlings), chemicals, a backpack sprayer, a wheelbarrow, a chainsaw, and a rake.</td>\n",
              "      <td>Faafofola is a 40-year-old married woman with three children. She runs a small business of planting taro and banana and sell them in her community to earn a living. She has four years of experience with this business. &lt;br /&gt;&lt;br /&gt;Faafofola works very hard to please her customers, and she is also well known in her community because of her good products. Faafofola needs a loan to buy more taro roots (seedlings), more banana tubers (seedlings), chemicals, a backpack sprayer, a wheelbarrow, a chainsaw, and a rake to help take her business to the next level. &lt;br /&gt;&lt;br /&gt;Her dream is that one day she will earn more profit to buy a vehicle to deliver her products to the market. She became a member of SPBD in 2013.</td>\n",
              "      <td>1</td>\n",
              "    </tr>\n",
              "    <tr>\n",
              "      <th>4</th>\n",
              "      <td>to increase her stock of  various brands of beer: 33 Export, Mutzig, Amstel,   etc</td>\n",
              "      <td>Veronique is a widow, …[text missing] years old, with seven children in her care. In order to provide for herself and her children, she has started a business selling alcoholic beverages, such as various brands of beer: 33 Export, Mutzig, Amstel, Castel, Guinness, etc. She also sells food.  She is seeking a loan that will allow her to keep a steady stock, avoid depleting her stock, and, if possible, take advantage of some discounts from the breweries. She plans to use her earnings to strengthen her business further and increase her sales level. \\r\\n</td>\n",
              "      <td>1</td>\n",
              "    </tr>\n",
              "    <tr>\n",
              "      <th>5</th>\n",
              "      <td>to buy fertilizers and seeds to get a good yield and grow his farming business.</td>\n",
              "      <td>Sabitu is married and lives with his family in an ordinary mud house in a small village in Kaduna state. In his community, farming is the primary occupation and, like many diligent smallholders, he dreams of scaling up his farm business.&lt;br /&gt;&lt;br /&gt;Sabitu is returning to work with Babban Gona this season, as he will get access to better-yielding seeds, fertilizers, and other essential farm inputs that will boost his yield. Apart from increasing Sabitu’s yield to ensure that his family never goes hungry, this loan will also help him earn up to three times in net income from selling his maize. Since he first joined Babban Gona in 2015, his happiest memory was buying a car.&lt;br /&gt;&lt;br /&gt;With lenders’ support to grow his farming business, Sabitu is looking forward to a bountiful harvest. Sabitu plans to use the profits from this season’s harvest to pay his children's school fees.</td>\n",
              "      <td>1</td>\n",
              "    </tr>\n",
              "  </tbody>\n",
              "</table>\n",
              "</div>"
            ],
            "text/plain": [
              "                                                                                                                                    loan_use  \\\n",
              "1                                                                                         to buy more groceries to sell in her general store   \n",
              "2                                                                     to buy more bananas to sell and other supplies needed in her business.   \n",
              "3  to buy more taro roots (seedlings), more banana tubers (seedlings), chemicals, a backpack sprayer, a wheelbarrow, a chainsaw, and a rake.   \n",
              "4                                                         to increase her stock of  various brands of beer: 33 Export, Mutzig, Amstel,   etc   \n",
              "5                                                            to buy fertilizers and seeds to get a good yield and grow his farming business.   \n",
              "\n",
              "                                                                                                                                                                                                                                                                                                                                                                                                                                                                                                                                                                                                                                                                                                                                                                                                                                                                                                   description_translated  \\\n",
              "1                                                                                                                                                                                                                                                                                                                                                                                                                                                                                                                                                Rosa works hard to support her family. Rosa is married and has a general store business in the Philippines.<br /><br />Rosa requested a PHP 5,000 loan through NWTF to buy more groceries to sell in her general store.<br /><br />Rosa has been in this business for 10 years now.<br /><br />Rosa would like to save enough to provide a secure future for her family.   \n",
              "2                                                                                                                                                                                                                                                                                                                                                                                                                     Warlita is a widowed woman with two children. She is a very hardworking entrepreneur. She is 54 years old and has one child currently in school.<br /><br />Warlita has a buy-and-sell banana business in the Philippines. She has requested a PHP 8,000 loan amount through NWTF to buy more bananas to sell and other supplies needed in her business. She has been in this business for three years. In the future, Warlita would like to save enough to provide a secure future for her family.   \n",
              "3                                                                                                                                                                            Faafofola is a 40-year-old married woman with three children. She runs a small business of planting taro and banana and sell them in her community to earn a living. She has four years of experience with this business. <br /><br />Faafofola works very hard to please her customers, and she is also well known in her community because of her good products. Faafofola needs a loan to buy more taro roots (seedlings), more banana tubers (seedlings), chemicals, a backpack sprayer, a wheelbarrow, a chainsaw, and a rake to help take her business to the next level. <br /><br />Her dream is that one day she will earn more profit to buy a vehicle to deliver her products to the market. She became a member of SPBD in 2013.   \n",
              "4                                                                                                                                                                                                                                                                                                                                             Veronique is a widow, …[text missing] years old, with seven children in her care. In order to provide for herself and her children, she has started a business selling alcoholic beverages, such as various brands of beer: 33 Export, Mutzig, Amstel, Castel, Guinness, etc. She also sells food.  She is seeking a loan that will allow her to keep a steady stock, avoid depleting her stock, and, if possible, take advantage of some discounts from the breweries. She plans to use her earnings to strengthen her business further and increase her sales level. \\r\\n   \n",
              "5  Sabitu is married and lives with his family in an ordinary mud house in a small village in Kaduna state. In his community, farming is the primary occupation and, like many diligent smallholders, he dreams of scaling up his farm business.<br /><br />Sabitu is returning to work with Babban Gona this season, as he will get access to better-yielding seeds, fertilizers, and other essential farm inputs that will boost his yield. Apart from increasing Sabitu’s yield to ensure that his family never goes hungry, this loan will also help him earn up to three times in net income from selling his maize. Since he first joined Babban Gona in 2015, his happiest memory was buying a car.<br /><br />With lenders’ support to grow his farming business, Sabitu is looking forward to a bountiful harvest. Sabitu plans to use the profits from this season’s harvest to pay his children's school fees.   \n",
              "\n",
              "   status  \n",
              "1       1  \n",
              "2       1  \n",
              "3       1  \n",
              "4       1  \n",
              "5       1  "
            ]
          },
          "metadata": {},
          "execution_count": 63
        }
      ]
    },
    {
      "cell_type": "code",
      "metadata": {
        "id": "tBG_WU7JG-lA"
      },
      "source": [
        ""
      ],
      "execution_count": null,
      "outputs": []
    },
    {
      "cell_type": "code",
      "metadata": {
        "id": "Hg_cOJYvbjqK"
      },
      "source": [
        "#loan_df.shape"
      ],
      "execution_count": null,
      "outputs": []
    },
    {
      "cell_type": "markdown",
      "metadata": {
        "id": "1scASJsPbxgy"
      },
      "source": [
        "RNN:Implement a basic RNN"
      ]
    },
    {
      "cell_type": "markdown",
      "metadata": {
        "id": "tCdvRpezcDMT"
      },
      "source": [
        "Read in, Clean and split the data"
      ]
    },
    {
      "cell_type": "code",
      "metadata": {
        "id": "gMTwlX8FbjvP"
      },
      "source": [
        "import numpy as np\n",
        "import pandas as pd\n",
        "from sklearn.model_selection import train_test_split\n",
        "pd.set_option('display.max_colwidth', 1000)"
      ],
      "execution_count": null,
      "outputs": []
    },
    {
      "cell_type": "code",
      "metadata": {
        "colab": {
          "base_uri": "https://localhost:8080/"
        },
        "id": "in6097H6bjzi",
        "outputId": "9a0a7a99-54f8-452e-f775-6967fda6f835"
      },
      "source": [
        "#Read the data in\n",
        "#data_df = learning_data.drop(columns=['sector_name'])\n",
        "features = loan_data_3['description_translated']\n",
        "labels = loan_data_3['status']\n",
        "labels.value_counts()"
      ],
      "execution_count": 64,
      "outputs": [
        {
          "output_type": "execute_result",
          "data": {
            "text/plain": [
              "1    1537208\n",
              "0    1537208\n",
              "Name: status, dtype: int64"
            ]
          },
          "metadata": {},
          "execution_count": 64
        }
      ]
    },
    {
      "cell_type": "code",
      "metadata": {
        "id": "5rmixi_Y6zXj"
      },
      "source": [
        "#loan_data.to_csv('applications.csv', index=False)"
      ],
      "execution_count": null,
      "outputs": []
    },
    {
      "cell_type": "code",
      "metadata": {
        "id": "stRgOzvHbj6l"
      },
      "source": [
        "#Spliting the data for training and testing\n",
        "X_train, X_test, y_train, y_test = train_test_split(features, labels, test_size=0.2, random_state=42)"
      ],
      "execution_count": 65,
      "outputs": []
    },
    {
      "cell_type": "code",
      "metadata": {
        "id": "WFUsTLv3bj-O"
      },
      "source": [
        "# # Install Keras\n",
        "# !pip install -U keras==2.6.0"
      ],
      "execution_count": null,
      "outputs": []
    },
    {
      "cell_type": "code",
      "metadata": {
        "id": "L43dwJ1UfXZT"
      },
      "source": [
        "# Import the tools needed for keras\n",
        "from keras.preprocessing.text import Tokenizer\n",
        "from keras.preprocessing.sequence import pad_sequences"
      ],
      "execution_count": 66,
      "outputs": []
    },
    {
      "cell_type": "markdown",
      "metadata": {
        "id": "bD_NLck0gQnM"
      },
      "source": [
        "Using Tensorflow backend"
      ]
    },
    {
      "cell_type": "code",
      "metadata": {
        "id": "TmuUybIMfXcr"
      },
      "source": [
        "# Initialize and fit the tokenizer\n",
        "tokenizer = Tokenizer()\n",
        "tokenizer.fit_on_texts(X_train)"
      ],
      "execution_count": 67,
      "outputs": []
    },
    {
      "cell_type": "code",
      "metadata": {
        "id": "zdtQ2db5fXji"
      },
      "source": [
        "#Use that tokenizer to transform the data in the training \n",
        "X_train_seq = tokenizer.texts_to_sequences(X_train)\n",
        "X_test_seq = tokenizer.texts_to_sequences(X_test)"
      ],
      "execution_count": 68,
      "outputs": []
    },
    {
      "cell_type": "code",
      "metadata": {
        "colab": {
          "base_uri": "https://localhost:8080/"
        },
        "id": "9qZ8jxr4fXmz",
        "outputId": "d570fc72-6062-4bc7-a8b4-9581cff1a783"
      },
      "source": [
        "X_train_seq[0][:15]"
      ],
      "execution_count": 69,
      "outputs": [
        {
          "output_type": "execute_result",
          "data": {
            "text/plain": [
              "[1713, 13309, 6, 762, 20, 29, 2, 41, 17, 12, 154, 13, 41, 8, 12]"
            ]
          },
          "metadata": {},
          "execution_count": 69
        }
      ]
    },
    {
      "cell_type": "code",
      "metadata": {
        "id": "AZXbh6yRJhid"
      },
      "source": [
        ""
      ],
      "execution_count": null,
      "outputs": []
    },
    {
      "cell_type": "code",
      "metadata": {
        "id": "vb7_V74fi8Ys"
      },
      "source": [
        "# Pad the sequences so each sequence is the same length\n",
        "X_train_seq_padded = pad_sequences(X_train_seq, 50)\n",
        "X_test_seq_padded = pad_sequences(X_test_seq, 50)"
      ],
      "execution_count": 70,
      "outputs": []
    },
    {
      "cell_type": "code",
      "metadata": {
        "colab": {
          "base_uri": "https://localhost:8080/"
        },
        "id": "FgdzeiCMi8cq",
        "outputId": "be0caee2-749b-4d5c-cb25-d9dc3a6559d0"
      },
      "source": [
        "X_train_seq_padded[0]"
      ],
      "execution_count": 71,
      "outputs": [
        {
          "output_type": "execute_result",
          "data": {
            "text/plain": [
              "array([   3, 4410,  289,    2,   14,  408, 3278,  247,    8,    3,  225,\n",
              "         10,   10,   13,    6,  116,    4,   15,    1,   28, 3835,  107,\n",
              "         11, 2939,    2,  107,   12, 1173,    8,   19,  205,   13,   21,\n",
              "        120,    4,  100,   33,   11,  447,    2,   12,   26,   13,    6,\n",
              "          4, 2348,  700,    9, 1448, 1388], dtype=int32)"
            ]
          },
          "metadata": {},
          "execution_count": 71
        }
      ]
    },
    {
      "cell_type": "markdown",
      "metadata": {
        "id": "AESEBcNDkY7L"
      },
      "source": [
        "Building the model\n"
      ]
    },
    {
      "cell_type": "code",
      "metadata": {
        "id": "AtbOgIr2i8f6"
      },
      "source": [
        "# Import the tools needed for keras and define the functions to calculate recall and precision\n",
        "import keras.backend as K\n",
        "from keras.layers import Dense, Embedding, LSTM\n",
        "from keras.models import Sequential\n",
        "\n",
        "def recall_m(y_true, y_pred):\n",
        "  true_positives = K.sum(K.round(K.clip(y_true * y_pred, 0, 1)))\n",
        "  possible_positives = K.sum(K.round(K.clip(y_true, 0, 1)))\n",
        "  recall = true_positives / (possible_positives + K.epsilon())\n",
        "  return recall\n",
        "\n",
        "def precision_m(y_true, y_pred):\n",
        "  true_positives = K.sum(K.round(K.clip(y_true * y_pred, 0, 1)))\n",
        "  predicted_positives = K.sum(K.round(K.clip(y_pred, 0, 1)))\n",
        "  recall = true_positives / (predicted_positives + K.epsilon())\n",
        "  return recall\n"
      ],
      "execution_count": 72,
      "outputs": []
    },
    {
      "cell_type": "code",
      "metadata": {
        "id": "6vbI6vHBMW0f",
        "colab": {
          "base_uri": "https://localhost:8080/"
        },
        "outputId": "ec200d68-bdf7-499f-8532-2c718168d69e"
      },
      "source": [
        "#Construct a RNN model\n",
        "model = Sequential()\n",
        "\n",
        "model.add(Embedding(len(tokenizer.index_word)+1, 32))\n",
        "model.add(LSTM(32, dropout=0, recurrent_dropout=0))\n",
        "model.add(Dense(32, activation='relu'))\n",
        "model.add(Dense(1, activation='sigmoid'))\n",
        "model.summary()"
      ],
      "execution_count": 73,
      "outputs": [
        {
          "output_type": "stream",
          "name": "stdout",
          "text": [
            "Model: \"sequential\"\n",
            "_________________________________________________________________\n",
            " Layer (type)                Output Shape              Param #   \n",
            "=================================================================\n",
            " embedding (Embedding)       (None, None, 32)          12493376  \n",
            "                                                                 \n",
            " lstm (LSTM)                 (None, 32)                8320      \n",
            "                                                                 \n",
            " dense (Dense)               (None, 32)                1056      \n",
            "                                                                 \n",
            " dense_1 (Dense)             (None, 1)                 33        \n",
            "                                                                 \n",
            "=================================================================\n",
            "Total params: 12,502,785\n",
            "Trainable params: 12,502,785\n",
            "Non-trainable params: 0\n",
            "_________________________________________________________________\n"
          ]
        }
      ]
    },
    {
      "cell_type": "code",
      "metadata": {
        "id": "-dzGhs8Tcvl_"
      },
      "source": [
        "# Compile the model\n",
        "model.compile(optimizer='adam',\n",
        "              loss='binary_crossentropy',\n",
        "              metrics=['accuracy', precision_m, recall_m])"
      ],
      "execution_count": 74,
      "outputs": []
    },
    {
      "cell_type": "code",
      "metadata": {
        "colab": {
          "base_uri": "https://localhost:8080/"
        },
        "id": "wBxxEmhHRdpJ",
        "outputId": "a2b394f3-ebfd-4bde-cbde-f8df9eef32cf"
      },
      "source": [
        "# Define  a model\n",
        "import tensorflow as tf\n",
        "from tensorflow import keras\n",
        "\n",
        "def create_model():\n",
        "    model = keras.models.Sequential([\n",
        "                                    keras.layers.Embedding(len(tokenizer.index_word)+1, 32),\n",
        "                                    keras.layers.LSTM(32, dropout=0, recurrent_dropout=0),\n",
        "                                    keras.layers.Dense(32, activation='relu'),\n",
        "                                    keras.layers.Dense(1, activation='sigmoid')\n",
        "    ])\n",
        "    model.compile(optimizer='adam',loss='binary_crossentropy',metrics=['accuracy', precision_m, recall_m])\n",
        "    return model\n",
        " \n",
        "\n",
        "# Create a basic model instance\n",
        "model = create_model()\n",
        "model.summary()"
      ],
      "execution_count": 75,
      "outputs": [
        {
          "output_type": "stream",
          "name": "stdout",
          "text": [
            "Model: \"sequential_1\"\n",
            "_________________________________________________________________\n",
            " Layer (type)                Output Shape              Param #   \n",
            "=================================================================\n",
            " embedding_1 (Embedding)     (None, None, 32)          12493376  \n",
            "                                                                 \n",
            " lstm_1 (LSTM)               (None, 32)                8320      \n",
            "                                                                 \n",
            " dense_2 (Dense)             (None, 32)                1056      \n",
            "                                                                 \n",
            " dense_3 (Dense)             (None, 1)                 33        \n",
            "                                                                 \n",
            "=================================================================\n",
            "Total params: 12,502,785\n",
            "Trainable params: 12,502,785\n",
            "Non-trainable params: 0\n",
            "_________________________________________________________________\n"
          ]
        }
      ]
    },
    {
      "cell_type": "code",
      "metadata": {
        "id": "b5oP0yEDidjE"
      },
      "source": [
        "#Check first to see if file exits already\n",
        "# if not, the model is saved to disk\n",
        "import os.path\n",
        "if os.path.isfile('models/kiva_over_model.h5') is False:\n",
        "    model.save('models/kiva_over_model.h5')"
      ],
      "execution_count": 76,
      "outputs": []
    },
    {
      "cell_type": "code",
      "metadata": {
        "colab": {
          "base_uri": "https://localhost:8080/"
        },
        "id": "JuVVUuk1kfWi",
        "outputId": "4b0b5c60-3852-4fdc-9009-5328dbf4381c"
      },
      "source": [
        "history = model.fit(X_train_seq_padded, y_train,\n",
        "                    batch_size=32, epochs=5,\n",
        "                    validation_data=(X_test_seq_padded, y_test)) "
      ],
      "execution_count": 78,
      "outputs": [
        {
          "output_type": "stream",
          "name": "stdout",
          "text": [
            "Epoch 1/5\n",
            "76861/76861 [==============================] - 583s 8ms/step - loss: 0.4051 - accuracy: 0.8113 - precision_m: 0.8524 - recall_m: 0.7539 - val_loss: 0.3121 - val_accuracy: 0.8643 - val_precision_m: 0.9119 - val_recall_m: 0.8064\n",
            "Epoch 2/5\n",
            "76861/76861 [==============================] - 578s 8ms/step - loss: 0.2530 - accuracy: 0.8950 - precision_m: 0.9308 - recall_m: 0.8540 - val_loss: 0.2268 - val_accuracy: 0.9086 - val_precision_m: 0.9476 - val_recall_m: 0.8648\n",
            "Epoch 3/5\n",
            "76861/76861 [==============================] - 576s 7ms/step - loss: 0.1862 - accuracy: 0.9270 - precision_m: 0.9587 - recall_m: 0.8926 - val_loss: 0.1877 - val_accuracy: 0.9274 - val_precision_m: 0.9657 - val_recall_m: 0.8861\n",
            "Epoch 4/5\n",
            "76861/76861 [==============================] - 577s 8ms/step - loss: 0.1511 - accuracy: 0.9429 - precision_m: 0.9701 - recall_m: 0.9141 - val_loss: 0.1640 - val_accuracy: 0.9385 - val_precision_m: 0.9716 - val_recall_m: 0.9032\n",
            "Epoch 5/5\n",
            "76861/76861 [==============================] - 578s 8ms/step - loss: 0.1301 - accuracy: 0.9519 - precision_m: 0.9756 - recall_m: 0.9273 - val_loss: 0.1527 - val_accuracy: 0.9441 - val_precision_m: 0.9742 - val_recall_m: 0.9123\n"
          ]
        }
      ]
    },
    {
      "cell_type": "markdown",
      "metadata": {
        "id": "0PdL-fg_Lqdl"
      },
      "source": [
        "Clean up text\n"
      ]
    },
    {
      "cell_type": "markdown",
      "metadata": {
        "id": "ke2ug2YjMZ61"
      },
      "source": [
        "Lemmatize text"
      ]
    },
    {
      "cell_type": "code",
      "metadata": {
        "id": "q33DweFJJqRK",
        "colab": {
          "base_uri": "https://localhost:8080/",
          "height": 861
        },
        "outputId": "e5b7147f-9bc5-4425-a971-ccdedc2228ef"
      },
      "source": [
        "import matplotlib.pyplot as plt\n",
        "\n",
        "for i in ['accuracy', 'precision_m', 'recall_m']:\n",
        "    acc = history.history[i]\n",
        "    val_acc = history.history['val_{}'.format(i)]\n",
        "    epochs = range(1, len(acc) + 1)\n",
        "\n",
        "    plt.figure()\n",
        "    plt.plot(epochs, acc, label='Training Accuracy')\n",
        "    plt.plot(epochs, val_acc, label='Validation Accuracy')\n",
        "    plt.title('Results for {}'.format(i))\n",
        "    plt.legend()\n",
        "    plt.show()\n",
        "    plt.savefig('fig_rnn1.png')"
      ],
      "execution_count": 79,
      "outputs": [
        {
          "output_type": "display_data",
          "data": {
            "image/png": "[encoded data removed]",
            "text/plain": [
              "<Figure size 432x288 with 1 Axes>"
            ]
          },
          "metadata": {
            "needs_background": "light"
          }
        },
        {
          "output_type": "display_data",
          "data": {
            "text/plain": [
              "<Figure size 432x288 with 0 Axes>"
            ]
          },
          "metadata": {}
        },
        {
          "output_type": "display_data",
          "data": {
            "image/png": "[encoded data removed]",
            "text/plain": [
              "<Figure size 432x288 with 1 Axes>"
            ]
          },
          "metadata": {
            "needs_background": "light"
          }
        },
        {
          "output_type": "display_data",
          "data": {
            "text/plain": [
              "<Figure size 432x288 with 0 Axes>"
            ]
          },
          "metadata": {}
        },
        {
          "output_type": "display_data",
          "data": {
            "image/png": "[encoded data removed]",
            "text/plain": [
              "<Figure size 432x288 with 1 Axes>"
            ]
          },
          "metadata": {
            "needs_background": "light"
          }
        },
        {
          "output_type": "display_data",
          "data": {
            "text/plain": [
              "<Figure size 432x288 with 0 Axes>"
            ]
          },
          "metadata": {}
        }
      ]
    },
    {
      "cell_type": "code",
      "metadata": {
        "id": "1Sez-vbeVKob"
      },
      "source": [
        "# loan_data_2 = df_loan_under[['loan_use', 'status']]\n",
        "# loan_df3 = loan_data_2.copy()"
      ],
      "execution_count": null,
      "outputs": []
    },
    {
      "cell_type": "code",
      "metadata": {
        "id": "lvTuJ0oMVKsR",
        "colab": {
          "base_uri": "https://localhost:8080/"
        },
        "outputId": "82ce9e7a-e132-41d8-ca70-a27aaf50a7b6"
      },
      "source": [
        "#Read the data in\n",
        "#data_df = learning_data.drop(columns=['sector_name'])\n",
        "features = loan_data_4['loan_use']\n",
        "labels = loan_data_4['status']\n",
        "labels.value_counts()"
      ],
      "execution_count": 81,
      "outputs": [
        {
          "output_type": "execute_result",
          "data": {
            "text/plain": [
              "1    1537208\n",
              "0    1537208\n",
              "Name: status, dtype: int64"
            ]
          },
          "metadata": {},
          "execution_count": 81
        }
      ]
    },
    {
      "cell_type": "code",
      "metadata": {
        "id": "7yEPYFSidoTJ"
      },
      "source": [
        "#Spliting the data for training and testing\n",
        "X_train, X_test, y_train, y_test = train_test_split(features, labels, test_size=0.2, random_state=42)"
      ],
      "execution_count": 82,
      "outputs": []
    },
    {
      "cell_type": "code",
      "metadata": {
        "id": "XJsrllovy8Lv"
      },
      "source": [
        "# Initialize and fit the tokenizer\n",
        "tokenizer = Tokenizer()\n",
        "tokenizer.fit_on_texts(X_train)"
      ],
      "execution_count": 83,
      "outputs": []
    },
    {
      "cell_type": "code",
      "metadata": {
        "id": "Mn0BzGhmzTFS"
      },
      "source": [
        "#Use that tokenizer to transform the data in the training \n",
        "X_train_seq = tokenizer.texts_to_sequences(X_train)\n",
        "X_test_seq = tokenizer.texts_to_sequences(X_test)"
      ],
      "execution_count": 84,
      "outputs": []
    },
    {
      "cell_type": "code",
      "metadata": {
        "id": "yb001F0LzTQW"
      },
      "source": [
        "# Pad the sequences so each sequence is the same length\n",
        "X_train_seq_padded = pad_sequences(X_train_seq, 50)\n",
        "X_test_seq_padded = pad_sequences(X_test_seq, 50)"
      ],
      "execution_count": 85,
      "outputs": []
    },
    {
      "cell_type": "code",
      "metadata": {
        "id": "23eZZpPqzTbh",
        "colab": {
          "base_uri": "https://localhost:8080/"
        },
        "outputId": "43a4f303-1578-4f90-87c4-6bc03b34b8c9"
      },
      "source": [
        "X_train_seq_padded[0]"
      ],
      "execution_count": 86,
      "outputs": [
        {
          "output_type": "execute_result",
          "data": {
            "text/plain": [
              "array([  0,   0,   0,   0,   0,   0,   0,   0,   0,   0,   0,   0,   0,\n",
              "         0,   0,   0,   0,   0,   0,   0,   0,   0,   0,   0,   0,   0,\n",
              "         0,   0,   0,   0,   0,   0,   0,   0,   0,   0,   0,   0,   0,\n",
              "         0,   1,   3, 723,  15,   4, 703,   2,  15,   9, 372], dtype=int32)"
            ]
          },
          "metadata": {},
          "execution_count": 86
        }
      ]
    },
    {
      "cell_type": "code",
      "metadata": {
        "id": "49-9lQhAy8QI"
      },
      "source": [
        "# Import the tools needed for keras and define the functions to calculate recall and precision\n",
        "import keras.backend as K\n",
        "from keras.layers import Dense, Embedding, LSTM\n",
        "from keras.models import Sequential\n",
        "\n",
        "def recall_m(y_true, y_pred):\n",
        "  true_positives = K.sum(K.round(K.clip(y_true * y_pred, 0, 1)))\n",
        "  possible_positives = K.sum(K.round(K.clip(y_true, 0, 1)))\n",
        "  recall = true_positives / (possible_positives + K.epsilon())\n",
        "  return recall\n",
        "\n",
        "def precision_m(y_true, y_pred):\n",
        "  true_positives = K.sum(K.round(K.clip(y_true * y_pred, 0, 1)))\n",
        "  predicted_positives = K.sum(K.round(K.clip(y_pred, 0, 1)))\n",
        "  recall = true_positives / (predicted_positives + K.epsilon())\n",
        "  return recall"
      ],
      "execution_count": 87,
      "outputs": []
    },
    {
      "cell_type": "code",
      "metadata": {
        "id": "WzcofuRyy8UD",
        "colab": {
          "base_uri": "https://localhost:8080/"
        },
        "outputId": "47817f67-9a12-41c2-a006-600f6c8af3a0"
      },
      "source": [
        "# Define  a model\n",
        "import tensorflow as tf\n",
        "from tensorflow import keras\n",
        "\n",
        "def create_model():\n",
        "    model = keras.models.Sequential([\n",
        "                                    keras.layers.Embedding(len(tokenizer.index_word)+1, 32),\n",
        "                                    keras.layers.LSTM(32, dropout=0, recurrent_dropout=0),\n",
        "                                    keras.layers.Dense(32, activation='relu'),\n",
        "                                    keras.layers.Dense(1, activation='sigmoid')\n",
        "    ])\n",
        "    model.compile(optimizer='adam',loss='binary_crossentropy',metrics=['accuracy', precision_m, recall_m])\n",
        "    return model\n",
        " \n",
        "\n",
        "# Create a basic model instance\n",
        "model = create_model()\n",
        "model.summary()"
      ],
      "execution_count": 88,
      "outputs": [
        {
          "output_type": "stream",
          "name": "stdout",
          "text": [
            "Model: \"sequential_2\"\n",
            "_________________________________________________________________\n",
            " Layer (type)                Output Shape              Param #   \n",
            "=================================================================\n",
            " embedding_2 (Embedding)     (None, None, 32)          1171744   \n",
            "                                                                 \n",
            " lstm_2 (LSTM)               (None, 32)                8320      \n",
            "                                                                 \n",
            " dense_4 (Dense)             (None, 32)                1056      \n",
            "                                                                 \n",
            " dense_5 (Dense)             (None, 1)                 33        \n",
            "                                                                 \n",
            "=================================================================\n",
            "Total params: 1,181,153\n",
            "Trainable params: 1,181,153\n",
            "Non-trainable params: 0\n",
            "_________________________________________________________________\n"
          ]
        }
      ]
    },
    {
      "cell_type": "code",
      "metadata": {
        "id": "gBNRvwog9esK"
      },
      "source": [
        "# #Construct a RNN model\n",
        "# model = Sequential()\n",
        "\n",
        "# model.add(Embedding(len(tokenizer.index_word)+1, 32))\n",
        "# model.add(LSTM(32, dropout=0, recurrent_dropout=0))\n",
        "# model.add(Dense(32, activation='relu'))\n",
        "# model.add(Dense(1, activation='sigmoid'))\n",
        "# model.summary()"
      ],
      "execution_count": null,
      "outputs": []
    },
    {
      "cell_type": "code",
      "metadata": {
        "id": "qAbEoz7U9kmP"
      },
      "source": [
        "# # Compile the model\n",
        "# model.compile(optimizer='adam',\n",
        "#               loss='binary_crossentropy',\n",
        "#               metrics=['accuracy', precision_m, recall_m])"
      ],
      "execution_count": null,
      "outputs": []
    },
    {
      "cell_type": "code",
      "metadata": {
        "id": "l-FVUA_Cy8gc"
      },
      "source": [
        "#Check first to see if file exits already\n",
        "# if not, the model is saved to disk\n",
        "import os.path\n",
        "if os.path.isfile('models/loan_use_model.h5') is False:\n",
        "    model.save('models/loan_use_model.h5')"
      ],
      "execution_count": 89,
      "outputs": []
    },
    {
      "cell_type": "code",
      "metadata": {
        "id": "0Mc-df-M0HZM",
        "colab": {
          "base_uri": "https://localhost:8080/"
        },
        "outputId": "c143e8e7-b5b0-481e-8c61-28e3cbc2e140"
      },
      "source": [
        "history = model.fit(X_train_seq_padded, y_train,\n",
        "                    batch_size=32, epochs=5,\n",
        "                    validation_data=(X_test_seq_padded, y_test)) "
      ],
      "execution_count": 90,
      "outputs": [
        {
          "output_type": "stream",
          "name": "stdout",
          "text": [
            "Epoch 1/5\n",
            "76861/76861 [==============================] - 436s 6ms/step - loss: 0.5032 - accuracy: 0.7459 - precision_m: 0.7820 - recall_m: 0.6836 - val_loss: 0.4600 - val_accuracy: 0.7762 - val_precision_m: 0.8048 - val_recall_m: 0.7292\n",
            "Epoch 2/5\n",
            "76861/76861 [==============================] - 435s 6ms/step - loss: 0.4273 - accuracy: 0.7945 - precision_m: 0.8379 - recall_m: 0.7309 - val_loss: 0.4107 - val_accuracy: 0.8053 - val_precision_m: 0.8473 - val_recall_m: 0.7447\n",
            "Epoch 3/5\n",
            "76861/76861 [==============================] - 436s 6ms/step - loss: 0.3853 - accuracy: 0.8186 - precision_m: 0.8648 - recall_m: 0.7558 - val_loss: 0.3858 - val_accuracy: 0.8190 - val_precision_m: 0.8864 - val_recall_m: 0.7315\n",
            "Epoch 4/5\n",
            "76861/76861 [==============================] - 435s 6ms/step - loss: 0.3612 - accuracy: 0.8320 - precision_m: 0.8794 - recall_m: 0.7701 - val_loss: 0.3683 - val_accuracy: 0.8305 - val_precision_m: 0.8811 - val_recall_m: 0.7641\n",
            "Epoch 5/5\n",
            "76861/76861 [==============================] - 433s 6ms/step - loss: 0.3470 - accuracy: 0.8398 - precision_m: 0.8864 - recall_m: 0.7798 - val_loss: 0.3588 - val_accuracy: 0.8347 - val_precision_m: 0.8823 - val_recall_m: 0.7725\n"
          ]
        }
      ]
    },
    {
      "cell_type": "code",
      "metadata": {
        "id": "L0uE_baF0Hc3",
        "colab": {
          "base_uri": "https://localhost:8080/",
          "height": 861
        },
        "outputId": "5ba19621-1714-4756-e6a0-0d1dab5a998d"
      },
      "source": [
        "import matplotlib.pyplot as plt\n",
        "\n",
        "for i in ['accuracy', 'precision_m', 'recall_m']:\n",
        "    acc = history.history[i]\n",
        "    val_acc = history.history['val_{}'.format(i)]\n",
        "    epochs = range(1, len(acc) + 1)\n",
        "\n",
        "    plt.figure()\n",
        "    plt.plot(epochs, acc, label='Training Accuracy')\n",
        "    plt.plot(epochs, val_acc, label='Validation Accuracy')\n",
        "    plt.title('Results for {}'.format(i))\n",
        "    plt.legend()\n",
        "    plt.show()\n",
        "    plt.savefig('fig_rnn2.png')"
      ],
      "execution_count": 91,
      "outputs": [
        {
          "output_type": "display_data",
          "data": {
            "image/png": "[encoded data removed]",
            "text/plain": [
              "<Figure size 432x288 with 1 Axes>"
            ]
          },
          "metadata": {
            "needs_background": "light"
          }
        },
        {
          "output_type": "display_data",
          "data": {
            "text/plain": [
              "<Figure size 432x288 with 0 Axes>"
            ]
          },
          "metadata": {}
        },
        {
          "output_type": "display_data",
          "data": {
            "image/png": "[encoded data removed]",
            "text/plain": [
              "<Figure size 432x288 with 1 Axes>"
            ]
          },
          "metadata": {
            "needs_background": "light"
          }
        },
        {
          "output_type": "display_data",
          "data": {
            "text/plain": [
              "<Figure size 432x288 with 0 Axes>"
            ]
          },
          "metadata": {}
        },
        {
          "output_type": "display_data",
          "data": {
            "image/png": "[encoded data removed]",
            "text/plain": [
              "<Figure size 432x288 with 1 Axes>"
            ]
          },
          "metadata": {
            "needs_background": "light"
          }
        },
        {
          "output_type": "display_data",
          "data": {
            "text/plain": [
              "<Figure size 432x288 with 0 Axes>"
            ]
          },
          "metadata": {}
        }
      ]
    },
    {
      "cell_type": "code",
      "metadata": {
        "id": "a1UnK-840Hgq"
      },
      "source": [
        ""
      ],
      "execution_count": null,
      "outputs": []
    }
  ]
}