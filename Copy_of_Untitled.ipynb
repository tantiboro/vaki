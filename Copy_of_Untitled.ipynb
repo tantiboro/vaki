{
  "nbformat": 4,
  "nbformat_minor": 0,
  "metadata": {
    "colab": {
      "name": "Copy of Untitled",
      "provenance": [],
      "collapsed_sections": [],
      "toc_visible": true,
      "mount_file_id": "1km0_AzPc56arSM4hyrlOA686FkW-Etlr",
      "authorship_tag": "ABX9TyOT0NmKAXP1CCPRAsV3rZ56",
      "include_colab_link": true
    },
    "kernelspec": {
      "name": "python3",
      "display_name": "Python 3"
    },
    "language_info": {
      "name": "python"
    }
  },
  "cells": [
    {
      "cell_type": "markdown",
      "metadata": {
        "id": "view-in-github",
        "colab_type": "text"
      },
      "source": [
        "<a href=\"https://colab.research.google.com/github/tantiboro/vaki/blob/main/Copy_of_Untitled.ipynb\" target=\"_parent\"><img src=\"https://colab.research.google.com/assets/colab-badge.svg\" alt=\"Open In Colab\"/></a>"
      ]
    },
    {
      "cell_type": "code",
      "metadata": {
        "id": "k62AJ6U7Bp7Q"
      },
      "source": [
        "#import the Dependencies\n",
        "import pandas as pd\n",
        "import numpy as np\n",
        "import seaborn as sns\n",
        "pd.set_option('display.max_rows', 50)\n",
        "pd.set_option('display.max_columns', 50)"
      ],
      "execution_count": null,
      "outputs": []
    },
    {
      "cell_type": "code",
      "metadata": {
        "id": "IZCkPJhG-cLh"
      },
      "source": [
        "#df = pd.read_csv('/content/drive/MyDrive/New Folder/loans_lenders.csv')"
      ],
      "execution_count": null,
      "outputs": []
    },
    {
      "cell_type": "code",
      "metadata": {
        "id": "hQ81Bq_lBjQ0"
      },
      "source": [
        ""
      ],
      "execution_count": null,
      "outputs": []
    },
    {
      "cell_type": "code",
      "metadata": {
        "id": "nFAlicYMkEd-"
      },
      "source": [
        "#df.isnull().sum()"
      ],
      "execution_count": null,
      "outputs": []
    },
    {
      "cell_type": "code",
      "metadata": {
        "id": "Co-SnTrmkHfW"
      },
      "source": [
        "#df.info()"
      ],
      "execution_count": null,
      "outputs": []
    },
    {
      "cell_type": "code",
      "metadata": {
        "id": "tHEtqCPsrJUL"
      },
      "source": [
        ""
      ],
      "execution_count": null,
      "outputs": []
    },
    {
      "cell_type": "code",
      "metadata": {
        "id": "18yHmCKdu9eV"
      },
      "source": [
        "#loading the dataset\n",
        "df = pd.read_csv('/content/drive/MyDrive/New Folder/loans.csv')"
      ],
      "execution_count": null,
      "outputs": []
    },
    {
      "cell_type": "code",
      "metadata": {
        "colab": {
          "base_uri": "https://localhost:8080/"
        },
        "id": "ZexAKrYRPOQ-",
        "outputId": "e9031d72-cd2b-4118-bdb7-f1d3776d0e3c"
      },
      "source": [
        "# How many columns and rows are they in the dataset\n",
        "print(f'The dataset has {df.shape[0]} rows and {df.shape[1]} columns.')"
      ],
      "execution_count": null,
      "outputs": [
        {
          "output_type": "stream",
          "name": "stdout",
          "text": [
            "The dataset has 2086700 rows and 34 columns.\n"
          ]
        }
      ]
    },
    {
      "cell_type": "code",
      "metadata": {
        "colab": {
          "base_uri": "https://localhost:8080/"
        },
        "id": "xd9Gt5g7O5td",
        "outputId": "d1c4d2b7-685b-4ba0-e425-3e2574f572c6"
      },
      "source": [
        "print(f'The columns of the dataset are: {df.columns.to_list()}')"
      ],
      "execution_count": null,
      "outputs": [
        {
          "output_type": "stream",
          "name": "stdout",
          "text": [
            "The columns of the dataset are: ['LOAN_ID', 'LOAN_NAME', 'ORIGINAL_LANGUAGE', 'DESCRIPTION', 'DESCRIPTION_TRANSLATED', 'FUNDED_AMOUNT', 'LOAN_AMOUNT', 'STATUS', 'IMAGE_ID', 'VIDEO_ID', 'ACTIVITY_NAME', 'SECTOR_NAME', 'LOAN_USE', 'COUNTRY_CODE', 'COUNTRY_NAME', 'TOWN_NAME', 'CURRENCY_POLICY', 'CURRENCY_EXCHANGE_COVERAGE_RATE', 'CURRENCY', 'PARTNER_ID', 'POSTED_TIME', 'PLANNED_EXPIRATION_TIME', 'DISBURSE_TIME', 'RAISED_TIME', 'LENDER_TERM', 'NUM_LENDERS_TOTAL', 'NUM_JOURNAL_ENTRIES', 'NUM_BULK_ENTRIES', 'TAGS', 'BORROWER_NAMES', 'BORROWER_GENDERS', 'BORROWER_PICTURED', 'REPAYMENT_INTERVAL', 'DISTRIBUTION_MODEL']\n"
          ]
        }
      ]
    },
    {
      "cell_type": "code",
      "metadata": {
        "colab": {
          "base_uri": "https://localhost:8080/"
        },
        "id": "tt8RaHKhQANc",
        "outputId": "330a3826-80d8-40d8-8a9c-3bad99c9caa4"
      },
      "source": [
        "# How many NaN are in the dataframe\n",
        "df.isnull().sum()"
      ],
      "execution_count": null,
      "outputs": [
        {
          "output_type": "execute_result",
          "data": {
            "text/plain": [
              "LOAN_ID                                  0\n",
              "LOAN_NAME                            50238\n",
              "ORIGINAL_LANGUAGE                    45891\n",
              "DESCRIPTION                          45926\n",
              "DESCRIPTION_TRANSLATED              455312\n",
              "FUNDED_AMOUNT                            0\n",
              "LOAN_AMOUNT                              0\n",
              "STATUS                                   0\n",
              "IMAGE_ID                             45891\n",
              "VIDEO_ID                           2085522\n",
              "ACTIVITY_NAME                            0\n",
              "SECTOR_NAME                              0\n",
              "LOAN_USE                             45914\n",
              "COUNTRY_CODE                            34\n",
              "COUNTRY_NAME                             0\n",
              "TOWN_NAME                           176345\n",
              "CURRENCY_POLICY                          0\n",
              "CURRENCY_EXCHANGE_COVERAGE_RATE     473453\n",
              "CURRENCY                                 0\n",
              "PARTNER_ID                           21173\n",
              "POSTED_TIME                              0\n",
              "PLANNED_EXPIRATION_TIME             371834\n",
              "DISBURSE_TIME                         4013\n",
              "RAISED_TIME                         102686\n",
              "LENDER_TERM                             24\n",
              "NUM_LENDERS_TOTAL                        0\n",
              "NUM_JOURNAL_ENTRIES                      0\n",
              "NUM_BULK_ENTRIES                         0\n",
              "TAGS                                942813\n",
              "BORROWER_NAMES                       50238\n",
              "BORROWER_GENDERS                     45891\n",
              "BORROWER_PICTURED                    45891\n",
              "REPAYMENT_INTERVAL                       0\n",
              "DISTRIBUTION_MODEL                       0\n",
              "dtype: int64"
            ]
          },
          "metadata": {},
          "execution_count": 6
        }
      ]
    },
    {
      "cell_type": "code",
      "metadata": {
        "id": "UgdwRnqpQv0E"
      },
      "source": [
        "# Dropping columns with more than 100k missing values and only informative data\n",
        "df1 = df.drop(columns = ['VIDEO_ID', 'CURRENCY_EXCHANGE_COVERAGE_RATE', 'TOWN_NAME', 'PLANNED_EXPIRATION_TIME', 'RAISED_TIME', 'TAGS', 'IMAGE_ID', 'PARTNER_ID', 'LOAN_NAME', 'ORIGINAL_LANGUAGE', 'BORROWER_NAMES', 'BORROWER_PICTURED', 'DISBURSE_TIME', 'DESCRIPTION'], axis=1)"
      ],
      "execution_count": null,
      "outputs": []
    },
    {
      "cell_type": "code",
      "metadata": {
        "colab": {
          "base_uri": "https://localhost:8080/"
        },
        "id": "9i7QZ0FttKUM",
        "outputId": "209f9ca6-1800-4bab-9c49-d2067c04b111"
      },
      "source": [
        "df1.isnull().sum()"
      ],
      "execution_count": null,
      "outputs": [
        {
          "output_type": "execute_result",
          "data": {
            "text/plain": [
              "LOAN_ID                        0\n",
              "DESCRIPTION_TRANSLATED    455312\n",
              "FUNDED_AMOUNT                  0\n",
              "LOAN_AMOUNT                    0\n",
              "STATUS                         0\n",
              "ACTIVITY_NAME                  0\n",
              "SECTOR_NAME                    0\n",
              "LOAN_USE                   45914\n",
              "COUNTRY_CODE                  34\n",
              "COUNTRY_NAME                   0\n",
              "CURRENCY_POLICY                0\n",
              "CURRENCY                       0\n",
              "POSTED_TIME                    0\n",
              "LENDER_TERM                   24\n",
              "NUM_LENDERS_TOTAL              0\n",
              "NUM_JOURNAL_ENTRIES            0\n",
              "NUM_BULK_ENTRIES               0\n",
              "BORROWER_GENDERS           45891\n",
              "REPAYMENT_INTERVAL             0\n",
              "DISTRIBUTION_MODEL             0\n",
              "dtype: int64"
            ]
          },
          "metadata": {},
          "execution_count": 8
        }
      ]
    },
    {
      "cell_type": "code",
      "metadata": {
        "colab": {
          "base_uri": "https://localhost:8080/"
        },
        "id": "sBF5KLpY49RY",
        "outputId": "62ddc90f-8c7b-474d-8e87-f37dbef52137"
      },
      "source": [
        "df1['STATUS'].value_counts()"
      ],
      "execution_count": null,
      "outputs": [
        {
          "output_type": "execute_result",
          "data": {
            "text/plain": [
              "funded         1977543\n",
              "expired          92411\n",
              "refunded          9182\n",
              "fundRaising       7564\n",
              "Name: STATUS, dtype: int64"
            ]
          },
          "metadata": {},
          "execution_count": 9
        }
      ]
    },
    {
      "cell_type": "code",
      "metadata": {
        "id": "PCyLS9W9t2I8"
      },
      "source": [
        "#Dropping the NaN\n",
        "df1 = df1.dropna()"
      ],
      "execution_count": null,
      "outputs": []
    },
    {
      "cell_type": "code",
      "metadata": {
        "colab": {
          "base_uri": "https://localhost:8080/"
        },
        "id": "xYnG0uJ4dZu0",
        "outputId": "249dede2-a6c9-41ed-fe58-6723806e431e"
      },
      "source": [
        "print(f'The dataset has {df1.shape[0]} rows and {df1.shape[1]} columns.')"
      ],
      "execution_count": null,
      "outputs": [
        {
          "output_type": "stream",
          "name": "stdout",
          "text": [
            "The dataset has 1631345 rows and 20 columns.\n"
          ]
        }
      ]
    },
    {
      "cell_type": "code",
      "metadata": {
        "colab": {
          "base_uri": "https://localhost:8080/"
        },
        "id": "41X21YtPuKBZ",
        "outputId": "53747633-270c-43d1-d046-efd81482c4e2"
      },
      "source": [
        "df1.isnull().sum()"
      ],
      "execution_count": null,
      "outputs": [
        {
          "output_type": "execute_result",
          "data": {
            "text/plain": [
              "LOAN_ID                   0\n",
              "DESCRIPTION_TRANSLATED    0\n",
              "FUNDED_AMOUNT             0\n",
              "LOAN_AMOUNT               0\n",
              "STATUS                    0\n",
              "ACTIVITY_NAME             0\n",
              "SECTOR_NAME               0\n",
              "LOAN_USE                  0\n",
              "COUNTRY_CODE              0\n",
              "COUNTRY_NAME              0\n",
              "CURRENCY_POLICY           0\n",
              "CURRENCY                  0\n",
              "POSTED_TIME               0\n",
              "LENDER_TERM               0\n",
              "NUM_LENDERS_TOTAL         0\n",
              "NUM_JOURNAL_ENTRIES       0\n",
              "NUM_BULK_ENTRIES          0\n",
              "BORROWER_GENDERS          0\n",
              "REPAYMENT_INTERVAL        0\n",
              "DISTRIBUTION_MODEL        0\n",
              "dtype: int64"
            ]
          },
          "metadata": {},
          "execution_count": 12
        }
      ]
    },
    {
      "cell_type": "code",
      "metadata": {
        "colab": {
          "base_uri": "https://localhost:8080/"
        },
        "id": "hh5VKBqAjbRL",
        "outputId": "fe8b6995-9e56-43c2-87b7-46615921e5e6"
      },
      "source": [
        "#Check the status of all the loans\n",
        "df1['STATUS'].value_counts()"
      ],
      "execution_count": null,
      "outputs": [
        {
          "output_type": "execute_result",
          "data": {
            "text/plain": [
              "funded         1537175\n",
              "expired          86606\n",
              "fundRaising       7564\n",
              "Name: STATUS, dtype: int64"
            ]
          },
          "metadata": {},
          "execution_count": 13
        }
      ]
    },
    {
      "cell_type": "code",
      "metadata": {
        "id": "M6Rz0uG545gX"
      },
      "source": [
        ""
      ],
      "execution_count": null,
      "outputs": []
    },
    {
      "cell_type": "code",
      "metadata": {
        "id": "kawqz5k_jbeL"
      },
      "source": [
        ""
      ],
      "execution_count": null,
      "outputs": []
    },
    {
      "cell_type": "code",
      "metadata": {
        "colab": {
          "base_uri": "https://localhost:8080/",
          "height": 615
        },
        "id": "blJEjy1tDWY6",
        "outputId": "58d5de5d-589c-4af7-a075-2ab9ee443b3e"
      },
      "source": [
        "# Drop the loans that are still on fundraising stage\n",
        "data = df1.loc[df1['STATUS'] != 'fundRaising']\n",
        "data.head()"
      ],
      "execution_count": null,
      "outputs": [
        {
          "output_type": "execute_result",
          "data": {
            "text/html": [
              "<div>\n",
              "<style scoped>\n",
              "    .dataframe tbody tr th:only-of-type {\n",
              "        vertical-align: middle;\n",
              "    }\n",
              "\n",
              "    .dataframe tbody tr th {\n",
              "        vertical-align: top;\n",
              "    }\n",
              "\n",
              "    .dataframe thead th {\n",
              "        text-align: right;\n",
              "    }\n",
              "</style>\n",
              "<table border=\"1\" class=\"dataframe\">\n",
              "  <thead>\n",
              "    <tr style=\"text-align: right;\">\n",
              "      <th></th>\n",
              "      <th>LOAN_ID</th>\n",
              "      <th>DESCRIPTION_TRANSLATED</th>\n",
              "      <th>FUNDED_AMOUNT</th>\n",
              "      <th>LOAN_AMOUNT</th>\n",
              "      <th>STATUS</th>\n",
              "      <th>ACTIVITY_NAME</th>\n",
              "      <th>SECTOR_NAME</th>\n",
              "      <th>LOAN_USE</th>\n",
              "      <th>COUNTRY_CODE</th>\n",
              "      <th>COUNTRY_NAME</th>\n",
              "      <th>CURRENCY_POLICY</th>\n",
              "      <th>CURRENCY</th>\n",
              "      <th>POSTED_TIME</th>\n",
              "      <th>LENDER_TERM</th>\n",
              "      <th>NUM_LENDERS_TOTAL</th>\n",
              "      <th>NUM_JOURNAL_ENTRIES</th>\n",
              "      <th>NUM_BULK_ENTRIES</th>\n",
              "      <th>BORROWER_GENDERS</th>\n",
              "      <th>REPAYMENT_INTERVAL</th>\n",
              "      <th>DISTRIBUTION_MODEL</th>\n",
              "    </tr>\n",
              "  </thead>\n",
              "  <tbody>\n",
              "    <tr>\n",
              "      <th>1</th>\n",
              "      <td>932948</td>\n",
              "      <td>Rosa works hard to support her family. Rosa is...</td>\n",
              "      <td>125.0</td>\n",
              "      <td>125.0</td>\n",
              "      <td>funded</td>\n",
              "      <td>General Store</td>\n",
              "      <td>Retail</td>\n",
              "      <td>to buy more groceries to sell in her general s...</td>\n",
              "      <td>PH</td>\n",
              "      <td>Philippines</td>\n",
              "      <td>shared</td>\n",
              "      <td>PHP</td>\n",
              "      <td>2015-08-16 14:03:48.000 +0000</td>\n",
              "      <td>8.0</td>\n",
              "      <td>5</td>\n",
              "      <td>1</td>\n",
              "      <td>1</td>\n",
              "      <td>female</td>\n",
              "      <td>monthly</td>\n",
              "      <td>field_partner</td>\n",
              "    </tr>\n",
              "    <tr>\n",
              "      <th>2</th>\n",
              "      <td>1159746</td>\n",
              "      <td>Warlita is a widowed woman with two children. ...</td>\n",
              "      <td>175.0</td>\n",
              "      <td>175.0</td>\n",
              "      <td>funded</td>\n",
              "      <td>Fruits &amp; Vegetables</td>\n",
              "      <td>Food</td>\n",
              "      <td>to buy more bananas to sell and other supplies...</td>\n",
              "      <td>PH</td>\n",
              "      <td>Philippines</td>\n",
              "      <td>shared</td>\n",
              "      <td>PHP</td>\n",
              "      <td>2016-09-28 13:37:22.000 +0000</td>\n",
              "      <td>11.0</td>\n",
              "      <td>7</td>\n",
              "      <td>1</td>\n",
              "      <td>1</td>\n",
              "      <td>female</td>\n",
              "      <td>monthly</td>\n",
              "      <td>field_partner</td>\n",
              "    </tr>\n",
              "    <tr>\n",
              "      <th>3</th>\n",
              "      <td>1396016</td>\n",
              "      <td>Faafofola is a 40-year-old married woman with ...</td>\n",
              "      <td>1400.0</td>\n",
              "      <td>1400.0</td>\n",
              "      <td>funded</td>\n",
              "      <td>Farming</td>\n",
              "      <td>Agriculture</td>\n",
              "      <td>to buy more taro roots (seedlings), more banan...</td>\n",
              "      <td>WS</td>\n",
              "      <td>Samoa</td>\n",
              "      <td>shared</td>\n",
              "      <td>WST</td>\n",
              "      <td>2017-10-16 02:59:44.000 +0000</td>\n",
              "      <td>14.0</td>\n",
              "      <td>34</td>\n",
              "      <td>1</td>\n",
              "      <td>1</td>\n",
              "      <td>female</td>\n",
              "      <td>monthly</td>\n",
              "      <td>field_partner</td>\n",
              "    </tr>\n",
              "    <tr>\n",
              "      <th>4</th>\n",
              "      <td>521395</td>\n",
              "      <td>Veronique is a widow, …[text missing] years ol...</td>\n",
              "      <td>425.0</td>\n",
              "      <td>425.0</td>\n",
              "      <td>funded</td>\n",
              "      <td>Liquor Store / Off-License</td>\n",
              "      <td>Food</td>\n",
              "      <td>to increase her stock of  various brands of be...</td>\n",
              "      <td>CM</td>\n",
              "      <td>Cameroon</td>\n",
              "      <td>shared</td>\n",
              "      <td>XAF</td>\n",
              "      <td>2013-01-25 10:57:20.000 +0000</td>\n",
              "      <td>15.0</td>\n",
              "      <td>17</td>\n",
              "      <td>1</td>\n",
              "      <td>1</td>\n",
              "      <td>female</td>\n",
              "      <td>monthly</td>\n",
              "      <td>field_partner</td>\n",
              "    </tr>\n",
              "    <tr>\n",
              "      <th>5</th>\n",
              "      <td>1539010</td>\n",
              "      <td>Sabitu is married and lives with his family in...</td>\n",
              "      <td>325.0</td>\n",
              "      <td>325.0</td>\n",
              "      <td>funded</td>\n",
              "      <td>Farming</td>\n",
              "      <td>Agriculture</td>\n",
              "      <td>to buy fertilizers and seeds to get a good yie...</td>\n",
              "      <td>NG</td>\n",
              "      <td>Nigeria</td>\n",
              "      <td>shared</td>\n",
              "      <td>NGN</td>\n",
              "      <td>2018-05-28 12:29:28.000 +0000</td>\n",
              "      <td>19.0</td>\n",
              "      <td>11</td>\n",
              "      <td>1</td>\n",
              "      <td>1</td>\n",
              "      <td>male</td>\n",
              "      <td>bullet</td>\n",
              "      <td>field_partner</td>\n",
              "    </tr>\n",
              "  </tbody>\n",
              "</table>\n",
              "</div>"
            ],
            "text/plain": [
              "   LOAN_ID                             DESCRIPTION_TRANSLATED  FUNDED_AMOUNT  \\\n",
              "1   932948  Rosa works hard to support her family. Rosa is...          125.0   \n",
              "2  1159746  Warlita is a widowed woman with two children. ...          175.0   \n",
              "3  1396016  Faafofola is a 40-year-old married woman with ...         1400.0   \n",
              "4   521395  Veronique is a widow, …[text missing] years ol...          425.0   \n",
              "5  1539010  Sabitu is married and lives with his family in...          325.0   \n",
              "\n",
              "   LOAN_AMOUNT  STATUS               ACTIVITY_NAME  SECTOR_NAME  \\\n",
              "1        125.0  funded               General Store       Retail   \n",
              "2        175.0  funded         Fruits & Vegetables         Food   \n",
              "3       1400.0  funded                     Farming  Agriculture   \n",
              "4        425.0  funded  Liquor Store / Off-License         Food   \n",
              "5        325.0  funded                     Farming  Agriculture   \n",
              "\n",
              "                                            LOAN_USE COUNTRY_CODE  \\\n",
              "1  to buy more groceries to sell in her general s...           PH   \n",
              "2  to buy more bananas to sell and other supplies...           PH   \n",
              "3  to buy more taro roots (seedlings), more banan...           WS   \n",
              "4  to increase her stock of  various brands of be...           CM   \n",
              "5  to buy fertilizers and seeds to get a good yie...           NG   \n",
              "\n",
              "  COUNTRY_NAME CURRENCY_POLICY CURRENCY                    POSTED_TIME  \\\n",
              "1  Philippines          shared      PHP  2015-08-16 14:03:48.000 +0000   \n",
              "2  Philippines          shared      PHP  2016-09-28 13:37:22.000 +0000   \n",
              "3        Samoa          shared      WST  2017-10-16 02:59:44.000 +0000   \n",
              "4     Cameroon          shared      XAF  2013-01-25 10:57:20.000 +0000   \n",
              "5      Nigeria          shared      NGN  2018-05-28 12:29:28.000 +0000   \n",
              "\n",
              "   LENDER_TERM  NUM_LENDERS_TOTAL  NUM_JOURNAL_ENTRIES  NUM_BULK_ENTRIES  \\\n",
              "1          8.0                  5                    1                 1   \n",
              "2         11.0                  7                    1                 1   \n",
              "3         14.0                 34                    1                 1   \n",
              "4         15.0                 17                    1                 1   \n",
              "5         19.0                 11                    1                 1   \n",
              "\n",
              "  BORROWER_GENDERS REPAYMENT_INTERVAL DISTRIBUTION_MODEL  \n",
              "1           female            monthly      field_partner  \n",
              "2           female            monthly      field_partner  \n",
              "3           female            monthly      field_partner  \n",
              "4           female            monthly      field_partner  \n",
              "5             male             bullet      field_partner  "
            ]
          },
          "metadata": {},
          "execution_count": 14
        }
      ]
    },
    {
      "cell_type": "code",
      "metadata": {
        "id": "6ThriRuMSTXS",
        "colab": {
          "base_uri": "https://localhost:8080/"
        },
        "outputId": "206b5ce8-75e0-4429-e1f0-cbc08427b160"
      },
      "source": [
        "# Checking again the status of the remaining loans\n",
        "data['STATUS'].value_counts()"
      ],
      "execution_count": null,
      "outputs": [
        {
          "output_type": "execute_result",
          "data": {
            "text/plain": [
              "funded     1537175\n",
              "expired      86606\n",
              "Name: STATUS, dtype: int64"
            ]
          },
          "metadata": {},
          "execution_count": 15
        }
      ]
    },
    {
      "cell_type": "code",
      "metadata": {
        "id": "E7gNjjZyzlZh"
      },
      "source": [
        ""
      ],
      "execution_count": null,
      "outputs": []
    },
    {
      "cell_type": "code",
      "metadata": {
        "id": "daNYcV9ObddW"
      },
      "source": [
        "# # combining funded and refunded under the same category\n",
        "# data['loan_status'] = data.apply(lambda x: 'funded' if x.STATUS == 'refunded' else x.STATUS, axis=1)"
      ],
      "execution_count": null,
      "outputs": []
    },
    {
      "cell_type": "code",
      "metadata": {
        "id": "MOx-D84SSTpC"
      },
      "source": [
        "# How many NaN are in the dataframe\n",
        "#data.isnull().sum()"
      ],
      "execution_count": null,
      "outputs": []
    },
    {
      "cell_type": "code",
      "metadata": {
        "colab": {
          "base_uri": "https://localhost:8080/"
        },
        "id": "6J5nhHe1YjQP",
        "outputId": "ad562078-1bc6-4a20-828c-9c560c4fad8b"
      },
      "source": [
        "data.info()"
      ],
      "execution_count": null,
      "outputs": [
        {
          "output_type": "stream",
          "name": "stdout",
          "text": [
            "<class 'pandas.core.frame.DataFrame'>\n",
            "Int64Index: 1623781 entries, 1 to 2086699\n",
            "Data columns (total 20 columns):\n",
            " #   Column                  Non-Null Count    Dtype  \n",
            "---  ------                  --------------    -----  \n",
            " 0   LOAN_ID                 1623781 non-null  int64  \n",
            " 1   DESCRIPTION_TRANSLATED  1623781 non-null  object \n",
            " 2   FUNDED_AMOUNT           1623781 non-null  float64\n",
            " 3   LOAN_AMOUNT             1623781 non-null  float64\n",
            " 4   STATUS                  1623781 non-null  object \n",
            " 5   ACTIVITY_NAME           1623781 non-null  object \n",
            " 6   SECTOR_NAME             1623781 non-null  object \n",
            " 7   LOAN_USE                1623781 non-null  object \n",
            " 8   COUNTRY_CODE            1623781 non-null  object \n",
            " 9   COUNTRY_NAME            1623781 non-null  object \n",
            " 10  CURRENCY_POLICY         1623781 non-null  object \n",
            " 11  CURRENCY                1623781 non-null  object \n",
            " 12  POSTED_TIME             1623781 non-null  object \n",
            " 13  LENDER_TERM             1623781 non-null  float64\n",
            " 14  NUM_LENDERS_TOTAL       1623781 non-null  int64  \n",
            " 15  NUM_JOURNAL_ENTRIES     1623781 non-null  int64  \n",
            " 16  NUM_BULK_ENTRIES        1623781 non-null  int64  \n",
            " 17  BORROWER_GENDERS        1623781 non-null  object \n",
            " 18  REPAYMENT_INTERVAL      1623781 non-null  object \n",
            " 19  DISTRIBUTION_MODEL      1623781 non-null  object \n",
            "dtypes: float64(3), int64(4), object(13)\n",
            "memory usage: 260.2+ MB\n"
          ]
        }
      ]
    },
    {
      "cell_type": "code",
      "metadata": {
        "id": "hXfV1DF1IobR"
      },
      "source": [
        "data.columns = [i.replace(' ', '_').lower() for i in data.columns]"
      ],
      "execution_count": null,
      "outputs": []
    },
    {
      "cell_type": "code",
      "metadata": {
        "colab": {
          "base_uri": "https://localhost:8080/"
        },
        "id": "HOz7uUT5IxQu",
        "outputId": "a5782f0f-df47-45bf-d0d8-b49580a00efb"
      },
      "source": [
        "data.columns"
      ],
      "execution_count": null,
      "outputs": [
        {
          "output_type": "execute_result",
          "data": {
            "text/plain": [
              "Index(['loan_id', 'description_translated', 'funded_amount', 'loan_amount',\n",
              "       'status', 'activity_name', 'sector_name', 'loan_use', 'country_code',\n",
              "       'country_name', 'currency_policy', 'currency', 'posted_time',\n",
              "       'lender_term', 'num_lenders_total', 'num_journal_entries',\n",
              "       'num_bulk_entries', 'borrower_genders', 'repayment_interval',\n",
              "       'distribution_model'],\n",
              "      dtype='object')"
            ]
          },
          "metadata": {},
          "execution_count": 18
        }
      ]
    },
    {
      "cell_type": "code",
      "metadata": {
        "id": "zdOmIsi2aGps"
      },
      "source": [
        "dat = data.copy()"
      ],
      "execution_count": null,
      "outputs": []
    },
    {
      "cell_type": "code",
      "metadata": {
        "id": "jLvkbEdvVanV"
      },
      "source": [
        "# combining funded and refunded under the same category\n",
        "dat['loan_status'] = dat.apply(lambda x: 'funded' if x.status == 'refunded' else x.status, axis=1)"
      ],
      "execution_count": null,
      "outputs": []
    },
    {
      "cell_type": "code",
      "metadata": {
        "colab": {
          "base_uri": "https://localhost:8080/",
          "height": 202
        },
        "id": "tR4KFRQOJbFG",
        "outputId": "785f69be-55b5-48b7-c4d2-96e11c608f9e"
      },
      "source": [
        "dat.head(1)"
      ],
      "execution_count": null,
      "outputs": [
        {
          "output_type": "execute_result",
          "data": {
            "text/html": [
              "<div>\n",
              "<style scoped>\n",
              "    .dataframe tbody tr th:only-of-type {\n",
              "        vertical-align: middle;\n",
              "    }\n",
              "\n",
              "    .dataframe tbody tr th {\n",
              "        vertical-align: top;\n",
              "    }\n",
              "\n",
              "    .dataframe thead th {\n",
              "        text-align: right;\n",
              "    }\n",
              "</style>\n",
              "<table border=\"1\" class=\"dataframe\">\n",
              "  <thead>\n",
              "    <tr style=\"text-align: right;\">\n",
              "      <th></th>\n",
              "      <th>loan_id</th>\n",
              "      <th>description_translated</th>\n",
              "      <th>funded_amount</th>\n",
              "      <th>loan_amount</th>\n",
              "      <th>status</th>\n",
              "      <th>activity_name</th>\n",
              "      <th>sector_name</th>\n",
              "      <th>loan_use</th>\n",
              "      <th>country_code</th>\n",
              "      <th>country_name</th>\n",
              "      <th>currency_policy</th>\n",
              "      <th>currency</th>\n",
              "      <th>posted_time</th>\n",
              "      <th>lender_term</th>\n",
              "      <th>num_lenders_total</th>\n",
              "      <th>num_journal_entries</th>\n",
              "      <th>num_bulk_entries</th>\n",
              "      <th>borrower_genders</th>\n",
              "      <th>repayment_interval</th>\n",
              "      <th>distribution_model</th>\n",
              "      <th>loan_status</th>\n",
              "    </tr>\n",
              "  </thead>\n",
              "  <tbody>\n",
              "    <tr>\n",
              "      <th>1</th>\n",
              "      <td>932948</td>\n",
              "      <td>Rosa works hard to support her family. Rosa is...</td>\n",
              "      <td>125.0</td>\n",
              "      <td>125.0</td>\n",
              "      <td>funded</td>\n",
              "      <td>General Store</td>\n",
              "      <td>Retail</td>\n",
              "      <td>to buy more groceries to sell in her general s...</td>\n",
              "      <td>PH</td>\n",
              "      <td>Philippines</td>\n",
              "      <td>shared</td>\n",
              "      <td>PHP</td>\n",
              "      <td>2015-08-16 14:03:48.000 +0000</td>\n",
              "      <td>8.0</td>\n",
              "      <td>5</td>\n",
              "      <td>1</td>\n",
              "      <td>1</td>\n",
              "      <td>female</td>\n",
              "      <td>monthly</td>\n",
              "      <td>field_partner</td>\n",
              "      <td>funded</td>\n",
              "    </tr>\n",
              "  </tbody>\n",
              "</table>\n",
              "</div>"
            ],
            "text/plain": [
              "   loan_id                             description_translated  funded_amount  \\\n",
              "1   932948  Rosa works hard to support her family. Rosa is...          125.0   \n",
              "\n",
              "   loan_amount  status  activity_name sector_name  \\\n",
              "1        125.0  funded  General Store      Retail   \n",
              "\n",
              "                                            loan_use country_code  \\\n",
              "1  to buy more groceries to sell in her general s...           PH   \n",
              "\n",
              "  country_name currency_policy currency                    posted_time  \\\n",
              "1  Philippines          shared      PHP  2015-08-16 14:03:48.000 +0000   \n",
              "\n",
              "   lender_term  num_lenders_total  num_journal_entries  num_bulk_entries  \\\n",
              "1          8.0                  5                    1                 1   \n",
              "\n",
              "  borrower_genders repayment_interval distribution_model loan_status  \n",
              "1           female            monthly      field_partner      funded  "
            ]
          },
          "metadata": {},
          "execution_count": 21
        }
      ]
    },
    {
      "cell_type": "code",
      "metadata": {
        "colab": {
          "base_uri": "https://localhost:8080/",
          "height": 265
        },
        "id": "apO5GZQbY00A",
        "outputId": "0b52d501-87d3-42e6-93e0-041e73e98fc7"
      },
      "source": [
        "dat['loan_status'].value_counts().plot(kind='pie')"
      ],
      "execution_count": null,
      "outputs": [
        {
          "output_type": "execute_result",
          "data": {
            "text/plain": [
              "<matplotlib.axes._subplots.AxesSubplot at 0x7f1d30e50f50>"
            ]
          },
          "metadata": {},
          "execution_count": 22
        },
        {
          "output_type": "display_data",
          "data": {
            "image/png": "[encoded data removed]",
            "text/plain": [
              "<Figure size 432x288 with 1 Axes>"
            ]
          },
          "metadata": {}
        }
      ]
    },
    {
      "cell_type": "code",
      "metadata": {
        "colab": {
          "base_uri": "https://localhost:8080/"
        },
        "id": "s5r6vNY8S-rp",
        "outputId": "4c9cc254-4648-4252-a9d2-d60d7652fbe5"
      },
      "source": [
        "dat['sector_name'].value_counts()"
      ],
      "execution_count": null,
      "outputs": [
        {
          "output_type": "execute_result",
          "data": {
            "text/plain": [
              "Agriculture       436580\n",
              "Food              337445\n",
              "Retail            300779\n",
              "Services          104932\n",
              "Housing            96275\n",
              "Clothing           81678\n",
              "Personal Use       73158\n",
              "Education          65958\n",
              "Arts               33399\n",
              "Transportation     32955\n",
              "Health             25978\n",
              "Construction       17207\n",
              "Manufacturing      14141\n",
              "Entertainment       1839\n",
              "Wholesale           1457\n",
              "Name: sector_name, dtype: int64"
            ]
          },
          "metadata": {},
          "execution_count": 23
        }
      ]
    },
    {
      "cell_type": "code",
      "metadata": {
        "colab": {
          "base_uri": "https://localhost:8080/",
          "height": 1000
        },
        "id": "5_ACqpZzaBTk",
        "outputId": "1e6feb8f-085a-4e49-eb3c-2818d9a1ad0b"
      },
      "source": [
        "dat[['loan_amount', 'funded_amount', 'sector_name', 'loan_status']].groupby(['sector_name', 'loan_status']).count()"
      ],
      "execution_count": null,
      "outputs": [
        {
          "output_type": "execute_result",
          "data": {
            "text/html": [
              "<div>\n",
              "<style scoped>\n",
              "    .dataframe tbody tr th:only-of-type {\n",
              "        vertical-align: middle;\n",
              "    }\n",
              "\n",
              "    .dataframe tbody tr th {\n",
              "        vertical-align: top;\n",
              "    }\n",
              "\n",
              "    .dataframe thead th {\n",
              "        text-align: right;\n",
              "    }\n",
              "</style>\n",
              "<table border=\"1\" class=\"dataframe\">\n",
              "  <thead>\n",
              "    <tr style=\"text-align: right;\">\n",
              "      <th></th>\n",
              "      <th></th>\n",
              "      <th>loan_amount</th>\n",
              "      <th>funded_amount</th>\n",
              "    </tr>\n",
              "    <tr>\n",
              "      <th>sector_name</th>\n",
              "      <th>loan_status</th>\n",
              "      <th></th>\n",
              "      <th></th>\n",
              "    </tr>\n",
              "  </thead>\n",
              "  <tbody>\n",
              "    <tr>\n",
              "      <th rowspan=\"2\" valign=\"top\">Agriculture</th>\n",
              "      <th>expired</th>\n",
              "      <td>24015</td>\n",
              "      <td>24015</td>\n",
              "    </tr>\n",
              "    <tr>\n",
              "      <th>funded</th>\n",
              "      <td>412565</td>\n",
              "      <td>412565</td>\n",
              "    </tr>\n",
              "    <tr>\n",
              "      <th rowspan=\"2\" valign=\"top\">Arts</th>\n",
              "      <th>expired</th>\n",
              "      <td>273</td>\n",
              "      <td>273</td>\n",
              "    </tr>\n",
              "    <tr>\n",
              "      <th>funded</th>\n",
              "      <td>33126</td>\n",
              "      <td>33126</td>\n",
              "    </tr>\n",
              "    <tr>\n",
              "      <th rowspan=\"2\" valign=\"top\">Clothing</th>\n",
              "      <th>expired</th>\n",
              "      <td>5427</td>\n",
              "      <td>5427</td>\n",
              "    </tr>\n",
              "    <tr>\n",
              "      <th>funded</th>\n",
              "      <td>76251</td>\n",
              "      <td>76251</td>\n",
              "    </tr>\n",
              "    <tr>\n",
              "      <th rowspan=\"2\" valign=\"top\">Construction</th>\n",
              "      <th>expired</th>\n",
              "      <td>741</td>\n",
              "      <td>741</td>\n",
              "    </tr>\n",
              "    <tr>\n",
              "      <th>funded</th>\n",
              "      <td>16466</td>\n",
              "      <td>16466</td>\n",
              "    </tr>\n",
              "    <tr>\n",
              "      <th rowspan=\"2\" valign=\"top\">Education</th>\n",
              "      <th>expired</th>\n",
              "      <td>978</td>\n",
              "      <td>978</td>\n",
              "    </tr>\n",
              "    <tr>\n",
              "      <th>funded</th>\n",
              "      <td>64980</td>\n",
              "      <td>64980</td>\n",
              "    </tr>\n",
              "    <tr>\n",
              "      <th rowspan=\"2\" valign=\"top\">Entertainment</th>\n",
              "      <th>expired</th>\n",
              "      <td>171</td>\n",
              "      <td>171</td>\n",
              "    </tr>\n",
              "    <tr>\n",
              "      <th>funded</th>\n",
              "      <td>1668</td>\n",
              "      <td>1668</td>\n",
              "    </tr>\n",
              "    <tr>\n",
              "      <th rowspan=\"2\" valign=\"top\">Food</th>\n",
              "      <th>expired</th>\n",
              "      <td>15304</td>\n",
              "      <td>15304</td>\n",
              "    </tr>\n",
              "    <tr>\n",
              "      <th>funded</th>\n",
              "      <td>322141</td>\n",
              "      <td>322141</td>\n",
              "    </tr>\n",
              "    <tr>\n",
              "      <th rowspan=\"2\" valign=\"top\">Health</th>\n",
              "      <th>expired</th>\n",
              "      <td>1836</td>\n",
              "      <td>1836</td>\n",
              "    </tr>\n",
              "    <tr>\n",
              "      <th>funded</th>\n",
              "      <td>24142</td>\n",
              "      <td>24142</td>\n",
              "    </tr>\n",
              "    <tr>\n",
              "      <th rowspan=\"2\" valign=\"top\">Housing</th>\n",
              "      <th>expired</th>\n",
              "      <td>6077</td>\n",
              "      <td>6077</td>\n",
              "    </tr>\n",
              "    <tr>\n",
              "      <th>funded</th>\n",
              "      <td>90198</td>\n",
              "      <td>90198</td>\n",
              "    </tr>\n",
              "    <tr>\n",
              "      <th rowspan=\"2\" valign=\"top\">Manufacturing</th>\n",
              "      <th>expired</th>\n",
              "      <td>32</td>\n",
              "      <td>32</td>\n",
              "    </tr>\n",
              "    <tr>\n",
              "      <th>funded</th>\n",
              "      <td>14109</td>\n",
              "      <td>14109</td>\n",
              "    </tr>\n",
              "    <tr>\n",
              "      <th rowspan=\"2\" valign=\"top\">Personal Use</th>\n",
              "      <th>expired</th>\n",
              "      <td>2019</td>\n",
              "      <td>2019</td>\n",
              "    </tr>\n",
              "    <tr>\n",
              "      <th>funded</th>\n",
              "      <td>71139</td>\n",
              "      <td>71139</td>\n",
              "    </tr>\n",
              "    <tr>\n",
              "      <th rowspan=\"2\" valign=\"top\">Retail</th>\n",
              "      <th>expired</th>\n",
              "      <td>19139</td>\n",
              "      <td>19139</td>\n",
              "    </tr>\n",
              "    <tr>\n",
              "      <th>funded</th>\n",
              "      <td>281640</td>\n",
              "      <td>281640</td>\n",
              "    </tr>\n",
              "    <tr>\n",
              "      <th rowspan=\"2\" valign=\"top\">Services</th>\n",
              "      <th>expired</th>\n",
              "      <td>7019</td>\n",
              "      <td>7019</td>\n",
              "    </tr>\n",
              "    <tr>\n",
              "      <th>funded</th>\n",
              "      <td>97913</td>\n",
              "      <td>97913</td>\n",
              "    </tr>\n",
              "    <tr>\n",
              "      <th rowspan=\"2\" valign=\"top\">Transportation</th>\n",
              "      <th>expired</th>\n",
              "      <td>3520</td>\n",
              "      <td>3520</td>\n",
              "    </tr>\n",
              "    <tr>\n",
              "      <th>funded</th>\n",
              "      <td>29435</td>\n",
              "      <td>29435</td>\n",
              "    </tr>\n",
              "    <tr>\n",
              "      <th rowspan=\"2\" valign=\"top\">Wholesale</th>\n",
              "      <th>expired</th>\n",
              "      <td>55</td>\n",
              "      <td>55</td>\n",
              "    </tr>\n",
              "    <tr>\n",
              "      <th>funded</th>\n",
              "      <td>1402</td>\n",
              "      <td>1402</td>\n",
              "    </tr>\n",
              "  </tbody>\n",
              "</table>\n",
              "</div>"
            ],
            "text/plain": [
              "                            loan_amount  funded_amount\n",
              "sector_name    loan_status                            \n",
              "Agriculture    expired            24015          24015\n",
              "               funded            412565         412565\n",
              "Arts           expired              273            273\n",
              "               funded             33126          33126\n",
              "Clothing       expired             5427           5427\n",
              "               funded             76251          76251\n",
              "Construction   expired              741            741\n",
              "               funded             16466          16466\n",
              "Education      expired              978            978\n",
              "               funded             64980          64980\n",
              "Entertainment  expired              171            171\n",
              "               funded              1668           1668\n",
              "Food           expired            15304          15304\n",
              "               funded            322141         322141\n",
              "Health         expired             1836           1836\n",
              "               funded             24142          24142\n",
              "Housing        expired             6077           6077\n",
              "               funded             90198          90198\n",
              "Manufacturing  expired               32             32\n",
              "               funded             14109          14109\n",
              "Personal Use   expired             2019           2019\n",
              "               funded             71139          71139\n",
              "Retail         expired            19139          19139\n",
              "               funded            281640         281640\n",
              "Services       expired             7019           7019\n",
              "               funded             97913          97913\n",
              "Transportation expired             3520           3520\n",
              "               funded             29435          29435\n",
              "Wholesale      expired               55             55\n",
              "               funded              1402           1402"
            ]
          },
          "metadata": {},
          "execution_count": 24
        }
      ]
    },
    {
      "cell_type": "code",
      "metadata": {
        "id": "RQDXvTxiLNfQ",
        "colab": {
          "base_uri": "https://localhost:8080/",
          "height": 162
        },
        "outputId": "ff3da797-8187-4108-a427-7c72d85a459a"
      },
      "source": [
        "dat.groupby('loan_status').mean()"
      ],
      "execution_count": null,
      "outputs": [
        {
          "output_type": "execute_result",
          "data": {
            "text/html": [
              "<div>\n",
              "<style scoped>\n",
              "    .dataframe tbody tr th:only-of-type {\n",
              "        vertical-align: middle;\n",
              "    }\n",
              "\n",
              "    .dataframe tbody tr th {\n",
              "        vertical-align: top;\n",
              "    }\n",
              "\n",
              "    .dataframe thead th {\n",
              "        text-align: right;\n",
              "    }\n",
              "</style>\n",
              "<table border=\"1\" class=\"dataframe\">\n",
              "  <thead>\n",
              "    <tr style=\"text-align: right;\">\n",
              "      <th></th>\n",
              "      <th>loan_id</th>\n",
              "      <th>funded_amount</th>\n",
              "      <th>loan_amount</th>\n",
              "      <th>lender_term</th>\n",
              "      <th>num_lenders_total</th>\n",
              "      <th>num_journal_entries</th>\n",
              "      <th>num_bulk_entries</th>\n",
              "    </tr>\n",
              "    <tr>\n",
              "      <th>loan_status</th>\n",
              "      <th></th>\n",
              "      <th></th>\n",
              "      <th></th>\n",
              "      <th></th>\n",
              "      <th></th>\n",
              "      <th></th>\n",
              "      <th></th>\n",
              "    </tr>\n",
              "  </thead>\n",
              "  <tbody>\n",
              "    <tr>\n",
              "      <th>expired</th>\n",
              "      <td>1.259642e+06</td>\n",
              "      <td>587.280558</td>\n",
              "      <td>1419.374812</td>\n",
              "      <td>18.185437</td>\n",
              "      <td>15.439150</td>\n",
              "      <td>1.014064</td>\n",
              "      <td>1.000820</td>\n",
              "    </tr>\n",
              "    <tr>\n",
              "      <th>funded</th>\n",
              "      <td>1.257758e+06</td>\n",
              "      <td>796.654220</td>\n",
              "      <td>796.654366</td>\n",
              "      <td>12.980627</td>\n",
              "      <td>21.299179</td>\n",
              "      <td>1.504781</td>\n",
              "      <td>1.134654</td>\n",
              "    </tr>\n",
              "  </tbody>\n",
              "</table>\n",
              "</div>"
            ],
            "text/plain": [
              "                  loan_id  funded_amount  loan_amount  lender_term  \\\n",
              "loan_status                                                          \n",
              "expired      1.259642e+06     587.280558  1419.374812    18.185437   \n",
              "funded       1.257758e+06     796.654220   796.654366    12.980627   \n",
              "\n",
              "             num_lenders_total  num_journal_entries  num_bulk_entries  \n",
              "loan_status                                                            \n",
              "expired              15.439150             1.014064          1.000820  \n",
              "funded               21.299179             1.504781          1.134654  "
            ]
          },
          "metadata": {},
          "execution_count": 25
        }
      ]
    },
    {
      "cell_type": "code",
      "metadata": {
        "colab": {
          "base_uri": "https://localhost:8080/"
        },
        "id": "RYtygiR7w7bV",
        "outputId": "2bec86dd-909d-4257-b19a-0d382ebb9eff"
      },
      "source": [
        "dat['loan_amount_higher'] = np.where(dat['funded_amount'] >= dat['loan_amount'], \n",
        "                                           'yes', 'no')\n",
        "dat['loan_amount_higher'].value_counts()"
      ],
      "execution_count": null,
      "outputs": [
        {
          "output_type": "execute_result",
          "data": {
            "text/plain": [
              "yes    1537178\n",
              "no       86603\n",
              "Name: loan_amount_higher, dtype: int64"
            ]
          },
          "metadata": {},
          "execution_count": 26
        }
      ]
    },
    {
      "cell_type": "code",
      "metadata": {
        "id": "xyzs3UOeWf5F",
        "colab": {
          "base_uri": "https://localhost:8080/",
          "height": 326
        },
        "outputId": "acae3ac4-9708-491a-adf4-6ab3e00de285"
      },
      "source": [
        "# Prepare the data for machine learning\n",
        "#reduce the dataset to the features that can affect the funding of the loan\n",
        "learning_data = dat[['loan_amount', 'description_translated', 'lender_term', 'sector_name', 'loan_status']]\n",
        "learning_data['loan_status'] = dat.apply(lambda x: 1 if x.status == 'funded' else 0, axis=1)\n",
        "\n",
        "learning_data.head()"
      ],
      "execution_count": null,
      "outputs": [
        {
          "output_type": "stream",
          "name": "stderr",
          "text": [
            "/usr/local/lib/python3.7/dist-packages/ipykernel_launcher.py:4: SettingWithCopyWarning: \n",
            "A value is trying to be set on a copy of a slice from a DataFrame.\n",
            "Try using .loc[row_indexer,col_indexer] = value instead\n",
            "\n",
            "See the caveats in the documentation: https://pandas.pydata.org/pandas-docs/stable/user_guide/indexing.html#returning-a-view-versus-a-copy\n",
            "  after removing the cwd from sys.path.\n"
          ]
        },
        {
          "output_type": "execute_result",
          "data": {
            "text/html": [
              "<div>\n",
              "<style scoped>\n",
              "    .dataframe tbody tr th:only-of-type {\n",
              "        vertical-align: middle;\n",
              "    }\n",
              "\n",
              "    .dataframe tbody tr th {\n",
              "        vertical-align: top;\n",
              "    }\n",
              "\n",
              "    .dataframe thead th {\n",
              "        text-align: right;\n",
              "    }\n",
              "</style>\n",
              "<table border=\"1\" class=\"dataframe\">\n",
              "  <thead>\n",
              "    <tr style=\"text-align: right;\">\n",
              "      <th></th>\n",
              "      <th>loan_amount</th>\n",
              "      <th>description_translated</th>\n",
              "      <th>lender_term</th>\n",
              "      <th>sector_name</th>\n",
              "      <th>loan_status</th>\n",
              "    </tr>\n",
              "  </thead>\n",
              "  <tbody>\n",
              "    <tr>\n",
              "      <th>1</th>\n",
              "      <td>125.0</td>\n",
              "      <td>Rosa works hard to support her family. Rosa is...</td>\n",
              "      <td>8.0</td>\n",
              "      <td>Retail</td>\n",
              "      <td>1</td>\n",
              "    </tr>\n",
              "    <tr>\n",
              "      <th>2</th>\n",
              "      <td>175.0</td>\n",
              "      <td>Warlita is a widowed woman with two children. ...</td>\n",
              "      <td>11.0</td>\n",
              "      <td>Food</td>\n",
              "      <td>1</td>\n",
              "    </tr>\n",
              "    <tr>\n",
              "      <th>3</th>\n",
              "      <td>1400.0</td>\n",
              "      <td>Faafofola is a 40-year-old married woman with ...</td>\n",
              "      <td>14.0</td>\n",
              "      <td>Agriculture</td>\n",
              "      <td>1</td>\n",
              "    </tr>\n",
              "    <tr>\n",
              "      <th>4</th>\n",
              "      <td>425.0</td>\n",
              "      <td>Veronique is a widow, …[text missing] years ol...</td>\n",
              "      <td>15.0</td>\n",
              "      <td>Food</td>\n",
              "      <td>1</td>\n",
              "    </tr>\n",
              "    <tr>\n",
              "      <th>5</th>\n",
              "      <td>325.0</td>\n",
              "      <td>Sabitu is married and lives with his family in...</td>\n",
              "      <td>19.0</td>\n",
              "      <td>Agriculture</td>\n",
              "      <td>1</td>\n",
              "    </tr>\n",
              "  </tbody>\n",
              "</table>\n",
              "</div>"
            ],
            "text/plain": [
              "   loan_amount                             description_translated  \\\n",
              "1        125.0  Rosa works hard to support her family. Rosa is...   \n",
              "2        175.0  Warlita is a widowed woman with two children. ...   \n",
              "3       1400.0  Faafofola is a 40-year-old married woman with ...   \n",
              "4        425.0  Veronique is a widow, …[text missing] years ol...   \n",
              "5        325.0  Sabitu is married and lives with his family in...   \n",
              "\n",
              "   lender_term  sector_name  loan_status  \n",
              "1          8.0       Retail            1  \n",
              "2         11.0         Food            1  \n",
              "3         14.0  Agriculture            1  \n",
              "4         15.0         Food            1  \n",
              "5         19.0  Agriculture            1  "
            ]
          },
          "metadata": {},
          "execution_count": 27
        }
      ]
    },
    {
      "cell_type": "code",
      "metadata": {
        "id": "2HLacftXrWBe"
      },
      "source": [
        "#learning_data.isnull().sum()"
      ],
      "execution_count": null,
      "outputs": []
    },
    {
      "cell_type": "code",
      "metadata": {
        "colab": {
          "base_uri": "https://localhost:8080/"
        },
        "id": "cUhYQbLSsGA9",
        "outputId": "c6852fd5-9aff-45c2-c541-afd848ad3597"
      },
      "source": [
        "#Dropping the NaN\n",
        "loan_data = learning_data.dropna()\n",
        "loan_data.isnull().sum()"
      ],
      "execution_count": null,
      "outputs": [
        {
          "output_type": "execute_result",
          "data": {
            "text/plain": [
              "loan_amount               0\n",
              "description_translated    0\n",
              "lender_term               0\n",
              "sector_name               0\n",
              "loan_status               0\n",
              "dtype: int64"
            ]
          },
          "metadata": {},
          "execution_count": 28
        }
      ]
    },
    {
      "cell_type": "code",
      "metadata": {
        "colab": {
          "base_uri": "https://localhost:8080/"
        },
        "id": "zzB4r28IfF6M",
        "outputId": "815f2aea-2ee0-4905-d4d0-2a076762c7ff"
      },
      "source": [
        "loan_data.shape"
      ],
      "execution_count": null,
      "outputs": [
        {
          "output_type": "execute_result",
          "data": {
            "text/plain": [
              "(1623781, 5)"
            ]
          },
          "metadata": {},
          "execution_count": 29
        }
      ]
    },
    {
      "cell_type": "code",
      "metadata": {
        "colab": {
          "base_uri": "https://localhost:8080/"
        },
        "id": "1vaB_Ck7vU6d",
        "outputId": "3fceabc0-0df8-43e5-94e4-a5ce7bdc8acb"
      },
      "source": [
        "loan_data_cat = loan_data[['sector_name']]\n",
        "loan_data_cat.nunique()"
      ],
      "execution_count": null,
      "outputs": [
        {
          "output_type": "execute_result",
          "data": {
            "text/plain": [
              "sector_name    15\n",
              "dtype: int64"
            ]
          },
          "metadata": {},
          "execution_count": 30
        }
      ]
    },
    {
      "cell_type": "code",
      "metadata": {
        "colab": {
          "base_uri": "https://localhost:8080/"
        },
        "id": "gQhedOJksGFU",
        "outputId": "e2b11a91-5af3-4b6d-8320-71195fcc108c"
      },
      "source": [
        "from sklearn.preprocessing import OneHotEncoder\n",
        "\n",
        "cat_encoder = OneHotEncoder()\n",
        "loan_data_cat_1hot = cat_encoder.fit_transform(loan_data_cat)\n",
        "loan_data_cat_1hot"
      ],
      "execution_count": null,
      "outputs": [
        {
          "output_type": "execute_result",
          "data": {
            "text/plain": [
              "<1623781x15 sparse matrix of type '<class 'numpy.float64'>'\n",
              "\twith 1623781 stored elements in Compressed Sparse Row format>"
            ]
          },
          "metadata": {},
          "execution_count": 31
        }
      ]
    },
    {
      "cell_type": "code",
      "metadata": {
        "id": "AFP87qqdvEKU",
        "colab": {
          "base_uri": "https://localhost:8080/"
        },
        "outputId": "948cecf3-27b5-4bb5-9220-d7cc915d0b5b"
      },
      "source": [
        "loan_data_cat_1hot.toarray()"
      ],
      "execution_count": null,
      "outputs": [
        {
          "output_type": "execute_result",
          "data": {
            "text/plain": [
              "array([[0., 0., 0., ..., 0., 0., 0.],\n",
              "       [0., 0., 0., ..., 0., 0., 0.],\n",
              "       [1., 0., 0., ..., 0., 0., 0.],\n",
              "       ...,\n",
              "       [1., 0., 0., ..., 0., 0., 0.],\n",
              "       [1., 0., 0., ..., 0., 0., 0.],\n",
              "       [0., 0., 0., ..., 0., 0., 0.]])"
            ]
          },
          "metadata": {},
          "execution_count": 32
        }
      ]
    },
    {
      "cell_type": "code",
      "metadata": {
        "id": "ReoERsAbbBxh"
      },
      "source": [
        "#dat.dtypes"
      ],
      "execution_count": null,
      "outputs": []
    },
    {
      "cell_type": "code",
      "metadata": {
        "colab": {
          "base_uri": "https://localhost:8080/"
        },
        "id": "0uM9SyLeQu2s",
        "outputId": "e52d93df-0220-4ce5-8366-6b279b2cb66f"
      },
      "source": [
        "import re\n",
        "import string\n",
        "import nltk\n",
        "nltk.download('stopwords')\n",
        "stopword = nltk.corpus.stopwords.words('english')"
      ],
      "execution_count": null,
      "outputs": [
        {
          "output_type": "stream",
          "name": "stdout",
          "text": [
            "[nltk_data] Downloading package stopwords to /root/nltk_data...\n",
            "[nltk_data]   Package stopwords is already up-to-date!\n"
          ]
        }
      ]
    },
    {
      "cell_type": "code",
      "metadata": {
        "colab": {
          "base_uri": "https://localhost:8080/"
        },
        "id": "hulfmEYvfPU3",
        "outputId": "d345837e-fcee-42ad-918f-fda540d448c2"
      },
      "source": [
        "pd.set_option('display.max_colwidth', -1)\n"
      ],
      "execution_count": null,
      "outputs": [
        {
          "output_type": "stream",
          "name": "stderr",
          "text": [
            "/usr/local/lib/python3.7/dist-packages/ipykernel_launcher.py:1: FutureWarning: Passing a negative integer is deprecated in version 1.0 and will not be supported in future version. Instead, use None to not limit the column width.\n",
            "  \"\"\"Entry point for launching an IPython kernel.\n"
          ]
        }
      ]
    },
    {
      "cell_type": "code",
      "metadata": {
        "id": "DxEfS_pvnrfa"
      },
      "source": [
        "# def clean_text(text):\n",
        "#     # remove numbers\n",
        "#     text_nonum = re.sub(r'\\d+', '', text)\n",
        "#     # remove punctuations and convert characters to lower case\n",
        "#     text_nopunct = \"\".join([char.lower() for char in text_nonum if char not in string.punctuation]) \n",
        "#     # substitute multiple whitespace with single whitespace\n",
        "#     # Also, removes leading and trailing whitespaces\n",
        "#     text_no_doublespace = re.sub('\\s+', ' ', text_nopunct).strip()\n",
        "#     return text_no_doublespace\n",
        "# dat['nopunct_description'] = dat['description_translated'].apply(lambda x: clean_text(x))"
      ],
      "execution_count": null,
      "outputs": []
    },
    {
      "cell_type": "code",
      "metadata": {
        "id": "rajGEv8fX8Wn"
      },
      "source": [
        "# def remove_punct(text):\n",
        "#   text = [word.lower() for word in text if word.isalpha()] \n",
        "#   return text\n",
        "\n",
        "# dat['nopunct_description'] = dat['description'].apply(lambda x: remove_punct(x))"
      ],
      "execution_count": null,
      "outputs": []
    },
    {
      "cell_type": "code",
      "metadata": {
        "id": "wqyNZUKOX8ac"
      },
      "source": [
        "# def tokenize(text):\n",
        "#   tokens = re.split('\\W+', text)\n",
        "#   return tokens"
      ],
      "execution_count": null,
      "outputs": []
    },
    {
      "cell_type": "code",
      "metadata": {
        "id": "GR4eLWAfX8ee"
      },
      "source": [
        "# def remove_stopwords(tokenzied_list):\n",
        "#   text = [word for word in tokenzied_list if word not stopword]\n",
        "#   return text"
      ],
      "execution_count": null,
      "outputs": []
    },
    {
      "cell_type": "code",
      "metadata": {
        "id": "hdfDAfSavEOb"
      },
      "source": [
        "def clean_text(text):\n",
        "  text = \"\".join([word for word in text if word not in string.punctuation])\n",
        "  tokens = re.split('\\W+', text)\n",
        "  text = [word for word in tokens if word not in stopword]\n",
        "  return text\n",
        "\n",
        "dat['clean_description'] = dat['description_translated'].apply(lambda x: clean_text(x.lower()))\n",
        "dat.head()"
      ],
      "execution_count": null,
      "outputs": []
    },
    {
      "cell_type": "code",
      "metadata": {
        "id": "J085oOr9vET5"
      },
      "source": [
        ""
      ],
      "execution_count": null,
      "outputs": []
    },
    {
      "cell_type": "code",
      "metadata": {
        "colab": {
          "base_uri": "https://localhost:8080/"
        },
        "id": "T9_gJ0M7sPHo",
        "outputId": "3a6e2ec0-9d66-4e07-e34f-cff0bd620287"
      },
      "source": [
        "# Create a new column to calculate the average contribution by lenders\n",
        "dat['contrib_per_lend'] = data['funded_amount'] / data['num_lenders_total']\n",
        "dat['contrib_per_lend'].value_counts()"
      ],
      "execution_count": null,
      "outputs": [
        {
          "output_type": "execute_result",
          "data": {
            "text/plain": [
              "25.000000     387567\n",
              "33.333333      59878\n",
              "31.250000      49426\n",
              "37.500000      43870\n",
              "50.000000      42401\n",
              "               ...  \n",
              "59.068627          1\n",
              "33.875000          1\n",
              "196.000000         1\n",
              "33.957219          1\n",
              "50.295858          1\n",
              "Name: contrib_per_lend, Length: 19848, dtype: int64"
            ]
          },
          "metadata": {},
          "execution_count": 25
        }
      ]
    },
    {
      "cell_type": "code",
      "metadata": {
        "colab": {
          "base_uri": "https://localhost:8080/"
        },
        "id": "_thp16rosPLl",
        "outputId": "aaab1706-5536-4d01-8c04-875ce4d4f890"
      },
      "source": [
        "#Create a new column for the average monthly repayment\n",
        "dat['monthly_repayment'] = data['funded_amount'] / data['lender_term']\n",
        "dat['monthly_repayment'].value_counts()"
      ],
      "execution_count": null,
      "outputs": [
        {
          "output_type": "execute_result",
          "data": {
            "text/plain": [
              "25.000000      85547\n",
              "50.000000      49047\n",
              "35.714286      43855\n",
              "21.428571      40695\n",
              "37.500000      38059\n",
              "               ...  \n",
              "439.705882         1\n",
              "617.592593         1\n",
              "142.567568         1\n",
              "73.140496          1\n",
              "2191.666667        1\n",
              "Name: monthly_repayment, Length: 7493, dtype: int64"
            ]
          },
          "metadata": {},
          "execution_count": 26
        }
      ]
    },
    {
      "cell_type": "code",
      "metadata": {
        "id": "erRi1LTnNO9u"
      },
      "source": [
        "#Dropping the columns that are not necessary for the model\n",
        "data_reduced = dat.drop(columns=['loan_id', 'country_code', 'image_id', 'video_id', 'num_lenders_total', 'description_translated'])"
      ],
      "execution_count": null,
      "outputs": []
    },
    {
      "cell_type": "code",
      "metadata": {
        "colab": {
          "base_uri": "https://localhost:8080/",
          "height": 261
        },
        "id": "QAg-VtV0sPP8",
        "outputId": "c86fbebf-1cf9-44cf-d1bf-f7eb7c56f13b"
      },
      "source": [
        "data_reduced.describe(include=object)"
      ],
      "execution_count": null,
      "outputs": [
        {
          "output_type": "execute_result",
          "data": {
            "text/html": [
              "<div>\n",
              "<style scoped>\n",
              "    .dataframe tbody tr th:only-of-type {\n",
              "        vertical-align: middle;\n",
              "    }\n",
              "\n",
              "    .dataframe tbody tr th {\n",
              "        vertical-align: top;\n",
              "    }\n",
              "\n",
              "    .dataframe thead th {\n",
              "        text-align: right;\n",
              "    }\n",
              "</style>\n",
              "<table border=\"1\" class=\"dataframe\">\n",
              "  <thead>\n",
              "    <tr style=\"text-align: right;\">\n",
              "      <th></th>\n",
              "      <th>loan_name</th>\n",
              "      <th>original_language</th>\n",
              "      <th>description</th>\n",
              "      <th>status</th>\n",
              "      <th>activity_name</th>\n",
              "      <th>sector_name</th>\n",
              "      <th>loan_use</th>\n",
              "      <th>country_name</th>\n",
              "      <th>town_name</th>\n",
              "      <th>currency_policy</th>\n",
              "      <th>currency</th>\n",
              "      <th>posted_time</th>\n",
              "      <th>planned_expiration_time</th>\n",
              "      <th>disburse_time</th>\n",
              "      <th>raised_time</th>\n",
              "      <th>tags</th>\n",
              "      <th>borrower_names</th>\n",
              "      <th>borrower_genders</th>\n",
              "      <th>borrower_pictured</th>\n",
              "      <th>repayment_interval</th>\n",
              "      <th>distribution_model</th>\n",
              "    </tr>\n",
              "  </thead>\n",
              "  <tbody>\n",
              "    <tr>\n",
              "      <th>count</th>\n",
              "      <td>1936894</td>\n",
              "      <td>1940851</td>\n",
              "      <td>1940823</td>\n",
              "      <td>1977543</td>\n",
              "      <td>1977543</td>\n",
              "      <td>1977543</td>\n",
              "      <td>1940834</td>\n",
              "      <td>1977543</td>\n",
              "      <td>1819103</td>\n",
              "      <td>1977543</td>\n",
              "      <td>1977543</td>\n",
              "      <td>1977543</td>\n",
              "      <td>1610102</td>\n",
              "      <td>1977527</td>\n",
              "      <td>1977543</td>\n",
              "      <td>1056645</td>\n",
              "      <td>1936894</td>\n",
              "      <td>1940851</td>\n",
              "      <td>1940851</td>\n",
              "      <td>1977543</td>\n",
              "      <td>1977543</td>\n",
              "    </tr>\n",
              "    <tr>\n",
              "      <th>unique</th>\n",
              "      <td>444006</td>\n",
              "      <td>8</td>\n",
              "      <td>1936715</td>\n",
              "      <td>1</td>\n",
              "      <td>163</td>\n",
              "      <td>15</td>\n",
              "      <td>1177192</td>\n",
              "      <td>97</td>\n",
              "      <td>27976</td>\n",
              "      <td>2</td>\n",
              "      <td>78</td>\n",
              "      <td>1970459</td>\n",
              "      <td>854188</td>\n",
              "      <td>78380</td>\n",
              "      <td>1628575</td>\n",
              "      <td>203835</td>\n",
              "      <td>589032</td>\n",
              "      <td>23774</td>\n",
              "      <td>7734</td>\n",
              "      <td>3</td>\n",
              "      <td>2</td>\n",
              "    </tr>\n",
              "    <tr>\n",
              "      <th>top</th>\n",
              "      <td>Anonymous Group</td>\n",
              "      <td>English</td>\n",
              "      <td>Hello Kiva Community! &lt;br /&gt;&lt;br /&gt;Meet Mary, w...</td>\n",
              "      <td>funded</td>\n",
              "      <td>Farming</td>\n",
              "      <td>Agriculture</td>\n",
              "      <td>to build a sanitary toilet for her family</td>\n",
              "      <td>Philippines</td>\n",
              "      <td>Kaduna</td>\n",
              "      <td>shared</td>\n",
              "      <td>PHP</td>\n",
              "      <td>2006-04-16 07:10:50.000 +0000</td>\n",
              "      <td>2018-07-20 05:35:51.000 +0000</td>\n",
              "      <td>2020-01-28 08:00:00.000 +0000</td>\n",
              "      <td>2005-03-31 06:27:55.000 +0000</td>\n",
              "      <td>user_favorite</td>\n",
              "      <td>Mary</td>\n",
              "      <td>female</td>\n",
              "      <td>true</td>\n",
              "      <td>monthly</td>\n",
              "      <td>field_partner</td>\n",
              "    </tr>\n",
              "    <tr>\n",
              "      <th>freq</th>\n",
              "      <td>7082</td>\n",
              "      <td>1347026</td>\n",
              "      <td>17</td>\n",
              "      <td>1977543</td>\n",
              "      <td>211372</td>\n",
              "      <td>510693</td>\n",
              "      <td>18117</td>\n",
              "      <td>437345</td>\n",
              "      <td>17178</td>\n",
              "      <td>1522902</td>\n",
              "      <td>437343</td>\n",
              "      <td>205</td>\n",
              "      <td>27</td>\n",
              "      <td>4451</td>\n",
              "      <td>202</td>\n",
              "      <td>75473</td>\n",
              "      <td>5794</td>\n",
              "      <td>1298469</td>\n",
              "      <td>1674182</td>\n",
              "      <td>1711871</td>\n",
              "      <td>1960373</td>\n",
              "    </tr>\n",
              "  </tbody>\n",
              "</table>\n",
              "</div>"
            ],
            "text/plain": [
              "              loan_name original_language  \\\n",
              "count           1936894           1940851   \n",
              "unique           444006                 8   \n",
              "top     Anonymous Group           English   \n",
              "freq               7082           1347026   \n",
              "\n",
              "                                              description   status  \\\n",
              "count                                             1940823  1977543   \n",
              "unique                                            1936715        1   \n",
              "top     Hello Kiva Community! <br /><br />Meet Mary, w...   funded   \n",
              "freq                                                   17  1977543   \n",
              "\n",
              "       activity_name  sector_name                                   loan_use  \\\n",
              "count        1977543      1977543                                    1940834   \n",
              "unique           163           15                                    1177192   \n",
              "top          Farming  Agriculture  to build a sanitary toilet for her family   \n",
              "freq          211372       510693                                      18117   \n",
              "\n",
              "       country_name town_name currency_policy currency  \\\n",
              "count       1977543   1819103         1977543  1977543   \n",
              "unique           97     27976               2       78   \n",
              "top     Philippines    Kaduna          shared      PHP   \n",
              "freq         437345     17178         1522902   437343   \n",
              "\n",
              "                          posted_time        planned_expiration_time  \\\n",
              "count                         1977543                        1610102   \n",
              "unique                        1970459                         854188   \n",
              "top     2006-04-16 07:10:50.000 +0000  2018-07-20 05:35:51.000 +0000   \n",
              "freq                              205                             27   \n",
              "\n",
              "                        disburse_time                    raised_time  \\\n",
              "count                         1977527                        1977543   \n",
              "unique                          78380                        1628575   \n",
              "top     2020-01-28 08:00:00.000 +0000  2005-03-31 06:27:55.000 +0000   \n",
              "freq                             4451                            202   \n",
              "\n",
              "                 tags borrower_names borrower_genders borrower_pictured  \\\n",
              "count         1056645        1936894          1940851           1940851   \n",
              "unique         203835         589032            23774              7734   \n",
              "top     user_favorite           Mary           female              true   \n",
              "freq            75473           5794          1298469           1674182   \n",
              "\n",
              "       repayment_interval distribution_model  \n",
              "count             1977543            1977543  \n",
              "unique                  3                  2  \n",
              "top               monthly      field_partner  \n",
              "freq              1711871            1960373  "
            ]
          },
          "metadata": {},
          "execution_count": 12
        }
      ]
    },
    {
      "cell_type": "code",
      "metadata": {
        "colab": {
          "base_uri": "https://localhost:8080/",
          "height": 297
        },
        "id": "noaEeduUxsm-",
        "outputId": "10dfe4d3-93f2-4f5d-c7d0-90def3b8c5bb"
      },
      "source": [
        "data_reduced.describe()"
      ],
      "execution_count": null,
      "outputs": [
        {
          "output_type": "execute_result",
          "data": {
            "text/html": [
              "<div>\n",
              "<style scoped>\n",
              "    .dataframe tbody tr th:only-of-type {\n",
              "        vertical-align: middle;\n",
              "    }\n",
              "\n",
              "    .dataframe tbody tr th {\n",
              "        vertical-align: top;\n",
              "    }\n",
              "\n",
              "    .dataframe thead th {\n",
              "        text-align: right;\n",
              "    }\n",
              "</style>\n",
              "<table border=\"1\" class=\"dataframe\">\n",
              "  <thead>\n",
              "    <tr style=\"text-align: right;\">\n",
              "      <th></th>\n",
              "      <th>funded_amount</th>\n",
              "      <th>loan_amount</th>\n",
              "      <th>currency_exchange_coverage_rate</th>\n",
              "      <th>partner_id</th>\n",
              "      <th>lender_term</th>\n",
              "      <th>num_journal_entries</th>\n",
              "      <th>num_bulk_entries</th>\n",
              "      <th>contrib_per_lend</th>\n",
              "      <th>monthly_repayment</th>\n",
              "    </tr>\n",
              "  </thead>\n",
              "  <tbody>\n",
              "    <tr>\n",
              "      <th>count</th>\n",
              "      <td>2.079136e+06</td>\n",
              "      <td>2.079136e+06</td>\n",
              "      <td>1.608362e+06</td>\n",
              "      <td>2.058022e+06</td>\n",
              "      <td>2.079112e+06</td>\n",
              "      <td>2.079136e+06</td>\n",
              "      <td>2.079136e+06</td>\n",
              "      <td>2.075783e+06</td>\n",
              "      <td>2.079112e+06</td>\n",
              "    </tr>\n",
              "    <tr>\n",
              "      <th>mean</th>\n",
              "      <td>7.760711e+02</td>\n",
              "      <td>8.152243e+02</td>\n",
              "      <td>1.059521e-01</td>\n",
              "      <td>1.685655e+02</td>\n",
              "      <td>1.311601e+01</td>\n",
              "      <td>1.542729e+00</td>\n",
              "      <td>1.147883e+00</td>\n",
              "      <td>5.470357e+01</td>\n",
              "      <td>7.047902e+01</td>\n",
              "    </tr>\n",
              "    <tr>\n",
              "      <th>std</th>\n",
              "      <td>1.590375e+03</td>\n",
              "      <td>1.667791e+03</td>\n",
              "      <td>4.005050e-02</td>\n",
              "      <td>1.074152e+02</td>\n",
              "      <td>7.271440e+00</td>\n",
              "      <td>1.084915e+00</td>\n",
              "      <td>5.219326e-01</td>\n",
              "      <td>1.583538e+02</td>\n",
              "      <td>1.380705e+02</td>\n",
              "    </tr>\n",
              "    <tr>\n",
              "      <th>min</th>\n",
              "      <td>0.000000e+00</td>\n",
              "      <td>2.500000e+01</td>\n",
              "      <td>0.000000e+00</td>\n",
              "      <td>1.000000e+00</td>\n",
              "      <td>1.000000e+00</td>\n",
              "      <td>1.000000e+00</td>\n",
              "      <td>1.000000e+00</td>\n",
              "      <td>5.000000e+00</td>\n",
              "      <td>0.000000e+00</td>\n",
              "    </tr>\n",
              "    <tr>\n",
              "      <th>25%</th>\n",
              "      <td>2.500000e+02</td>\n",
              "      <td>2.750000e+02</td>\n",
              "      <td>1.000000e-01</td>\n",
              "      <td>1.100000e+02</td>\n",
              "      <td>8.000000e+00</td>\n",
              "      <td>1.000000e+00</td>\n",
              "      <td>1.000000e+00</td>\n",
              "      <td>2.666667e+01</td>\n",
              "      <td>2.321429e+01</td>\n",
              "    </tr>\n",
              "    <tr>\n",
              "      <th>50%</th>\n",
              "      <td>4.750000e+02</td>\n",
              "      <td>5.000000e+02</td>\n",
              "      <td>1.000000e-01</td>\n",
              "      <td>1.450000e+02</td>\n",
              "      <td>1.300000e+01</td>\n",
              "      <td>1.000000e+00</td>\n",
              "      <td>1.000000e+00</td>\n",
              "      <td>3.088235e+01</td>\n",
              "      <td>3.846154e+01</td>\n",
              "    </tr>\n",
              "    <tr>\n",
              "      <th>75%</th>\n",
              "      <td>9.000000e+02</td>\n",
              "      <td>9.750000e+02</td>\n",
              "      <td>1.000000e-01</td>\n",
              "      <td>1.880000e+02</td>\n",
              "      <td>1.400000e+01</td>\n",
              "      <td>2.000000e+00</td>\n",
              "      <td>1.000000e+00</td>\n",
              "      <td>4.062500e+01</td>\n",
              "      <td>6.875000e+01</td>\n",
              "    </tr>\n",
              "    <tr>\n",
              "      <th>max</th>\n",
              "      <td>5.000000e+05</td>\n",
              "      <td>5.000000e+05</td>\n",
              "      <td>2.000000e-01</td>\n",
              "      <td>6.190000e+02</td>\n",
              "      <td>1.950000e+02</td>\n",
              "      <td>1.260000e+02</td>\n",
              "      <td>6.300000e+01</td>\n",
              "      <td>2.500000e+04</td>\n",
              "      <td>5.000000e+04</td>\n",
              "    </tr>\n",
              "  </tbody>\n",
              "</table>\n",
              "</div>"
            ],
            "text/plain": [
              "       funded_amount   loan_amount  currency_exchange_coverage_rate  \\\n",
              "count   2.079136e+06  2.079136e+06                     1.608362e+06   \n",
              "mean    7.760711e+02  8.152243e+02                     1.059521e-01   \n",
              "std     1.590375e+03  1.667791e+03                     4.005050e-02   \n",
              "min     0.000000e+00  2.500000e+01                     0.000000e+00   \n",
              "25%     2.500000e+02  2.750000e+02                     1.000000e-01   \n",
              "50%     4.750000e+02  5.000000e+02                     1.000000e-01   \n",
              "75%     9.000000e+02  9.750000e+02                     1.000000e-01   \n",
              "max     5.000000e+05  5.000000e+05                     2.000000e-01   \n",
              "\n",
              "         partner_id   lender_term  num_journal_entries  num_bulk_entries  \\\n",
              "count  2.058022e+06  2.079112e+06         2.079136e+06      2.079136e+06   \n",
              "mean   1.685655e+02  1.311601e+01         1.542729e+00      1.147883e+00   \n",
              "std    1.074152e+02  7.271440e+00         1.084915e+00      5.219326e-01   \n",
              "min    1.000000e+00  1.000000e+00         1.000000e+00      1.000000e+00   \n",
              "25%    1.100000e+02  8.000000e+00         1.000000e+00      1.000000e+00   \n",
              "50%    1.450000e+02  1.300000e+01         1.000000e+00      1.000000e+00   \n",
              "75%    1.880000e+02  1.400000e+01         2.000000e+00      1.000000e+00   \n",
              "max    6.190000e+02  1.950000e+02         1.260000e+02      6.300000e+01   \n",
              "\n",
              "       contrib_per_lend  monthly_repayment  \n",
              "count      2.075783e+06       2.079112e+06  \n",
              "mean       5.470357e+01       7.047902e+01  \n",
              "std        1.583538e+02       1.380705e+02  \n",
              "min        5.000000e+00       0.000000e+00  \n",
              "25%        2.666667e+01       2.321429e+01  \n",
              "50%        3.088235e+01       3.846154e+01  \n",
              "75%        4.062500e+01       6.875000e+01  \n",
              "max        2.500000e+04       5.000000e+04  "
            ]
          },
          "metadata": {},
          "execution_count": 28
        }
      ]
    },
    {
      "cell_type": "code",
      "metadata": {
        "id": "8IEKrjDUymi1"
      },
      "source": [
        "# import seaborn as sns\n",
        "# sns.pairplot(df1[['contrib_per_lend', 'repayment_monthly']])"
      ],
      "execution_count": null,
      "outputs": []
    },
    {
      "cell_type": "code",
      "metadata": {
        "colab": {
          "base_uri": "https://localhost:8080/",
          "height": 326
        },
        "id": "es91bd0xymma",
        "outputId": "54bd753c-e201-4bc7-8ee0-40b9cda4cad7"
      },
      "source": [
        "data_reduced['repayment_interval'].value_counts().plot(kind='bar')"
      ],
      "execution_count": null,
      "outputs": [
        {
          "output_type": "execute_result",
          "data": {
            "text/plain": [
              "<matplotlib.axes._subplots.AxesSubplot at 0x7ff8352d1550>"
            ]
          },
          "metadata": {},
          "execution_count": 29
        },
        {
          "output_type": "display_data",
          "data": {
            "image/png": "[encoded data removed]",
            "text/plain": [
              "<Figure size 432x288 with 1 Axes>"
            ]
          },
          "metadata": {
            "needs_background": "light"
          }
        }
      ]
    },
    {
      "cell_type": "code",
      "metadata": {
        "colab": {
          "base_uri": "https://localhost:8080/"
        },
        "id": "-J39N2A8-pZd",
        "outputId": "803efb50-a7dc-434d-e7f0-10ab2e4614db"
      },
      "source": [
        "data_reduced.columns"
      ],
      "execution_count": null,
      "outputs": [
        {
          "output_type": "execute_result",
          "data": {
            "text/plain": [
              "Index(['loan_name', 'original_language', 'description', 'funded_amount',\n",
              "       'loan_amount', 'status', 'activity_name', 'sector_name', 'loan_use',\n",
              "       'country_name', 'town_name', 'currency_policy',\n",
              "       'currency_exchange_coverage_rate', 'currency', 'partner_id',\n",
              "       'posted_time', 'planned_expiration_time', 'disburse_time',\n",
              "       'raised_time', 'lender_term', 'num_journal_entries', 'num_bulk_entries',\n",
              "       'tags', 'borrower_names', 'borrower_genders', 'borrower_pictured',\n",
              "       'repayment_interval', 'distribution_model', 'loan_status',\n",
              "       'contrib_per_lend', 'monthly_repayment'],\n",
              "      dtype='object')"
            ]
          },
          "metadata": {},
          "execution_count": 30
        }
      ]
    },
    {
      "cell_type": "code",
      "metadata": {
        "id": "oHeIk6chj4lJ"
      },
      "source": [
        "#data_reduced.columns = [i.replace(' ', '_').lower() for i in df1.columns]"
      ],
      "execution_count": null,
      "outputs": []
    },
    {
      "cell_type": "code",
      "metadata": {
        "colab": {
          "base_uri": "https://localhost:8080/"
        },
        "id": "0f94h79Qh2NK",
        "outputId": "c3c36438-71f0-47e5-ef59-e532bccbc0fa"
      },
      "source": [
        "data_reduced.isnull().sum()"
      ],
      "execution_count": null,
      "outputs": [
        {
          "output_type": "execute_result",
          "data": {
            "text/plain": [
              "loan_name                           40649\n",
              "original_language                   36692\n",
              "description                         36720\n",
              "funded_amount                           0\n",
              "loan_amount                             0\n",
              "status                                  0\n",
              "activity_name                           0\n",
              "sector_name                             0\n",
              "loan_use                            36709\n",
              "country_name                            0\n",
              "town_name                          158440\n",
              "currency_policy                         0\n",
              "currency_exchange_coverage_rate    454641\n",
              "currency                                0\n",
              "partner_id                          17170\n",
              "posted_time                             0\n",
              "planned_expiration_time            367441\n",
              "disburse_time                          16\n",
              "raised_time                             0\n",
              "lender_term                            22\n",
              "num_journal_entries                     0\n",
              "num_bulk_entries                        0\n",
              "tags                               920898\n",
              "borrower_names                      40649\n",
              "borrower_genders                    36692\n",
              "borrower_pictured                   36692\n",
              "repayment_interval                      0\n",
              "distribution_model                      0\n",
              "contrib_per_lend                        0\n",
              "repayment_monthly                      22\n",
              "dtype: int64"
            ]
          },
          "metadata": {},
          "execution_count": 16
        }
      ]
    },
    {
      "cell_type": "code",
      "metadata": {
        "colab": {
          "base_uri": "https://localhost:8080/"
        },
        "id": "5D2AnJGfh_P_",
        "outputId": "400e0334-3748-499c-b85f-e8da742dc94e"
      },
      "source": [
        "data_reduced.loan_amount.value_counts()"
      ],
      "execution_count": null,
      "outputs": [
        {
          "output_type": "execute_result",
          "data": {
            "text/plain": [
              "200.0       97813\n",
              "300.0       92751\n",
              "500.0       89702\n",
              "250.0       76900\n",
              "225.0       74822\n",
              "            ...  \n",
              "13700.0         1\n",
              "13650.0         1\n",
              "408375.0        1\n",
              "13575.0         1\n",
              "29450.0         1\n",
              "Name: loan_amount, Length: 623, dtype: int64"
            ]
          },
          "metadata": {},
          "execution_count": 32
        }
      ]
    },
    {
      "cell_type": "code",
      "metadata": {
        "colab": {
          "base_uri": "https://localhost:8080/"
        },
        "id": "Ch6PqKn1i1nL",
        "outputId": "62cfb745-fb8a-47d1-b6c3-f35701f053b9"
      },
      "source": [
        "data_reduced.funded_amount.value_counts()"
      ],
      "execution_count": null,
      "outputs": [
        {
          "output_type": "execute_result",
          "data": {
            "text/plain": [
              "200.0      101385\n",
              "300.0       94629\n",
              "500.0       86756\n",
              "250.0       80010\n",
              "225.0       78038\n",
              "            ...  \n",
              "20275.0         1\n",
              "3965.0          1\n",
              "20500.0         1\n",
              "20625.0         1\n",
              "2035.0          1\n",
              "Name: funded_amount, Length: 772, dtype: int64"
            ]
          },
          "metadata": {},
          "execution_count": 33
        }
      ]
    },
    {
      "cell_type": "code",
      "metadata": {
        "colab": {
          "base_uri": "https://localhost:8080/"
        },
        "id": "3gNjWsTcidlo",
        "outputId": "74139813-8dfe-4563-93fd-0a5a8bd1af22"
      },
      "source": [
        "data_reduced['status'].value_counts()"
      ],
      "execution_count": null,
      "outputs": [
        {
          "output_type": "execute_result",
          "data": {
            "text/plain": [
              "funded      1977543\n",
              "expired       92411\n",
              "refunded       9182\n",
              "Name: status, dtype: int64"
            ]
          },
          "metadata": {},
          "execution_count": 34
        }
      ]
    },
    {
      "cell_type": "code",
      "metadata": {
        "colab": {
          "base_uri": "https://localhost:8080/"
        },
        "id": "ePn9EWjplVnQ",
        "outputId": "e02019ed-1e1b-4756-bffe-9316305b49d8"
      },
      "source": [
        "data_reduced.info()"
      ],
      "execution_count": null,
      "outputs": [
        {
          "output_type": "stream",
          "name": "stdout",
          "text": [
            "<class 'pandas.core.frame.DataFrame'>\n",
            "Int64Index: 2079136 entries, 0 to 2086699\n",
            "Data columns (total 31 columns):\n",
            " #   Column                           Dtype  \n",
            "---  ------                           -----  \n",
            " 0   loan_name                        object \n",
            " 1   original_language                object \n",
            " 2   description                      object \n",
            " 3   funded_amount                    float64\n",
            " 4   loan_amount                      float64\n",
            " 5   status                           object \n",
            " 6   activity_name                    object \n",
            " 7   sector_name                      object \n",
            " 8   loan_use                         object \n",
            " 9   country_name                     object \n",
            " 10  town_name                        object \n",
            " 11  currency_policy                  object \n",
            " 12  currency_exchange_coverage_rate  float64\n",
            " 13  currency                         object \n",
            " 14  partner_id                       float64\n",
            " 15  posted_time                      object \n",
            " 16  planned_expiration_time          object \n",
            " 17  disburse_time                    object \n",
            " 18  raised_time                      object \n",
            " 19  lender_term                      float64\n",
            " 20  num_journal_entries              int64  \n",
            " 21  num_bulk_entries                 int64  \n",
            " 22  tags                             object \n",
            " 23  borrower_names                   object \n",
            " 24  borrower_genders                 object \n",
            " 25  borrower_pictured                object \n",
            " 26  repayment_interval               object \n",
            " 27  distribution_model               object \n",
            " 28  loan_status                      object \n",
            " 29  contrib_per_lend                 float64\n",
            " 30  monthly_repayment                float64\n",
            "dtypes: float64(7), int64(2), object(22)\n",
            "memory usage: 507.6+ MB\n"
          ]
        }
      ]
    },
    {
      "cell_type": "code",
      "metadata": {
        "id": "4c1j_4FGr95x",
        "colab": {
          "base_uri": "https://localhost:8080/"
        },
        "outputId": "fd3d2858-ee5b-4af4-f043-35035ebd7bfb"
      },
      "source": [
        "data_reduced.repayment_interval.value_counts()"
      ],
      "execution_count": null,
      "outputs": [
        {
          "output_type": "execute_result",
          "data": {
            "text/plain": [
              "monthly      1794909\n",
              "bullet        190546\n",
              "irregular      93681\n",
              "Name: repayment_interval, dtype: int64"
            ]
          },
          "metadata": {},
          "execution_count": 36
        }
      ]
    },
    {
      "cell_type": "code",
      "metadata": {
        "colab": {
          "base_uri": "https://localhost:8080/"
        },
        "id": "Wcg48jYhsKXS",
        "outputId": "91d0d725-5c9d-406b-aca9-55f2c790a732"
      },
      "source": [
        "data_reduced.lender_term.value_counts()"
      ],
      "execution_count": null,
      "outputs": [
        {
          "output_type": "execute_result",
          "data": {
            "text/plain": [
              "14.0     525364\n",
              "8.0      406524\n",
              "7.0      123562\n",
              "11.0     123420\n",
              "6.0       99524\n",
              "          ...  \n",
              "148.0         1\n",
              "147.0         1\n",
              "119.0         1\n",
              "117.0         1\n",
              "116.0         1\n",
              "Name: lender_term, Length: 153, dtype: int64"
            ]
          },
          "metadata": {},
          "execution_count": 37
        }
      ]
    },
    {
      "cell_type": "code",
      "metadata": {
        "colab": {
          "base_uri": "https://localhost:8080/",
          "height": 1000
        },
        "id": "gjqFrlzsr99V",
        "outputId": "b8f710e5-6d8f-482f-ffd1-e786dc922d51"
      },
      "source": [
        "#loans\n",
        "import seaborn as sns\n",
        "import matplotlib.pyplot as plt\n",
        "import matplotlib_inline\n",
        "\n",
        "sns.set_style('darkgrid')\n",
        "sns.set_context('talk')\n",
        "plt.figure(figsize=(14,26))\n",
        "df_sorted = data_reduced.groupby('country_name')['loan_amount'].count().sort_values()\n",
        "ax = df_sorted.plot.barh()\n",
        "#ax = df1.groupby('COUNTRY_CODE')['LOAN_AMOUNT'].count().plot.barh()\n",
        "plt.title('LOAN AMOUNT BY COUNTRY OF BORROWERS')\n",
        "plt.xticks(fontsize = 8,rotation=45)\n",
        "for p in ax.patches:\n",
        "    ax.annotate(str(p.get_height()), (p.get_x()-0.1, p.get_height()+30))\n"
      ],
      "execution_count": null,
      "outputs": [
        {
          "output_type": "display_data",
          "data": {
            "image/png": "[encoded data removed]",
            "text/plain": [
              "<Figure size 1008x1872 with 1 Axes>"
            ]
          },
          "metadata": {}
        }
      ]
    },
    {
      "cell_type": "code",
      "metadata": {
        "id": "qUuzNJ2rkCJp"
      },
      "source": [
        "data_num = data_reduced[['funded_amount', 'loan_amount', 'currency_exchange_coverage_rate', 'partner_id', 'lender_term', 'contrib_per_lend', 'monthly_repayment', 'num_journal_entries', 'num_bulk_entries']]\n"
      ],
      "execution_count": null,
      "outputs": []
    },
    {
      "cell_type": "code",
      "metadata": {
        "id": "pz8IJJtD7lO1",
        "colab": {
          "base_uri": "https://localhost:8080/",
          "height": 328
        },
        "outputId": "ce57e0fd-9dec-439f-afb4-bf33f30d98af"
      },
      "source": [
        "def ames_eda(data_num): \n",
        "    eda_df = {}\n",
        "    eda_df['null_sum'] = data_num.isnull().sum()\n",
        "    eda_df['null_pct'] = data_num.isnull().mean()\n",
        "    eda_df['dtypes'] = data_num.dtypes\n",
        "    eda_df['count'] = data_num.count()\n",
        "    eda_df['mean'] = data_num.mean()\n",
        "    eda_df['median'] = data_num.median()\n",
        "    eda_df['min'] = data_num.min()\n",
        "    eda_df['max'] = data_num.max()\n",
        "    \n",
        "    return pd.DataFrame(eda_df)\n",
        "ames_eda(data_num)"
      ],
      "execution_count": null,
      "outputs": [
        {
          "output_type": "execute_result",
          "data": {
            "text/html": [
              "<div>\n",
              "<style scoped>\n",
              "    .dataframe tbody tr th:only-of-type {\n",
              "        vertical-align: middle;\n",
              "    }\n",
              "\n",
              "    .dataframe tbody tr th {\n",
              "        vertical-align: top;\n",
              "    }\n",
              "\n",
              "    .dataframe thead th {\n",
              "        text-align: right;\n",
              "    }\n",
              "</style>\n",
              "<table border=\"1\" class=\"dataframe\">\n",
              "  <thead>\n",
              "    <tr style=\"text-align: right;\">\n",
              "      <th></th>\n",
              "      <th>null_sum</th>\n",
              "      <th>null_pct</th>\n",
              "      <th>dtypes</th>\n",
              "      <th>count</th>\n",
              "      <th>mean</th>\n",
              "      <th>median</th>\n",
              "      <th>min</th>\n",
              "      <th>max</th>\n",
              "    </tr>\n",
              "  </thead>\n",
              "  <tbody>\n",
              "    <tr>\n",
              "      <th>funded_amount</th>\n",
              "      <td>0</td>\n",
              "      <td>0.000000</td>\n",
              "      <td>float64</td>\n",
              "      <td>2079136</td>\n",
              "      <td>776.071116</td>\n",
              "      <td>475.000000</td>\n",
              "      <td>0.0</td>\n",
              "      <td>500000.0</td>\n",
              "    </tr>\n",
              "    <tr>\n",
              "      <th>loan_amount</th>\n",
              "      <td>0</td>\n",
              "      <td>0.000000</td>\n",
              "      <td>float64</td>\n",
              "      <td>2079136</td>\n",
              "      <td>815.224257</td>\n",
              "      <td>500.000000</td>\n",
              "      <td>25.0</td>\n",
              "      <td>500000.0</td>\n",
              "    </tr>\n",
              "    <tr>\n",
              "      <th>currency_exchange_coverage_rate</th>\n",
              "      <td>470774</td>\n",
              "      <td>0.226428</td>\n",
              "      <td>float64</td>\n",
              "      <td>1608362</td>\n",
              "      <td>0.105952</td>\n",
              "      <td>0.100000</td>\n",
              "      <td>0.0</td>\n",
              "      <td>0.2</td>\n",
              "    </tr>\n",
              "    <tr>\n",
              "      <th>partner_id</th>\n",
              "      <td>21114</td>\n",
              "      <td>0.010155</td>\n",
              "      <td>float64</td>\n",
              "      <td>2058022</td>\n",
              "      <td>168.565458</td>\n",
              "      <td>145.000000</td>\n",
              "      <td>1.0</td>\n",
              "      <td>619.0</td>\n",
              "    </tr>\n",
              "    <tr>\n",
              "      <th>lender_term</th>\n",
              "      <td>24</td>\n",
              "      <td>0.000012</td>\n",
              "      <td>float64</td>\n",
              "      <td>2079112</td>\n",
              "      <td>13.116013</td>\n",
              "      <td>13.000000</td>\n",
              "      <td>1.0</td>\n",
              "      <td>195.0</td>\n",
              "    </tr>\n",
              "    <tr>\n",
              "      <th>contrib_per_lend</th>\n",
              "      <td>3353</td>\n",
              "      <td>0.001613</td>\n",
              "      <td>float64</td>\n",
              "      <td>2075783</td>\n",
              "      <td>54.703569</td>\n",
              "      <td>30.882353</td>\n",
              "      <td>5.0</td>\n",
              "      <td>25000.0</td>\n",
              "    </tr>\n",
              "    <tr>\n",
              "      <th>monthly_repayment</th>\n",
              "      <td>24</td>\n",
              "      <td>0.000012</td>\n",
              "      <td>float64</td>\n",
              "      <td>2079112</td>\n",
              "      <td>70.479023</td>\n",
              "      <td>38.461538</td>\n",
              "      <td>0.0</td>\n",
              "      <td>50000.0</td>\n",
              "    </tr>\n",
              "    <tr>\n",
              "      <th>num_journal_entries</th>\n",
              "      <td>0</td>\n",
              "      <td>0.000000</td>\n",
              "      <td>int64</td>\n",
              "      <td>2079136</td>\n",
              "      <td>1.542729</td>\n",
              "      <td>1.000000</td>\n",
              "      <td>1.0</td>\n",
              "      <td>126.0</td>\n",
              "    </tr>\n",
              "    <tr>\n",
              "      <th>num_bulk_entries</th>\n",
              "      <td>0</td>\n",
              "      <td>0.000000</td>\n",
              "      <td>int64</td>\n",
              "      <td>2079136</td>\n",
              "      <td>1.147883</td>\n",
              "      <td>1.000000</td>\n",
              "      <td>1.0</td>\n",
              "      <td>63.0</td>\n",
              "    </tr>\n",
              "  </tbody>\n",
              "</table>\n",
              "</div>"
            ],
            "text/plain": [
              "                                 null_sum  null_pct   dtypes    count  \\\n",
              "funded_amount                           0  0.000000  float64  2079136   \n",
              "loan_amount                             0  0.000000  float64  2079136   \n",
              "currency_exchange_coverage_rate    470774  0.226428  float64  1608362   \n",
              "partner_id                          21114  0.010155  float64  2058022   \n",
              "lender_term                            24  0.000012  float64  2079112   \n",
              "contrib_per_lend                     3353  0.001613  float64  2075783   \n",
              "monthly_repayment                      24  0.000012  float64  2079112   \n",
              "num_journal_entries                     0  0.000000    int64  2079136   \n",
              "num_bulk_entries                        0  0.000000    int64  2079136   \n",
              "\n",
              "                                       mean      median   min       max  \n",
              "funded_amount                    776.071116  475.000000   0.0  500000.0  \n",
              "loan_amount                      815.224257  500.000000  25.0  500000.0  \n",
              "currency_exchange_coverage_rate    0.105952    0.100000   0.0       0.2  \n",
              "partner_id                       168.565458  145.000000   1.0     619.0  \n",
              "lender_term                       13.116013   13.000000   1.0     195.0  \n",
              "contrib_per_lend                  54.703569   30.882353   5.0   25000.0  \n",
              "monthly_repayment                 70.479023   38.461538   0.0   50000.0  \n",
              "num_journal_entries                1.542729    1.000000   1.0     126.0  \n",
              "num_bulk_entries                   1.147883    1.000000   1.0      63.0  "
            ]
          },
          "metadata": {},
          "execution_count": 41
        }
      ]
    },
    {
      "cell_type": "code",
      "metadata": {
        "id": "YYgfviny7lT2",
        "colab": {
          "base_uri": "https://localhost:8080/",
          "height": 797
        },
        "outputId": "d8cf9345-d295-4cd7-d498-2e7756a9ae79"
      },
      "source": [
        "mean_corr = data_num.corr()\n",
        "fig=plt.figure(figsize=(13,11))\n",
        "g1 = sns.heatmap(mean_corr, cmap='coolwarm', vmin=0, vmax=1)\n",
        "g1.set_xticklabels(g1.get_xticklabels(), rotation=70, fontsize=8)\n",
        "g1.set_yticklabels(g1.get_yticklabels(), rotation=15, fontsize=8)\n",
        "plt.title(\"Correlation Plot of Mean Features\")\n",
        "plt.savefig(\"Corr_Mean_Features.png\", dpi=200)\n",
        "plt.show()"
      ],
      "execution_count": null,
      "outputs": [
        {
          "output_type": "display_data",
          "data": {
            "image/png": "[encoded data removed]",
            "text/plain": [
              "<Figure size 936x792 with 2 Axes>"
            ]
          },
          "metadata": {}
        }
      ]
    },
    {
      "cell_type": "code",
      "metadata": {
        "id": "v2kLtrLs7lXr"
      },
      "source": [
        "# attributes = ['funded_amount', 'loan_amount', 'currency_exchange_coverage_rate', 'partner_id', 'lender_term',\n",
        "#                'num_lenders_total', 'num_journal_entries', 'num_bulk_entries']\n",
        "# def histograms_numeric_columns(df1_num, attributes):\n",
        "#     '''\n",
        "#     Takes df, numerical columns as list\n",
        "#     Returns a group of histagrams\n",
        "#     '''\n",
        "#     f = pd.melt(df1_num, value_vars=attributes) \n",
        "#     g = sns.FacetGrid(f, col='variable',  col_wrap=2, sharex=False, sharey=False)\n",
        "#     g = g.map(sns.distplot, 'value')\n",
        "#     return g"
      ],
      "execution_count": null,
      "outputs": []
    },
    {
      "cell_type": "code",
      "metadata": {
        "id": "Nod4Z1mX2AZT",
        "colab": {
          "base_uri": "https://localhost:8080/",
          "height": 431
        },
        "outputId": "b1e52a52-65d0-4d91-ff2d-289f73c8bff5"
      },
      "source": [
        "d = data_reduced['loan_name'].value_counts()[0:20]\n",
        "d.plot(kind='bar')"
      ],
      "execution_count": null,
      "outputs": [
        {
          "output_type": "execute_result",
          "data": {
            "text/plain": [
              "<matplotlib.axes._subplots.AxesSubplot at 0x7ff82ad91110>"
            ]
          },
          "metadata": {},
          "execution_count": 44
        },
        {
          "output_type": "display_data",
          "data": {
            "image/png": "[encoded data removed]",
            "text/plain": [
              "<Figure size 432x288 with 1 Axes>"
            ]
          },
          "metadata": {}
        }
      ]
    },
    {
      "cell_type": "code",
      "metadata": {
        "id": "tDLxY4HvJpbY"
      },
      "source": [
        "#Create a new column that shows the repayment status( 1 = irregular payment and 0 = payment on time)\n",
        "data_reduced['repayment_status'] = data_reduced.apply(lambda x: 1 if x['repayment_interval'] =='irregular' else 0, axis=1)"
      ],
      "execution_count": null,
      "outputs": []
    },
    {
      "cell_type": "code",
      "metadata": {
        "colab": {
          "base_uri": "https://localhost:8080/",
          "height": 265
        },
        "id": "87cuez48jqQR",
        "outputId": "f5829cf6-b77d-41d1-b0e5-9c1e87d8bce6"
      },
      "source": [
        "data_reduced['repayment_status'].value_counts().plot(kind='pie')"
      ],
      "execution_count": null,
      "outputs": [
        {
          "output_type": "execute_result",
          "data": {
            "text/plain": [
              "<matplotlib.axes._subplots.AxesSubplot at 0x7ff834e93290>"
            ]
          },
          "metadata": {},
          "execution_count": 46
        },
        {
          "output_type": "display_data",
          "data": {
            "image/png": "[encoded data removed]",
            "text/plain": [
              "<Figure size 432x288 with 1 Axes>"
            ]
          },
          "metadata": {}
        }
      ]
    },
    {
      "cell_type": "code",
      "metadata": {
        "colab": {
          "base_uri": "https://localhost:8080/"
        },
        "id": "OOFGJLFYjqXB",
        "outputId": "f3449ede-bf2c-480b-9435-c9d397d6ffcf"
      },
      "source": [
        "data_reduced.info()"
      ],
      "execution_count": null,
      "outputs": [
        {
          "output_type": "stream",
          "name": "stdout",
          "text": [
            "<class 'pandas.core.frame.DataFrame'>\n",
            "Int64Index: 2079136 entries, 0 to 2086699\n",
            "Data columns (total 32 columns):\n",
            " #   Column                           Dtype  \n",
            "---  ------                           -----  \n",
            " 0   loan_name                        object \n",
            " 1   original_language                object \n",
            " 2   description                      object \n",
            " 3   funded_amount                    float64\n",
            " 4   loan_amount                      float64\n",
            " 5   status                           object \n",
            " 6   activity_name                    object \n",
            " 7   sector_name                      object \n",
            " 8   loan_use                         object \n",
            " 9   country_name                     object \n",
            " 10  town_name                        object \n",
            " 11  currency_policy                  object \n",
            " 12  currency_exchange_coverage_rate  float64\n",
            " 13  currency                         object \n",
            " 14  partner_id                       float64\n",
            " 15  posted_time                      object \n",
            " 16  planned_expiration_time          object \n",
            " 17  disburse_time                    object \n",
            " 18  raised_time                      object \n",
            " 19  lender_term                      float64\n",
            " 20  num_journal_entries              int64  \n",
            " 21  num_bulk_entries                 int64  \n",
            " 22  tags                             object \n",
            " 23  borrower_names                   object \n",
            " 24  borrower_genders                 object \n",
            " 25  borrower_pictured                object \n",
            " 26  repayment_interval               object \n",
            " 27  distribution_model               object \n",
            " 28  loan_status                      object \n",
            " 29  contrib_per_lend                 float64\n",
            " 30  monthly_repayment                float64\n",
            " 31  repayment_status                 int64  \n",
            "dtypes: float64(7), int64(3), object(22)\n",
            "memory usage: 523.5+ MB\n"
          ]
        }
      ]
    },
    {
      "cell_type": "code",
      "metadata": {
        "id": "8UYn_-7xqpuz"
      },
      "source": [
        "data_clean = data_reduced[['loan_name', 'funded_amount','loan_amount','currency_exchange_coverage_rate', 'partner_id','lender_term', 'num_journal_entries', 'num_bulk_entries', 'contrib_per_lend','monthly_repayment', 'repayment_status']]\n"
      ],
      "execution_count": null,
      "outputs": []
    },
    {
      "cell_type": "code",
      "metadata": {
        "colab": {
          "base_uri": "https://localhost:8080/"
        },
        "id": "3HOhFo00s4wV",
        "outputId": "0241f48b-492f-4e78-89ac-3e5099584953"
      },
      "source": [
        "# check scikit-learn version\n",
        "import sklearn\n",
        "print(sklearn.__version__)"
      ],
      "execution_count": null,
      "outputs": [
        {
          "output_type": "stream",
          "name": "stdout",
          "text": [
            "0.22.2.post1\n"
          ]
        }
      ]
    },
    {
      "cell_type": "code",
      "metadata": {
        "id": "KNvJiULKs410"
      },
      "source": [
        ""
      ],
      "execution_count": null,
      "outputs": []
    },
    {
      "cell_type": "code",
      "metadata": {
        "id": "tn-msHXKs46F"
      },
      "source": [
        ""
      ],
      "execution_count": null,
      "outputs": []
    },
    {
      "cell_type": "code",
      "metadata": {
        "id": "WNEJszhYs4-D"
      },
      "source": [
        ""
      ],
      "execution_count": null,
      "outputs": []
    },
    {
      "cell_type": "code",
      "metadata": {
        "id": "XvuvrojHs5E8"
      },
      "source": [
        ""
      ],
      "execution_count": null,
      "outputs": []
    },
    {
      "cell_type": "code",
      "metadata": {
        "id": "97iWHNio2Adz",
        "colab": {
          "base_uri": "https://localhost:8080/",
          "height": 17
        },
        "outputId": "9ac8b791-ef6b-41b6-a5cb-e75d407194c3"
      },
      "source": [
        "import pandas as pd\n",
        "import numpy as np\n",
        "import chart_studio.plotly as py\n",
        "import cufflinks as cf\n",
        "import seaborn as sns\n",
        "import plotly.express as px\n",
        "%matplotlib inline\n",
        "from plotly.offline import download_plotlyjs, init_notebook_mode, plot, iplot\n",
        "init_notebook_mode(connected=True)\n",
        "cf.go_offline()\n",
        "import plotly.graph_objects as go\n",
        "#df_stocks = px.data.stocks()\n",
        "px.line(data_reduced, x='raised_time', y='loan_amount')"
      ],
      "execution_count": null,
      "outputs": [
        {
          "output_type": "display_data",
          "data": {
            "text/html": [
              "        <script type=\"text/javascript\">\n",
              "        window.PlotlyConfig = {MathJaxConfig: 'local'};\n",
              "        if (window.MathJax) {MathJax.Hub.Config({SVG: {font: \"STIX-Web\"}});}\n",
              "        if (typeof require !== 'undefined') {\n",
              "        require.undef(\"plotly\");\n",
              "        requirejs.config({\n",
              "            paths: {\n",
              "                'plotly': ['https://cdn.plot.ly/plotly-latest.min']\n",
              "            }\n",
              "        });\n",
              "        require(['plotly'], function(Plotly) {\n",
              "            window._Plotly = Plotly;\n",
              "        });\n",
              "        }\n",
              "        </script>\n",
              "        "
            ]
          },
          "metadata": {}
        },
        {
          "output_type": "display_data",
          "data": {
            "text/html": [
              "        <script type=\"text/javascript\">\n",
              "        window.PlotlyConfig = {MathJaxConfig: 'local'};\n",
              "        if (window.MathJax) {MathJax.Hub.Config({SVG: {font: \"STIX-Web\"}});}\n",
              "        if (typeof require !== 'undefined') {\n",
              "        require.undef(\"plotly\");\n",
              "        requirejs.config({\n",
              "            paths: {\n",
              "                'plotly': ['https://cdn.plot.ly/plotly-latest.min']\n",
              "            }\n",
              "        });\n",
              "        require(['plotly'], function(Plotly) {\n",
              "            window._Plotly = Plotly;\n",
              "        });\n",
              "        }\n",
              "        </script>\n",
              "        "
            ]
          },
          "metadata": {}
        }
      ]
    },
    {
      "cell_type": "code",
      "metadata": {
        "id": "luYrE4lp2Ak8"
      },
      "source": [
        ""
      ],
      "execution_count": null,
      "outputs": []
    },
    {
      "cell_type": "code",
      "metadata": {
        "id": "-Xggn-aCr-Bq"
      },
      "source": [
        ""
      ],
      "execution_count": null,
      "outputs": []
    },
    {
      "cell_type": "code",
      "metadata": {
        "colab": {
          "base_uri": "https://localhost:8080/",
          "height": 204
        },
        "id": "DhoG3tT4u9h8",
        "outputId": "220d8393-dac7-43c3-a819-88d4af53259b"
      },
      "source": [
        "df2 = pd.read_csv('/content/drive/MyDrive/New Folder/lenders.csv')\n",
        "df2.head()"
      ],
      "execution_count": null,
      "outputs": [
        {
          "output_type": "execute_result",
          "data": {
            "text/html": [
              "<div>\n",
              "<style scoped>\n",
              "    .dataframe tbody tr th:only-of-type {\n",
              "        vertical-align: middle;\n",
              "    }\n",
              "\n",
              "    .dataframe tbody tr th {\n",
              "        vertical-align: top;\n",
              "    }\n",
              "\n",
              "    .dataframe thead th {\n",
              "        text-align: right;\n",
              "    }\n",
              "</style>\n",
              "<table border=\"1\" class=\"dataframe\">\n",
              "  <thead>\n",
              "    <tr style=\"text-align: right;\">\n",
              "      <th></th>\n",
              "      <th>PERMANENT_NAME</th>\n",
              "      <th>DISPLAY_NAME</th>\n",
              "      <th>MAIN_PIC_ID</th>\n",
              "      <th>CITY</th>\n",
              "      <th>STATE</th>\n",
              "      <th>COUNTRY_CODE</th>\n",
              "      <th>MEMBER_SINCE</th>\n",
              "      <th>PERSONAL_URL</th>\n",
              "      <th>OCCUPATION</th>\n",
              "      <th>LOAN_BECAUSE</th>\n",
              "      <th>OTHER_INFO</th>\n",
              "      <th>LOAN_PURCHASE_NUM</th>\n",
              "      <th>INVITED_BY</th>\n",
              "      <th>NUM_INVITED</th>\n",
              "    </tr>\n",
              "  </thead>\n",
              "  <tbody>\n",
              "    <tr>\n",
              "      <th>0</th>\n",
              "      <td>julie70699492</td>\n",
              "      <td>Julie</td>\n",
              "      <td>NaN</td>\n",
              "      <td>NaN</td>\n",
              "      <td>NaN</td>\n",
              "      <td>NaN</td>\n",
              "      <td>1613601597</td>\n",
              "      <td>NaN</td>\n",
              "      <td>NaN</td>\n",
              "      <td>NaN</td>\n",
              "      <td>NaN</td>\n",
              "      <td>1</td>\n",
              "      <td>NaN</td>\n",
              "      <td>0</td>\n",
              "    </tr>\n",
              "    <tr>\n",
              "      <th>1</th>\n",
              "      <td>milo6882</td>\n",
              "      <td>Milo Re</td>\n",
              "      <td>NaN</td>\n",
              "      <td>NaN</td>\n",
              "      <td>NaN</td>\n",
              "      <td>NaN</td>\n",
              "      <td>1614018683</td>\n",
              "      <td>NaN</td>\n",
              "      <td>NaN</td>\n",
              "      <td>NaN</td>\n",
              "      <td>NaN</td>\n",
              "      <td>1</td>\n",
              "      <td>NaN</td>\n",
              "      <td>0</td>\n",
              "    </tr>\n",
              "    <tr>\n",
              "      <th>2</th>\n",
              "      <td>dionysios2219</td>\n",
              "      <td>dionysios</td>\n",
              "      <td>NaN</td>\n",
              "      <td>NaN</td>\n",
              "      <td>NaN</td>\n",
              "      <td>NaN</td>\n",
              "      <td>1613694450</td>\n",
              "      <td>NaN</td>\n",
              "      <td>NaN</td>\n",
              "      <td>NaN</td>\n",
              "      <td>NaN</td>\n",
              "      <td>1</td>\n",
              "      <td>NaN</td>\n",
              "      <td>0</td>\n",
              "    </tr>\n",
              "    <tr>\n",
              "      <th>3</th>\n",
              "      <td>simon85818350</td>\n",
              "      <td>Simon Re</td>\n",
              "      <td>NaN</td>\n",
              "      <td>NaN</td>\n",
              "      <td>NaN</td>\n",
              "      <td>NaN</td>\n",
              "      <td>1614018664</td>\n",
              "      <td>NaN</td>\n",
              "      <td>NaN</td>\n",
              "      <td>NaN</td>\n",
              "      <td>NaN</td>\n",
              "      <td>1</td>\n",
              "      <td>NaN</td>\n",
              "      <td>0</td>\n",
              "    </tr>\n",
              "    <tr>\n",
              "      <th>4</th>\n",
              "      <td>miky1853</td>\n",
              "      <td>Miky</td>\n",
              "      <td>NaN</td>\n",
              "      <td>NaN</td>\n",
              "      <td>NaN</td>\n",
              "      <td>NaN</td>\n",
              "      <td>1613595408</td>\n",
              "      <td>NaN</td>\n",
              "      <td>NaN</td>\n",
              "      <td>NaN</td>\n",
              "      <td>NaN</td>\n",
              "      <td>1</td>\n",
              "      <td>NaN</td>\n",
              "      <td>0</td>\n",
              "    </tr>\n",
              "  </tbody>\n",
              "</table>\n",
              "</div>"
            ],
            "text/plain": [
              "  PERMANENT_NAME DISPLAY_NAME  ...  INVITED_BY NUM_INVITED\n",
              "0  julie70699492        Julie  ...         NaN           0\n",
              "1       milo6882      Milo Re  ...         NaN           0\n",
              "2  dionysios2219    dionysios  ...         NaN           0\n",
              "3  simon85818350     Simon Re  ...         NaN           0\n",
              "4       miky1853         Miky  ...         NaN           0\n",
              "\n",
              "[5 rows x 14 columns]"
            ]
          },
          "metadata": {},
          "execution_count": 6
        }
      ]
    },
    {
      "cell_type": "code",
      "metadata": {
        "colab": {
          "base_uri": "https://localhost:8080/"
        },
        "id": "N_3i7nOwjWlg",
        "outputId": "3e4c77c8-3bb3-493b-f847-6bc85f12d661"
      },
      "source": [
        "df2.isnull().sum()"
      ],
      "execution_count": null,
      "outputs": [
        {
          "output_type": "execute_result",
          "data": {
            "text/plain": [
              "PERMANENT_NAME             0\n",
              "DISPLAY_NAME            1596\n",
              "MAIN_PIC_ID          1044640\n",
              "CITY                 1016056\n",
              "STATE                1051403\n",
              "COUNTRY_CODE          894070\n",
              "MEMBER_SINCE               0\n",
              "PERSONAL_URL         1512517\n",
              "OCCUPATION           1224118\n",
              "LOAN_BECAUSE         1409167\n",
              "OTHER_INFO           1473473\n",
              "LOAN_PURCHASE_NUM          0\n",
              "INVITED_BY           1145612\n",
              "NUM_INVITED                0\n",
              "dtype: int64"
            ]
          },
          "metadata": {},
          "execution_count": 7
        }
      ]
    },
    {
      "cell_type": "code",
      "metadata": {
        "colab": {
          "base_uri": "https://localhost:8080/"
        },
        "id": "RAk5xaOijr5T",
        "outputId": "945f65c8-b11a-400a-a8d5-ff028bd4eed6"
      },
      "source": [
        "df2.info()"
      ],
      "execution_count": null,
      "outputs": [
        {
          "output_type": "stream",
          "name": "stdout",
          "text": [
            "<class 'pandas.core.frame.DataFrame'>\n",
            "RangeIndex: 1561255 entries, 0 to 1561254\n",
            "Data columns (total 14 columns):\n",
            " #   Column             Non-Null Count    Dtype  \n",
            "---  ------             --------------    -----  \n",
            " 0   PERMANENT_NAME     1561255 non-null  object \n",
            " 1   DISPLAY_NAME       1559659 non-null  object \n",
            " 2   MAIN_PIC_ID        516615 non-null   float64\n",
            " 3   CITY               545199 non-null   object \n",
            " 4   STATE              509852 non-null   object \n",
            " 5   COUNTRY_CODE       667185 non-null   object \n",
            " 6   MEMBER_SINCE       1561255 non-null  int64  \n",
            " 7   PERSONAL_URL       48738 non-null    object \n",
            " 8   OCCUPATION         337137 non-null   object \n",
            " 9   LOAN_BECAUSE       152088 non-null   object \n",
            " 10  OTHER_INFO         87782 non-null    object \n",
            " 11  LOAN_PURCHASE_NUM  1561255 non-null  int64  \n",
            " 12  INVITED_BY         415643 non-null   object \n",
            " 13  NUM_INVITED        1561255 non-null  int64  \n",
            "dtypes: float64(1), int64(3), object(10)\n",
            "memory usage: 166.8+ MB\n"
          ]
        }
      ]
    },
    {
      "cell_type": "code",
      "metadata": {
        "colab": {
          "base_uri": "https://localhost:8080/"
        },
        "id": "vBf68vHhnYsv",
        "outputId": "15b3fa51-e48b-4607-ab51-49d0c1b7f2d3"
      },
      "source": [
        "df1['SECTOR_NAME'].value_counts()"
      ],
      "execution_count": null,
      "outputs": [
        {
          "output_type": "execute_result",
          "data": {
            "text/plain": [
              "Agriculture       541946\n",
              "Food              459380\n",
              "Retail            399877\n",
              "Services          141725\n",
              "Clothing          111880\n",
              "Housing           106823\n",
              "Personal Use       80290\n",
              "Education          73149\n",
              "Transportation     49600\n",
              "Arts               41596\n",
              "Health             29773\n",
              "Construction       24767\n",
              "Manufacturing      20687\n",
              "Entertainment       2625\n",
              "Wholesale           2582\n",
              "Name: SECTOR_NAME, dtype: int64"
            ]
          },
          "metadata": {},
          "execution_count": 8
        }
      ]
    },
    {
      "cell_type": "code",
      "metadata": {
        "id": "T-m61F_NnYwW"
      },
      "source": [
        ""
      ],
      "execution_count": null,
      "outputs": []
    },
    {
      "cell_type": "code",
      "metadata": {
        "id": "YwjggJcMnY6C"
      },
      "source": [
        ""
      ],
      "execution_count": null,
      "outputs": []
    },
    {
      "cell_type": "code",
      "metadata": {
        "id": "BbrTEo79nY9F"
      },
      "source": [
        ""
      ],
      "execution_count": null,
      "outputs": []
    }
  ]
}